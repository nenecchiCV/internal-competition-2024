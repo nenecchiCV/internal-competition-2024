{
  "nbformat": 4,
  "nbformat_minor": 0,
  "metadata": {
    "colab": {
      "provenance": [],
      "gpuType": "T4",
      "mount_file_id": "https://github.com/nenecchiCV/internal-competition-2024/blob/main/method1.ipynb",
      "authorship_tag": "ABX9TyNL60NS2O9dspsAxK9E0fy+",
      "include_colab_link": true
    },
    "kernelspec": {
      "name": "python3",
      "display_name": "Python 3"
    },
    "language_info": {
      "name": "python"
    },
    "accelerator": "GPU"
  },
  "cells": [
    {
      "cell_type": "markdown",
      "metadata": {
        "id": "view-in-github",
        "colab_type": "text"
      },
      "source": [
        "<a href=\"https://colab.research.google.com/github/nenecchiCV/internal-competition-2024/blob/main/data_aug1.ipynb\" target=\"_parent\"><img src=\"https://colab.research.google.com/assets/colab-badge.svg\" alt=\"Open In Colab\"/></a>"
      ]
    },
    {
      "cell_type": "code",
      "source": [
        "from google.colab import drive\n",
        "drive.mount('/content/drive')"
      ],
      "metadata": {
        "colab": {
          "base_uri": "https://localhost:8080/"
        },
        "id": "3-vYPlGg3kAB",
        "outputId": "858ceafd-4166-4c7e-f974-6786c81b5019"
      },
      "execution_count": 1,
      "outputs": [
        {
          "output_type": "stream",
          "name": "stdout",
          "text": [
            "Mounted at /content/drive\n"
          ]
        }
      ]
    },
    {
      "cell_type": "code",
      "source": [
        "api_key = \"b846546e2316d4194c74a497599a7b83c9127f07\""
      ],
      "metadata": {
        "id": "zurfTCmEgwqf"
      },
      "execution_count": 2,
      "outputs": []
    },
    {
      "cell_type": "code",
      "execution_count": 3,
      "metadata": {
        "id": "Hy9sI7w5Mg3k",
        "colab": {
          "base_uri": "https://localhost:8080/"
        },
        "outputId": "d19083b6-9a54-4e20-c03c-dc44a9a2536e"
      },
      "outputs": [
        {
          "output_type": "stream",
          "name": "stdout",
          "text": [
            "Collecting colorama\n",
            "  Downloading colorama-0.4.6-py2.py3-none-any.whl (25 kB)\n",
            "Installing collected packages: colorama\n",
            "Successfully installed colorama-0.4.6\n",
            "Collecting sdv\n",
            "  Downloading sdv-1.10.0-py2.py3-none-any.whl (143 kB)\n",
            "\u001b[2K     \u001b[90m━━━━━━━━━━━━━━━━━━━━━━━━━━━━━━━━━━━━━━━━\u001b[0m \u001b[32m143.2/143.2 kB\u001b[0m \u001b[31m4.2 MB/s\u001b[0m eta \u001b[36m0:00:00\u001b[0m\n",
            "\u001b[?25hCollecting boto3<2,>=1.15.0 (from sdv)\n",
            "  Downloading boto3-1.34.60-py3-none-any.whl (139 kB)\n",
            "\u001b[2K     \u001b[90m━━━━━━━━━━━━━━━━━━━━━━━━━━━━━━━━━━━━━━━━\u001b[0m \u001b[32m139.3/139.3 kB\u001b[0m \u001b[31m13.0 MB/s\u001b[0m eta \u001b[36m0:00:00\u001b[0m\n",
            "\u001b[?25hCollecting botocore<2,>=1.18 (from sdv)\n",
            "  Downloading botocore-1.34.60-py3-none-any.whl (12.0 MB)\n",
            "\u001b[2K     \u001b[90m━━━━━━━━━━━━━━━━━━━━━━━━━━━━━━━━━━━━━━━━\u001b[0m \u001b[32m12.0/12.0 MB\u001b[0m \u001b[31m43.0 MB/s\u001b[0m eta \u001b[36m0:00:00\u001b[0m\n",
            "\u001b[?25hRequirement already satisfied: cloudpickle<3.0,>=2.1.0 in /usr/local/lib/python3.10/dist-packages (from sdv) (2.2.1)\n",
            "Requirement already satisfied: graphviz<1,>=0.13.2 in /usr/local/lib/python3.10/dist-packages (from sdv) (0.20.1)\n",
            "Requirement already satisfied: tqdm<5,>=4.15 in /usr/local/lib/python3.10/dist-packages (from sdv) (4.66.2)\n",
            "Collecting copulas<0.10,>=0.9.0 (from sdv)\n",
            "  Downloading copulas-0.9.2-py2.py3-none-any.whl (54 kB)\n",
            "\u001b[2K     \u001b[90m━━━━━━━━━━━━━━━━━━━━━━━━━━━━━━━━━━━━━━━━\u001b[0m \u001b[32m54.6/54.6 kB\u001b[0m \u001b[31m9.0 MB/s\u001b[0m eta \u001b[36m0:00:00\u001b[0m\n",
            "\u001b[?25hCollecting ctgan<0.10,>=0.9.0 (from sdv)\n",
            "  Downloading ctgan-0.9.0-py2.py3-none-any.whl (27 kB)\n",
            "Collecting deepecho<0.6,>=0.5 (from sdv)\n",
            "  Downloading deepecho-0.5.0-py2.py3-none-any.whl (29 kB)\n",
            "Collecting rdt<2,>=1.9.0 (from sdv)\n",
            "  Downloading rdt-1.9.2-py2.py3-none-any.whl (76 kB)\n",
            "\u001b[2K     \u001b[90m━━━━━━━━━━━━━━━━━━━━━━━━━━━━━━━━━━━━━━━━\u001b[0m \u001b[32m76.2/76.2 kB\u001b[0m \u001b[31m12.2 MB/s\u001b[0m eta \u001b[36m0:00:00\u001b[0m\n",
            "\u001b[?25hCollecting sdmetrics<0.14,>=0.13.0 (from sdv)\n",
            "  Downloading sdmetrics-0.13.0-py2.py3-none-any.whl (170 kB)\n",
            "\u001b[2K     \u001b[90m━━━━━━━━━━━━━━━━━━━━━━━━━━━━━━━━━━━━━━━━\u001b[0m \u001b[32m170.7/170.7 kB\u001b[0m \u001b[31m25.0 MB/s\u001b[0m eta \u001b[36m0:00:00\u001b[0m\n",
            "\u001b[?25hRequirement already satisfied: numpy<2,>=1.23.3 in /usr/local/lib/python3.10/dist-packages (from sdv) (1.25.2)\n",
            "Requirement already satisfied: pandas>=1.3.4 in /usr/local/lib/python3.10/dist-packages (from sdv) (1.5.3)\n",
            "Collecting jmespath<2.0.0,>=0.7.1 (from boto3<2,>=1.15.0->sdv)\n",
            "  Downloading jmespath-1.0.1-py3-none-any.whl (20 kB)\n",
            "Collecting s3transfer<0.11.0,>=0.10.0 (from boto3<2,>=1.15.0->sdv)\n",
            "  Downloading s3transfer-0.10.0-py3-none-any.whl (82 kB)\n",
            "\u001b[2K     \u001b[90m━━━━━━━━━━━━━━━━━━━━━━━━━━━━━━━━━━━━━━━━\u001b[0m \u001b[32m82.1/82.1 kB\u001b[0m \u001b[31m13.2 MB/s\u001b[0m eta \u001b[36m0:00:00\u001b[0m\n",
            "\u001b[?25hRequirement already satisfied: python-dateutil<3.0.0,>=2.1 in /usr/local/lib/python3.10/dist-packages (from botocore<2,>=1.18->sdv) (2.8.2)\n",
            "Requirement already satisfied: urllib3<2.1,>=1.25.4 in /usr/local/lib/python3.10/dist-packages (from botocore<2,>=1.18->sdv) (2.0.7)\n",
            "Requirement already satisfied: matplotlib<4,>=3.6.0 in /usr/local/lib/python3.10/dist-packages (from copulas<0.10,>=0.9.0->sdv) (3.7.1)\n",
            "Requirement already satisfied: scipy<2,>=1.9.2 in /usr/local/lib/python3.10/dist-packages (from copulas<0.10,>=0.9.0->sdv) (1.11.4)\n",
            "Requirement already satisfied: scikit-learn<2,>=1.1.3 in /usr/local/lib/python3.10/dist-packages (from ctgan<0.10,>=0.9.0->sdv) (1.2.2)\n",
            "Requirement already satisfied: torch>=1.11.0 in /usr/local/lib/python3.10/dist-packages (from ctgan<0.10,>=0.9.0->sdv) (2.1.0+cu121)\n",
            "Requirement already satisfied: pytz>=2020.1 in /usr/local/lib/python3.10/dist-packages (from pandas>=1.3.4->sdv) (2023.4)\n",
            "Collecting Faker<20,>=17 (from rdt<2,>=1.9.0->sdv)\n",
            "  Downloading Faker-19.13.0-py3-none-any.whl (1.7 MB)\n",
            "\u001b[2K     \u001b[90m━━━━━━━━━━━━━━━━━━━━━━━━━━━━━━━━━━━━━━━━\u001b[0m \u001b[32m1.7/1.7 MB\u001b[0m \u001b[31m72.1 MB/s\u001b[0m eta \u001b[36m0:00:00\u001b[0m\n",
            "\u001b[?25hRequirement already satisfied: plotly<6,>=5.10.0 in /usr/local/lib/python3.10/dist-packages (from sdmetrics<0.14,>=0.13.0->sdv) (5.15.0)\n",
            "Requirement already satisfied: contourpy>=1.0.1 in /usr/local/lib/python3.10/dist-packages (from matplotlib<4,>=3.6.0->copulas<0.10,>=0.9.0->sdv) (1.2.0)\n",
            "Requirement already satisfied: cycler>=0.10 in /usr/local/lib/python3.10/dist-packages (from matplotlib<4,>=3.6.0->copulas<0.10,>=0.9.0->sdv) (0.12.1)\n",
            "Requirement already satisfied: fonttools>=4.22.0 in /usr/local/lib/python3.10/dist-packages (from matplotlib<4,>=3.6.0->copulas<0.10,>=0.9.0->sdv) (4.49.0)\n",
            "Requirement already satisfied: kiwisolver>=1.0.1 in /usr/local/lib/python3.10/dist-packages (from matplotlib<4,>=3.6.0->copulas<0.10,>=0.9.0->sdv) (1.4.5)\n",
            "Requirement already satisfied: packaging>=20.0 in /usr/local/lib/python3.10/dist-packages (from matplotlib<4,>=3.6.0->copulas<0.10,>=0.9.0->sdv) (23.2)\n",
            "Requirement already satisfied: pillow>=6.2.0 in /usr/local/lib/python3.10/dist-packages (from matplotlib<4,>=3.6.0->copulas<0.10,>=0.9.0->sdv) (9.4.0)\n",
            "Requirement already satisfied: pyparsing>=2.3.1 in /usr/local/lib/python3.10/dist-packages (from matplotlib<4,>=3.6.0->copulas<0.10,>=0.9.0->sdv) (3.1.2)\n",
            "Requirement already satisfied: tenacity>=6.2.0 in /usr/local/lib/python3.10/dist-packages (from plotly<6,>=5.10.0->sdmetrics<0.14,>=0.13.0->sdv) (8.2.3)\n",
            "Requirement already satisfied: six>=1.5 in /usr/local/lib/python3.10/dist-packages (from python-dateutil<3.0.0,>=2.1->botocore<2,>=1.18->sdv) (1.16.0)\n",
            "Requirement already satisfied: joblib>=1.1.1 in /usr/local/lib/python3.10/dist-packages (from scikit-learn<2,>=1.1.3->ctgan<0.10,>=0.9.0->sdv) (1.3.2)\n",
            "Requirement already satisfied: threadpoolctl>=2.0.0 in /usr/local/lib/python3.10/dist-packages (from scikit-learn<2,>=1.1.3->ctgan<0.10,>=0.9.0->sdv) (3.3.0)\n",
            "Requirement already satisfied: filelock in /usr/local/lib/python3.10/dist-packages (from torch>=1.11.0->ctgan<0.10,>=0.9.0->sdv) (3.13.1)\n",
            "Requirement already satisfied: typing-extensions in /usr/local/lib/python3.10/dist-packages (from torch>=1.11.0->ctgan<0.10,>=0.9.0->sdv) (4.10.0)\n",
            "Requirement already satisfied: sympy in /usr/local/lib/python3.10/dist-packages (from torch>=1.11.0->ctgan<0.10,>=0.9.0->sdv) (1.12)\n",
            "Requirement already satisfied: networkx in /usr/local/lib/python3.10/dist-packages (from torch>=1.11.0->ctgan<0.10,>=0.9.0->sdv) (3.2.1)\n",
            "Requirement already satisfied: jinja2 in /usr/local/lib/python3.10/dist-packages (from torch>=1.11.0->ctgan<0.10,>=0.9.0->sdv) (3.1.3)\n",
            "Requirement already satisfied: fsspec in /usr/local/lib/python3.10/dist-packages (from torch>=1.11.0->ctgan<0.10,>=0.9.0->sdv) (2023.6.0)\n",
            "Requirement already satisfied: triton==2.1.0 in /usr/local/lib/python3.10/dist-packages (from torch>=1.11.0->ctgan<0.10,>=0.9.0->sdv) (2.1.0)\n",
            "Requirement already satisfied: MarkupSafe>=2.0 in /usr/local/lib/python3.10/dist-packages (from jinja2->torch>=1.11.0->ctgan<0.10,>=0.9.0->sdv) (2.1.5)\n",
            "Requirement already satisfied: mpmath>=0.19 in /usr/local/lib/python3.10/dist-packages (from sympy->torch>=1.11.0->ctgan<0.10,>=0.9.0->sdv) (1.3.0)\n",
            "Installing collected packages: jmespath, Faker, botocore, s3transfer, rdt, deepecho, copulas, sdmetrics, ctgan, boto3, sdv\n",
            "Successfully installed Faker-19.13.0 boto3-1.34.60 botocore-1.34.60 copulas-0.9.2 ctgan-0.9.0 deepecho-0.5.0 jmespath-1.0.1 rdt-1.9.2 s3transfer-0.10.0 sdmetrics-0.13.0 sdv-1.10.0\n",
            "\u001b[2K     \u001b[90m━━━━━━━━━━━━━━━━━━━━━━━━━━━━━━━━━━━━━━━━\u001b[0m \u001b[32m2.2/2.2 MB\u001b[0m \u001b[31m16.4 MB/s\u001b[0m eta \u001b[36m0:00:00\u001b[0m\n",
            "\u001b[2K     \u001b[90m━━━━━━━━━━━━━━━━━━━━━━━━━━━━━━━━━━━━━━━━\u001b[0m \u001b[32m195.4/195.4 kB\u001b[0m \u001b[31m15.2 MB/s\u001b[0m eta \u001b[36m0:00:00\u001b[0m\n",
            "\u001b[2K     \u001b[90m━━━━━━━━━━━━━━━━━━━━━━━━━━━━━━━━━━━━━━━━\u001b[0m \u001b[32m258.8/258.8 kB\u001b[0m \u001b[31m19.5 MB/s\u001b[0m eta \u001b[36m0:00:00\u001b[0m\n",
            "\u001b[2K     \u001b[90m━━━━━━━━━━━━━━━━━━━━━━━━━━━━━━━━━━━━━━━━\u001b[0m \u001b[32m62.7/62.7 kB\u001b[0m \u001b[31m6.1 MB/s\u001b[0m eta \u001b[36m0:00:00\u001b[0m\n",
            "\u001b[?25h"
          ]
        },
        {
          "output_type": "stream",
          "name": "stderr",
          "text": [
            "\u001b[34m\u001b[1mwandb\u001b[0m: W&B API key is configured. Use \u001b[1m`wandb login --relogin`\u001b[0m to force relogin\n",
            "\u001b[34m\u001b[1mwandb\u001b[0m: \u001b[33mWARNING\u001b[0m If you're specifying your api key in code, ensure this code is not shared publicly.\n",
            "\u001b[34m\u001b[1mwandb\u001b[0m: \u001b[33mWARNING\u001b[0m Consider setting the WANDB_API_KEY environment variable, or running `wandb login` from the command line.\n",
            "\u001b[34m\u001b[1mwandb\u001b[0m: Appending key for api.wandb.ai to your netrc file: /root/.netrc\n"
          ]
        }
      ],
      "source": [
        "!pip install colorama\n",
        "!pip install sdv\n",
        "!pip install wandb -qqq\n",
        "import wandb\n",
        "\n",
        "try:\n",
        "    wandb.login(key=api_key)\n",
        "    anonymous = None\n",
        "except:\n",
        "    anonymous = \"must\"\n",
        "    print('To use your W&B account,\\nGo to Add-ons -> Secrets and provide your W&B access token. Use the Label name as WANDB. \\nGet your W&B access token from here: https://wandb.ai/authorize')"
      ]
    },
    {
      "cell_type": "code",
      "source": [
        "import pandas as pd\n",
        "import numpy as np\n",
        "data1_df = pd.read_csv('/content/drive/MyDrive/daicc2024/data_1.csv')\n",
        "data2_df = pd.read_csv('/content/drive/MyDrive/daicc2024/data_2.csv')\n",
        "data_df = pd.concat([data1_df, data2_df], axis=0).drop(columns=[\"id\"])\n",
        "\n",
        "\n",
        "\n",
        "test_df = pd.read_csv('/content/drive/MyDrive/daicc2024/test.csv')\n",
        "all_df = pd.concat([data_df, test_df], axis=0)\n",
        "\n",
        "data_df.head()"
      ],
      "metadata": {
        "id": "CeK-NL8tdmWi",
        "colab": {
          "base_uri": "https://localhost:8080/",
          "height": 206
        },
        "outputId": "9d3b35e3-dd92-4f41-de2c-41fbf33447e7"
      },
      "execution_count": 4,
      "outputs": [
        {
          "output_type": "execute_result",
          "data": {
            "text/plain": [
              "     obs_11    obs_12    obs_13    obs_14    obs_15    obs_21    obs_22  \\\n",
              "0  62.01457  91.65045  48.20859  73.31024  76.13590  60.20358  96.17887   \n",
              "1  60.69702  90.91513  48.58664  73.18577  76.88932  61.62932  98.17003   \n",
              "2  60.47336  90.45913  48.65129  73.11828  76.60147  61.97207  97.29511   \n",
              "3  60.56826  90.90713  48.94006  73.18156  77.07093  60.86407  96.14732   \n",
              "4  60.63285  90.73787  48.52429  73.19398  76.66164  59.77490  96.68002   \n",
              "\n",
              "     obs_23    obs_24    obs_25    obs_31    obs_32     obs_33    obs_34  \\\n",
              "0  87.30840  84.63313  40.50873  70.01471  14.47043   42.81627  50.29044   \n",
              "1  88.02719  83.83372  43.05050  53.33085  24.38429  104.27514  36.71392   \n",
              "2  85.52639  86.61886  40.13236  76.22214  13.96032   29.86299  60.08177   \n",
              "3  87.48353  84.64801  40.40228  73.93093  18.26402   60.49384  52.88122   \n",
              "4  87.39572  86.15437  40.13888  63.38943  29.94443   78.32125  46.80220   \n",
              "\n",
              "      obs_35  parameter       spec  \n",
              "0  113.68448        0.0   98.64420  \n",
              "1  104.62515        0.0  100.92119  \n",
              "2  119.78403        0.0   97.04798  \n",
              "3  114.96104        0.0   96.81147  \n",
              "4  103.40444        0.0  100.10177  "
            ],
            "text/html": [
              "\n",
              "  <div id=\"df-aa6645fa-cb2d-4464-a4e9-025c8b77f8c1\" class=\"colab-df-container\">\n",
              "    <div>\n",
              "<style scoped>\n",
              "    .dataframe tbody tr th:only-of-type {\n",
              "        vertical-align: middle;\n",
              "    }\n",
              "\n",
              "    .dataframe tbody tr th {\n",
              "        vertical-align: top;\n",
              "    }\n",
              "\n",
              "    .dataframe thead th {\n",
              "        text-align: right;\n",
              "    }\n",
              "</style>\n",
              "<table border=\"1\" class=\"dataframe\">\n",
              "  <thead>\n",
              "    <tr style=\"text-align: right;\">\n",
              "      <th></th>\n",
              "      <th>obs_11</th>\n",
              "      <th>obs_12</th>\n",
              "      <th>obs_13</th>\n",
              "      <th>obs_14</th>\n",
              "      <th>obs_15</th>\n",
              "      <th>obs_21</th>\n",
              "      <th>obs_22</th>\n",
              "      <th>obs_23</th>\n",
              "      <th>obs_24</th>\n",
              "      <th>obs_25</th>\n",
              "      <th>obs_31</th>\n",
              "      <th>obs_32</th>\n",
              "      <th>obs_33</th>\n",
              "      <th>obs_34</th>\n",
              "      <th>obs_35</th>\n",
              "      <th>parameter</th>\n",
              "      <th>spec</th>\n",
              "    </tr>\n",
              "  </thead>\n",
              "  <tbody>\n",
              "    <tr>\n",
              "      <th>0</th>\n",
              "      <td>62.01457</td>\n",
              "      <td>91.65045</td>\n",
              "      <td>48.20859</td>\n",
              "      <td>73.31024</td>\n",
              "      <td>76.13590</td>\n",
              "      <td>60.20358</td>\n",
              "      <td>96.17887</td>\n",
              "      <td>87.30840</td>\n",
              "      <td>84.63313</td>\n",
              "      <td>40.50873</td>\n",
              "      <td>70.01471</td>\n",
              "      <td>14.47043</td>\n",
              "      <td>42.81627</td>\n",
              "      <td>50.29044</td>\n",
              "      <td>113.68448</td>\n",
              "      <td>0.0</td>\n",
              "      <td>98.64420</td>\n",
              "    </tr>\n",
              "    <tr>\n",
              "      <th>1</th>\n",
              "      <td>60.69702</td>\n",
              "      <td>90.91513</td>\n",
              "      <td>48.58664</td>\n",
              "      <td>73.18577</td>\n",
              "      <td>76.88932</td>\n",
              "      <td>61.62932</td>\n",
              "      <td>98.17003</td>\n",
              "      <td>88.02719</td>\n",
              "      <td>83.83372</td>\n",
              "      <td>43.05050</td>\n",
              "      <td>53.33085</td>\n",
              "      <td>24.38429</td>\n",
              "      <td>104.27514</td>\n",
              "      <td>36.71392</td>\n",
              "      <td>104.62515</td>\n",
              "      <td>0.0</td>\n",
              "      <td>100.92119</td>\n",
              "    </tr>\n",
              "    <tr>\n",
              "      <th>2</th>\n",
              "      <td>60.47336</td>\n",
              "      <td>90.45913</td>\n",
              "      <td>48.65129</td>\n",
              "      <td>73.11828</td>\n",
              "      <td>76.60147</td>\n",
              "      <td>61.97207</td>\n",
              "      <td>97.29511</td>\n",
              "      <td>85.52639</td>\n",
              "      <td>86.61886</td>\n",
              "      <td>40.13236</td>\n",
              "      <td>76.22214</td>\n",
              "      <td>13.96032</td>\n",
              "      <td>29.86299</td>\n",
              "      <td>60.08177</td>\n",
              "      <td>119.78403</td>\n",
              "      <td>0.0</td>\n",
              "      <td>97.04798</td>\n",
              "    </tr>\n",
              "    <tr>\n",
              "      <th>3</th>\n",
              "      <td>60.56826</td>\n",
              "      <td>90.90713</td>\n",
              "      <td>48.94006</td>\n",
              "      <td>73.18156</td>\n",
              "      <td>77.07093</td>\n",
              "      <td>60.86407</td>\n",
              "      <td>96.14732</td>\n",
              "      <td>87.48353</td>\n",
              "      <td>84.64801</td>\n",
              "      <td>40.40228</td>\n",
              "      <td>73.93093</td>\n",
              "      <td>18.26402</td>\n",
              "      <td>60.49384</td>\n",
              "      <td>52.88122</td>\n",
              "      <td>114.96104</td>\n",
              "      <td>0.0</td>\n",
              "      <td>96.81147</td>\n",
              "    </tr>\n",
              "    <tr>\n",
              "      <th>4</th>\n",
              "      <td>60.63285</td>\n",
              "      <td>90.73787</td>\n",
              "      <td>48.52429</td>\n",
              "      <td>73.19398</td>\n",
              "      <td>76.66164</td>\n",
              "      <td>59.77490</td>\n",
              "      <td>96.68002</td>\n",
              "      <td>87.39572</td>\n",
              "      <td>86.15437</td>\n",
              "      <td>40.13888</td>\n",
              "      <td>63.38943</td>\n",
              "      <td>29.94443</td>\n",
              "      <td>78.32125</td>\n",
              "      <td>46.80220</td>\n",
              "      <td>103.40444</td>\n",
              "      <td>0.0</td>\n",
              "      <td>100.10177</td>\n",
              "    </tr>\n",
              "  </tbody>\n",
              "</table>\n",
              "</div>\n",
              "    <div class=\"colab-df-buttons\">\n",
              "\n",
              "  <div class=\"colab-df-container\">\n",
              "    <button class=\"colab-df-convert\" onclick=\"convertToInteractive('df-aa6645fa-cb2d-4464-a4e9-025c8b77f8c1')\"\n",
              "            title=\"Convert this dataframe to an interactive table.\"\n",
              "            style=\"display:none;\">\n",
              "\n",
              "  <svg xmlns=\"http://www.w3.org/2000/svg\" height=\"24px\" viewBox=\"0 -960 960 960\">\n",
              "    <path d=\"M120-120v-720h720v720H120Zm60-500h600v-160H180v160Zm220 220h160v-160H400v160Zm0 220h160v-160H400v160ZM180-400h160v-160H180v160Zm440 0h160v-160H620v160ZM180-180h160v-160H180v160Zm440 0h160v-160H620v160Z\"/>\n",
              "  </svg>\n",
              "    </button>\n",
              "\n",
              "  <style>\n",
              "    .colab-df-container {\n",
              "      display:flex;\n",
              "      gap: 12px;\n",
              "    }\n",
              "\n",
              "    .colab-df-convert {\n",
              "      background-color: #E8F0FE;\n",
              "      border: none;\n",
              "      border-radius: 50%;\n",
              "      cursor: pointer;\n",
              "      display: none;\n",
              "      fill: #1967D2;\n",
              "      height: 32px;\n",
              "      padding: 0 0 0 0;\n",
              "      width: 32px;\n",
              "    }\n",
              "\n",
              "    .colab-df-convert:hover {\n",
              "      background-color: #E2EBFA;\n",
              "      box-shadow: 0px 1px 2px rgba(60, 64, 67, 0.3), 0px 1px 3px 1px rgba(60, 64, 67, 0.15);\n",
              "      fill: #174EA6;\n",
              "    }\n",
              "\n",
              "    .colab-df-buttons div {\n",
              "      margin-bottom: 4px;\n",
              "    }\n",
              "\n",
              "    [theme=dark] .colab-df-convert {\n",
              "      background-color: #3B4455;\n",
              "      fill: #D2E3FC;\n",
              "    }\n",
              "\n",
              "    [theme=dark] .colab-df-convert:hover {\n",
              "      background-color: #434B5C;\n",
              "      box-shadow: 0px 1px 3px 1px rgba(0, 0, 0, 0.15);\n",
              "      filter: drop-shadow(0px 1px 2px rgba(0, 0, 0, 0.3));\n",
              "      fill: #FFFFFF;\n",
              "    }\n",
              "  </style>\n",
              "\n",
              "    <script>\n",
              "      const buttonEl =\n",
              "        document.querySelector('#df-aa6645fa-cb2d-4464-a4e9-025c8b77f8c1 button.colab-df-convert');\n",
              "      buttonEl.style.display =\n",
              "        google.colab.kernel.accessAllowed ? 'block' : 'none';\n",
              "\n",
              "      async function convertToInteractive(key) {\n",
              "        const element = document.querySelector('#df-aa6645fa-cb2d-4464-a4e9-025c8b77f8c1');\n",
              "        const dataTable =\n",
              "          await google.colab.kernel.invokeFunction('convertToInteractive',\n",
              "                                                    [key], {});\n",
              "        if (!dataTable) return;\n",
              "\n",
              "        const docLinkHtml = 'Like what you see? Visit the ' +\n",
              "          '<a target=\"_blank\" href=https://colab.research.google.com/notebooks/data_table.ipynb>data table notebook</a>'\n",
              "          + ' to learn more about interactive tables.';\n",
              "        element.innerHTML = '';\n",
              "        dataTable['output_type'] = 'display_data';\n",
              "        await google.colab.output.renderOutput(dataTable, element);\n",
              "        const docLink = document.createElement('div');\n",
              "        docLink.innerHTML = docLinkHtml;\n",
              "        element.appendChild(docLink);\n",
              "      }\n",
              "    </script>\n",
              "  </div>\n",
              "\n",
              "\n",
              "<div id=\"df-b701da7b-2493-4e8f-b024-ab310c8de594\">\n",
              "  <button class=\"colab-df-quickchart\" onclick=\"quickchart('df-b701da7b-2493-4e8f-b024-ab310c8de594')\"\n",
              "            title=\"Suggest charts\"\n",
              "            style=\"display:none;\">\n",
              "\n",
              "<svg xmlns=\"http://www.w3.org/2000/svg\" height=\"24px\"viewBox=\"0 0 24 24\"\n",
              "     width=\"24px\">\n",
              "    <g>\n",
              "        <path d=\"M19 3H5c-1.1 0-2 .9-2 2v14c0 1.1.9 2 2 2h14c1.1 0 2-.9 2-2V5c0-1.1-.9-2-2-2zM9 17H7v-7h2v7zm4 0h-2V7h2v10zm4 0h-2v-4h2v4z\"/>\n",
              "    </g>\n",
              "</svg>\n",
              "  </button>\n",
              "\n",
              "<style>\n",
              "  .colab-df-quickchart {\n",
              "      --bg-color: #E8F0FE;\n",
              "      --fill-color: #1967D2;\n",
              "      --hover-bg-color: #E2EBFA;\n",
              "      --hover-fill-color: #174EA6;\n",
              "      --disabled-fill-color: #AAA;\n",
              "      --disabled-bg-color: #DDD;\n",
              "  }\n",
              "\n",
              "  [theme=dark] .colab-df-quickchart {\n",
              "      --bg-color: #3B4455;\n",
              "      --fill-color: #D2E3FC;\n",
              "      --hover-bg-color: #434B5C;\n",
              "      --hover-fill-color: #FFFFFF;\n",
              "      --disabled-bg-color: #3B4455;\n",
              "      --disabled-fill-color: #666;\n",
              "  }\n",
              "\n",
              "  .colab-df-quickchart {\n",
              "    background-color: var(--bg-color);\n",
              "    border: none;\n",
              "    border-radius: 50%;\n",
              "    cursor: pointer;\n",
              "    display: none;\n",
              "    fill: var(--fill-color);\n",
              "    height: 32px;\n",
              "    padding: 0;\n",
              "    width: 32px;\n",
              "  }\n",
              "\n",
              "  .colab-df-quickchart:hover {\n",
              "    background-color: var(--hover-bg-color);\n",
              "    box-shadow: 0 1px 2px rgba(60, 64, 67, 0.3), 0 1px 3px 1px rgba(60, 64, 67, 0.15);\n",
              "    fill: var(--button-hover-fill-color);\n",
              "  }\n",
              "\n",
              "  .colab-df-quickchart-complete:disabled,\n",
              "  .colab-df-quickchart-complete:disabled:hover {\n",
              "    background-color: var(--disabled-bg-color);\n",
              "    fill: var(--disabled-fill-color);\n",
              "    box-shadow: none;\n",
              "  }\n",
              "\n",
              "  .colab-df-spinner {\n",
              "    border: 2px solid var(--fill-color);\n",
              "    border-color: transparent;\n",
              "    border-bottom-color: var(--fill-color);\n",
              "    animation:\n",
              "      spin 1s steps(1) infinite;\n",
              "  }\n",
              "\n",
              "  @keyframes spin {\n",
              "    0% {\n",
              "      border-color: transparent;\n",
              "      border-bottom-color: var(--fill-color);\n",
              "      border-left-color: var(--fill-color);\n",
              "    }\n",
              "    20% {\n",
              "      border-color: transparent;\n",
              "      border-left-color: var(--fill-color);\n",
              "      border-top-color: var(--fill-color);\n",
              "    }\n",
              "    30% {\n",
              "      border-color: transparent;\n",
              "      border-left-color: var(--fill-color);\n",
              "      border-top-color: var(--fill-color);\n",
              "      border-right-color: var(--fill-color);\n",
              "    }\n",
              "    40% {\n",
              "      border-color: transparent;\n",
              "      border-right-color: var(--fill-color);\n",
              "      border-top-color: var(--fill-color);\n",
              "    }\n",
              "    60% {\n",
              "      border-color: transparent;\n",
              "      border-right-color: var(--fill-color);\n",
              "    }\n",
              "    80% {\n",
              "      border-color: transparent;\n",
              "      border-right-color: var(--fill-color);\n",
              "      border-bottom-color: var(--fill-color);\n",
              "    }\n",
              "    90% {\n",
              "      border-color: transparent;\n",
              "      border-bottom-color: var(--fill-color);\n",
              "    }\n",
              "  }\n",
              "</style>\n",
              "\n",
              "  <script>\n",
              "    async function quickchart(key) {\n",
              "      const quickchartButtonEl =\n",
              "        document.querySelector('#' + key + ' button');\n",
              "      quickchartButtonEl.disabled = true;  // To prevent multiple clicks.\n",
              "      quickchartButtonEl.classList.add('colab-df-spinner');\n",
              "      try {\n",
              "        const charts = await google.colab.kernel.invokeFunction(\n",
              "            'suggestCharts', [key], {});\n",
              "      } catch (error) {\n",
              "        console.error('Error during call to suggestCharts:', error);\n",
              "      }\n",
              "      quickchartButtonEl.classList.remove('colab-df-spinner');\n",
              "      quickchartButtonEl.classList.add('colab-df-quickchart-complete');\n",
              "    }\n",
              "    (() => {\n",
              "      let quickchartButtonEl =\n",
              "        document.querySelector('#df-b701da7b-2493-4e8f-b024-ab310c8de594 button');\n",
              "      quickchartButtonEl.style.display =\n",
              "        google.colab.kernel.accessAllowed ? 'block' : 'none';\n",
              "    })();\n",
              "  </script>\n",
              "</div>\n",
              "\n",
              "    </div>\n",
              "  </div>\n"
            ],
            "application/vnd.google.colaboratory.intrinsic+json": {
              "type": "dataframe",
              "variable_name": "data_df",
              "summary": "{\n  \"name\": \"data_df\",\n  \"rows\": 20000,\n  \"fields\": [\n    {\n      \"column\": \"obs_11\",\n      \"properties\": {\n        \"dtype\": \"number\",\n        \"std\": 0.2886451458299283,\n        \"min\": 59.15383,\n        \"max\": 62.07396,\n        \"num_unique_values\": 17706,\n        \"samples\": [\n          60.6868,\n          60.36573,\n          60.46984\n        ],\n        \"semantic_type\": \"\",\n        \"description\": \"\"\n      }\n    },\n    {\n      \"column\": \"obs_12\",\n      \"properties\": {\n        \"dtype\": \"number\",\n        \"std\": 0.2678712075727784,\n        \"min\": 89.77286,\n        \"max\": 92.18057,\n        \"num_unique_values\": 17936,\n        \"samples\": [\n          90.84093,\n          91.02514,\n          90.96341\n        ],\n        \"semantic_type\": \"\",\n        \"description\": \"\"\n      }\n    },\n    {\n      \"column\": \"obs_13\",\n      \"properties\": {\n        \"dtype\": \"number\",\n        \"std\": 0.26066780006721074,\n        \"min\": 47.34685,\n        \"max\": 49.84078,\n        \"num_unique_values\": 17750,\n        \"samples\": [\n          48.91495,\n          48.44843,\n          48.47629\n        ],\n        \"semantic_type\": \"\",\n        \"description\": \"\"\n      }\n    },\n    {\n      \"column\": \"obs_14\",\n      \"properties\": {\n        \"dtype\": \"number\",\n        \"std\": 0.11369336236819931,\n        \"min\": 72.52969,\n        \"max\": 74.05852,\n        \"num_unique_values\": 14481,\n        \"samples\": [\n          73.00553,\n          73.15492,\n          73.10811\n        ],\n        \"semantic_type\": \"\",\n        \"description\": \"\"\n      }\n    },\n    {\n      \"column\": \"obs_15\",\n      \"properties\": {\n        \"dtype\": \"number\",\n        \"std\": 0.2108713772230794,\n        \"min\": 75.77695,\n        \"max\": 77.50516,\n        \"num_unique_values\": 17528,\n        \"samples\": [\n          77.10748,\n          76.20707,\n          76.73209\n        ],\n        \"semantic_type\": \"\",\n        \"description\": \"\"\n      }\n    },\n    {\n      \"column\": \"obs_21\",\n      \"properties\": {\n        \"dtype\": \"number\",\n        \"std\": 0.8886549264202354,\n        \"min\": 55.84466,\n        \"max\": 64.08741,\n        \"num_unique_values\": 19359,\n        \"samples\": [\n          59.95862,\n          60.98222,\n          61.1703\n        ],\n        \"semantic_type\": \"\",\n        \"description\": \"\"\n      }\n    },\n    {\n      \"column\": \"obs_22\",\n      \"properties\": {\n        \"dtype\": \"number\",\n        \"std\": 1.2051934987779374,\n        \"min\": 86.45037,\n        \"max\": 103.48538,\n        \"num_unique_values\": 19471,\n        \"samples\": [\n          94.63659,\n          96.86835,\n          98.79985\n        ],\n        \"semantic_type\": \"\",\n        \"description\": \"\"\n      }\n    },\n    {\n      \"column\": \"obs_23\",\n      \"properties\": {\n        \"dtype\": \"number\",\n        \"std\": 1.6157385541589495,\n        \"min\": 81.852,\n        \"max\": 99.3086,\n        \"num_unique_values\": 19524,\n        \"samples\": [\n          88.51196,\n          86.98021,\n          87.35025\n        ],\n        \"semantic_type\": \"\",\n        \"description\": \"\"\n      }\n    },\n    {\n      \"column\": \"obs_24\",\n      \"properties\": {\n        \"dtype\": \"number\",\n        \"std\": 1.5431238779838885,\n        \"min\": 76.81558,\n        \"max\": 105.22287,\n        \"num_unique_values\": 18729,\n        \"samples\": [\n          85.53539,\n          89.33294,\n          82.63095\n        ],\n        \"semantic_type\": \"\",\n        \"description\": \"\"\n      }\n    },\n    {\n      \"column\": \"obs_25\",\n      \"properties\": {\n        \"dtype\": \"number\",\n        \"std\": 0.8972148830770488,\n        \"min\": 34.5763,\n        \"max\": 48.78882,\n        \"num_unique_values\": 18826,\n        \"samples\": [\n          41.28661,\n          40.91593,\n          40.27875\n        ],\n        \"semantic_type\": \"\",\n        \"description\": \"\"\n      }\n    },\n    {\n      \"column\": \"obs_31\",\n      \"properties\": {\n        \"dtype\": \"number\",\n        \"std\": 7.293616359272372,\n        \"min\": 33.99768,\n        \"max\": 94.77609,\n        \"num_unique_values\": 19918,\n        \"samples\": [\n          56.37258,\n          57.20375,\n          52.44579\n        ],\n        \"semantic_type\": \"\",\n        \"description\": \"\"\n      }\n    },\n    {\n      \"column\": \"obs_32\",\n      \"properties\": {\n        \"dtype\": \"number\",\n        \"std\": 6.385433573545752,\n        \"min\": 0.0,\n        \"max\": 54.68519,\n        \"num_unique_values\": 19880,\n        \"samples\": [\n          19.55064,\n          27.6966,\n          28.2092\n        ],\n        \"semantic_type\": \"\",\n        \"description\": \"\"\n      }\n    },\n    {\n      \"column\": \"obs_33\",\n      \"properties\": {\n        \"dtype\": \"number\",\n        \"std\": 20.241327965625896,\n        \"min\": 0.0,\n        \"max\": 159.20961,\n        \"num_unique_values\": 19878,\n        \"samples\": [\n          99.11261,\n          92.45979,\n          82.87502\n        ],\n        \"semantic_type\": \"\",\n        \"description\": \"\"\n      }\n    },\n    {\n      \"column\": \"obs_34\",\n      \"properties\": {\n        \"dtype\": \"number\",\n        \"std\": 6.785421842028735,\n        \"min\": 18.24268,\n        \"max\": 73.37132,\n        \"num_unique_values\": 19931,\n        \"samples\": [\n          56.92899,\n          58.25187,\n          47.46662\n        ],\n        \"semantic_type\": \"\",\n        \"description\": \"\"\n      }\n    },\n    {\n      \"column\": \"obs_35\",\n      \"properties\": {\n        \"dtype\": \"number\",\n        \"std\": 6.528650592023381,\n        \"min\": 77.45922,\n        \"max\": 140.6611,\n        \"num_unique_values\": 19907,\n        \"samples\": [\n          103.09024,\n          108.35097,\n          111.99135\n        ],\n        \"semantic_type\": \"\",\n        \"description\": \"\"\n      }\n    },\n    {\n      \"column\": \"parameter\",\n      \"properties\": {\n        \"dtype\": \"number\",\n        \"std\": 1.0694295554073203,\n        \"min\": -5.0,\n        \"max\": 5.0,\n        \"num_unique_values\": 21,\n        \"samples\": [\n          0.0,\n          4.0,\n          -3.5\n        ],\n        \"semantic_type\": \"\",\n        \"description\": \"\"\n      }\n    },\n    {\n      \"column\": \"spec\",\n      \"properties\": {\n        \"dtype\": \"number\",\n        \"std\": 1.8487589034850944,\n        \"min\": 90.0,\n        \"max\": 110.0,\n        \"num_unique_values\": 19519,\n        \"samples\": [\n          100.38694,\n          100.10665,\n          100.84396\n        ],\n        \"semantic_type\": \"\",\n        \"description\": \"\"\n      }\n    }\n  ]\n}"
            }
          },
          "metadata": {},
          "execution_count": 4
        }
      ]
    },
    {
      "cell_type": "markdown",
      "source": [
        "メモ：計測値とスコアをX、パラメータをYとして学習→結果を出すときはスコアを100にする\n",
        "\n",
        "RNN\n",
        "https://qiita.com/MENDY/items/99da56f61f9af51dda15"
      ],
      "metadata": {
        "id": "2PI5v9kKGwq9"
      }
    },
    {
      "cell_type": "code",
      "source": [
        "from torch.utils import data as data\n",
        "\n",
        "class MyDataset(data.Dataset):\n",
        "    def __init__(self, X1_scaled_tensor, x2_scaled_tensor, y_tensor):\n",
        "        self.X1 = X1_scaled_tensor\n",
        "        self.x2 = x2_scaled_tensor\n",
        "        self.y = y_tensor\n",
        "\n",
        "    def __getitem__(self, index):\n",
        "        return self.X1[index], self.x2[index], self.y[index]\n",
        "\n",
        "    def __len__(self):\n",
        "        return len(self.y)"
      ],
      "metadata": {
        "id": "xFxsPwmM3oCz"
      },
      "execution_count": 5,
      "outputs": []
    },
    {
      "cell_type": "code",
      "source": [
        "reasonable_spec_constraint = {\n",
        "    'constraint_class': 'ScalarRange',\n",
        "    'constraint_parameters': {\n",
        "        'column_name': 'spec',\n",
        "        'low_value': 90-0.00000001,\n",
        "        'high_value': 110+0.00000001\n",
        "    }\n",
        "}\n",
        "\n",
        "reasonable_parameter_constraint = {\n",
        "    'constraint_class': 'ScalarRange',\n",
        "    'constraint_parameters': {\n",
        "        'column_name': 'parameter',\n",
        "        'low_value': -5-0.00000001,\n",
        "        'high_value': 5+0.00000001\n",
        "    }\n",
        "}"
      ],
      "metadata": {
        "id": "6TeRb1EZBqJU"
      },
      "execution_count": 6,
      "outputs": []
    },
    {
      "cell_type": "code",
      "source": [
        "from sdv.single_table import CTGANSynthesizer\n",
        "from sdv.metadata import SingleTableMetadata\n",
        "\n",
        "metadata = SingleTableMetadata()\n",
        "metadata.detect_from_dataframe(data_df)\n",
        "\n",
        "constraints = [\n",
        "               reasonable_spec_constraint,\n",
        "               reasonable_parameter_constraint\n",
        "]\n",
        "\n",
        "\n",
        "synthesizer = CTGANSynthesizer(metadata=metadata, epochs=1000, verbose=True)\n",
        "synthesizer.add_constraints(\n",
        "    constraints=constraints\n",
        ")\n",
        "synthesizer.fit(data_df)\n",
        "\n"
      ],
      "metadata": {
        "colab": {
          "base_uri": "https://localhost:8080/"
        },
        "id": "yNOIne6xFc1v",
        "outputId": "cbfa9243-e642-45e4-c420-8adff44b4b16"
      },
      "execution_count": 8,
      "outputs": [
        {
          "output_type": "stream",
          "name": "stderr",
          "text": [
            "/usr/local/lib/python3.10/dist-packages/sdv/single_table/base.py:79: UserWarning: We strongly recommend saving the metadata using 'save_to_json' for replicability in future SDV versions.\n",
            "  warnings.warn(\n",
            "Gen. (-1.69) | Discrim. (-0.04): 100%|██████████| 1000/1000 [17:52<00:00,  1.07s/it]\n",
            "Sampling rows: 100%|██████████| 20000/20000 [00:00<00:00, 26238.79it/s]\n"
          ]
        }
      ]
    },
    {
      "cell_type": "code",
      "source": [
        "synthetic_data = synthesizer.sample(num_rows=30000)"
      ],
      "metadata": {
        "colab": {
          "base_uri": "https://localhost:8080/"
        },
        "id": "klA3B3nCRMYK",
        "outputId": "802713c2-a366-4e64-e44c-c36585568b9a"
      },
      "execution_count": 14,
      "outputs": [
        {
          "output_type": "stream",
          "name": "stderr",
          "text": [
            "Sampling rows: 100%|██████████| 30000/30000 [00:01<00:00, 27614.19it/s]\n"
          ]
        }
      ]
    },
    {
      "cell_type": "code",
      "source": [
        "synthetic_data[\"parameter\"].unique()"
      ],
      "metadata": {
        "colab": {
          "base_uri": "https://localhost:8080/"
        },
        "id": "XrwJVOdsJcI0",
        "outputId": "b490292b-024d-42eb-cf3f-ccc88b9f6f85"
      },
      "execution_count": 18,
      "outputs": [
        {
          "output_type": "execute_result",
          "data": {
            "text/plain": [
              "array([ 0. ,  0.7,  0.8, -2.2, -0.5,  4.3,  1.6, -1.5, -2.1, -3.3,  0.6,\n",
              "       -1. ,  2.6,  2.5,  4.5,  0.9, -2.3, -2.7,  2.8, -2. , -2.6,  4.2,\n",
              "        4.6,  1.7,  1.5, -3.1, -2.8,  1.4,  3.8, -3.2,  3.4, -3.4,  1.3,\n",
              "        2.9,  2.7,  3.7,  1.8,  4.1,  3. , -2.9,  1.9,  1.1,  3.1,  3.9,\n",
              "       -2.5,  4. ,  4.7, -3. ,  2.4,  2.3, -1.4, -1.9, -3.5,  3.6,  1.2,\n",
              "        4.4,  0.5, -2.4,  3.2,  2.1,  3.5,  0.4, -1.8, -3.6,  2. ,  1. ,\n",
              "        3.3,  2.2,  4.8, -0.9, -3.7, -3.8])"
            ]
          },
          "metadata": {},
          "execution_count": 18
        }
      ]
    },
    {
      "cell_type": "code",
      "source": [
        "from sdv.evaluation.single_table import evaluate_quality\n",
        "from sdv.evaluation.single_table import run_diagnostic\n",
        "\n",
        "diagnostic_report = run_diagnostic(\n",
        "    real_data=data_df,\n",
        "    synthetic_data=synthetic_data,\n",
        "    metadata=metadata)\n",
        "\n",
        "quality_report = evaluate_quality(\n",
        "    real_data=data_df,\n",
        "    synthetic_data=synthetic_data,\n",
        "    metadata=metadata)"
      ],
      "metadata": {
        "colab": {
          "base_uri": "https://localhost:8080/"
        },
        "id": "uUA1P8NwJzqA",
        "outputId": "f7f8fc88-777e-4397-ac48-08605b84047d"
      },
      "execution_count": 11,
      "outputs": [
        {
          "output_type": "stream",
          "name": "stdout",
          "text": [
            "Generating report ...\n",
            "(1/2) Evaluating Data Validity: : 100%|██████████| 17/17 [00:00<00:00, 373.48it/s]\n",
            "(2/2) Evaluating Data Structure: : 100%|██████████| 1/1 [00:00<00:00, 188.43it/s]\n",
            "\n",
            "Overall Score: 100.0%\n",
            "\n",
            "Properties:\n",
            "- Data Validity: 100.0%\n",
            "- Data Structure: 100.0%\n",
            "Generating report ...\n",
            "(1/2) Evaluating Column Shapes: : 100%|██████████| 17/17 [00:00<00:00, 68.18it/s]\n",
            "(2/2) Evaluating Column Pair Trends: : 100%|██████████| 136/136 [00:02<00:00, 59.80it/s]\n",
            "\n",
            "Overall Score: 93.92%\n",
            "\n",
            "Properties:\n",
            "- Column Shapes: 91.57%\n",
            "- Column Pair Trends: 96.26%\n"
          ]
        }
      ]
    },
    {
      "cell_type": "code",
      "source": [
        "from sdv.evaluation.single_table import get_column_plot\n",
        "\n",
        "fig = get_column_plot(\n",
        "    real_data=data_df,\n",
        "    synthetic_data=synthetic_data,\n",
        "    metadata=metadata,\n",
        "    column_name='spec'\n",
        ")\n",
        "\n",
        "fig.show()"
      ],
      "metadata": {
        "colab": {
          "base_uri": "https://localhost:8080/",
          "height": 542
        },
        "id": "4GvYkxXvOptZ",
        "outputId": "7f8c0fde-c915-439b-d5f4-aaa101fb728c"
      },
      "execution_count": 13,
      "outputs": [
        {
          "output_type": "display_data",
          "data": {
            "text/html": [
              "<html>\n",
              "<head><meta charset=\"utf-8\" /></head>\n",
              "<body>\n",
              "    <div>            <script src=\"https://cdnjs.cloudflare.com/ajax/libs/mathjax/2.7.5/MathJax.js?config=TeX-AMS-MML_SVG\"></script><script type=\"text/javascript\">if (window.MathJax && window.MathJax.Hub && window.MathJax.Hub.Config) {window.MathJax.Hub.Config({SVG: {font: \"STIX-Web\"}});}</script>                <script type=\"text/javascript\">window.PlotlyConfig = {MathJaxConfig: 'local'};</script>\n",
              "        <script charset=\"utf-8\" src=\"https://cdn.plot.ly/plotly-2.24.1.min.js\"></script>                <div id=\"937002d9-1800-47c4-b721-126b3864ba56\" class=\"plotly-graph-div\" style=\"height:525px; width:100%;\"></div>            <script type=\"text/javascript\">                                    window.PLOTLYENV=window.PLOTLYENV || {};                                    if (document.getElementById(\"937002d9-1800-47c4-b721-126b3864ba56\")) {                    Plotly.newPlot(                        \"937002d9-1800-47c4-b721-126b3864ba56\",                        [{\"legendgroup\":\"Real\",\"marker\":{\"color\":\"#000036\"},\"mode\":\"lines\",\"name\":\"Real\",\"showlegend\":true,\"x\":[90.0,90.04,90.08,90.12,90.16,90.2,90.24,90.28,90.32,90.36,90.4,90.44,90.48,90.52,90.56,90.6,90.64,90.68,90.72,90.76,90.8,90.84,90.88,90.92,90.96,91.0,91.04,91.08,91.12,91.16,91.2,91.24,91.28,91.32,91.36,91.4,91.44,91.48,91.52,91.56,91.6,91.64,91.68,91.72,91.76,91.8,91.84,91.88,91.92,91.96,92.0,92.04,92.08,92.12,92.16,92.2,92.24,92.28,92.32,92.36,92.4,92.44,92.48,92.52,92.56,92.6,92.64,92.68,92.72,92.76,92.8,92.84,92.88,92.92,92.96,93.0,93.04,93.08,93.12,93.16,93.2,93.24,93.28,93.32,93.36,93.4,93.44,93.48,93.52,93.56,93.6,93.64,93.68,93.72,93.76,93.8,93.84,93.88,93.92,93.96,94.0,94.04,94.08,94.12,94.16,94.2,94.24,94.28,94.32,94.36,94.4,94.44,94.48,94.52,94.56,94.6,94.64,94.68,94.72,94.76,94.8,94.84,94.88,94.92,94.96,95.0,95.04,95.08,95.12,95.16,95.2,95.24,95.28,95.32,95.36,95.4,95.44,95.48,95.52,95.56,95.6,95.64,95.68,95.72,95.76,95.8,95.84,95.88,95.92,95.96,96.0,96.04,96.08,96.12,96.16,96.2,96.24,96.28,96.32,96.36,96.4,96.44,96.48,96.52,96.56,96.6,96.64,96.68,96.72,96.76,96.8,96.84,96.88,96.92,96.96,97.0,97.04,97.08,97.12,97.16,97.2,97.24,97.28,97.32,97.36,97.4,97.44,97.48,97.52,97.56,97.6,97.64,97.68,97.72,97.76,97.8,97.84,97.88,97.92,97.96,98.0,98.03999999999999,98.08,98.12,98.16,98.2,98.24,98.28,98.32,98.36,98.4,98.44,98.48,98.52,98.56,98.6,98.64,98.68,98.72,98.76,98.8,98.84,98.88,98.92,98.96000000000001,99.0,99.03999999999999,99.08,99.12,99.16,99.2,99.24,99.28,99.32,99.36,99.4,99.44,99.48,99.52,99.56,99.6,99.64,99.68,99.72,99.76,99.8,99.84,99.88,99.92,99.96000000000001,100.0,100.03999999999999,100.08,100.12,100.16,100.2,100.24,100.28,100.32,100.36,100.4,100.44,100.48,100.52,100.56,100.6,100.64,100.68,100.72,100.76,100.8,100.84,100.88,100.92,100.96000000000001,101.0,101.03999999999999,101.08,101.12,101.16,101.2,101.24,101.28,101.32,101.36,101.4,101.44,101.48,101.52,101.56,101.6,101.64,101.68,101.72,101.76,101.8,101.84,101.88,101.92,101.96000000000001,102.0,102.03999999999999,102.08,102.12,102.16,102.2,102.24,102.28,102.32,102.36,102.4,102.44,102.48,102.52,102.56,102.6,102.64,102.68,102.72,102.76,102.8,102.84,102.88,102.92,102.96000000000001,103.0,103.03999999999999,103.08,103.12,103.16,103.2,103.24,103.28,103.32,103.36,103.4,103.44,103.48,103.52,103.56,103.6,103.64,103.68,103.72,103.76,103.8,103.84,103.88,103.92,103.96000000000001,104.0,104.03999999999999,104.08,104.12,104.16,104.2,104.24,104.28,104.32,104.36,104.4,104.44,104.48,104.52,104.56,104.6,104.64,104.68,104.72,104.76,104.8,104.84,104.88,104.92,104.96000000000001,105.0,105.03999999999999,105.08,105.12,105.16,105.2,105.24,105.28,105.32,105.36,105.4,105.44,105.48,105.52,105.56,105.6,105.64,105.68,105.72,105.76,105.8,105.84,105.88,105.92,105.96000000000001,106.0,106.03999999999999,106.08,106.12,106.16,106.2,106.24,106.28,106.32,106.36,106.4,106.44,106.48,106.52,106.56,106.6,106.64,106.68,106.72,106.76,106.8,106.84,106.88,106.92,106.96000000000001,107.0,107.03999999999999,107.08,107.12,107.16,107.2,107.24,107.28,107.32,107.36,107.4,107.44,107.48,107.52,107.56,107.6,107.64,107.68,107.72,107.76,107.8,107.84,107.88,107.92,107.96000000000001,108.0,108.03999999999999,108.08,108.12,108.16,108.2,108.24,108.28,108.32,108.36,108.4,108.44,108.48,108.52,108.56,108.6,108.64,108.68,108.72,108.76,108.8,108.84,108.88,108.92,108.96000000000001,109.0,109.03999999999999,109.08,109.12,109.16,109.2,109.24,109.28,109.32,109.36,109.4,109.44,109.48,109.52,109.56,109.6,109.64,109.68,109.72,109.76,109.8,109.84,109.88,109.92,109.96000000000001],\"xaxis\":\"x\",\"y\":[0.004484451471968081,0.004511693909334439,0.004448455315485208,0.004303732483974074,0.004091893530801444,0.0038309651618006254,0.0035406273446219683,0.0032402179914187306,0.002947017412623233,0.0026750039047552785,0.0024341696130991378,0.0022303841150116887,0.0020657125566462477,0.0019390478944637949,0.0018469052135255451,0.001784244046888218,0.00174522074237807,0.0017238146788346096,0.0017143092219346606,0.0017116346308038582,0.0017115940966372684,0.0017109976300947985,0.0017077253415525495,0.0017007356401542973,0.001690027870526951,0.001676564357050977,0.0016621540161972908,0.0016492983377641678,0.0016410003541707213,0.001640538272150685,0.0016512080577872482,0.0016760436797943973,0.0017175296495614654,0.0017773269083037036,0.0018560382867602201,0.0019530417568310518,0.002066416985987255,0.002192982810214477,0.002328451039622869,0.0024676876337983962,0.0026050585706372613,0.0027348274277886175,0.00285156666198648,0.002950545286182837,0.0030280611597675528,0.0030816944763061922,0.0031104680394450275,0.0031149078328461173,0.00309700347971973,0.0030600727804733813,0.003008538629820312,0.0029476312988789815,0.0028830347592332982,0.0028205018775063185,0.002765468472780415,0.002722698569664219,0.0026959912193435694,0.002687972556575227,0.0026999862309748965,0.0027320831067466434,0.002783099849063076,0.002850808114497128,0.0029321128997625754,0.003023280083196707,0.0031201778501912508,0.0032185222300043876,0.003314121061801839,0.0034031117848549296,0.003482186214172428,0.003548790975316975,0.0036012875864111908,0.0036390536737730163,0.003662508420854036,0.0036730519024095925,0.0036729188212573705,0.00366496033256203,0.003652380175347362,0.0036384601155378,0.0036263122705793116,0.003618691113331609,0.003617886449103572,0.0036257026929256996,0.003643512768558272,0.0036723606591828706,0.0037130782143178056,0.0037663810332597466,0.003832915093730654,0.003913238554167566,0.0040077389049747395,0.004116501026724028,0.004239153750385146,0.004374729183280184,0.00452156954649771,0.004677310858778263,0.004838962592999236,0.0050030889638987075,0.005166082505031191,0.005324505856600808,0.00547546505882362,0.005616968969051203,0.005748226351682917,0.005869835867990041,0.005983834843334587,0.006093589317024851,0.006203528226124251,0.0063187454242737695,0.006444511050763717,0.006585745478024619,0.0067465128208361435,0.0069295865872841264,0.00713612895802405,0.007365510097370559,0.007615277996542601,0.007881275397141273,0.008157890003852638,0.008438417687575231,0.00871551462606222,0.008981711544571959,0.009229959752709465,0.00945417380926064,0.009649730073189616,0.00981387615027899,0.009946006089254689,0.010047762635595417,0.010122942150496582,0.010177199189468147,0.010217573341770786,0.010251886323340493,0.010288077538754247,0.010333557136586399,0.010394654469731307,0.010476226621491013,0.010581468319710784,0.01071193494107435,0.010867759182832499,0.011048014265244547,0.01125115655132716,0.011475471394644755,0.01171944941473166,0.011982035908060238,0.012262721345432671,0.012561471621079713,0.0128785273255667,0.01321412589881378,0.013568214082999849,0.013940217784249176,0.014328922391714773,0.014732492032188174,0.015148626831908645,0.015574829761085644,0.016008735174291057,0.016448443671554097,0.01689281316069058,0.01734167146979822,0.01779593647893133,0.01825764939275209,0.018729940056657672,0.01921694701239636,0.019723709383545878,0.020256035918297093,0.02082034394567869,0.02142345330721406,0.02207232156711483,0.022773717898319834,0.023533851254866286,0.024357988126733603,0.025250109587243323,0.026212660949396976,0.027246437806575634,0.028350631324775947,0.029523028751932544,0.03076033936265402,0.032058597938463655,0.0334135910579137,0.034821255790328194,0.03627801240260855,0.03778100740619111,0.03932825635956778,0.0409186853050808,0.04255207630091534,0.04422892868904274,0.04595025585095929,0.04771734764325349,0.04953153917231104,0.051394032777292126,0.05330581770171209,0.05526771879496718,0.05728058320363557,0.05934558747425659,0.061464623757825736,0.06364070909717397,0.06587835916382298,0.06818387612999663,0.07056551494372054,0.07303350716211744,0.07559993217419515,0.0782784310420086,0.08108376105647139,0.08403119453905523,0.0871357781792328,0.09041149093508324,0.09387036616881571,0.09752166970799198,0.10137124009175073,0.10542109160879355,0.10966935050869554,0.11411054226265907,0.11873618222053824,0.12353555793349466,0.12849654510960085,0.13360628465616278,0.13885157331559736,0.14421888382496578,0.1496940213457034,0.15526152187904257,0.16090398177980506,0.16660155253831635,0.17233182585904824,0.1780702667508185,0.183791237236112,0.1894695140443068,0.1950820724171027,0.20060981795728572,0.20603892467857196,0.21136149062723739,0.21657534468552062,0.22168300395956317,0.22668995321594063,0.23160255610671948,0.236425979652097,0.24116250156359076,0.24581047755676194,0.2503640952597755,0.25481386868659067,0.25914767285221696,0.26335201647827206,0.26741322228640874,0.2713182311971769,0.27505485337635244,0.2786114276772784,0.2819759892873064,0.28513515455745864,0.28807299303019324,0.290770162983047,0.2932035434116338,0.29534651546174034,0.29716994655722323,0.29864382681942786,0.2997394124693017,0.30043165340512784,0.3007016276872568,0.30053867846334276,0.29994195301156357,0.29892108306397003,0.2974958229309551,0.29569457578114205,0.29355188079824607,0.29110508881660935,0.28839059795033856,0.2854401260647284,0.28227753766098945,0.2789167012755659,0.27536072681513535,0.2716027351927985,0.26762807686026185,0.2634176841391501,0.25895205932431026,0.25421530249560825,0.24919858869662548,0.2439026107534344,0.2383386879963559,0.23252846454000242,0.22650234052104168,0.22029695742611044,0.21395216821447888,0.20750795403369524,0.20100170691195196,0.19446619842105056,0.18792842080555874,0.18140934358493968,0.1749244966735254,0.16848518724739545,0.1621000926207758,0.15577694981882223,0.14952408287401805,0.14335156410677385,0.13727188416320124,0.13130009283934327,0.12545345364010435,0.11975071673266606,0.114211149315573,0.10885346759189643,0.10369479506840758,0.09874973727319811,0.09402962482826611,0.08954194567301337,0.08528996970071859,0.08127256615842557,0.07748422139560049,0.0739152737458034,0.07055238455021298,0.06737925311427603,0.06437755721305426,0.06152806398314569,0.0588118178833701,0.0562112842785251,0.05371131911344232,0.05129985237697304,0.048968214133931036,0.04671108861179488,0.04452614131636061,0.04241341251699119,0.040374596710209605,0.03841232689270885,0.03652955701491892,0.034729094593654405,0.0330132904745834,0.031383856328672584,0.029841761148928052,0.028387158431373877,0.027019312391106737,0.025736516480985516,0.024536021018722168,0.0234140007932196,0.02236559398001925,0.02138503135207532,0.020465854677641216,0.019601202632048776,0.018784128413251413,0.01800790974979717,0.017266319381489904,0.016553838841762966,0.015865814604401732,0.015198567368425326,0.01454946846308895,0.013916991481820035,0.013300735260046041,0.012701401584224729,0.012120703428348704,0.01156118133079691,0.011025917907449365,0.010518161037187296,0.01004088968830163,0.009596376160013007,0.009185808864132061,0.008809037201592398,0.008464484409658114,0.008149248512816499,0.007859381069132625,0.007590304511976478,0.007337307154554998,0.007096044128186911,0.00686297399039795,0.006635673357530728,0.006412992678821015,0.006195041087845115,0.005983012857548063,0.005778888611612513,0.0055850584420556355,0.005403920120935695,0.005237503714263696,0.005087165358604304,0.004953379877777704,0.004835646864031712,0.004732510316352114,0.004641679865941358,0.004560233109544674,0.004484873755748164,0.004412218550250084,0.004339086298996242,0.004262763858672101,0.004181226262794545,0.004093291311154322,0.003998693481811823,0.0038980684618147125,0.0037928480589150063,0.0036850751609569412,0.0035771584082477347,0.003471594504803535,0.0033706907870325684,0.003276320519167836,0.003189738104106821,0.0031114718409540583,0.0030412998623846935,0.002978302826661911,0.0029209771655653058,0.002867386947093785,0.002815331451322707,0.002762508995215618,0.0027066640017294518,0.0026457118032243406,0.0025778421226544377,0.0025016059589909345,0.0024159909526771904,0.002320487517624179,0.002215143355865541,0.0021005992680730003,0.0019780963209899863,0.0018494447640560838,0.0017169489485336332,0.001583289113817756,0.0014513685757498453,0.0013241414867701984,0.001204440086483978,0.001094820184922498,0.0009974396011428303,0.0009139775699270091,0.0008455955749505786,0.0007929336328069826,0.0007561322445043961,0.0007348696894381723,0.0007284067079092967,0.0007356347214445872,0.0007551279589383705,0.0007852026334424162,0.0008239866141808475,0.0008695006615289574,0.0009197479567785073,0.000972803817785208,0.0010268939260175023,0.0010804486594517555,0.0011321240355045387,0.0011807860236630226,0.0012254631665624392,0.0012652803491441462,0.001299391841772966,0.0013269326926619014,0.00134700364731462,0.0013586969510998533,0.0013611607462196468,0.0013536909222402736,0.0013358335101851873,0.001307479269361342,0.0012689348662650508,0.0012209606228095267,0.0011647712037637895,0.0011020009209925592,0.001034638422906557,0.0009649363533019638,0.0008953009844458728,0.0008281661789683316,0.0007658564479334101,0.0007104457785466995,0.000663621835822975,0.0006265679190158832,0.0005998762675342266,0.0005835049020721237,0.0005767858877318646,0.0005784863911034729,0.0005869165908205425,0.0006000720950859076,0.0006157944655808638,0.0006319324983813915,0.0006464889513679843,0.0006577415639016277,0.0006643322138213955,0.00066532265612431,0.0006602186394721322,0.0006489660260537479,0.0006319231016557488,0.0006098131250801369,0.0005836609309210014,0.0005547174632587309,0.0005243765537927862,0.0004940888432991901,0.00046527809590522225,0.00043926490786086507,0.0004172017833889476,0.0004000218278091303,0.0003884012503271079,0.00038273401653364107,0.0003831159185557099,0.0003893354713576978,0.0004008705253758595,0.00041689203094713643,0.0004362793129204598,0.0004576535404477184,0.00047943678022243014,0.0004999423230193128,0.0005174976298193126,0.0005305947222103515,0.0005380553104006192,0.0005391910632045216,0.0005339349339618409,0.0005229187860273674,0.0005074764281167566,0.00048955939092975,0.00047156429683356093,0.0004560837864205306,0.0004456056399359284,0.0004421949563769193,0.00044720031172368693,0.00046102548175728554,0.0004830029807077632,0.0005113944753213487,0.0005435270813842676,0.000576055546906059,0.0006053211129929385,0.0006277616740364257,0.0006403179329034284],\"yaxis\":\"y\",\"type\":\"scatter\",\"fill\":\"tozeroy\",\"hovertemplate\":\"\\u003cb\\u003eReal\\u003c\\u002fb\\u003e\\u003cbr\\u003eFrequency: %{y}\\u003cextra\\u003e\\u003c\\u002fextra\\u003e\"},{\"legendgroup\":\"Synthetic\",\"marker\":{\"color\":\"#01E0C9\"},\"mode\":\"lines\",\"name\":\"Synthetic\",\"showlegend\":true,\"x\":[90.93032,90.96845936,91.00659872,91.04473807999999,91.08287743999999,91.12101679999999,91.15915616,91.19729552,91.23543488,91.27357423999999,91.31171359999999,91.34985295999999,91.38799232,91.42613168,91.46427104,91.50241039999999,91.54054975999999,91.57868911999999,91.61682848,91.65496784,91.6931072,91.73124655999999,91.76938591999999,91.80752528,91.84566464,91.883804,91.92194336,91.96008271999999,91.99822207999999,92.03636144,92.0745008,92.11264016,92.15077952,92.18891887999999,92.22705823999999,92.2651976,92.30333696,92.34147632,92.37961568,92.41775503999999,92.45589439999999,92.49403376,92.53217312,92.57031248,92.60845184,92.64659119999999,92.68473055999999,92.72286992,92.76100928,92.79914864,92.837288,92.87542735999999,92.91356671999999,92.95170608,92.98984544,93.0279848,93.06612416,93.10426351999999,93.14240287999999,93.18054224,93.2186816,93.25682096,93.29496032,93.33309967999999,93.37123903999999,93.4093784,93.44751776,93.48565712,93.52379648,93.56193583999999,93.60007519999999,93.63821456,93.67635392,93.71449328,93.75263264,93.79077199999999,93.82891135999999,93.86705072,93.90519008,93.94332944,93.9814688,94.01960815999999,94.05774751999999,94.09588688,94.13402624,94.1721656,94.21030496,94.24844431999999,94.28658367999999,94.32472304,94.3628624,94.40100176,94.43914112,94.47728047999999,94.51541983999999,94.5535592,94.59169856,94.62983792,94.66797728,94.70611663999999,94.744256,94.78239536,94.82053472,94.85867408,94.89681344,94.93495279999999,94.97309216,95.01123152,95.04937088,95.08751024,95.1256496,95.16378895999999,95.20192832,95.24006768,95.27820704,95.3163464,95.35448576,95.39262511999999,95.43076448,95.46890384,95.5070432,95.54518256,95.58332192,95.62146127999999,95.65960064,95.69774,95.73587936,95.77401872,95.81215807999999,95.85029743999999,95.8884368,95.92657616,95.96471552,96.00285488,96.04099424,96.07913359999999,96.11727296,96.15541232,96.19355168,96.23169104,96.26983039999999,96.30796975999999,96.34610912,96.38424848,96.42238784,96.4605272,96.49866656,96.53680591999999,96.57494528,96.61308464,96.651224,96.68936336,96.72750271999999,96.76564207999999,96.80378144,96.8419208,96.88006016,96.91819952,96.95633887999999,96.99447823999999,97.0326176,97.07075696,97.10889632,97.14703568,97.18517503999999,97.22331439999999,97.26145376,97.29959312,97.33773248,97.37587184,97.41401119999999,97.45215055999999,97.49028992,97.52842928,97.56656864,97.604708,97.64284735999999,97.68098671999999,97.71912608,97.75726544,97.7954048,97.83354416,97.87168351999999,97.90982288,97.94796224,97.9861016,98.02424096,98.06238032,98.10051967999999,98.13865904,98.1767984,98.21493776,98.25307712,98.29121648,98.32935583999999,98.3674952,98.40563456,98.44377392,98.48191328,98.52005264,98.55819199999999,98.59633136,98.63447072,98.67261008,98.71074944,98.7488888,98.78702815999999,98.82516752,98.86330688,98.90144624,98.9395856,98.97772496,99.01586431999999,99.05400368,99.09214304,99.1302824,99.16842176,99.20656112,99.24470047999999,99.28283984,99.3209792,99.35911856,99.39725792,99.43539728,99.47353663999999,99.511676,99.54981536,99.58795472,99.62609408,99.66423344,99.70237279999999,99.74051216,99.77865152,99.81679088,99.85493024,99.89306959999999,99.93120895999999,99.96934832,100.00748768,100.04562704,100.0837664,100.12190576,100.16004511999999,100.19818448,100.23632384,100.2744632,100.31260256,100.35074191999999,100.38888127999999,100.42702064,100.46516,100.50329936,100.54143872,100.57957808,100.61771743999999,100.6558568,100.69399616,100.73213552,100.77027488,100.80841423999999,100.8465536,100.88469296,100.92283232,100.96097168,100.99911104,101.0372504,101.07538976,101.11352912,101.15166848,101.18980784,101.2279472,101.26608655999999,101.30422592,101.34236528,101.38050464,101.418644,101.45678336,101.49492272,101.53306208,101.57120144,101.6093408,101.64748016,101.68561952,101.72375887999999,101.76189824,101.8000376,101.83817696,101.87631632,101.91445568,101.95259503999999,101.9907344,102.02887376,102.06701312,102.10515248,102.14329184,102.18143119999999,102.21957056,102.25770992,102.29584928,102.33398864,102.372128,102.41026736,102.44840672,102.48654608,102.52468544,102.5628248,102.60096416,102.63910351999999,102.67724288,102.71538224,102.7535216,102.79166096,102.82980032,102.86793967999999,102.90607904,102.9442184,102.98235776,103.02049712,103.05863647999999,103.09677583999999,103.1349152,103.17305456,103.21119392,103.24933328,103.28747264,103.32561199999999,103.36375136,103.40189072,103.44003008,103.47816944,103.51630879999999,103.55444815999999,103.59258752,103.63072688,103.66886624,103.7070056,103.74514496,103.78328431999999,103.82142368,103.85956304,103.8977024,103.93584176,103.97398112,104.01212048,104.05025984,104.0883992,104.12653856,104.16467792,104.20281728,104.24095664,104.279096,104.31723536,104.35537472,104.39351408,104.43165343999999,104.4697928,104.50793216,104.54607152,104.58421088,104.62235024,104.6604896,104.69862896,104.73676832,104.77490768,104.81304704,104.8511864,104.88932575999999,104.92746512,104.96560448,105.00374384,105.0418832,105.08002256,105.11816192,105.15630128,105.19444064,105.23258,105.27071936,105.30885872,105.34699807999999,105.38513744,105.4232768,105.46141616,105.49955552,105.53769488,105.57583424,105.6139736,105.65211296,105.69025232,105.72839168,105.76653104,105.80467039999999,105.84280976,105.88094912,105.91908848,105.95722784,105.9953672,106.03350656,106.07164592,106.10978528,106.14792464,106.186064,106.22420336,106.26234271999999,106.30048208,106.33862144,106.3767608,106.41490016,106.45303952,106.49117887999999,106.52931824,106.5674576,106.60559696,106.64373632,106.68187568,106.72001503999999,106.7581544,106.79629376,106.83443312,106.87257248,106.91071184,106.94885120000001,106.98699056,107.02512992,107.06326928,107.10140864,107.13954799999999,107.17768736,107.21582672,107.25396608,107.29210544,107.3302448,107.36838416,107.40652352,107.44466288,107.48280224,107.5209416,107.55908096,107.59722031999999,107.63535968,107.67349904,107.7116384,107.74977776,107.78791712,107.82605648,107.86419584000001,107.9023352,107.94047456,107.97861392,108.01675328,108.05489264,108.093032,108.13117136,108.16931072,108.20745008,108.24558944,108.2837288,108.32186816000001,108.36000752,108.39814688,108.43628624,108.4744256,108.51256495999999,108.55070432,108.58884368,108.62698304,108.6651224,108.70326176,108.74140112,108.77954048,108.81767984,108.8558192,108.89395856,108.93209792,108.97023727999999,109.00837664,109.046516,109.08465536,109.12279472,109.16093408,109.19907344,109.2372128,109.27535216,109.31349152,109.35163088,109.38977024,109.42790959999999,109.46604896,109.50418832,109.54232768,109.58046704,109.6186064,109.65674576,109.69488512000001,109.73302448,109.77116384,109.8093032,109.84744255999999,109.88558191999999,109.92372128,109.96186064],\"xaxis\":\"x\",\"y\":[0.00017029195251114858,0.00019567323322112673,0.00022446221164937186,0.00025724398141503603,0.0002945905505638749,0.0003370089265697993,0.00038489485722234074,0.00043849992645783554,0.0004979177322601944,0.0005630917772777089,0.000633843948171471,0.0007099186027719601,0.0007910339197175227,0.0008769298929110057,0.0009674017300313425,0.0010623088657470432,0.0011615534819414833,0.0012650280732760526,0.0013725384203853812,0.0014837150580549227,0.0015979313896024466,0.0017142485185934267,0.0018314046799452364,0.001947860780644423,0.0020619039876911766,0.002171800426133369,0.002275978246036396,0.002373215795116641,0.002462807807929753,0.0025446855937079184,0.0026194741228704695,0.002688477753623659,0.0027535949845514927,0.0028171694795854295,0.002881789135200221,0.0029500476859452385,0.0030242854799555872,0.0031063287257961088,0.0031972500093072438,0.00329717626705635,0.0034051716971413948,0.0035192200137674277,0.0036363215069141453,0.0037527057539211944,0.0038641428231639165,0.003966318346302298,0.004055225381762592,0.004127522093784424,0.004180810310641667,0.0042138046685954635,0.0042263816062189504,0.004219517056423981,0.004195136722925648,0.004155910429153118,0.004105021686795288,0.004045937119213133,0.003982190901710416,0.0039171903985938126,0.003854043272897549,0.0037954045814052877,0.0037433442289286746,0.0036992390123774402,0.003663697328944529,0.0036365267675770602,0.003616754320580186,0.0036027057589797006,0.0035921453746142504,0.003582470693229754,0.003570949844249189,0.0035549828886480375,0.003532363337188067,0.0035015131117477195,0.003461664092094721,0.0034129628128801905,0.0033564821337436746,0.0032941344623922345,0.0032284942115120875,0.003162550680111532,0.003099424048516866,0.003042084259778872,0.002993113413931005,0.002954546184208058,0.0029278102683866986,0.002913771907231529,0.00291287291650919,0.002925328839363159,0.002951345938303029,0.0029913102772728436,0.003045906338489003,0.0031161352008325545,0.0032032214215600634,0.003308420182331438,0.0034327578568034947,0.0035767556091962005,0.0037401932670233025,0.003921967325119342,0.004120082426192597,0.004331792249568643,0.004553877702876673,0.004783023190185182,0.0050162311517589825,0.005251205466219714,0.00548663784546579,0.005722347398801512,0.005959248790432722,0.006199153692923298,0.006444437756778073,0.006697626004198721,0.006960960144254727,0.007236010868338455,0.007523388035727557,0.007822584726457086,0.008131971024294206,0.008448933440949267,0.00877013853149358,0.009091885759798794,0.009410505383753499,0.009722751920591412,0.01002614259659736,0.010319193509318755,0.01060151489302464,0.010873741727385741,0.011137297062052529,0.011394011428552009,0.011645649201343903,0.011893416593121934,0.012137540094030218,0.012377003210048065,0.012609510349046886,0.012831710523951111,0.013039665523032377,0.013229496523795573,0.013398101030623982,0.013543809119672394,0.013666851459669787,0.013769542969942261,0.013856140223500802,0.013932396899896452,0.014004905282101642,0.01408035830394746,0.014164884671763842,0.014263594021646727,0.014380422533028474,0.014518301812254658,0.014679600268154618,0.01486672345188548,0.01508272258703806,0.015331757783121932,0.015619295322198993,0.015951979702892343,0.016337196726070174,0.01678241600914111,0.0172944525546987,0.017878804662655505,0.018539204791405785,0.019277465603622736,0.020093628673812494,0.02098634707612559,0.021953375119543445,0.022992014407038627,0.02409938216249992,0.025272421652552054,0.026507651736379267,0.02780073277661145,0.029145987936560997,0.030536045683611648,0.03196175392217181,0.03341246269965496,0.03487669491308124,0.03634314268566821,0.037801860908435514,0.039245493257918256,0.04067036525381149,0.04207730945237688,0.04347213818329862,0.0448657347231428,0.04627378143431023,0.04771617533123524,0.04921619650323761,0.050799497173375355,0.05249297609645824,0.05432360117046513,0.056317246038099594,0.058497613317206626,0.06088532366022559,0.06349725047227402,0.06634617031909869,0.06944077734069953,0.07278607841921328,0.07638414917950888,0.08023519476233808,0.08433882833615511,0.0886954569761483,0.09330764915239803,0.09818134984914643,0.10332680790933227,0.1087590867340693,0.11449804678215454,0.1205677197289133,0.12699504147932905,0.13380797279469556,0.1410331058097033,0.1486929218965203,0.15680291914633065,0.1653688557761778,0.1743843534961491,0.18382907351092356,0.19366762498688375,0.20384930280758262,0.2143086892314244,0.2249670994073514,0.23573480416522732,0.2465139204070177,0.25720181358690447,0.26769480549206975,0.2778919287328371,0.2876984305375335,0.2970287215576563,0.3058085079834167,0.3139759453697991,0.321481802232067,0.32828879491597485,0.33437041304128867,0.339709653428642,0.3442980847254895,0.3481355599817828,0.35123069271682644,0.3536019539097897,0.35527899357295023,0.35630360842578546,0.3567297234773347,0.35662186034076115,0.35605182208752106,0.3550936878121634,0.35381760368919035,0.3522831913987494,0.35053358756789094,0.3485911260910259,0.346455468244102,0.34410460885478444,0.34149871389395875,0.33858626987772705,0.33531164165073896,0.3316229145536007,0.3274788766599441,0.3228541735368031,0.317742002237195,0.31215413730568353,0.30611852151789176,0.299675031827825,0.2928702847351711,0.2857524366346442,0.2783668542149809,0.27075329835300466,0.2629449297410005,0.2549690720174868,0.2468493314476269,0.23860843652519756,0.23027107003982453,0.22186603257170362,0.21342727795804592,0.2049936465072792,0.19660742204910783,0.18831208540153924,0.18014977699558987,0.17215899133097246,0.16437291486901304,0.15681862498585925,0.14951714607066385,0.14248416698219937,0.1357311060986179,0.12926618704485024,0.12309525425885812,0.11722218483307886,0.11164890078898512,0.1063751127299737,0.10139800058431371,0.09671204598542656,0.09230917844653828,0.08817930350759345,0.0843111729616975,0.08069346246762439,0.07731586096475744,0.07416995959942886,0.07124975491762833,0.06855164303739152,0.06607386473239903,0.06381545090560582,0.061774800132002414,0.05994808365435488,0.05832771016161605,0.05690108756513694,0.05564988980011986,0.05454997540436662,0.05357201800019193,0.05268280847976535,0.0518470902065138,0.051029708877818006,0.050197812772320397,0.04932283612243598,0.04838203906975052,0.047359453671742754,0.04624618084164319,0.04504007832924648,0.04374495646665627,0.04236944368130292,0.04092569352605916,0.039428083869484556,0.037892018292300114,0.03633289378787409,0.03476526013783449,0.03320217243145177,0.031654730251232006,0.030131800407886544,0.028639926782814743,0.02718343272593843,0.025764713285368942,0.024384695598361344,0.023043420017221122,0.02174066924402429,0.020476556116219888,0.019251979319189476,0.018068873145464216,0.0169302107709382,0.01583976429588766,0.014801669961430477,0.013819883677660636,0.012897632076781311,0.01203696314873685,0.011238478316004273,0.010501289509451402,0.009823198966121762,0.009201056185352054,0.008631215000062005,0.008110000265359674,0.0076341000377332345,0.007200822436457333,0.006808190005682579,0.006454879769728534,0.0061400460614966165,0.005863079749157907,0.005623359518214448,0.005420040132902021,0.005251903921695879,0.005117281363894337,0.005014030395650561,0.004939555649767543,0.0048908491474460745,0.00486454103481684,0.004856959000681369,0.004864203743790151,0.0048822518905346415,0.004907095541693645,0.004934919703440083,0.004962307521778392,0.004986451704874582,0.005005341989961197,0.005017895413558786,0.005023999663846723,0.005024449773217939,0.005020773480079569,0.0050149584478359766,0.0050091122601444655,0.00500510055272899,0.005004216817532452,0.005006937051983059,0.0050128025044193685,0.0050204549716964825,0.00502782401039019,0.005032438257002771,0.005031809004963419,0.005023818359391022,0.005007040529423499,0.004980934720690992,0.004945870476495084,0.0049029773141325275,0.004853844264056959,0.004800124802842564,0.004743122629849914,0.004683439601090344,0.004620757497356225,0.004553801838047907,0.004480503066265324,0.004398334363335654,0.004304772891428216,0.004197808384695365,0.004076413716044989,0.003940897695340775,0.0037930794637627313,0.0036362526690030556,0.0034749409034208027,0.0033144780095315587,0.003160472724367308,0.003018233001736348,0.0028922292572982726,0.002785667676884085,0.0027002263424569855,0.0026359814309133488,0.0025915222497274056,0.0025642268704629905,0.0025506487908105403,0.002546952637802309,0.002549335165273004,0.0025543766078567677,0.0025592848645701717,0.0025620174582163787,0.0025612892749611723,0.0025564931813649035,0.0025475720593593496,0.00253488258678969,0.0025190833844712652,0.0025010653010889205,0.0024819236506668663,0.0024629559234383086,0.002445658171621235,0.0024316916522685848,0.0024227987834541196,0.002420661974520734,0.0024267164696318523,0.0024419442533466303,0.002466686102765013,0.002500510505892007,0.0025421711549629892,0.0025896710021882595,0.0026404338132524066,0.002691567502332895,0.0027401903056028377,0.00278378269023808,0.002820524958984916,0.002849581894988536,0.00287130026076791,0.0028872916243493055,0.0029003816199359286,0.0029144176846764647,0.002933940870058695,0.0029637431476298008,0.003008348193140398,0.003071468248870777,0.003155499020577194,0.003261115703395812,0.003387024590760118,0.003529906873217421,0.003684566983097803,0.003844271603203817,0.004001242102719877,0.0041472466948688546,0.00427423114117111,0.0043749281954841256,0.004443394119568044,0.004475432480498123,0.004468878203903279,0.004423726716015851,0.0043421035568653905,0.004228079738643634,0.004087348285019063,0.003926788164503929,0.0037539524505719075,0.003576526145579793,0.003401803356827771,0.003236231516595537,0.0030850614965953517,0.002952127905204487,0.0028397662275921392,0.0027488562198521955,0.0026789673294939096,0.002628574007608768,0.0025953071430255647,0.0025762115254874115,0.002567986311508828,0.0025671937787295875,0.002570429482955578,0.0025744532840203875,0.0025762852834718703,0.002573273623361816,0.002563142504589398,0.0025440287461360534,0.00251451368073982,0.002473654228301299,0.0024210129842031514,0.002356682885504825,0.002281298526638629,0.002196024511976686,0.00210251200337365,0.0020028178791048593,0.0018992860563426261,0.001794396479663252,0.001690592848160428,0.0015901043344762448,0.0014947787184719544,0.0014059443189904047,0.0013243159907997048,0.0012499565735315044,0.0011822999164053537,0.00112023537400676,0.001062246969913943,0.0010065938947616336,0.0009515134445055336,0.0008954238066585887,0.0008371030864958853,0.0007758231550455251],\"yaxis\":\"y\",\"type\":\"scatter\",\"fill\":\"tozeroy\",\"hovertemplate\":\"\\u003cb\\u003eSynthetic\\u003c\\u002fb\\u003e\\u003cbr\\u003eFrequency: %{y}\\u003cextra\\u003e\\u003c\\u002fextra\\u003e\"}],                        {\"barmode\":\"overlay\",\"hovermode\":\"closest\",\"legend\":{\"traceorder\":\"reversed\"},\"xaxis\":{\"anchor\":\"y2\",\"domain\":[0.0,1.0],\"zeroline\":false,\"title\":{\"text\":\"Value\"}},\"yaxis\":{\"anchor\":\"free\",\"domain\":[0.0,1],\"position\":0.0,\"title\":{\"text\":\"Frequency\"}},\"template\":{\"data\":{\"histogram2dcontour\":[{\"type\":\"histogram2dcontour\",\"colorbar\":{\"outlinewidth\":0,\"ticks\":\"\"},\"colorscale\":[[0.0,\"#0d0887\"],[0.1111111111111111,\"#46039f\"],[0.2222222222222222,\"#7201a8\"],[0.3333333333333333,\"#9c179e\"],[0.4444444444444444,\"#bd3786\"],[0.5555555555555556,\"#d8576b\"],[0.6666666666666666,\"#ed7953\"],[0.7777777777777778,\"#fb9f3a\"],[0.8888888888888888,\"#fdca26\"],[1.0,\"#f0f921\"]]}],\"choropleth\":[{\"type\":\"choropleth\",\"colorbar\":{\"outlinewidth\":0,\"ticks\":\"\"}}],\"histogram2d\":[{\"type\":\"histogram2d\",\"colorbar\":{\"outlinewidth\":0,\"ticks\":\"\"},\"colorscale\":[[0.0,\"#0d0887\"],[0.1111111111111111,\"#46039f\"],[0.2222222222222222,\"#7201a8\"],[0.3333333333333333,\"#9c179e\"],[0.4444444444444444,\"#bd3786\"],[0.5555555555555556,\"#d8576b\"],[0.6666666666666666,\"#ed7953\"],[0.7777777777777778,\"#fb9f3a\"],[0.8888888888888888,\"#fdca26\"],[1.0,\"#f0f921\"]]}],\"heatmap\":[{\"type\":\"heatmap\",\"colorbar\":{\"outlinewidth\":0,\"ticks\":\"\"},\"colorscale\":[[0.0,\"#0d0887\"],[0.1111111111111111,\"#46039f\"],[0.2222222222222222,\"#7201a8\"],[0.3333333333333333,\"#9c179e\"],[0.4444444444444444,\"#bd3786\"],[0.5555555555555556,\"#d8576b\"],[0.6666666666666666,\"#ed7953\"],[0.7777777777777778,\"#fb9f3a\"],[0.8888888888888888,\"#fdca26\"],[1.0,\"#f0f921\"]]}],\"heatmapgl\":[{\"type\":\"heatmapgl\",\"colorbar\":{\"outlinewidth\":0,\"ticks\":\"\"},\"colorscale\":[[0.0,\"#0d0887\"],[0.1111111111111111,\"#46039f\"],[0.2222222222222222,\"#7201a8\"],[0.3333333333333333,\"#9c179e\"],[0.4444444444444444,\"#bd3786\"],[0.5555555555555556,\"#d8576b\"],[0.6666666666666666,\"#ed7953\"],[0.7777777777777778,\"#fb9f3a\"],[0.8888888888888888,\"#fdca26\"],[1.0,\"#f0f921\"]]}],\"contourcarpet\":[{\"type\":\"contourcarpet\",\"colorbar\":{\"outlinewidth\":0,\"ticks\":\"\"}}],\"contour\":[{\"type\":\"contour\",\"colorbar\":{\"outlinewidth\":0,\"ticks\":\"\"},\"colorscale\":[[0.0,\"#0d0887\"],[0.1111111111111111,\"#46039f\"],[0.2222222222222222,\"#7201a8\"],[0.3333333333333333,\"#9c179e\"],[0.4444444444444444,\"#bd3786\"],[0.5555555555555556,\"#d8576b\"],[0.6666666666666666,\"#ed7953\"],[0.7777777777777778,\"#fb9f3a\"],[0.8888888888888888,\"#fdca26\"],[1.0,\"#f0f921\"]]}],\"surface\":[{\"type\":\"surface\",\"colorbar\":{\"outlinewidth\":0,\"ticks\":\"\"},\"colorscale\":[[0.0,\"#0d0887\"],[0.1111111111111111,\"#46039f\"],[0.2222222222222222,\"#7201a8\"],[0.3333333333333333,\"#9c179e\"],[0.4444444444444444,\"#bd3786\"],[0.5555555555555556,\"#d8576b\"],[0.6666666666666666,\"#ed7953\"],[0.7777777777777778,\"#fb9f3a\"],[0.8888888888888888,\"#fdca26\"],[1.0,\"#f0f921\"]]}],\"mesh3d\":[{\"type\":\"mesh3d\",\"colorbar\":{\"outlinewidth\":0,\"ticks\":\"\"}}],\"scatter\":[{\"fillpattern\":{\"fillmode\":\"overlay\",\"size\":10,\"solidity\":0.2},\"type\":\"scatter\"}],\"parcoords\":[{\"type\":\"parcoords\",\"line\":{\"colorbar\":{\"outlinewidth\":0,\"ticks\":\"\"}}}],\"scatterpolargl\":[{\"type\":\"scatterpolargl\",\"marker\":{\"colorbar\":{\"outlinewidth\":0,\"ticks\":\"\"}}}],\"bar\":[{\"error_x\":{\"color\":\"#2a3f5f\"},\"error_y\":{\"color\":\"#2a3f5f\"},\"marker\":{\"line\":{\"color\":\"#E5ECF6\",\"width\":0.5},\"pattern\":{\"fillmode\":\"overlay\",\"size\":10,\"solidity\":0.2}},\"type\":\"bar\"}],\"scattergeo\":[{\"type\":\"scattergeo\",\"marker\":{\"colorbar\":{\"outlinewidth\":0,\"ticks\":\"\"}}}],\"scatterpolar\":[{\"type\":\"scatterpolar\",\"marker\":{\"colorbar\":{\"outlinewidth\":0,\"ticks\":\"\"}}}],\"histogram\":[{\"marker\":{\"pattern\":{\"fillmode\":\"overlay\",\"size\":10,\"solidity\":0.2}},\"type\":\"histogram\"}],\"scattergl\":[{\"type\":\"scattergl\",\"marker\":{\"colorbar\":{\"outlinewidth\":0,\"ticks\":\"\"}}}],\"scatter3d\":[{\"type\":\"scatter3d\",\"line\":{\"colorbar\":{\"outlinewidth\":0,\"ticks\":\"\"}},\"marker\":{\"colorbar\":{\"outlinewidth\":0,\"ticks\":\"\"}}}],\"scattermapbox\":[{\"type\":\"scattermapbox\",\"marker\":{\"colorbar\":{\"outlinewidth\":0,\"ticks\":\"\"}}}],\"scatterternary\":[{\"type\":\"scatterternary\",\"marker\":{\"colorbar\":{\"outlinewidth\":0,\"ticks\":\"\"}}}],\"scattercarpet\":[{\"type\":\"scattercarpet\",\"marker\":{\"colorbar\":{\"outlinewidth\":0,\"ticks\":\"\"}}}],\"carpet\":[{\"aaxis\":{\"endlinecolor\":\"#2a3f5f\",\"gridcolor\":\"white\",\"linecolor\":\"white\",\"minorgridcolor\":\"white\",\"startlinecolor\":\"#2a3f5f\"},\"baxis\":{\"endlinecolor\":\"#2a3f5f\",\"gridcolor\":\"white\",\"linecolor\":\"white\",\"minorgridcolor\":\"white\",\"startlinecolor\":\"#2a3f5f\"},\"type\":\"carpet\"}],\"table\":[{\"cells\":{\"fill\":{\"color\":\"#EBF0F8\"},\"line\":{\"color\":\"white\"}},\"header\":{\"fill\":{\"color\":\"#C8D4E3\"},\"line\":{\"color\":\"white\"}},\"type\":\"table\"}],\"barpolar\":[{\"marker\":{\"line\":{\"color\":\"#E5ECF6\",\"width\":0.5},\"pattern\":{\"fillmode\":\"overlay\",\"size\":10,\"solidity\":0.2}},\"type\":\"barpolar\"}],\"pie\":[{\"automargin\":true,\"type\":\"pie\"}]},\"layout\":{\"autotypenumbers\":\"strict\",\"colorway\":[\"#636efa\",\"#EF553B\",\"#00cc96\",\"#ab63fa\",\"#FFA15A\",\"#19d3f3\",\"#FF6692\",\"#B6E880\",\"#FF97FF\",\"#FECB52\"],\"font\":{\"color\":\"#2a3f5f\"},\"hovermode\":\"closest\",\"hoverlabel\":{\"align\":\"left\"},\"paper_bgcolor\":\"white\",\"plot_bgcolor\":\"#E5ECF6\",\"polar\":{\"bgcolor\":\"#E5ECF6\",\"angularaxis\":{\"gridcolor\":\"white\",\"linecolor\":\"white\",\"ticks\":\"\"},\"radialaxis\":{\"gridcolor\":\"white\",\"linecolor\":\"white\",\"ticks\":\"\"}},\"ternary\":{\"bgcolor\":\"#E5ECF6\",\"aaxis\":{\"gridcolor\":\"white\",\"linecolor\":\"white\",\"ticks\":\"\"},\"baxis\":{\"gridcolor\":\"white\",\"linecolor\":\"white\",\"ticks\":\"\"},\"caxis\":{\"gridcolor\":\"white\",\"linecolor\":\"white\",\"ticks\":\"\"}},\"coloraxis\":{\"colorbar\":{\"outlinewidth\":0,\"ticks\":\"\"}},\"colorscale\":{\"sequential\":[[0.0,\"#0d0887\"],[0.1111111111111111,\"#46039f\"],[0.2222222222222222,\"#7201a8\"],[0.3333333333333333,\"#9c179e\"],[0.4444444444444444,\"#bd3786\"],[0.5555555555555556,\"#d8576b\"],[0.6666666666666666,\"#ed7953\"],[0.7777777777777778,\"#fb9f3a\"],[0.8888888888888888,\"#fdca26\"],[1.0,\"#f0f921\"]],\"sequentialminus\":[[0.0,\"#0d0887\"],[0.1111111111111111,\"#46039f\"],[0.2222222222222222,\"#7201a8\"],[0.3333333333333333,\"#9c179e\"],[0.4444444444444444,\"#bd3786\"],[0.5555555555555556,\"#d8576b\"],[0.6666666666666666,\"#ed7953\"],[0.7777777777777778,\"#fb9f3a\"],[0.8888888888888888,\"#fdca26\"],[1.0,\"#f0f921\"]],\"diverging\":[[0,\"#8e0152\"],[0.1,\"#c51b7d\"],[0.2,\"#de77ae\"],[0.3,\"#f1b6da\"],[0.4,\"#fde0ef\"],[0.5,\"#f7f7f7\"],[0.6,\"#e6f5d0\"],[0.7,\"#b8e186\"],[0.8,\"#7fbc41\"],[0.9,\"#4d9221\"],[1,\"#276419\"]]},\"xaxis\":{\"gridcolor\":\"white\",\"linecolor\":\"white\",\"ticks\":\"\",\"title\":{\"standoff\":15},\"zerolinecolor\":\"white\",\"automargin\":true,\"zerolinewidth\":2},\"yaxis\":{\"gridcolor\":\"white\",\"linecolor\":\"white\",\"ticks\":\"\",\"title\":{\"standoff\":15},\"zerolinecolor\":\"white\",\"automargin\":true,\"zerolinewidth\":2},\"scene\":{\"xaxis\":{\"backgroundcolor\":\"#E5ECF6\",\"gridcolor\":\"white\",\"linecolor\":\"white\",\"showbackground\":true,\"ticks\":\"\",\"zerolinecolor\":\"white\",\"gridwidth\":2},\"yaxis\":{\"backgroundcolor\":\"#E5ECF6\",\"gridcolor\":\"white\",\"linecolor\":\"white\",\"showbackground\":true,\"ticks\":\"\",\"zerolinecolor\":\"white\",\"gridwidth\":2},\"zaxis\":{\"backgroundcolor\":\"#E5ECF6\",\"gridcolor\":\"white\",\"linecolor\":\"white\",\"showbackground\":true,\"ticks\":\"\",\"zerolinecolor\":\"white\",\"gridwidth\":2}},\"shapedefaults\":{\"line\":{\"color\":\"#2a3f5f\"}},\"annotationdefaults\":{\"arrowcolor\":\"#2a3f5f\",\"arrowhead\":0,\"arrowwidth\":1},\"geo\":{\"bgcolor\":\"white\",\"landcolor\":\"#E5ECF6\",\"subunitcolor\":\"white\",\"showland\":true,\"showlakes\":true,\"lakecolor\":\"white\"},\"title\":{\"x\":0.05},\"mapbox\":{\"style\":\"light\"}}},\"font\":{\"size\":18},\"title\":{\"text\":\"Real vs. Synthetic Data for column 'spec'\"},\"plot_bgcolor\":\"#F5F5F8\"},                        {\"responsive\": true}                    ).then(function(){\n",
              "                            \n",
              "var gd = document.getElementById('937002d9-1800-47c4-b721-126b3864ba56');\n",
              "var x = new MutationObserver(function (mutations, observer) {{\n",
              "        var display = window.getComputedStyle(gd).display;\n",
              "        if (!display || display === 'none') {{\n",
              "            console.log([gd, 'removed!']);\n",
              "            Plotly.purge(gd);\n",
              "            observer.disconnect();\n",
              "        }}\n",
              "}});\n",
              "\n",
              "// Listen for the removal of the full notebook cells\n",
              "var notebookContainer = gd.closest('#notebook-container');\n",
              "if (notebookContainer) {{\n",
              "    x.observe(notebookContainer, {childList: true});\n",
              "}}\n",
              "\n",
              "// Listen for the clearing of the current output cell\n",
              "var outputEl = gd.closest('.output');\n",
              "if (outputEl) {{\n",
              "    x.observe(outputEl, {childList: true});\n",
              "}}\n",
              "\n",
              "                        })                };                            </script>        </div>\n",
              "</body>\n",
              "</html>"
            ]
          },
          "metadata": {}
        }
      ]
    },
    {
      "cell_type": "code",
      "source": [
        "synthesizer.save(\n",
        "    filepath='/content/drive/MyDrive/daicc2024/my_synthesizer.pkl'\n",
        ")\n",
        "metadata.save_to_json(filepath='/content/drive/MyDrive/daicc2024/my_metadata_v1.json')"
      ],
      "metadata": {
        "id": "BnTV0D_3J2Di"
      },
      "execution_count": 19,
      "outputs": []
    },
    {
      "cell_type": "code",
      "source": [
        "synthetic_data.to_csv(f'/content/drive/MyDrive/daicc2024/data_aug.csv')"
      ],
      "metadata": {
        "id": "NycYxwdiRr6P"
      },
      "execution_count": 20,
      "outputs": []
    },
    {
      "cell_type": "code",
      "source": [
        "# from sdv.single_table import CTGANSynthesizer\n",
        "\n",
        "# synthesizer = CTGANSynthesizer.load(\n",
        "#     filepath='/content/drive/MyDrive/daicc2024/my_synthesizer.pkl'\n",
        "# )"
      ],
      "metadata": {
        "id": "j34HtWxrJ-WJ"
      },
      "execution_count": null,
      "outputs": []
    },
    {
      "cell_type": "markdown",
      "source": [
        "TabDDPMというDiffusion modelの手法もある\n",
        "\n",
        "https://github.com/yandex-research/tab-ddpm\n",
        "\n",
        "使えなかった"
      ],
      "metadata": {
        "id": "scuvl4kLSqTZ"
      }
    }
  ]
}