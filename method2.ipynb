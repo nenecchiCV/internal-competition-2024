{
  "nbformat": 4,
  "nbformat_minor": 0,
  "metadata": {
    "colab": {
      "provenance": [],
      "mount_file_id": "https://github.com/nenecchiCV/internal-competition-2024/blob/main/method1.ipynb",
      "authorship_tag": "ABX9TyMS/sYe+tUjy1urBatP7oPS",
      "include_colab_link": true
    },
    "kernelspec": {
      "name": "python3",
      "display_name": "Python 3"
    },
    "language_info": {
      "name": "python"
    },
    "widgets": {
      "application/vnd.jupyter.widget-state+json": {
        "3b543e0d2b12480d86800403055337f0": {
          "model_module": "@jupyter-widgets/controls",
          "model_name": "VBoxModel",
          "model_module_version": "1.5.0",
          "state": {
            "_dom_classes": [],
            "_model_module": "@jupyter-widgets/controls",
            "_model_module_version": "1.5.0",
            "_model_name": "VBoxModel",
            "_view_count": null,
            "_view_module": "@jupyter-widgets/controls",
            "_view_module_version": "1.5.0",
            "_view_name": "VBoxView",
            "box_style": "",
            "children": [
              "IPY_MODEL_8cb269dfaaa542b69e7a233e904e5b2e",
              "IPY_MODEL_321349c400c3439792e37793e93f6886"
            ],
            "layout": "IPY_MODEL_f2cfc0c73c8245c0bdc346944ba82aa2"
          }
        },
        "8cb269dfaaa542b69e7a233e904e5b2e": {
          "model_module": "@jupyter-widgets/controls",
          "model_name": "LabelModel",
          "model_module_version": "1.5.0",
          "state": {
            "_dom_classes": [],
            "_model_module": "@jupyter-widgets/controls",
            "_model_module_version": "1.5.0",
            "_model_name": "LabelModel",
            "_view_count": null,
            "_view_module": "@jupyter-widgets/controls",
            "_view_module_version": "1.5.0",
            "_view_name": "LabelView",
            "description": "",
            "description_tooltip": null,
            "layout": "IPY_MODEL_fde739dd6bee4857bef32c057bedbfb2",
            "placeholder": "​",
            "style": "IPY_MODEL_85a45e1176c4429db546da797454b944",
            "value": "0.011 MB of 0.011 MB uploaded\r"
          }
        },
        "321349c400c3439792e37793e93f6886": {
          "model_module": "@jupyter-widgets/controls",
          "model_name": "FloatProgressModel",
          "model_module_version": "1.5.0",
          "state": {
            "_dom_classes": [],
            "_model_module": "@jupyter-widgets/controls",
            "_model_module_version": "1.5.0",
            "_model_name": "FloatProgressModel",
            "_view_count": null,
            "_view_module": "@jupyter-widgets/controls",
            "_view_module_version": "1.5.0",
            "_view_name": "ProgressView",
            "bar_style": "",
            "description": "",
            "description_tooltip": null,
            "layout": "IPY_MODEL_bc038fdb23174a74adf6772aec28a5a7",
            "max": 1,
            "min": 0,
            "orientation": "horizontal",
            "style": "IPY_MODEL_26798a8cad074a1fb3a87eed0df73ba1",
            "value": 1
          }
        },
        "f2cfc0c73c8245c0bdc346944ba82aa2": {
          "model_module": "@jupyter-widgets/base",
          "model_name": "LayoutModel",
          "model_module_version": "1.2.0",
          "state": {
            "_model_module": "@jupyter-widgets/base",
            "_model_module_version": "1.2.0",
            "_model_name": "LayoutModel",
            "_view_count": null,
            "_view_module": "@jupyter-widgets/base",
            "_view_module_version": "1.2.0",
            "_view_name": "LayoutView",
            "align_content": null,
            "align_items": null,
            "align_self": null,
            "border": null,
            "bottom": null,
            "display": null,
            "flex": null,
            "flex_flow": null,
            "grid_area": null,
            "grid_auto_columns": null,
            "grid_auto_flow": null,
            "grid_auto_rows": null,
            "grid_column": null,
            "grid_gap": null,
            "grid_row": null,
            "grid_template_areas": null,
            "grid_template_columns": null,
            "grid_template_rows": null,
            "height": null,
            "justify_content": null,
            "justify_items": null,
            "left": null,
            "margin": null,
            "max_height": null,
            "max_width": null,
            "min_height": null,
            "min_width": null,
            "object_fit": null,
            "object_position": null,
            "order": null,
            "overflow": null,
            "overflow_x": null,
            "overflow_y": null,
            "padding": null,
            "right": null,
            "top": null,
            "visibility": null,
            "width": null
          }
        },
        "fde739dd6bee4857bef32c057bedbfb2": {
          "model_module": "@jupyter-widgets/base",
          "model_name": "LayoutModel",
          "model_module_version": "1.2.0",
          "state": {
            "_model_module": "@jupyter-widgets/base",
            "_model_module_version": "1.2.0",
            "_model_name": "LayoutModel",
            "_view_count": null,
            "_view_module": "@jupyter-widgets/base",
            "_view_module_version": "1.2.0",
            "_view_name": "LayoutView",
            "align_content": null,
            "align_items": null,
            "align_self": null,
            "border": null,
            "bottom": null,
            "display": null,
            "flex": null,
            "flex_flow": null,
            "grid_area": null,
            "grid_auto_columns": null,
            "grid_auto_flow": null,
            "grid_auto_rows": null,
            "grid_column": null,
            "grid_gap": null,
            "grid_row": null,
            "grid_template_areas": null,
            "grid_template_columns": null,
            "grid_template_rows": null,
            "height": null,
            "justify_content": null,
            "justify_items": null,
            "left": null,
            "margin": null,
            "max_height": null,
            "max_width": null,
            "min_height": null,
            "min_width": null,
            "object_fit": null,
            "object_position": null,
            "order": null,
            "overflow": null,
            "overflow_x": null,
            "overflow_y": null,
            "padding": null,
            "right": null,
            "top": null,
            "visibility": null,
            "width": null
          }
        },
        "85a45e1176c4429db546da797454b944": {
          "model_module": "@jupyter-widgets/controls",
          "model_name": "DescriptionStyleModel",
          "model_module_version": "1.5.0",
          "state": {
            "_model_module": "@jupyter-widgets/controls",
            "_model_module_version": "1.5.0",
            "_model_name": "DescriptionStyleModel",
            "_view_count": null,
            "_view_module": "@jupyter-widgets/base",
            "_view_module_version": "1.2.0",
            "_view_name": "StyleView",
            "description_width": ""
          }
        },
        "bc038fdb23174a74adf6772aec28a5a7": {
          "model_module": "@jupyter-widgets/base",
          "model_name": "LayoutModel",
          "model_module_version": "1.2.0",
          "state": {
            "_model_module": "@jupyter-widgets/base",
            "_model_module_version": "1.2.0",
            "_model_name": "LayoutModel",
            "_view_count": null,
            "_view_module": "@jupyter-widgets/base",
            "_view_module_version": "1.2.0",
            "_view_name": "LayoutView",
            "align_content": null,
            "align_items": null,
            "align_self": null,
            "border": null,
            "bottom": null,
            "display": null,
            "flex": null,
            "flex_flow": null,
            "grid_area": null,
            "grid_auto_columns": null,
            "grid_auto_flow": null,
            "grid_auto_rows": null,
            "grid_column": null,
            "grid_gap": null,
            "grid_row": null,
            "grid_template_areas": null,
            "grid_template_columns": null,
            "grid_template_rows": null,
            "height": null,
            "justify_content": null,
            "justify_items": null,
            "left": null,
            "margin": null,
            "max_height": null,
            "max_width": null,
            "min_height": null,
            "min_width": null,
            "object_fit": null,
            "object_position": null,
            "order": null,
            "overflow": null,
            "overflow_x": null,
            "overflow_y": null,
            "padding": null,
            "right": null,
            "top": null,
            "visibility": null,
            "width": null
          }
        },
        "26798a8cad074a1fb3a87eed0df73ba1": {
          "model_module": "@jupyter-widgets/controls",
          "model_name": "ProgressStyleModel",
          "model_module_version": "1.5.0",
          "state": {
            "_model_module": "@jupyter-widgets/controls",
            "_model_module_version": "1.5.0",
            "_model_name": "ProgressStyleModel",
            "_view_count": null,
            "_view_module": "@jupyter-widgets/base",
            "_view_module_version": "1.2.0",
            "_view_name": "StyleView",
            "bar_color": null,
            "description_width": ""
          }
        },
        "8f5dc70544ab43458353accff99827ff": {
          "model_module": "@jupyter-widgets/controls",
          "model_name": "VBoxModel",
          "model_module_version": "1.5.0",
          "state": {
            "_dom_classes": [],
            "_model_module": "@jupyter-widgets/controls",
            "_model_module_version": "1.5.0",
            "_model_name": "VBoxModel",
            "_view_count": null,
            "_view_module": "@jupyter-widgets/controls",
            "_view_module_version": "1.5.0",
            "_view_name": "VBoxView",
            "box_style": "",
            "children": [
              "IPY_MODEL_3e96ccf8f2c74919bb8c66c54adc3378",
              "IPY_MODEL_3ee5cf6d739f4d939202bb4f695e8900"
            ],
            "layout": "IPY_MODEL_45f9168dba7345de95a431cd082d549f"
          }
        },
        "3e96ccf8f2c74919bb8c66c54adc3378": {
          "model_module": "@jupyter-widgets/controls",
          "model_name": "LabelModel",
          "model_module_version": "1.5.0",
          "state": {
            "_dom_classes": [],
            "_model_module": "@jupyter-widgets/controls",
            "_model_module_version": "1.5.0",
            "_model_name": "LabelModel",
            "_view_count": null,
            "_view_module": "@jupyter-widgets/controls",
            "_view_module_version": "1.5.0",
            "_view_name": "LabelView",
            "description": "",
            "description_tooltip": null,
            "layout": "IPY_MODEL_8451e55289714ebb8754ddc8df2d971f",
            "placeholder": "​",
            "style": "IPY_MODEL_581d9eb35f9b4ac6a6185345f1ed48ba",
            "value": "0.134 MB of 0.134 MB uploaded\r"
          }
        },
        "3ee5cf6d739f4d939202bb4f695e8900": {
          "model_module": "@jupyter-widgets/controls",
          "model_name": "FloatProgressModel",
          "model_module_version": "1.5.0",
          "state": {
            "_dom_classes": [],
            "_model_module": "@jupyter-widgets/controls",
            "_model_module_version": "1.5.0",
            "_model_name": "FloatProgressModel",
            "_view_count": null,
            "_view_module": "@jupyter-widgets/controls",
            "_view_module_version": "1.5.0",
            "_view_name": "ProgressView",
            "bar_style": "",
            "description": "",
            "description_tooltip": null,
            "layout": "IPY_MODEL_da4cc57bfe674a17be29155952feea83",
            "max": 1,
            "min": 0,
            "orientation": "horizontal",
            "style": "IPY_MODEL_f0ad5ea72c074ca8b1c7dc2176e23559",
            "value": 1
          }
        },
        "45f9168dba7345de95a431cd082d549f": {
          "model_module": "@jupyter-widgets/base",
          "model_name": "LayoutModel",
          "model_module_version": "1.2.0",
          "state": {
            "_model_module": "@jupyter-widgets/base",
            "_model_module_version": "1.2.0",
            "_model_name": "LayoutModel",
            "_view_count": null,
            "_view_module": "@jupyter-widgets/base",
            "_view_module_version": "1.2.0",
            "_view_name": "LayoutView",
            "align_content": null,
            "align_items": null,
            "align_self": null,
            "border": null,
            "bottom": null,
            "display": null,
            "flex": null,
            "flex_flow": null,
            "grid_area": null,
            "grid_auto_columns": null,
            "grid_auto_flow": null,
            "grid_auto_rows": null,
            "grid_column": null,
            "grid_gap": null,
            "grid_row": null,
            "grid_template_areas": null,
            "grid_template_columns": null,
            "grid_template_rows": null,
            "height": null,
            "justify_content": null,
            "justify_items": null,
            "left": null,
            "margin": null,
            "max_height": null,
            "max_width": null,
            "min_height": null,
            "min_width": null,
            "object_fit": null,
            "object_position": null,
            "order": null,
            "overflow": null,
            "overflow_x": null,
            "overflow_y": null,
            "padding": null,
            "right": null,
            "top": null,
            "visibility": null,
            "width": null
          }
        },
        "8451e55289714ebb8754ddc8df2d971f": {
          "model_module": "@jupyter-widgets/base",
          "model_name": "LayoutModel",
          "model_module_version": "1.2.0",
          "state": {
            "_model_module": "@jupyter-widgets/base",
            "_model_module_version": "1.2.0",
            "_model_name": "LayoutModel",
            "_view_count": null,
            "_view_module": "@jupyter-widgets/base",
            "_view_module_version": "1.2.0",
            "_view_name": "LayoutView",
            "align_content": null,
            "align_items": null,
            "align_self": null,
            "border": null,
            "bottom": null,
            "display": null,
            "flex": null,
            "flex_flow": null,
            "grid_area": null,
            "grid_auto_columns": null,
            "grid_auto_flow": null,
            "grid_auto_rows": null,
            "grid_column": null,
            "grid_gap": null,
            "grid_row": null,
            "grid_template_areas": null,
            "grid_template_columns": null,
            "grid_template_rows": null,
            "height": null,
            "justify_content": null,
            "justify_items": null,
            "left": null,
            "margin": null,
            "max_height": null,
            "max_width": null,
            "min_height": null,
            "min_width": null,
            "object_fit": null,
            "object_position": null,
            "order": null,
            "overflow": null,
            "overflow_x": null,
            "overflow_y": null,
            "padding": null,
            "right": null,
            "top": null,
            "visibility": null,
            "width": null
          }
        },
        "581d9eb35f9b4ac6a6185345f1ed48ba": {
          "model_module": "@jupyter-widgets/controls",
          "model_name": "DescriptionStyleModel",
          "model_module_version": "1.5.0",
          "state": {
            "_model_module": "@jupyter-widgets/controls",
            "_model_module_version": "1.5.0",
            "_model_name": "DescriptionStyleModel",
            "_view_count": null,
            "_view_module": "@jupyter-widgets/base",
            "_view_module_version": "1.2.0",
            "_view_name": "StyleView",
            "description_width": ""
          }
        },
        "da4cc57bfe674a17be29155952feea83": {
          "model_module": "@jupyter-widgets/base",
          "model_name": "LayoutModel",
          "model_module_version": "1.2.0",
          "state": {
            "_model_module": "@jupyter-widgets/base",
            "_model_module_version": "1.2.0",
            "_model_name": "LayoutModel",
            "_view_count": null,
            "_view_module": "@jupyter-widgets/base",
            "_view_module_version": "1.2.0",
            "_view_name": "LayoutView",
            "align_content": null,
            "align_items": null,
            "align_self": null,
            "border": null,
            "bottom": null,
            "display": null,
            "flex": null,
            "flex_flow": null,
            "grid_area": null,
            "grid_auto_columns": null,
            "grid_auto_flow": null,
            "grid_auto_rows": null,
            "grid_column": null,
            "grid_gap": null,
            "grid_row": null,
            "grid_template_areas": null,
            "grid_template_columns": null,
            "grid_template_rows": null,
            "height": null,
            "justify_content": null,
            "justify_items": null,
            "left": null,
            "margin": null,
            "max_height": null,
            "max_width": null,
            "min_height": null,
            "min_width": null,
            "object_fit": null,
            "object_position": null,
            "order": null,
            "overflow": null,
            "overflow_x": null,
            "overflow_y": null,
            "padding": null,
            "right": null,
            "top": null,
            "visibility": null,
            "width": null
          }
        },
        "f0ad5ea72c074ca8b1c7dc2176e23559": {
          "model_module": "@jupyter-widgets/controls",
          "model_name": "ProgressStyleModel",
          "model_module_version": "1.5.0",
          "state": {
            "_model_module": "@jupyter-widgets/controls",
            "_model_module_version": "1.5.0",
            "_model_name": "ProgressStyleModel",
            "_view_count": null,
            "_view_module": "@jupyter-widgets/base",
            "_view_module_version": "1.2.0",
            "_view_name": "StyleView",
            "bar_color": null,
            "description_width": ""
          }
        },
        "caeb5e356a1b4e47a898944a113feb9c": {
          "model_module": "@jupyter-widgets/controls",
          "model_name": "VBoxModel",
          "model_module_version": "1.5.0",
          "state": {
            "_dom_classes": [],
            "_model_module": "@jupyter-widgets/controls",
            "_model_module_version": "1.5.0",
            "_model_name": "VBoxModel",
            "_view_count": null,
            "_view_module": "@jupyter-widgets/controls",
            "_view_module_version": "1.5.0",
            "_view_name": "VBoxView",
            "box_style": "",
            "children": [
              "IPY_MODEL_a6be5de50c754c39b01c468150c90ef7",
              "IPY_MODEL_a1311059977f4e80904aeb07174f14ae"
            ],
            "layout": "IPY_MODEL_a7a4f4032d8941a0b7c0e6cdf85212f1"
          }
        },
        "a6be5de50c754c39b01c468150c90ef7": {
          "model_module": "@jupyter-widgets/controls",
          "model_name": "LabelModel",
          "model_module_version": "1.5.0",
          "state": {
            "_dom_classes": [],
            "_model_module": "@jupyter-widgets/controls",
            "_model_module_version": "1.5.0",
            "_model_name": "LabelModel",
            "_view_count": null,
            "_view_module": "@jupyter-widgets/controls",
            "_view_module_version": "1.5.0",
            "_view_name": "LabelView",
            "description": "",
            "description_tooltip": null,
            "layout": "IPY_MODEL_b5e1ff4f58764990aca1d09e498a8a63",
            "placeholder": "​",
            "style": "IPY_MODEL_3b3bc689fddb4d36b0624f28105b562a",
            "value": "0.155 MB of 0.155 MB uploaded\r"
          }
        },
        "a1311059977f4e80904aeb07174f14ae": {
          "model_module": "@jupyter-widgets/controls",
          "model_name": "FloatProgressModel",
          "model_module_version": "1.5.0",
          "state": {
            "_dom_classes": [],
            "_model_module": "@jupyter-widgets/controls",
            "_model_module_version": "1.5.0",
            "_model_name": "FloatProgressModel",
            "_view_count": null,
            "_view_module": "@jupyter-widgets/controls",
            "_view_module_version": "1.5.0",
            "_view_name": "ProgressView",
            "bar_style": "",
            "description": "",
            "description_tooltip": null,
            "layout": "IPY_MODEL_d32cca6b58574f4abe2964fa7450ce14",
            "max": 1,
            "min": 0,
            "orientation": "horizontal",
            "style": "IPY_MODEL_54414214f5ad4188944d4ffb14519bdf",
            "value": 1
          }
        },
        "a7a4f4032d8941a0b7c0e6cdf85212f1": {
          "model_module": "@jupyter-widgets/base",
          "model_name": "LayoutModel",
          "model_module_version": "1.2.0",
          "state": {
            "_model_module": "@jupyter-widgets/base",
            "_model_module_version": "1.2.0",
            "_model_name": "LayoutModel",
            "_view_count": null,
            "_view_module": "@jupyter-widgets/base",
            "_view_module_version": "1.2.0",
            "_view_name": "LayoutView",
            "align_content": null,
            "align_items": null,
            "align_self": null,
            "border": null,
            "bottom": null,
            "display": null,
            "flex": null,
            "flex_flow": null,
            "grid_area": null,
            "grid_auto_columns": null,
            "grid_auto_flow": null,
            "grid_auto_rows": null,
            "grid_column": null,
            "grid_gap": null,
            "grid_row": null,
            "grid_template_areas": null,
            "grid_template_columns": null,
            "grid_template_rows": null,
            "height": null,
            "justify_content": null,
            "justify_items": null,
            "left": null,
            "margin": null,
            "max_height": null,
            "max_width": null,
            "min_height": null,
            "min_width": null,
            "object_fit": null,
            "object_position": null,
            "order": null,
            "overflow": null,
            "overflow_x": null,
            "overflow_y": null,
            "padding": null,
            "right": null,
            "top": null,
            "visibility": null,
            "width": null
          }
        },
        "b5e1ff4f58764990aca1d09e498a8a63": {
          "model_module": "@jupyter-widgets/base",
          "model_name": "LayoutModel",
          "model_module_version": "1.2.0",
          "state": {
            "_model_module": "@jupyter-widgets/base",
            "_model_module_version": "1.2.0",
            "_model_name": "LayoutModel",
            "_view_count": null,
            "_view_module": "@jupyter-widgets/base",
            "_view_module_version": "1.2.0",
            "_view_name": "LayoutView",
            "align_content": null,
            "align_items": null,
            "align_self": null,
            "border": null,
            "bottom": null,
            "display": null,
            "flex": null,
            "flex_flow": null,
            "grid_area": null,
            "grid_auto_columns": null,
            "grid_auto_flow": null,
            "grid_auto_rows": null,
            "grid_column": null,
            "grid_gap": null,
            "grid_row": null,
            "grid_template_areas": null,
            "grid_template_columns": null,
            "grid_template_rows": null,
            "height": null,
            "justify_content": null,
            "justify_items": null,
            "left": null,
            "margin": null,
            "max_height": null,
            "max_width": null,
            "min_height": null,
            "min_width": null,
            "object_fit": null,
            "object_position": null,
            "order": null,
            "overflow": null,
            "overflow_x": null,
            "overflow_y": null,
            "padding": null,
            "right": null,
            "top": null,
            "visibility": null,
            "width": null
          }
        },
        "3b3bc689fddb4d36b0624f28105b562a": {
          "model_module": "@jupyter-widgets/controls",
          "model_name": "DescriptionStyleModel",
          "model_module_version": "1.5.0",
          "state": {
            "_model_module": "@jupyter-widgets/controls",
            "_model_module_version": "1.5.0",
            "_model_name": "DescriptionStyleModel",
            "_view_count": null,
            "_view_module": "@jupyter-widgets/base",
            "_view_module_version": "1.2.0",
            "_view_name": "StyleView",
            "description_width": ""
          }
        },
        "d32cca6b58574f4abe2964fa7450ce14": {
          "model_module": "@jupyter-widgets/base",
          "model_name": "LayoutModel",
          "model_module_version": "1.2.0",
          "state": {
            "_model_module": "@jupyter-widgets/base",
            "_model_module_version": "1.2.0",
            "_model_name": "LayoutModel",
            "_view_count": null,
            "_view_module": "@jupyter-widgets/base",
            "_view_module_version": "1.2.0",
            "_view_name": "LayoutView",
            "align_content": null,
            "align_items": null,
            "align_self": null,
            "border": null,
            "bottom": null,
            "display": null,
            "flex": null,
            "flex_flow": null,
            "grid_area": null,
            "grid_auto_columns": null,
            "grid_auto_flow": null,
            "grid_auto_rows": null,
            "grid_column": null,
            "grid_gap": null,
            "grid_row": null,
            "grid_template_areas": null,
            "grid_template_columns": null,
            "grid_template_rows": null,
            "height": null,
            "justify_content": null,
            "justify_items": null,
            "left": null,
            "margin": null,
            "max_height": null,
            "max_width": null,
            "min_height": null,
            "min_width": null,
            "object_fit": null,
            "object_position": null,
            "order": null,
            "overflow": null,
            "overflow_x": null,
            "overflow_y": null,
            "padding": null,
            "right": null,
            "top": null,
            "visibility": null,
            "width": null
          }
        },
        "54414214f5ad4188944d4ffb14519bdf": {
          "model_module": "@jupyter-widgets/controls",
          "model_name": "ProgressStyleModel",
          "model_module_version": "1.5.0",
          "state": {
            "_model_module": "@jupyter-widgets/controls",
            "_model_module_version": "1.5.0",
            "_model_name": "ProgressStyleModel",
            "_view_count": null,
            "_view_module": "@jupyter-widgets/base",
            "_view_module_version": "1.2.0",
            "_view_name": "StyleView",
            "bar_color": null,
            "description_width": ""
          }
        },
        "8cb97f3e8f9f4a9b90a0977888c9de43": {
          "model_module": "@jupyter-widgets/controls",
          "model_name": "VBoxModel",
          "model_module_version": "1.5.0",
          "state": {
            "_dom_classes": [],
            "_model_module": "@jupyter-widgets/controls",
            "_model_module_version": "1.5.0",
            "_model_name": "VBoxModel",
            "_view_count": null,
            "_view_module": "@jupyter-widgets/controls",
            "_view_module_version": "1.5.0",
            "_view_name": "VBoxView",
            "box_style": "",
            "children": [
              "IPY_MODEL_426889b91e7a4948855f8758a230e3de",
              "IPY_MODEL_481d38a7f88b4ec8bfcafdbfb6512890"
            ],
            "layout": "IPY_MODEL_0a8a375a3e3541528983b7bdce925119"
          }
        },
        "426889b91e7a4948855f8758a230e3de": {
          "model_module": "@jupyter-widgets/controls",
          "model_name": "LabelModel",
          "model_module_version": "1.5.0",
          "state": {
            "_dom_classes": [],
            "_model_module": "@jupyter-widgets/controls",
            "_model_module_version": "1.5.0",
            "_model_name": "LabelModel",
            "_view_count": null,
            "_view_module": "@jupyter-widgets/controls",
            "_view_module_version": "1.5.0",
            "_view_name": "LabelView",
            "description": "",
            "description_tooltip": null,
            "layout": "IPY_MODEL_331533c0fa914e84be0595fcadc8cf5e",
            "placeholder": "​",
            "style": "IPY_MODEL_a3d2c3304b6144fa9681263f6de755a1",
            "value": "0.178 MB of 0.178 MB uploaded\r"
          }
        },
        "481d38a7f88b4ec8bfcafdbfb6512890": {
          "model_module": "@jupyter-widgets/controls",
          "model_name": "FloatProgressModel",
          "model_module_version": "1.5.0",
          "state": {
            "_dom_classes": [],
            "_model_module": "@jupyter-widgets/controls",
            "_model_module_version": "1.5.0",
            "_model_name": "FloatProgressModel",
            "_view_count": null,
            "_view_module": "@jupyter-widgets/controls",
            "_view_module_version": "1.5.0",
            "_view_name": "ProgressView",
            "bar_style": "",
            "description": "",
            "description_tooltip": null,
            "layout": "IPY_MODEL_c4124ddd72d9489cb28b0fbc21d0146b",
            "max": 1,
            "min": 0,
            "orientation": "horizontal",
            "style": "IPY_MODEL_acf62ae5d94c426780f3eb8ca5f530e2",
            "value": 1
          }
        },
        "0a8a375a3e3541528983b7bdce925119": {
          "model_module": "@jupyter-widgets/base",
          "model_name": "LayoutModel",
          "model_module_version": "1.2.0",
          "state": {
            "_model_module": "@jupyter-widgets/base",
            "_model_module_version": "1.2.0",
            "_model_name": "LayoutModel",
            "_view_count": null,
            "_view_module": "@jupyter-widgets/base",
            "_view_module_version": "1.2.0",
            "_view_name": "LayoutView",
            "align_content": null,
            "align_items": null,
            "align_self": null,
            "border": null,
            "bottom": null,
            "display": null,
            "flex": null,
            "flex_flow": null,
            "grid_area": null,
            "grid_auto_columns": null,
            "grid_auto_flow": null,
            "grid_auto_rows": null,
            "grid_column": null,
            "grid_gap": null,
            "grid_row": null,
            "grid_template_areas": null,
            "grid_template_columns": null,
            "grid_template_rows": null,
            "height": null,
            "justify_content": null,
            "justify_items": null,
            "left": null,
            "margin": null,
            "max_height": null,
            "max_width": null,
            "min_height": null,
            "min_width": null,
            "object_fit": null,
            "object_position": null,
            "order": null,
            "overflow": null,
            "overflow_x": null,
            "overflow_y": null,
            "padding": null,
            "right": null,
            "top": null,
            "visibility": null,
            "width": null
          }
        },
        "331533c0fa914e84be0595fcadc8cf5e": {
          "model_module": "@jupyter-widgets/base",
          "model_name": "LayoutModel",
          "model_module_version": "1.2.0",
          "state": {
            "_model_module": "@jupyter-widgets/base",
            "_model_module_version": "1.2.0",
            "_model_name": "LayoutModel",
            "_view_count": null,
            "_view_module": "@jupyter-widgets/base",
            "_view_module_version": "1.2.0",
            "_view_name": "LayoutView",
            "align_content": null,
            "align_items": null,
            "align_self": null,
            "border": null,
            "bottom": null,
            "display": null,
            "flex": null,
            "flex_flow": null,
            "grid_area": null,
            "grid_auto_columns": null,
            "grid_auto_flow": null,
            "grid_auto_rows": null,
            "grid_column": null,
            "grid_gap": null,
            "grid_row": null,
            "grid_template_areas": null,
            "grid_template_columns": null,
            "grid_template_rows": null,
            "height": null,
            "justify_content": null,
            "justify_items": null,
            "left": null,
            "margin": null,
            "max_height": null,
            "max_width": null,
            "min_height": null,
            "min_width": null,
            "object_fit": null,
            "object_position": null,
            "order": null,
            "overflow": null,
            "overflow_x": null,
            "overflow_y": null,
            "padding": null,
            "right": null,
            "top": null,
            "visibility": null,
            "width": null
          }
        },
        "a3d2c3304b6144fa9681263f6de755a1": {
          "model_module": "@jupyter-widgets/controls",
          "model_name": "DescriptionStyleModel",
          "model_module_version": "1.5.0",
          "state": {
            "_model_module": "@jupyter-widgets/controls",
            "_model_module_version": "1.5.0",
            "_model_name": "DescriptionStyleModel",
            "_view_count": null,
            "_view_module": "@jupyter-widgets/base",
            "_view_module_version": "1.2.0",
            "_view_name": "StyleView",
            "description_width": ""
          }
        },
        "c4124ddd72d9489cb28b0fbc21d0146b": {
          "model_module": "@jupyter-widgets/base",
          "model_name": "LayoutModel",
          "model_module_version": "1.2.0",
          "state": {
            "_model_module": "@jupyter-widgets/base",
            "_model_module_version": "1.2.0",
            "_model_name": "LayoutModel",
            "_view_count": null,
            "_view_module": "@jupyter-widgets/base",
            "_view_module_version": "1.2.0",
            "_view_name": "LayoutView",
            "align_content": null,
            "align_items": null,
            "align_self": null,
            "border": null,
            "bottom": null,
            "display": null,
            "flex": null,
            "flex_flow": null,
            "grid_area": null,
            "grid_auto_columns": null,
            "grid_auto_flow": null,
            "grid_auto_rows": null,
            "grid_column": null,
            "grid_gap": null,
            "grid_row": null,
            "grid_template_areas": null,
            "grid_template_columns": null,
            "grid_template_rows": null,
            "height": null,
            "justify_content": null,
            "justify_items": null,
            "left": null,
            "margin": null,
            "max_height": null,
            "max_width": null,
            "min_height": null,
            "min_width": null,
            "object_fit": null,
            "object_position": null,
            "order": null,
            "overflow": null,
            "overflow_x": null,
            "overflow_y": null,
            "padding": null,
            "right": null,
            "top": null,
            "visibility": null,
            "width": null
          }
        },
        "acf62ae5d94c426780f3eb8ca5f530e2": {
          "model_module": "@jupyter-widgets/controls",
          "model_name": "ProgressStyleModel",
          "model_module_version": "1.5.0",
          "state": {
            "_model_module": "@jupyter-widgets/controls",
            "_model_module_version": "1.5.0",
            "_model_name": "ProgressStyleModel",
            "_view_count": null,
            "_view_module": "@jupyter-widgets/base",
            "_view_module_version": "1.2.0",
            "_view_name": "StyleView",
            "bar_color": null,
            "description_width": ""
          }
        },
        "09c9e380857741b495780e88fab2b75a": {
          "model_module": "@jupyter-widgets/controls",
          "model_name": "VBoxModel",
          "model_module_version": "1.5.0",
          "state": {
            "_dom_classes": [],
            "_model_module": "@jupyter-widgets/controls",
            "_model_module_version": "1.5.0",
            "_model_name": "VBoxModel",
            "_view_count": null,
            "_view_module": "@jupyter-widgets/controls",
            "_view_module_version": "1.5.0",
            "_view_name": "VBoxView",
            "box_style": "",
            "children": [
              "IPY_MODEL_cbcfaf94044b45df858581aa61e17ec6",
              "IPY_MODEL_73ddb27dd2d24a61bcaa043fb8309cad"
            ],
            "layout": "IPY_MODEL_ce7619c904bc4c8fb06358df881d59b0"
          }
        },
        "cbcfaf94044b45df858581aa61e17ec6": {
          "model_module": "@jupyter-widgets/controls",
          "model_name": "LabelModel",
          "model_module_version": "1.5.0",
          "state": {
            "_dom_classes": [],
            "_model_module": "@jupyter-widgets/controls",
            "_model_module_version": "1.5.0",
            "_model_name": "LabelModel",
            "_view_count": null,
            "_view_module": "@jupyter-widgets/controls",
            "_view_module_version": "1.5.0",
            "_view_name": "LabelView",
            "description": "",
            "description_tooltip": null,
            "layout": "IPY_MODEL_65100a1183254ed48b547d052415e84a",
            "placeholder": "​",
            "style": "IPY_MODEL_2991e52e861a46d982846364a86828fb",
            "value": "0.200 MB of 0.200 MB uploaded\r"
          }
        },
        "73ddb27dd2d24a61bcaa043fb8309cad": {
          "model_module": "@jupyter-widgets/controls",
          "model_name": "FloatProgressModel",
          "model_module_version": "1.5.0",
          "state": {
            "_dom_classes": [],
            "_model_module": "@jupyter-widgets/controls",
            "_model_module_version": "1.5.0",
            "_model_name": "FloatProgressModel",
            "_view_count": null,
            "_view_module": "@jupyter-widgets/controls",
            "_view_module_version": "1.5.0",
            "_view_name": "ProgressView",
            "bar_style": "",
            "description": "",
            "description_tooltip": null,
            "layout": "IPY_MODEL_bd76d8c9cff64527a72e607326f8367a",
            "max": 1,
            "min": 0,
            "orientation": "horizontal",
            "style": "IPY_MODEL_4187e778da7140819d61c406459baa3f",
            "value": 1
          }
        },
        "ce7619c904bc4c8fb06358df881d59b0": {
          "model_module": "@jupyter-widgets/base",
          "model_name": "LayoutModel",
          "model_module_version": "1.2.0",
          "state": {
            "_model_module": "@jupyter-widgets/base",
            "_model_module_version": "1.2.0",
            "_model_name": "LayoutModel",
            "_view_count": null,
            "_view_module": "@jupyter-widgets/base",
            "_view_module_version": "1.2.0",
            "_view_name": "LayoutView",
            "align_content": null,
            "align_items": null,
            "align_self": null,
            "border": null,
            "bottom": null,
            "display": null,
            "flex": null,
            "flex_flow": null,
            "grid_area": null,
            "grid_auto_columns": null,
            "grid_auto_flow": null,
            "grid_auto_rows": null,
            "grid_column": null,
            "grid_gap": null,
            "grid_row": null,
            "grid_template_areas": null,
            "grid_template_columns": null,
            "grid_template_rows": null,
            "height": null,
            "justify_content": null,
            "justify_items": null,
            "left": null,
            "margin": null,
            "max_height": null,
            "max_width": null,
            "min_height": null,
            "min_width": null,
            "object_fit": null,
            "object_position": null,
            "order": null,
            "overflow": null,
            "overflow_x": null,
            "overflow_y": null,
            "padding": null,
            "right": null,
            "top": null,
            "visibility": null,
            "width": null
          }
        },
        "65100a1183254ed48b547d052415e84a": {
          "model_module": "@jupyter-widgets/base",
          "model_name": "LayoutModel",
          "model_module_version": "1.2.0",
          "state": {
            "_model_module": "@jupyter-widgets/base",
            "_model_module_version": "1.2.0",
            "_model_name": "LayoutModel",
            "_view_count": null,
            "_view_module": "@jupyter-widgets/base",
            "_view_module_version": "1.2.0",
            "_view_name": "LayoutView",
            "align_content": null,
            "align_items": null,
            "align_self": null,
            "border": null,
            "bottom": null,
            "display": null,
            "flex": null,
            "flex_flow": null,
            "grid_area": null,
            "grid_auto_columns": null,
            "grid_auto_flow": null,
            "grid_auto_rows": null,
            "grid_column": null,
            "grid_gap": null,
            "grid_row": null,
            "grid_template_areas": null,
            "grid_template_columns": null,
            "grid_template_rows": null,
            "height": null,
            "justify_content": null,
            "justify_items": null,
            "left": null,
            "margin": null,
            "max_height": null,
            "max_width": null,
            "min_height": null,
            "min_width": null,
            "object_fit": null,
            "object_position": null,
            "order": null,
            "overflow": null,
            "overflow_x": null,
            "overflow_y": null,
            "padding": null,
            "right": null,
            "top": null,
            "visibility": null,
            "width": null
          }
        },
        "2991e52e861a46d982846364a86828fb": {
          "model_module": "@jupyter-widgets/controls",
          "model_name": "DescriptionStyleModel",
          "model_module_version": "1.5.0",
          "state": {
            "_model_module": "@jupyter-widgets/controls",
            "_model_module_version": "1.5.0",
            "_model_name": "DescriptionStyleModel",
            "_view_count": null,
            "_view_module": "@jupyter-widgets/base",
            "_view_module_version": "1.2.0",
            "_view_name": "StyleView",
            "description_width": ""
          }
        },
        "bd76d8c9cff64527a72e607326f8367a": {
          "model_module": "@jupyter-widgets/base",
          "model_name": "LayoutModel",
          "model_module_version": "1.2.0",
          "state": {
            "_model_module": "@jupyter-widgets/base",
            "_model_module_version": "1.2.0",
            "_model_name": "LayoutModel",
            "_view_count": null,
            "_view_module": "@jupyter-widgets/base",
            "_view_module_version": "1.2.0",
            "_view_name": "LayoutView",
            "align_content": null,
            "align_items": null,
            "align_self": null,
            "border": null,
            "bottom": null,
            "display": null,
            "flex": null,
            "flex_flow": null,
            "grid_area": null,
            "grid_auto_columns": null,
            "grid_auto_flow": null,
            "grid_auto_rows": null,
            "grid_column": null,
            "grid_gap": null,
            "grid_row": null,
            "grid_template_areas": null,
            "grid_template_columns": null,
            "grid_template_rows": null,
            "height": null,
            "justify_content": null,
            "justify_items": null,
            "left": null,
            "margin": null,
            "max_height": null,
            "max_width": null,
            "min_height": null,
            "min_width": null,
            "object_fit": null,
            "object_position": null,
            "order": null,
            "overflow": null,
            "overflow_x": null,
            "overflow_y": null,
            "padding": null,
            "right": null,
            "top": null,
            "visibility": null,
            "width": null
          }
        },
        "4187e778da7140819d61c406459baa3f": {
          "model_module": "@jupyter-widgets/controls",
          "model_name": "ProgressStyleModel",
          "model_module_version": "1.5.0",
          "state": {
            "_model_module": "@jupyter-widgets/controls",
            "_model_module_version": "1.5.0",
            "_model_name": "ProgressStyleModel",
            "_view_count": null,
            "_view_module": "@jupyter-widgets/base",
            "_view_module_version": "1.2.0",
            "_view_name": "StyleView",
            "bar_color": null,
            "description_width": ""
          }
        }
      }
    }
  },
  "cells": [
    {
      "cell_type": "markdown",
      "metadata": {
        "id": "view-in-github",
        "colab_type": "text"
      },
      "source": [
        "<a href=\"https://colab.research.google.com/github/nenecchiCV/internal-competition-2024/blob/main/method2.ipynb\" target=\"_parent\"><img src=\"https://colab.research.google.com/assets/colab-badge.svg\" alt=\"Open In Colab\"/></a>"
      ]
    },
    {
      "cell_type": "code",
      "source": [
        "from google.colab import drive\n",
        "drive.mount('/content/drive')"
      ],
      "metadata": {
        "colab": {
          "base_uri": "https://localhost:8080/"
        },
        "id": "3-vYPlGg3kAB",
        "outputId": "9a906fad-d439-47af-9ae0-ae4e32886d08"
      },
      "execution_count": null,
      "outputs": [
        {
          "output_type": "stream",
          "name": "stdout",
          "text": [
            "Drive already mounted at /content/drive; to attempt to forcibly remount, call drive.mount(\"/content/drive\", force_remount=True).\n"
          ]
        }
      ]
    },
    {
      "cell_type": "code",
      "source": [
        "api_key = \"b846546e2316d4194c74a497599a7b83c9127f07\""
      ],
      "metadata": {
        "id": "zurfTCmEgwqf"
      },
      "execution_count": null,
      "outputs": []
    },
    {
      "cell_type": "code",
      "execution_count": null,
      "metadata": {
        "id": "Hy9sI7w5Mg3k",
        "colab": {
          "base_uri": "https://localhost:8080/"
        },
        "outputId": "3261ae88-6551-4053-a1f7-894a032a8369"
      },
      "outputs": [
        {
          "output_type": "stream",
          "name": "stdout",
          "text": [
            "Collecting colorama\n",
            "  Downloading colorama-0.4.6-py2.py3-none-any.whl (25 kB)\n",
            "Installing collected packages: colorama\n",
            "Successfully installed colorama-0.4.6\n",
            "\u001b[2K     \u001b[90m━━━━━━━━━━━━━━━━━━━━━━━━━━━━━━━━━━━━━━━━\u001b[0m \u001b[32m2.2/2.2 MB\u001b[0m \u001b[31m16.1 MB/s\u001b[0m eta \u001b[36m0:00:00\u001b[0m\n",
            "\u001b[2K     \u001b[90m━━━━━━━━━━━━━━━━━━━━━━━━━━━━━━━━━━━━━━━━\u001b[0m \u001b[32m195.4/195.4 kB\u001b[0m \u001b[31m12.9 MB/s\u001b[0m eta \u001b[36m0:00:00\u001b[0m\n",
            "\u001b[2K     \u001b[90m━━━━━━━━━━━━━━━━━━━━━━━━━━━━━━━━━━━━━━━━\u001b[0m \u001b[32m258.8/258.8 kB\u001b[0m \u001b[31m17.9 MB/s\u001b[0m eta \u001b[36m0:00:00\u001b[0m\n",
            "\u001b[2K     \u001b[90m━━━━━━━━━━━━━━━━━━━━━━━━━━━━━━━━━━━━━━━━\u001b[0m \u001b[32m62.7/62.7 kB\u001b[0m \u001b[31m5.1 MB/s\u001b[0m eta \u001b[36m0:00:00\u001b[0m\n",
            "\u001b[?25h"
          ]
        },
        {
          "output_type": "stream",
          "name": "stderr",
          "text": [
            "\u001b[34m\u001b[1mwandb\u001b[0m: W&B API key is configured. Use \u001b[1m`wandb login --relogin`\u001b[0m to force relogin\n",
            "\u001b[34m\u001b[1mwandb\u001b[0m: \u001b[33mWARNING\u001b[0m If you're specifying your api key in code, ensure this code is not shared publicly.\n",
            "\u001b[34m\u001b[1mwandb\u001b[0m: \u001b[33mWARNING\u001b[0m Consider setting the WANDB_API_KEY environment variable, or running `wandb login` from the command line.\n",
            "\u001b[34m\u001b[1mwandb\u001b[0m: Appending key for api.wandb.ai to your netrc file: /root/.netrc\n"
          ]
        }
      ],
      "source": [
        "!pip install colorama\n",
        "!pip install wandb -qqq\n",
        "import wandb\n",
        "\n",
        "try:\n",
        "    wandb.login(key=api_key)\n",
        "    anonymous = None\n",
        "except:\n",
        "    anonymous = \"must\"\n",
        "    print('To use your W&B account,\\nGo to Add-ons -> Secrets and provide your W&B access token. Use the Label name as WANDB. \\nGet your W&B access token from here: https://wandb.ai/authorize')"
      ]
    },
    {
      "cell_type": "code",
      "source": [
        "import pandas as pd\n",
        "import numpy as np\n",
        "data1_df = pd.read_csv('/content/drive/MyDrive/daicc2024/data_1.csv')\n",
        "data2_df = pd.read_csv('/content/drive/MyDrive/daicc2024/data_2.csv')\n",
        "data_df = pd.concat([data1_df, data2_df], axis=0)\n",
        "data_df.head()\n",
        "\n",
        "test_df = pd.read_csv('/content/drive/MyDrive/daicc2024/test.csv')\n",
        "all_df = pd.concat([data_df, test_df], axis=0)"
      ],
      "metadata": {
        "id": "CeK-NL8tdmWi"
      },
      "execution_count": null,
      "outputs": []
    },
    {
      "cell_type": "code",
      "source": [
        "X1 = data_df.drop(columns=[\"id\",'parameter',\"spec\"])\n",
        "x2 = data_df[['spec']]\n",
        "y = data_df[['parameter']]\n",
        "\n",
        "X1_all = all_df.drop(columns=[\"id\",'parameter',\"spec\"])\n",
        "x2_min_max = np.array([[90], [110]]).astype('float')\n",
        "x2_min_max_df = pd.DataFrame(data=x2_min_max, columns=[\"spec\"], dtype=float)\n",
        "\n",
        "from sklearn.preprocessing import StandardScaler, MinMaxScaler\n",
        "import torch\n",
        "\n",
        "# trainというDataFrameにfit\n",
        "X1_scaler = StandardScaler().fit(X1_all)\n",
        "x2_scaler = MinMaxScaler(feature_range=(-1, 1)).fit(x2_min_max_df)\n",
        "X1_scaled = X1_scaler.transform(X1)\n",
        "x2_scaled = x2_scaler.transform(x2)\n",
        "\n",
        "X1_scaled_tensor = torch.tensor(X1_scaled.reshape(-1, 3, 5), dtype=torch.float64)\n",
        "x2_scaled_tensor = torch.tensor(x2_scaled, dtype=torch.float64)\n",
        "y_tensor = torch.tensor(y.values, dtype=torch.float64)\n",
        "\n",
        "X1_test = test_df.drop(columns=[\"id\"])\n",
        "test_ids = test_df[\"id\"]\n",
        "X1_scaled_test = X1_scaler.transform(X1_test)\n",
        "X1_scaled_test_tensor = torch.tensor(X1_scaled_test.reshape(-1, 3, 5), dtype=torch.float64)"
      ],
      "metadata": {
        "id": "9bxQcjEDgzz8"
      },
      "execution_count": null,
      "outputs": []
    },
    {
      "cell_type": "markdown",
      "source": [
        "メモ：計測値とスコアをX、パラメータをYとして学習→結果を出すときはスコアを100にする\n",
        "\n",
        "RNN\n",
        "https://qiita.com/MENDY/items/99da56f61f9af51dda15"
      ],
      "metadata": {
        "id": "2PI5v9kKGwq9"
      }
    },
    {
      "cell_type": "code",
      "source": [
        "from torch.utils import data as data\n",
        "\n",
        "class MyDataset(data.Dataset):\n",
        "    def __init__(self, X1_scaled_tensor, x2_scaled_tensor, y_tensor):\n",
        "        self.X1 = X1_scaled_tensor\n",
        "        self.x2 = x2_scaled_tensor\n",
        "        self.y = y_tensor\n",
        "\n",
        "    def __getitem__(self, index):\n",
        "        return self.X1[index], self.x2[index], self.y[index]\n",
        "\n",
        "    def __len__(self):\n",
        "        return len(self.y)"
      ],
      "metadata": {
        "id": "xFxsPwmM3oCz"
      },
      "execution_count": null,
      "outputs": []
    },
    {
      "cell_type": "code",
      "source": [
        "# import torch_xla\n",
        "# import torch_xla.core.xla_model as xm\n",
        "\n",
        "class CFG:\n",
        "    seed = 99\n",
        "    exp_name = 'exp_1'\n",
        "    comment = exp_name\n",
        "    model_name = 'LSTM-FC'\n",
        "    train_bs = 8\n",
        "    valid_bs = train_bs\n",
        "    data_size = [[3, 5], [1]]\n",
        "    epochs = 50\n",
        "    lr = 5e-4\n",
        "    scheduler = 'CosineAnnealingLR'\n",
        "    min_lr = 1e-5\n",
        "    T_max = int(30000 / train_bs * epochs) + 50\n",
        "    T_0 = 25\n",
        "    warmup_epochs = 0\n",
        "    wd = 1e-6\n",
        "    n_fold = 5\n",
        "    folds = []\n",
        "    device = \"cpu\"\n",
        "    # device = xm.xla_device()\n",
        "    lstm_input_size=5\n",
        "    lstm_hidden_size=10\n",
        "    fc_hidden_size=128\n",
        "    dropout_rate = 0.4\n",
        "#     target_dataset='uwmgi-stride2-dataset/images'"
      ],
      "metadata": {
        "id": "91xKiQmx88ad"
      },
      "execution_count": null,
      "outputs": []
    },
    {
      "cell_type": "code",
      "source": [
        "from torch import nn\n",
        "from torch.nn import functional as F\n",
        "class LSTMScalarPredictor(nn.Module):\n",
        "    def __init__(self, lstm_input_size=CFG.lstm_input_size, lstm_hidden_size=CFG.lstm_hidden_size, fc_hidden_size=CFG.fc_hidden_size):\n",
        "        super(LSTMScalarPredictor, self).__init__()\n",
        "        self.lstm_hidden_size = lstm_hidden_size\n",
        "        self.lstm = nn.LSTM(lstm_input_size, lstm_hidden_size, batch_first=True)\n",
        "        self.fc1 = nn.Linear(lstm_hidden_size + 1, fc_hidden_size)  # +1 for scalar input\n",
        "        self.fc2 = nn.Linear(fc_hidden_size, fc_hidden_size)\n",
        "        self.fc3 = nn.Linear(fc_hidden_size, 1)\n",
        "        self.dropout1 = nn.Dropout2d(CFG.dropout_rate)\n",
        "        self.dropout2 = nn.Dropout2d(CFG.dropout_rate)\n",
        "        self.dropout3 = nn.Dropout2d(CFG.dropout_rate)\n",
        "        self.bn1 = nn.BatchNorm1d(fc_hidden_size)\n",
        "        self.bn2 = nn.BatchNorm1d(fc_hidden_size)\n",
        "\n",
        "    def forward(self, X1, x2):\n",
        "        # Initialize hidden state with zeros\n",
        "        h0 = torch.zeros(1, X1.size(0), self.lstm_hidden_size).to(X1.device)\n",
        "        c0 = torch.zeros(1, X1.size(0), self.lstm_hidden_size).to(X1.device)\n",
        "\n",
        "        # Forward pass through LSTM layer\n",
        "        lstm_H, _ = self.lstm(X1, (h0, c0))\n",
        "\n",
        "        # Only take the output from the last time step\n",
        "        x = torch.cat([lstm_H[:, -1, :], x2], dim=1)\n",
        "        x = self.dropout1(x)\n",
        "        x = self.fc1(x)\n",
        "        x = self.bn1(x)\n",
        "        x = self.dropout2(x)\n",
        "        x = F.relu(x)\n",
        "        x = self.fc2(x)\n",
        "        x = self.bn2(x)\n",
        "        x = F.relu(x)\n",
        "        x = self.dropout3(x)\n",
        "        out = self.fc3(x)\n",
        "\n",
        "        return out\n",
        "\n",
        "    def init_wandb(self):\n",
        "      for name, param in self.named_parameters():\n",
        "        if 'lstm.weight' in name:\n",
        "            nn.init.xavier_uniform_(param)  # LSTM層の重みをXavier初期化\n",
        "        elif 'fc3.weight' in name:\n",
        "            nn.init.xavier_uniform_(param)  # FC-softmax層の重みをXavier初期化\n",
        "        elif 'fc.weight' in name:\n",
        "            nn.init.kaiming_normal_(param, nonlinearity='relu')  # FC層-reluの重みをHe初期化\n"
      ],
      "metadata": {
        "id": "IEHjxyGTLrpq"
      },
      "execution_count": null,
      "outputs": []
    },
    {
      "cell_type": "code",
      "source": [
        "MSELoss = nn.MSELoss()\n",
        "def criterion(y_pred, y_true):\n",
        "    return MSELoss(y_pred, y_true)"
      ],
      "metadata": {
        "id": "aA-i_sAAMklM"
      },
      "execution_count": null,
      "outputs": []
    },
    {
      "cell_type": "code",
      "source": [
        "import random\n",
        "import os\n",
        "def set_seed(seed = 42):\n",
        "    '''Sets the seed of the entire notebook so results are the same every time we run.\n",
        "    This is for REPRODUCIBILITY.'''\n",
        "    np.random.seed(seed)\n",
        "    random.seed(seed)\n",
        "    torch.manual_seed(seed)\n",
        "    torch.cuda.manual_seed(seed)\n",
        "    # When running on the CuDNN backend, two further options must be set\n",
        "    torch.backends.cudnn.deterministic = True\n",
        "    torch.backends.cudnn.benchmark = False\n",
        "    # Set a fixed value for the hash seed\n",
        "    os.environ['PYTHONHASHSEED'] = str(seed)\n",
        "    print('> SEEDING DONE')\n",
        "\n",
        "set_seed(CFG.seed)"
      ],
      "metadata": {
        "id": "7yMWT0eH8Z-E",
        "colab": {
          "base_uri": "https://localhost:8080/"
        },
        "outputId": "c20bf587-7610-4176-c911-2a99e19466b3"
      },
      "execution_count": null,
      "outputs": [
        {
          "output_type": "stream",
          "name": "stdout",
          "text": [
            "> SEEDING DONE\n"
          ]
        }
      ]
    },
    {
      "cell_type": "code",
      "source": [
        "from tqdm import tqdm\n",
        "import gc\n",
        "\n",
        "def train_one_epoch(model, optimizer, scheduler, dataloader, device, epoch):\n",
        "    model.train()\n",
        "\n",
        "    dataset_size = 0\n",
        "    running_loss = 0.0\n",
        "\n",
        "    pbar = tqdm(enumerate(dataloader), total=len(dataloader), desc='Train ')\n",
        "    for step, (X1, x2, y_true) in pbar:\n",
        "        X1 = X1.to(device, dtype=torch.float)\n",
        "        x2  = x2.to(device, dtype=torch.float)\n",
        "        y_true  = y_true.to(device, dtype=torch.float)\n",
        "\n",
        "        batch_size = X1.size(0)\n",
        "\n",
        "        optimizer.zero_grad()\n",
        "\n",
        "        y_pred = model(X1, x2)\n",
        "        loss = criterion(y_pred, y_true)\n",
        "        loss.backward()\n",
        "\n",
        "        optimizer.step()\n",
        "\n",
        "        if scheduler is not None:\n",
        "            scheduler.step()\n",
        "\n",
        "        running_loss += (loss.item() * batch_size)\n",
        "        dataset_size += batch_size\n",
        "\n",
        "        epoch_loss = running_loss / dataset_size\n",
        "\n",
        "        mem = torch.cuda.memory_reserved() / 1E9 if torch.cuda.is_available() else 0\n",
        "        current_lr = optimizer.param_groups[0]['lr']\n",
        "        pbar.set_postfix(train_loss=f'{epoch_loss:0.4f}',\n",
        "                        lr=f'{current_lr:0.5f}',\n",
        "                        gpu_mem=f'{mem:0.2f} GB')\n",
        "\n",
        "    torch.cuda.empty_cache()\n",
        "    gc.collect()\n",
        "\n",
        "    return epoch_loss\n",
        "\n",
        "@torch.no_grad()\n",
        "def valid_one_epoch(model, dataloader, device, epoch):\n",
        "    model.eval()\n",
        "\n",
        "    dataset_size = 0\n",
        "    running_loss = 0.0\n",
        "\n",
        "    val_scores = []\n",
        "\n",
        "    pbar = tqdm(enumerate(dataloader), total=len(dataloader), desc='Valid ')\n",
        "    for step, (X1, x2, y_true) in pbar:\n",
        "        X1 = X1.to(device, dtype=torch.float)\n",
        "        x2 = x2.to(device, dtype=torch.float)\n",
        "        y_true  = y_true.to(device, dtype=torch.float)\n",
        "\n",
        "        batch_size = X1.size(0)\n",
        "\n",
        "        y_pred = model(X1, x2)\n",
        "        loss = criterion(y_pred, y_true)\n",
        "\n",
        "        running_loss += (loss.item() * batch_size)\n",
        "        dataset_size += batch_size\n",
        "\n",
        "        epoch_loss = running_loss / dataset_size\n",
        "\n",
        "        mem = torch.cuda.memory_reserved() / 1E9 if torch.cuda.is_available() else 0\n",
        "        current_lr = optimizer.param_groups[0]['lr']\n",
        "        pbar.set_postfix(valid_loss=f'{epoch_loss:0.4f}',\n",
        "                        lr=f'{current_lr:0.5f}',\n",
        "                        gpu_memory=f'{mem:0.2f} GB')\n",
        "\n",
        "    torch.cuda.empty_cache()\n",
        "    gc.collect()\n",
        "\n",
        "    return epoch_loss"
      ],
      "metadata": {
        "id": "w70KIUNFKALD"
      },
      "execution_count": null,
      "outputs": []
    },
    {
      "cell_type": "code",
      "source": [
        "import copy\n",
        "from collections import defaultdict\n",
        "import time\n",
        "from colorama import Fore, Back, Style\n",
        "c_  = Fore.GREEN\n",
        "sr_ = Style.RESET_ALL\n",
        "\n",
        "def run_training(model, optimizer, scheduler, device, num_epochs):\n",
        "    # To automatically log gradients\n",
        "    run.watch(model, log_freq=100)\n",
        "\n",
        "    start = time.time()\n",
        "\n",
        "    if torch.cuda.is_available():\n",
        "        print(\"cuda: {}\\n\".format(torch.cuda.get_device_name()))\n",
        "\n",
        "    best_model_wts = copy.deepcopy(model.state_dict())\n",
        "    best_loss      = np.inf\n",
        "    best_epoch     = -1\n",
        "    history = defaultdict(list)\n",
        "\n",
        "    for epoch in range(1, num_epochs + 1):\n",
        "        gc.collect()\n",
        "        print(f'Epoch {epoch}/{num_epochs}', end='')\n",
        "        train_loss = train_one_epoch(model, optimizer, scheduler,\n",
        "                                           dataloader=train_loader,\n",
        "                                           device=CFG.device, epoch=epoch)\n",
        "\n",
        "        val_loss = valid_one_epoch(model, valid_loader,\n",
        "                                                 device=CFG.device,\n",
        "                                                 epoch=epoch)\n",
        "\n",
        "        history['Train Loss'].append(train_loss)\n",
        "        history['Valid Loss'].append(val_loss)\n",
        "\n",
        "        # Log the metrics\n",
        "        run.log({\"Train Loss\": train_loss,\n",
        "                   \"Valid Loss\": val_loss,\n",
        "                   \"LR\":scheduler.get_last_lr()[0]})\n",
        "\n",
        "        if val_loss < best_loss:\n",
        "            print(f\"{c_}Valid Score Improved ({best_loss:0.4f} ---> {val_loss:0.4f})\")\n",
        "            best_loss = val_loss\n",
        "            best_epoch   = epoch\n",
        "            run.summary[\"Best Loss\"]    = best_loss\n",
        "            run.summary[\"Best Epoch\"]   = best_epoch\n",
        "            best_model_wts = copy.deepcopy(model.state_dict())\n",
        "            PATH = f\"/content/drive/MyDrive/daicc2024/output/best_epoch-{fold:02d}.bin\"\n",
        "            torch.save(model.state_dict(), PATH)\n",
        "            # Save a model file from the current directory\n",
        "            run.save(PATH)\n",
        "            print(f\"Model Saved{sr_}\")\n",
        "\n",
        "\n",
        "        print(); print()\n",
        "\n",
        "    end = time.time()\n",
        "    time_elapsed = end - start\n",
        "    print('Training complete in {:.0f}h {:.0f}m {:.0f}s'.format(\n",
        "        time_elapsed // 3600, (time_elapsed % 3600) // 60, (time_elapsed % 3600) % 60))\n",
        "    print(\"Best Loss: {:.4f}\".format(best_loss))\n",
        "\n",
        "    return model, history"
      ],
      "metadata": {
        "id": "xUe04P51LcW3"
      },
      "execution_count": null,
      "outputs": []
    },
    {
      "cell_type": "code",
      "source": [
        "def fetch_scheduler(optimizer):\n",
        "    if CFG.scheduler == 'CosineAnnealingLR':\n",
        "        scheduler = lr_scheduler.CosineAnnealingLR(optimizer,T_max=CFG.T_max,\n",
        "                                                   eta_min=CFG.min_lr)\n",
        "    elif CFG.scheduler == 'CosineAnnealingWarmRestarts':\n",
        "        scheduler = lr_scheduler.CosineAnnealingWarmRestarts(optimizer,T_0=CFG.T_0,\n",
        "                                                             eta_min=CFG.min_lr)\n",
        "    elif CFG.scheduler == 'ReduceLROnPlateau':\n",
        "        scheduler = lr_scheduler.ReduceLROnPlateau(optimizer,\n",
        "                                                   mode='min',\n",
        "                                                   factor=0.1,\n",
        "                                                   patience=7,\n",
        "                                                   threshold=0.0001,\n",
        "                                                   min_lr=CFG.min_lr,)\n",
        "    elif CFG.scheduer == 'ExponentialLR':\n",
        "        scheduler = lr_scheduler.ExponentialLR(optimizer, gamma=0.85)\n",
        "    elif CFG.scheduler == None:\n",
        "        return None\n",
        "\n",
        "    return scheduler"
      ],
      "metadata": {
        "id": "fz-5zRe-LDx-"
      },
      "execution_count": null,
      "outputs": []
    },
    {
      "cell_type": "code",
      "source": [
        "from sklearn.model_selection import KFold\n",
        "import torch.optim as optim\n",
        "from torch.optim import lr_scheduler\n",
        "\n",
        "batch_size = CFG.train_bs\n",
        "\n",
        "my_dataset = MyDataset(X1_scaled_tensor, x2_scaled_tensor, y_tensor)\n",
        "kfold = KFold(n_splits=CFG.n_fold, random_state=99, shuffle=True)\n",
        "model = LSTMScalarPredictor(CFG.lstm_input_size, CFG.lstm_hidden_size, CFG.fc_hidden_size)\n",
        "# 重みとバイアスの初期化\n",
        "model.init_wandb()\n",
        "\n",
        "for fold, (train_ids, valid_ids) in enumerate(kfold.split(my_dataset)):\n",
        "    # Print\n",
        "    print(f'FOLD {fold}')\n",
        "    print('--------------------------------')\n",
        "\n",
        "    # Sample elements randomly from a given list of ids, no replacement.\n",
        "    train_dataset = torch.utils.data.dataset.Subset(my_dataset, train_ids)\n",
        "    valid_dataset = torch.utils.data.dataset.Subset(my_dataset, valid_ids)\n",
        "\n",
        "    # Define data loaders for training and testing data in this fold\n",
        "    train_loader = torch.utils.data.DataLoader(\n",
        "                      train_dataset,\n",
        "                      batch_size=batch_size)\n",
        "    valid_loader = torch.utils.data.DataLoader(\n",
        "                      valid_dataset,\n",
        "                      batch_size=batch_size)\n",
        "\n",
        "    run = wandb.init(project='internal-competition',\n",
        "                      config={k:v for k, v in dict(vars(CFG)).items() if '__' not in k},\n",
        "                      anonymous=anonymous,\n",
        "                      name=f\"fold-{fold}|model-{CFG.model_name}\",\n",
        "                      group=CFG.exp_name,\n",
        "                    )\n",
        "\n",
        "\n",
        "    optimizer = optim.Adam(model.parameters(), lr=CFG.lr, weight_decay=CFG.wd)\n",
        "    scheduler = fetch_scheduler(optimizer)\n",
        "    model, history = run_training(model, optimizer, scheduler,\n",
        "                                  device=CFG.device,\n",
        "                                  num_epochs=CFG.epochs)\n",
        "    run.finish()"
      ],
      "metadata": {
        "id": "uQ4PQ92FuCu8",
        "colab": {
          "base_uri": "https://localhost:8080/",
          "height": 1000,
          "referenced_widgets": [
            "3b543e0d2b12480d86800403055337f0",
            "8cb269dfaaa542b69e7a233e904e5b2e",
            "321349c400c3439792e37793e93f6886",
            "f2cfc0c73c8245c0bdc346944ba82aa2",
            "fde739dd6bee4857bef32c057bedbfb2",
            "85a45e1176c4429db546da797454b944",
            "bc038fdb23174a74adf6772aec28a5a7",
            "26798a8cad074a1fb3a87eed0df73ba1",
            "8f5dc70544ab43458353accff99827ff",
            "3e96ccf8f2c74919bb8c66c54adc3378",
            "3ee5cf6d739f4d939202bb4f695e8900",
            "45f9168dba7345de95a431cd082d549f",
            "8451e55289714ebb8754ddc8df2d971f",
            "581d9eb35f9b4ac6a6185345f1ed48ba",
            "da4cc57bfe674a17be29155952feea83",
            "f0ad5ea72c074ca8b1c7dc2176e23559",
            "caeb5e356a1b4e47a898944a113feb9c",
            "a6be5de50c754c39b01c468150c90ef7",
            "a1311059977f4e80904aeb07174f14ae",
            "a7a4f4032d8941a0b7c0e6cdf85212f1",
            "b5e1ff4f58764990aca1d09e498a8a63",
            "3b3bc689fddb4d36b0624f28105b562a",
            "d32cca6b58574f4abe2964fa7450ce14",
            "54414214f5ad4188944d4ffb14519bdf",
            "8cb97f3e8f9f4a9b90a0977888c9de43",
            "426889b91e7a4948855f8758a230e3de",
            "481d38a7f88b4ec8bfcafdbfb6512890",
            "0a8a375a3e3541528983b7bdce925119",
            "331533c0fa914e84be0595fcadc8cf5e",
            "a3d2c3304b6144fa9681263f6de755a1",
            "c4124ddd72d9489cb28b0fbc21d0146b",
            "acf62ae5d94c426780f3eb8ca5f530e2",
            "09c9e380857741b495780e88fab2b75a",
            "cbcfaf94044b45df858581aa61e17ec6",
            "73ddb27dd2d24a61bcaa043fb8309cad",
            "ce7619c904bc4c8fb06358df881d59b0",
            "65100a1183254ed48b547d052415e84a",
            "2991e52e861a46d982846364a86828fb",
            "bd76d8c9cff64527a72e607326f8367a",
            "4187e778da7140819d61c406459baa3f"
          ]
        },
        "outputId": "6984eefd-a538-496b-a8d0-b4a714b81281"
      },
      "execution_count": null,
      "outputs": [
        {
          "metadata": {
            "tags": null
          },
          "name": "stdout",
          "output_type": "stream",
          "text": [
            "FOLD 0\n",
            "--------------------------------\n"
          ]
        },
        {
          "data": {
            "text/html": [
              "Finishing last run (ID:wnmaxys6) before initializing another..."
            ],
            "text/plain": [
              "<IPython.core.display.HTML object>"
            ]
          },
          "metadata": {},
          "output_type": "display_data"
        },
        {
          "data": {
            "application/vnd.jupyter.widget-view+json": {
              "model_id": "3b543e0d2b12480d86800403055337f0",
              "version_major": 2,
              "version_minor": 0
            },
            "text/plain": [
              "VBox(children=(Label(value='0.001 MB of 0.001 MB uploaded\\r'), FloatProgress(value=1.0, max=1.0)))"
            ]
          },
          "metadata": {},
          "output_type": "display_data"
        },
        {
          "data": {
            "text/html": [
              " View run <strong style=\"color:#cdcd00\">fold-0|model-LSTM-FC</strong> at: <a href='https://wandb.ai/nenecchicv/internal-competition/runs/wnmaxys6' target=\"_blank\">https://wandb.ai/nenecchicv/internal-competition/runs/wnmaxys6</a><br/>Synced 5 W&B file(s), 0 media file(s), 0 artifact file(s) and 0 other file(s)"
            ],
            "text/plain": [
              "<IPython.core.display.HTML object>"
            ]
          },
          "metadata": {},
          "output_type": "display_data"
        },
        {
          "data": {
            "text/html": [
              "Find logs at: <code>./wandb/run-20240311_144528-wnmaxys6/logs</code>"
            ],
            "text/plain": [
              "<IPython.core.display.HTML object>"
            ]
          },
          "metadata": {},
          "output_type": "display_data"
        },
        {
          "data": {
            "text/html": [
              "Successfully finished last run (ID:wnmaxys6). Initializing new run:<br/>"
            ],
            "text/plain": [
              "<IPython.core.display.HTML object>"
            ]
          },
          "metadata": {},
          "output_type": "display_data"
        },
        {
          "data": {
            "text/html": [
              "Tracking run with wandb version 0.16.4"
            ],
            "text/plain": [
              "<IPython.core.display.HTML object>"
            ]
          },
          "metadata": {},
          "output_type": "display_data"
        },
        {
          "data": {
            "text/html": [
              "Run data is saved locally in <code>/content/wandb/run-20240311_144615-03alzw9a</code>"
            ],
            "text/plain": [
              "<IPython.core.display.HTML object>"
            ]
          },
          "metadata": {},
          "output_type": "display_data"
        },
        {
          "data": {
            "text/html": [
              "Syncing run <strong><a href='https://wandb.ai/nenecchicv/internal-competition/runs/03alzw9a' target=\"_blank\">fold-0|model-LSTM-FC</a></strong> to <a href='https://wandb.ai/nenecchicv/internal-competition' target=\"_blank\">Weights & Biases</a> (<a href='https://wandb.me/run' target=\"_blank\">docs</a>)<br/>"
            ],
            "text/plain": [
              "<IPython.core.display.HTML object>"
            ]
          },
          "metadata": {},
          "output_type": "display_data"
        },
        {
          "data": {
            "text/html": [
              " View project at <a href='https://wandb.ai/nenecchicv/internal-competition' target=\"_blank\">https://wandb.ai/nenecchicv/internal-competition</a>"
            ],
            "text/plain": [
              "<IPython.core.display.HTML object>"
            ]
          },
          "metadata": {},
          "output_type": "display_data"
        },
        {
          "data": {
            "text/html": [
              " View run at <a href='https://wandb.ai/nenecchicv/internal-competition/runs/03alzw9a' target=\"_blank\">https://wandb.ai/nenecchicv/internal-competition/runs/03alzw9a</a>"
            ],
            "text/plain": [
              "<IPython.core.display.HTML object>"
            ]
          },
          "metadata": {},
          "output_type": "display_data"
        },
        {
          "metadata": {
            "tags": null
          },
          "name": "stdout",
          "output_type": "stream",
          "text": [
            "Epoch 1/50"
          ]
        },
        {
          "metadata": {
            "tags": null
          },
          "name": "stderr",
          "output_type": "stream",
          "text": [
            "Train :   0%|          | 0/2000 [00:00<?, ?it/s]/usr/local/lib/python3.10/dist-packages/torch/nn/functional.py:1345: UserWarning: dropout2d: Received a 2-D input to dropout2d, which is deprecated and will result in an error in a future release. To retain the behavior and silence this warning, please use dropout instead. Note that dropout2d exists to provide channel-wise dropout on inputs with 2 spatial dimensions, a channel dimension, and an optional batch dimension (i.e. 3D or 4D inputs).\n",
            "  warnings.warn(warn_msg)\n",
            "Train : 100%|██████████| 2000/2000 [00:25<00:00, 79.08it/s, gpu_mem=0.00 GB, lr=0.00050, train_loss=0.9049]\n",
            "Valid : 100%|██████████| 500/500 [00:03<00:00, 143.02it/s, gpu_memory=0.00 GB, lr=0.00050, valid_loss=0.6488]\n",
            "\u001b[34m\u001b[1mwandb\u001b[0m: \u001b[33mWARNING\u001b[0m Saving files without folders. If you want to preserve sub directories pass base_path to wandb.save, i.e. wandb.save(\"/mnt/folder/file.h5\", base_path=\"/mnt\")\n"
          ]
        },
        {
          "metadata": {
            "tags": null
          },
          "name": "stdout",
          "output_type": "stream",
          "text": [
            "\u001b[32mValid Score Improved (inf ---> 0.6488)\n",
            "Model Saved\u001b[0m\n",
            "\n",
            "\n",
            "Epoch 2/50"
          ]
        },
        {
          "metadata": {
            "tags": null
          },
          "name": "stderr",
          "output_type": "stream",
          "text": [
            "Train : 100%|██████████| 2000/2000 [00:24<00:00, 80.39it/s, gpu_mem=0.00 GB, lr=0.00050, train_loss=0.5462]\n",
            "Valid : 100%|██████████| 500/500 [00:03<00:00, 131.51it/s, gpu_memory=0.00 GB, lr=0.00050, valid_loss=0.6881]\n"
          ]
        },
        {
          "metadata": {
            "tags": null
          },
          "name": "stdout",
          "output_type": "stream",
          "text": [
            "\n",
            "\n",
            "Epoch 3/50"
          ]
        },
        {
          "metadata": {
            "tags": null
          },
          "name": "stderr",
          "output_type": "stream",
          "text": [
            "Train : 100%|██████████| 2000/2000 [00:30<00:00, 66.53it/s, gpu_mem=0.00 GB, lr=0.00050, train_loss=0.4763]\n",
            "Valid : 100%|██████████| 500/500 [00:06<00:00, 77.82it/s, gpu_memory=0.00 GB, lr=0.00050, valid_loss=0.7069]\n"
          ]
        },
        {
          "metadata": {
            "tags": null
          },
          "name": "stdout",
          "output_type": "stream",
          "text": [
            "\n",
            "\n",
            "Epoch 4/50"
          ]
        },
        {
          "metadata": {
            "tags": null
          },
          "name": "stderr",
          "output_type": "stream",
          "text": [
            "Train : 100%|██████████| 2000/2000 [00:24<00:00, 81.58it/s, gpu_mem=0.00 GB, lr=0.00050, train_loss=0.4225]\n",
            "Valid : 100%|██████████| 500/500 [00:03<00:00, 158.04it/s, gpu_memory=0.00 GB, lr=0.00050, valid_loss=0.7094]\n"
          ]
        },
        {
          "metadata": {
            "tags": null
          },
          "name": "stdout",
          "output_type": "stream",
          "text": [
            "\n",
            "\n",
            "Epoch 5/50"
          ]
        },
        {
          "metadata": {
            "tags": null
          },
          "name": "stderr",
          "output_type": "stream",
          "text": [
            "Train : 100%|██████████| 2000/2000 [00:24<00:00, 83.09it/s, gpu_mem=0.00 GB, lr=0.00050, train_loss=0.3927]\n",
            "Valid : 100%|██████████| 500/500 [00:03<00:00, 145.76it/s, gpu_memory=0.00 GB, lr=0.00050, valid_loss=0.6657]\n"
          ]
        },
        {
          "metadata": {
            "tags": null
          },
          "name": "stdout",
          "output_type": "stream",
          "text": [
            "\n",
            "\n",
            "Epoch 6/50"
          ]
        },
        {
          "metadata": {
            "tags": null
          },
          "name": "stderr",
          "output_type": "stream",
          "text": [
            "Train : 100%|██████████| 2000/2000 [00:25<00:00, 79.43it/s, gpu_mem=0.00 GB, lr=0.00050, train_loss=0.3803]\n",
            "Valid : 100%|██████████| 500/500 [00:03<00:00, 133.29it/s, gpu_memory=0.00 GB, lr=0.00050, valid_loss=0.6654]\n"
          ]
        },
        {
          "metadata": {
            "tags": null
          },
          "name": "stdout",
          "output_type": "stream",
          "text": [
            "\n",
            "\n",
            "Epoch 7/50"
          ]
        },
        {
          "metadata": {
            "tags": null
          },
          "name": "stderr",
          "output_type": "stream",
          "text": [
            "Train : 100%|██████████| 2000/2000 [00:23<00:00, 83.92it/s, gpu_mem=0.00 GB, lr=0.00049, train_loss=0.3674]\n",
            "Valid : 100%|██████████| 500/500 [00:03<00:00, 153.05it/s, gpu_memory=0.00 GB, lr=0.00049, valid_loss=0.6702]\n"
          ]
        },
        {
          "metadata": {
            "tags": null
          },
          "name": "stdout",
          "output_type": "stream",
          "text": [
            "\n",
            "\n",
            "Epoch 8/50"
          ]
        },
        {
          "metadata": {
            "tags": null
          },
          "name": "stderr",
          "output_type": "stream",
          "text": [
            "Train : 100%|██████████| 2000/2000 [00:24<00:00, 81.69it/s, gpu_mem=0.00 GB, lr=0.00049, train_loss=0.3648] \n",
            "Valid : 100%|██████████| 500/500 [00:03<00:00, 159.57it/s, gpu_memory=0.00 GB, lr=0.00049, valid_loss=0.6260]\n"
          ]
        },
        {
          "metadata": {
            "tags": null
          },
          "name": "stdout",
          "output_type": "stream",
          "text": [
            "\u001b[32mValid Score Improved (0.6488 ---> 0.6260)\n",
            "Model Saved\u001b[0m\n",
            "\n",
            "\n",
            "Epoch 9/50"
          ]
        },
        {
          "metadata": {
            "tags": null
          },
          "name": "stderr",
          "output_type": "stream",
          "text": [
            "Train : 100%|██████████| 2000/2000 [00:24<00:00, 81.42it/s, gpu_mem=0.00 GB, lr=0.00049, train_loss=0.3552]\n",
            "Valid : 100%|██████████| 500/500 [00:03<00:00, 163.99it/s, gpu_memory=0.00 GB, lr=0.00049, valid_loss=0.6202]\n"
          ]
        },
        {
          "metadata": {
            "tags": null
          },
          "name": "stdout",
          "output_type": "stream",
          "text": [
            "\u001b[32mValid Score Improved (0.6260 ---> 0.6202)\n",
            "Model Saved\u001b[0m\n",
            "\n",
            "\n",
            "Epoch 10/50"
          ]
        },
        {
          "metadata": {
            "tags": null
          },
          "name": "stderr",
          "output_type": "stream",
          "text": [
            "Train : 100%|██████████| 2000/2000 [00:24<00:00, 82.43it/s, gpu_mem=0.00 GB, lr=0.00049, train_loss=0.3483]\n",
            "Valid : 100%|██████████| 500/500 [00:03<00:00, 161.95it/s, gpu_memory=0.00 GB, lr=0.00049, valid_loss=0.6377]\n"
          ]
        },
        {
          "metadata": {
            "tags": null
          },
          "name": "stdout",
          "output_type": "stream",
          "text": [
            "\n",
            "\n",
            "Epoch 11/50"
          ]
        },
        {
          "metadata": {
            "tags": null
          },
          "name": "stderr",
          "output_type": "stream",
          "text": [
            "Train : 100%|██████████| 2000/2000 [00:24<00:00, 83.25it/s, gpu_mem=0.00 GB, lr=0.00048, train_loss=0.3500]\n",
            "Valid : 100%|██████████| 500/500 [00:03<00:00, 128.58it/s, gpu_memory=0.00 GB, lr=0.00048, valid_loss=0.6373]\n"
          ]
        },
        {
          "metadata": {
            "tags": null
          },
          "name": "stdout",
          "output_type": "stream",
          "text": [
            "\n",
            "\n",
            "Epoch 12/50"
          ]
        },
        {
          "metadata": {
            "tags": null
          },
          "name": "stderr",
          "output_type": "stream",
          "text": [
            "Train : 100%|██████████| 2000/2000 [00:23<00:00, 85.07it/s, gpu_mem=0.00 GB, lr=0.00048, train_loss=0.3483]\n",
            "Valid : 100%|██████████| 500/500 [00:03<00:00, 138.26it/s, gpu_memory=0.00 GB, lr=0.00048, valid_loss=0.5935]\n"
          ]
        },
        {
          "metadata": {
            "tags": null
          },
          "name": "stdout",
          "output_type": "stream",
          "text": [
            "\u001b[32mValid Score Improved (0.6202 ---> 0.5935)\n",
            "Model Saved\u001b[0m\n",
            "\n",
            "\n",
            "Epoch 13/50"
          ]
        },
        {
          "metadata": {
            "tags": null
          },
          "name": "stderr",
          "output_type": "stream",
          "text": [
            "Train : 100%|██████████| 2000/2000 [00:24<00:00, 82.75it/s, gpu_mem=0.00 GB, lr=0.00048, train_loss=0.3394]\n",
            "Valid : 100%|██████████| 500/500 [00:03<00:00, 159.05it/s, gpu_memory=0.00 GB, lr=0.00048, valid_loss=0.5851]\n"
          ]
        },
        {
          "metadata": {
            "tags": null
          },
          "name": "stdout",
          "output_type": "stream",
          "text": [
            "\u001b[32mValid Score Improved (0.5935 ---> 0.5851)\n",
            "Model Saved\u001b[0m\n",
            "\n",
            "\n",
            "Epoch 14/50"
          ]
        },
        {
          "metadata": {
            "tags": null
          },
          "name": "stderr",
          "output_type": "stream",
          "text": [
            "Train : 100%|██████████| 2000/2000 [00:23<00:00, 84.17it/s, gpu_mem=0.00 GB, lr=0.00047, train_loss=0.3448]\n",
            "Valid : 100%|██████████| 500/500 [00:03<00:00, 164.16it/s, gpu_memory=0.00 GB, lr=0.00047, valid_loss=0.6108]\n"
          ]
        },
        {
          "metadata": {
            "tags": null
          },
          "name": "stdout",
          "output_type": "stream",
          "text": [
            "\n",
            "\n",
            "Epoch 15/50"
          ]
        },
        {
          "metadata": {
            "tags": null
          },
          "name": "stderr",
          "output_type": "stream",
          "text": [
            "Train : 100%|██████████| 2000/2000 [00:25<00:00, 77.86it/s, gpu_mem=0.00 GB, lr=0.00047, train_loss=0.3440]\n",
            "Valid : 100%|██████████| 500/500 [00:03<00:00, 137.63it/s, gpu_memory=0.00 GB, lr=0.00047, valid_loss=0.5857]\n"
          ]
        },
        {
          "metadata": {
            "tags": null
          },
          "name": "stdout",
          "output_type": "stream",
          "text": [
            "\n",
            "\n",
            "Epoch 16/50"
          ]
        },
        {
          "metadata": {
            "tags": null
          },
          "name": "stderr",
          "output_type": "stream",
          "text": [
            "Train : 100%|██████████| 2000/2000 [00:23<00:00, 85.74it/s, gpu_mem=0.00 GB, lr=0.00047, train_loss=0.3389]\n",
            "Valid : 100%|██████████| 500/500 [00:03<00:00, 128.72it/s, gpu_memory=0.00 GB, lr=0.00047, valid_loss=0.5989]\n"
          ]
        },
        {
          "metadata": {
            "tags": null
          },
          "name": "stdout",
          "output_type": "stream",
          "text": [
            "\n",
            "\n",
            "Epoch 17/50"
          ]
        },
        {
          "metadata": {
            "tags": null
          },
          "name": "stderr",
          "output_type": "stream",
          "text": [
            "Train : 100%|██████████| 2000/2000 [00:24<00:00, 83.19it/s, gpu_mem=0.00 GB, lr=0.00046, train_loss=0.3393]\n",
            "Valid : 100%|██████████| 500/500 [00:03<00:00, 156.02it/s, gpu_memory=0.00 GB, lr=0.00046, valid_loss=0.5972]\n"
          ]
        },
        {
          "metadata": {
            "tags": null
          },
          "name": "stdout",
          "output_type": "stream",
          "text": [
            "\n",
            "\n",
            "Epoch 18/50"
          ]
        },
        {
          "metadata": {
            "tags": null
          },
          "name": "stderr",
          "output_type": "stream",
          "text": [
            "Train : 100%|██████████| 2000/2000 [00:24<00:00, 80.53it/s, gpu_mem=0.00 GB, lr=0.00046, train_loss=0.3366]\n",
            "Valid : 100%|██████████| 500/500 [00:03<00:00, 157.74it/s, gpu_memory=0.00 GB, lr=0.00046, valid_loss=0.5942]\n"
          ]
        },
        {
          "metadata": {
            "tags": null
          },
          "name": "stdout",
          "output_type": "stream",
          "text": [
            "\n",
            "\n",
            "Epoch 19/50"
          ]
        },
        {
          "metadata": {
            "tags": null
          },
          "name": "stderr",
          "output_type": "stream",
          "text": [
            "Train : 100%|██████████| 2000/2000 [00:24<00:00, 80.89it/s, gpu_mem=0.00 GB, lr=0.00045, train_loss=0.3351]\n",
            "Valid : 100%|██████████| 500/500 [00:03<00:00, 161.96it/s, gpu_memory=0.00 GB, lr=0.00045, valid_loss=0.5866]\n"
          ]
        },
        {
          "metadata": {
            "tags": null
          },
          "name": "stdout",
          "output_type": "stream",
          "text": [
            "\n",
            "\n",
            "Epoch 20/50"
          ]
        },
        {
          "metadata": {
            "tags": null
          },
          "name": "stderr",
          "output_type": "stream",
          "text": [
            "Train : 100%|██████████| 2000/2000 [00:23<00:00, 86.45it/s, gpu_mem=0.00 GB, lr=0.00045, train_loss=0.3426]\n",
            "Valid : 100%|██████████| 500/500 [00:03<00:00, 129.34it/s, gpu_memory=0.00 GB, lr=0.00045, valid_loss=0.5746]\n"
          ]
        },
        {
          "metadata": {
            "tags": null
          },
          "name": "stdout",
          "output_type": "stream",
          "text": [
            "\u001b[32mValid Score Improved (0.5851 ---> 0.5746)\n",
            "Model Saved\u001b[0m\n",
            "\n",
            "\n",
            "Epoch 21/50"
          ]
        },
        {
          "metadata": {
            "tags": null
          },
          "name": "stderr",
          "output_type": "stream",
          "text": [
            "Train : 100%|██████████| 2000/2000 [00:23<00:00, 85.23it/s, gpu_mem=0.00 GB, lr=0.00044, train_loss=0.3422]\n",
            "Valid : 100%|██████████| 500/500 [00:03<00:00, 139.32it/s, gpu_memory=0.00 GB, lr=0.00044, valid_loss=0.5983]\n"
          ]
        },
        {
          "metadata": {
            "tags": null
          },
          "name": "stdout",
          "output_type": "stream",
          "text": [
            "\n",
            "\n",
            "Epoch 22/50"
          ]
        },
        {
          "metadata": {
            "tags": null
          },
          "name": "stderr",
          "output_type": "stream",
          "text": [
            "Train : 100%|██████████| 2000/2000 [00:24<00:00, 82.30it/s, gpu_mem=0.00 GB, lr=0.00044, train_loss=0.3485]\n",
            "Valid : 100%|██████████| 500/500 [00:03<00:00, 155.40it/s, gpu_memory=0.00 GB, lr=0.00044, valid_loss=0.5816]\n"
          ]
        },
        {
          "metadata": {
            "tags": null
          },
          "name": "stdout",
          "output_type": "stream",
          "text": [
            "\n",
            "\n",
            "Epoch 23/50"
          ]
        },
        {
          "metadata": {
            "tags": null
          },
          "name": "stderr",
          "output_type": "stream",
          "text": [
            "Train : 100%|██████████| 2000/2000 [00:26<00:00, 76.54it/s, gpu_mem=0.00 GB, lr=0.00043, train_loss=0.3585]\n",
            "Valid : 100%|██████████| 500/500 [00:03<00:00, 138.52it/s, gpu_memory=0.00 GB, lr=0.00043, valid_loss=0.5759]\n"
          ]
        },
        {
          "metadata": {
            "tags": null
          },
          "name": "stdout",
          "output_type": "stream",
          "text": [
            "\n",
            "\n",
            "Epoch 24/50"
          ]
        },
        {
          "metadata": {
            "tags": null
          },
          "name": "stderr",
          "output_type": "stream",
          "text": [
            "Train : 100%|██████████| 2000/2000 [00:24<00:00, 80.99it/s, gpu_mem=0.00 GB, lr=0.00042, train_loss=0.3510]\n",
            "Valid : 100%|██████████| 500/500 [00:03<00:00, 159.86it/s, gpu_memory=0.00 GB, lr=0.00042, valid_loss=0.5836]\n"
          ]
        },
        {
          "metadata": {
            "tags": null
          },
          "name": "stdout",
          "output_type": "stream",
          "text": [
            "\n",
            "\n",
            "Epoch 25/50"
          ]
        },
        {
          "metadata": {
            "tags": null
          },
          "name": "stderr",
          "output_type": "stream",
          "text": [
            "Train : 100%|██████████| 2000/2000 [00:24<00:00, 81.80it/s, gpu_mem=0.00 GB, lr=0.00042, train_loss=0.3498]\n",
            "Valid : 100%|██████████| 500/500 [00:03<00:00, 144.08it/s, gpu_memory=0.00 GB, lr=0.00042, valid_loss=0.5785]\n"
          ]
        },
        {
          "metadata": {
            "tags": null
          },
          "name": "stdout",
          "output_type": "stream",
          "text": [
            "\n",
            "\n",
            "Epoch 26/50"
          ]
        },
        {
          "metadata": {
            "tags": null
          },
          "name": "stderr",
          "output_type": "stream",
          "text": [
            "Train : 100%|██████████| 2000/2000 [00:23<00:00, 84.35it/s, gpu_mem=0.00 GB, lr=0.00041, train_loss=0.3562]\n",
            "Valid : 100%|██████████| 500/500 [00:03<00:00, 145.36it/s, gpu_memory=0.00 GB, lr=0.00041, valid_loss=0.5839]\n"
          ]
        },
        {
          "metadata": {
            "tags": null
          },
          "name": "stdout",
          "output_type": "stream",
          "text": [
            "\n",
            "\n",
            "Epoch 27/50"
          ]
        },
        {
          "metadata": {
            "tags": null
          },
          "name": "stderr",
          "output_type": "stream",
          "text": [
            "Train : 100%|██████████| 2000/2000 [00:23<00:00, 86.55it/s, gpu_mem=0.00 GB, lr=0.00041, train_loss=0.3622]\n",
            "Valid : 100%|██████████| 500/500 [00:03<00:00, 157.08it/s, gpu_memory=0.00 GB, lr=0.00041, valid_loss=0.5677]\n"
          ]
        },
        {
          "metadata": {
            "tags": null
          },
          "name": "stdout",
          "output_type": "stream",
          "text": [
            "\u001b[32mValid Score Improved (0.5746 ---> 0.5677)\n",
            "Model Saved\u001b[0m\n",
            "\n",
            "\n",
            "Epoch 28/50"
          ]
        },
        {
          "metadata": {
            "tags": null
          },
          "name": "stderr",
          "output_type": "stream",
          "text": [
            "Train : 100%|██████████| 2000/2000 [00:24<00:00, 80.59it/s, gpu_mem=0.00 GB, lr=0.00040, train_loss=0.3606]\n",
            "Valid : 100%|██████████| 500/500 [00:03<00:00, 160.72it/s, gpu_memory=0.00 GB, lr=0.00040, valid_loss=0.5682]\n"
          ]
        },
        {
          "metadata": {
            "tags": null
          },
          "name": "stdout",
          "output_type": "stream",
          "text": [
            "\n",
            "\n",
            "Epoch 29/50"
          ]
        },
        {
          "metadata": {
            "tags": null
          },
          "name": "stderr",
          "output_type": "stream",
          "text": [
            "Train : 100%|██████████| 2000/2000 [00:25<00:00, 79.63it/s, gpu_mem=0.00 GB, lr=0.00039, train_loss=0.3528]\n",
            "Valid : 100%|██████████| 500/500 [00:03<00:00, 156.72it/s, gpu_memory=0.00 GB, lr=0.00039, valid_loss=0.5795]\n"
          ]
        },
        {
          "metadata": {
            "tags": null
          },
          "name": "stdout",
          "output_type": "stream",
          "text": [
            "\n",
            "\n",
            "Epoch 30/50"
          ]
        },
        {
          "metadata": {
            "tags": null
          },
          "name": "stderr",
          "output_type": "stream",
          "text": [
            "Train : 100%|██████████| 2000/2000 [00:23<00:00, 84.79it/s, gpu_mem=0.00 GB, lr=0.00039, train_loss=0.3652]\n",
            "Valid : 100%|██████████| 500/500 [00:03<00:00, 136.19it/s, gpu_memory=0.00 GB, lr=0.00039, valid_loss=0.5740]\n"
          ]
        },
        {
          "metadata": {
            "tags": null
          },
          "name": "stdout",
          "output_type": "stream",
          "text": [
            "\n",
            "\n",
            "Epoch 31/50"
          ]
        },
        {
          "metadata": {
            "tags": null
          },
          "name": "stderr",
          "output_type": "stream",
          "text": [
            "Train : 100%|██████████| 2000/2000 [00:22<00:00, 87.04it/s, gpu_mem=0.00 GB, lr=0.00038, train_loss=0.3660]\n",
            "Valid : 100%|██████████| 500/500 [00:03<00:00, 156.42it/s, gpu_memory=0.00 GB, lr=0.00038, valid_loss=0.5746]\n"
          ]
        },
        {
          "metadata": {
            "tags": null
          },
          "name": "stdout",
          "output_type": "stream",
          "text": [
            "\n",
            "\n",
            "Epoch 32/50"
          ]
        },
        {
          "metadata": {
            "tags": null
          },
          "name": "stderr",
          "output_type": "stream",
          "text": [
            "Train : 100%|██████████| 2000/2000 [00:25<00:00, 77.96it/s, gpu_mem=0.00 GB, lr=0.00037, train_loss=0.3630]\n",
            "Valid : 100%|██████████| 500/500 [00:03<00:00, 166.36it/s, gpu_memory=0.00 GB, lr=0.00037, valid_loss=0.5799]\n"
          ]
        },
        {
          "metadata": {
            "tags": null
          },
          "name": "stdout",
          "output_type": "stream",
          "text": [
            "\n",
            "\n",
            "Epoch 33/50"
          ]
        },
        {
          "metadata": {
            "tags": null
          },
          "name": "stderr",
          "output_type": "stream",
          "text": [
            "Train : 100%|██████████| 2000/2000 [00:24<00:00, 82.98it/s, gpu_mem=0.00 GB, lr=0.00036, train_loss=0.3650]\n",
            "Valid : 100%|██████████| 500/500 [00:03<00:00, 130.12it/s, gpu_memory=0.00 GB, lr=0.00036, valid_loss=0.5773]\n"
          ]
        },
        {
          "metadata": {
            "tags": null
          },
          "name": "stdout",
          "output_type": "stream",
          "text": [
            "\n",
            "\n",
            "Epoch 34/50"
          ]
        },
        {
          "metadata": {
            "tags": null
          },
          "name": "stderr",
          "output_type": "stream",
          "text": [
            "Train : 100%|██████████| 2000/2000 [00:29<00:00, 68.09it/s, gpu_mem=0.00 GB, lr=0.00036, train_loss=0.3564]\n",
            "Valid : 100%|██████████| 500/500 [00:03<00:00, 158.49it/s, gpu_memory=0.00 GB, lr=0.00036, valid_loss=0.5780]\n"
          ]
        },
        {
          "metadata": {
            "tags": null
          },
          "name": "stdout",
          "output_type": "stream",
          "text": [
            "\n",
            "\n",
            "Epoch 35/50"
          ]
        },
        {
          "metadata": {
            "tags": null
          },
          "name": "stderr",
          "output_type": "stream",
          "text": [
            "Train : 100%|██████████| 2000/2000 [00:23<00:00, 83.60it/s, gpu_mem=0.00 GB, lr=0.00035, train_loss=0.3617]\n",
            "Valid : 100%|██████████| 500/500 [00:03<00:00, 131.83it/s, gpu_memory=0.00 GB, lr=0.00035, valid_loss=0.5888]\n"
          ]
        },
        {
          "metadata": {
            "tags": null
          },
          "name": "stdout",
          "output_type": "stream",
          "text": [
            "\n",
            "\n",
            "Epoch 36/50"
          ]
        },
        {
          "metadata": {
            "tags": null
          },
          "name": "stderr",
          "output_type": "stream",
          "text": [
            "Train : 100%|██████████| 2000/2000 [00:23<00:00, 86.08it/s, gpu_mem=0.00 GB, lr=0.00034, train_loss=0.3621]\n",
            "Valid : 100%|██████████| 500/500 [00:03<00:00, 143.72it/s, gpu_memory=0.00 GB, lr=0.00034, valid_loss=0.5776]\n"
          ]
        },
        {
          "metadata": {
            "tags": null
          },
          "name": "stdout",
          "output_type": "stream",
          "text": [
            "\n",
            "\n",
            "Epoch 37/50"
          ]
        },
        {
          "metadata": {
            "tags": null
          },
          "name": "stderr",
          "output_type": "stream",
          "text": [
            "Train : 100%|██████████| 2000/2000 [00:24<00:00, 81.42it/s, gpu_mem=0.00 GB, lr=0.00033, train_loss=0.3615]\n",
            "Valid : 100%|██████████| 500/500 [00:03<00:00, 156.03it/s, gpu_memory=0.00 GB, lr=0.00033, valid_loss=0.5726]\n"
          ]
        },
        {
          "metadata": {
            "tags": null
          },
          "name": "stdout",
          "output_type": "stream",
          "text": [
            "\n",
            "\n",
            "Epoch 38/50"
          ]
        },
        {
          "metadata": {
            "tags": null
          },
          "name": "stderr",
          "output_type": "stream",
          "text": [
            "Train : 100%|██████████| 2000/2000 [00:24<00:00, 80.44it/s, gpu_mem=0.00 GB, lr=0.00033, train_loss=0.3606]\n",
            "Valid : 100%|██████████| 500/500 [00:03<00:00, 148.79it/s, gpu_memory=0.00 GB, lr=0.00033, valid_loss=0.5723]\n"
          ]
        },
        {
          "metadata": {
            "tags": null
          },
          "name": "stdout",
          "output_type": "stream",
          "text": [
            "\n",
            "\n",
            "Epoch 39/50"
          ]
        },
        {
          "metadata": {
            "tags": null
          },
          "name": "stderr",
          "output_type": "stream",
          "text": [
            "Train : 100%|██████████| 2000/2000 [00:24<00:00, 81.25it/s, gpu_mem=0.00 GB, lr=0.00032, train_loss=0.3623]\n",
            "Valid : 100%|██████████| 500/500 [00:03<00:00, 141.18it/s, gpu_memory=0.00 GB, lr=0.00032, valid_loss=0.5778]\n"
          ]
        },
        {
          "metadata": {
            "tags": null
          },
          "name": "stdout",
          "output_type": "stream",
          "text": [
            "\n",
            "\n",
            "Epoch 40/50"
          ]
        },
        {
          "metadata": {
            "tags": null
          },
          "name": "stderr",
          "output_type": "stream",
          "text": [
            "Train : 100%|██████████| 2000/2000 [00:23<00:00, 84.64it/s, gpu_mem=0.00 GB, lr=0.00031, train_loss=0.3587]\n",
            "Valid : 100%|██████████| 500/500 [00:03<00:00, 132.87it/s, gpu_memory=0.00 GB, lr=0.00031, valid_loss=0.5692]\n"
          ]
        },
        {
          "metadata": {
            "tags": null
          },
          "name": "stdout",
          "output_type": "stream",
          "text": [
            "\n",
            "\n",
            "Epoch 41/50"
          ]
        },
        {
          "metadata": {
            "tags": null
          },
          "name": "stderr",
          "output_type": "stream",
          "text": [
            "Train : 100%|██████████| 2000/2000 [00:25<00:00, 78.58it/s, gpu_mem=0.00 GB, lr=0.00030, train_loss=0.3602]\n",
            "Valid : 100%|██████████| 500/500 [00:03<00:00, 138.57it/s, gpu_memory=0.00 GB, lr=0.00030, valid_loss=0.5683]\n"
          ]
        },
        {
          "metadata": {
            "tags": null
          },
          "name": "stdout",
          "output_type": "stream",
          "text": [
            "\n",
            "\n",
            "Epoch 42/50"
          ]
        },
        {
          "metadata": {
            "tags": null
          },
          "name": "stderr",
          "output_type": "stream",
          "text": [
            "Train : 100%|██████████| 2000/2000 [00:24<00:00, 81.50it/s, gpu_mem=0.00 GB, lr=0.00029, train_loss=0.3616]\n",
            "Valid : 100%|██████████| 500/500 [00:03<00:00, 159.38it/s, gpu_memory=0.00 GB, lr=0.00029, valid_loss=0.5681]\n"
          ]
        },
        {
          "metadata": {
            "tags": null
          },
          "name": "stdout",
          "output_type": "stream",
          "text": [
            "\n",
            "\n",
            "Epoch 43/50"
          ]
        },
        {
          "metadata": {
            "tags": null
          },
          "name": "stderr",
          "output_type": "stream",
          "text": [
            "Train : 100%|██████████| 2000/2000 [00:24<00:00, 80.51it/s, gpu_mem=0.00 GB, lr=0.00029, train_loss=0.3690]\n",
            "Valid : 100%|██████████| 500/500 [00:03<00:00, 154.19it/s, gpu_memory=0.00 GB, lr=0.00029, valid_loss=0.5734]\n"
          ]
        },
        {
          "metadata": {
            "tags": null
          },
          "name": "stdout",
          "output_type": "stream",
          "text": [
            "\n",
            "\n",
            "Epoch 44/50"
          ]
        },
        {
          "metadata": {
            "tags": null
          },
          "name": "stderr",
          "output_type": "stream",
          "text": [
            "Train : 100%|██████████| 2000/2000 [00:24<00:00, 81.98it/s, gpu_mem=0.00 GB, lr=0.00028, train_loss=0.3661]\n",
            "Valid : 100%|██████████| 500/500 [00:03<00:00, 136.54it/s, gpu_memory=0.00 GB, lr=0.00028, valid_loss=0.5732]\n"
          ]
        },
        {
          "metadata": {
            "tags": null
          },
          "name": "stdout",
          "output_type": "stream",
          "text": [
            "\n",
            "\n",
            "Epoch 45/50"
          ]
        },
        {
          "metadata": {
            "tags": null
          },
          "name": "stderr",
          "output_type": "stream",
          "text": [
            "Train : 100%|██████████| 2000/2000 [00:23<00:00, 83.47it/s, gpu_mem=0.00 GB, lr=0.00027, train_loss=0.3732]\n",
            "Valid : 100%|██████████| 500/500 [00:03<00:00, 128.24it/s, gpu_memory=0.00 GB, lr=0.00027, valid_loss=0.5757]\n"
          ]
        },
        {
          "metadata": {
            "tags": null
          },
          "name": "stdout",
          "output_type": "stream",
          "text": [
            "\n",
            "\n",
            "Epoch 46/50"
          ]
        },
        {
          "metadata": {
            "tags": null
          },
          "name": "stderr",
          "output_type": "stream",
          "text": [
            "Train : 100%|██████████| 2000/2000 [00:24<00:00, 81.20it/s, gpu_mem=0.00 GB, lr=0.00026, train_loss=0.3760]\n",
            "Valid : 100%|██████████| 500/500 [00:03<00:00, 153.81it/s, gpu_memory=0.00 GB, lr=0.00026, valid_loss=0.5736]\n"
          ]
        },
        {
          "metadata": {
            "tags": null
          },
          "name": "stdout",
          "output_type": "stream",
          "text": [
            "\n",
            "\n",
            "Epoch 47/50"
          ]
        },
        {
          "metadata": {
            "tags": null
          },
          "name": "stderr",
          "output_type": "stream",
          "text": [
            "Train : 100%|██████████| 2000/2000 [00:25<00:00, 79.87it/s, gpu_mem=0.00 GB, lr=0.00025, train_loss=0.3769]\n",
            "Valid : 100%|██████████| 500/500 [00:03<00:00, 142.37it/s, gpu_memory=0.00 GB, lr=0.00025, valid_loss=0.5768]\n"
          ]
        },
        {
          "metadata": {
            "tags": null
          },
          "name": "stdout",
          "output_type": "stream",
          "text": [
            "\n",
            "\n",
            "Epoch 48/50"
          ]
        },
        {
          "metadata": {
            "tags": null
          },
          "name": "stderr",
          "output_type": "stream",
          "text": [
            "Train : 100%|██████████| 2000/2000 [00:25<00:00, 78.85it/s, gpu_mem=0.00 GB, lr=0.00025, train_loss=0.3750]\n",
            "Valid : 100%|██████████| 500/500 [00:03<00:00, 158.57it/s, gpu_memory=0.00 GB, lr=0.00025, valid_loss=0.5834]\n"
          ]
        },
        {
          "metadata": {
            "tags": null
          },
          "name": "stdout",
          "output_type": "stream",
          "text": [
            "\n",
            "\n",
            "Epoch 49/50"
          ]
        },
        {
          "metadata": {
            "tags": null
          },
          "name": "stderr",
          "output_type": "stream",
          "text": [
            "Train : 100%|██████████| 2000/2000 [00:25<00:00, 77.24it/s, gpu_mem=0.00 GB, lr=0.00024, train_loss=0.3732]\n",
            "Valid : 100%|██████████| 500/500 [00:04<00:00, 124.81it/s, gpu_memory=0.00 GB, lr=0.00024, valid_loss=0.5831]\n"
          ]
        },
        {
          "metadata": {
            "tags": null
          },
          "name": "stdout",
          "output_type": "stream",
          "text": [
            "\n",
            "\n",
            "Epoch 50/50"
          ]
        },
        {
          "metadata": {
            "tags": null
          },
          "name": "stderr",
          "output_type": "stream",
          "text": [
            "Train : 100%|██████████| 2000/2000 [00:23<00:00, 84.16it/s, gpu_mem=0.00 GB, lr=0.00023, train_loss=0.3689]\n",
            "Valid : 100%|██████████| 500/500 [00:03<00:00, 137.86it/s, gpu_memory=0.00 GB, lr=0.00023, valid_loss=0.5794]\n"
          ]
        },
        {
          "metadata": {
            "tags": null
          },
          "name": "stdout",
          "output_type": "stream",
          "text": [
            "\n",
            "\n",
            "Training complete in 0h 24m 19s\n",
            "Best Loss: 0.5677\n"
          ]
        },
        {
          "data": {
            "application/vnd.jupyter.widget-view+json": {
              "model_id": "8f5dc70544ab43458353accff99827ff",
              "version_major": 2,
              "version_minor": 0
            },
            "text/plain": [
              "VBox(children=(Label(value='0.083 MB of 0.083 MB uploaded\\r'), FloatProgress(value=1.0, max=1.0)))"
            ]
          },
          "metadata": {},
          "output_type": "display_data"
        },
        {
          "data": {
            "text/html": [
              "<style>\n",
              "    table.wandb td:nth-child(1) { padding: 0 10px; text-align: left ; width: auto;} td:nth-child(2) {text-align: left ; width: 100%}\n",
              "    .wandb-row { display: flex; flex-direction: row; flex-wrap: wrap; justify-content: flex-start; width: 100% }\n",
              "    .wandb-col { display: flex; flex-direction: column; flex-basis: 100%; flex: 1; padding: 10px; }\n",
              "    </style>\n",
              "<div class=\"wandb-row\"><div class=\"wandb-col\"><h3>Run history:</h3><br/><table class=\"wandb\"><tr><td>LR</td><td>█████████▇▇▇▇▇▇▇▆▆▆▆▆▆▅▅▅▅▅▄▄▄▄▃▃▃▂▂▂▂▁▁</td></tr><tr><td>Train Loss</td><td>█▄▃▂▂▁▁▁▁▁▁▁▁▁▁▁▁▁▁▁▁▁▁▁▁▁▁▁▁▁▁▁▁▁▁▁▂▂▁▁</td></tr><tr><td>Valid Loss</td><td>▅▇██▆▆▄▄▄▂▂▃▃▂▂▂▃▂▁▂▂▁▁▂▁▂▁▂▁▁▁▁▁▁▁▁▁▁▂▂</td></tr></table><br/></div><div class=\"wandb-col\"><h3>Run summary:</h3><br/><table class=\"wandb\"><tr><td>Best Epoch</td><td>27</td></tr><tr><td>Best Loss</td><td>0.56772</td></tr><tr><td>LR</td><td>0.00023</td></tr><tr><td>Train Loss</td><td>0.36895</td></tr><tr><td>Valid Loss</td><td>0.57937</td></tr></table><br/></div></div>"
            ],
            "text/plain": [
              "<IPython.core.display.HTML object>"
            ]
          },
          "metadata": {},
          "output_type": "display_data"
        },
        {
          "data": {
            "text/html": [
              " View run <strong style=\"color:#cdcd00\">fold-0|model-LSTM-FC</strong> at: <a href='https://wandb.ai/nenecchicv/internal-competition/runs/03alzw9a' target=\"_blank\">https://wandb.ai/nenecchicv/internal-competition/runs/03alzw9a</a><br/>Synced 5 W&B file(s), 0 media file(s), 0 artifact file(s) and 1 other file(s)"
            ],
            "text/plain": [
              "<IPython.core.display.HTML object>"
            ]
          },
          "metadata": {},
          "output_type": "display_data"
        },
        {
          "data": {
            "text/html": [
              "Find logs at: <code>./wandb/run-20240311_144615-03alzw9a/logs</code>"
            ],
            "text/plain": [
              "<IPython.core.display.HTML object>"
            ]
          },
          "metadata": {},
          "output_type": "display_data"
        },
        {
          "metadata": {
            "tags": null
          },
          "name": "stdout",
          "output_type": "stream",
          "text": [
            "FOLD 1\n",
            "--------------------------------\n"
          ]
        },
        {
          "data": {
            "text/html": [
              "Tracking run with wandb version 0.16.4"
            ],
            "text/plain": [
              "<IPython.core.display.HTML object>"
            ]
          },
          "metadata": {},
          "output_type": "display_data"
        },
        {
          "data": {
            "text/html": [
              "Run data is saved locally in <code>/content/wandb/run-20240311_151045-n8c1lckv</code>"
            ],
            "text/plain": [
              "<IPython.core.display.HTML object>"
            ]
          },
          "metadata": {},
          "output_type": "display_data"
        },
        {
          "data": {
            "text/html": [
              "Syncing run <strong><a href='https://wandb.ai/nenecchicv/internal-competition/runs/n8c1lckv' target=\"_blank\">fold-1|model-LSTM-FC</a></strong> to <a href='https://wandb.ai/nenecchicv/internal-competition' target=\"_blank\">Weights & Biases</a> (<a href='https://wandb.me/run' target=\"_blank\">docs</a>)<br/>"
            ],
            "text/plain": [
              "<IPython.core.display.HTML object>"
            ]
          },
          "metadata": {},
          "output_type": "display_data"
        },
        {
          "data": {
            "text/html": [
              " View project at <a href='https://wandb.ai/nenecchicv/internal-competition' target=\"_blank\">https://wandb.ai/nenecchicv/internal-competition</a>"
            ],
            "text/plain": [
              "<IPython.core.display.HTML object>"
            ]
          },
          "metadata": {},
          "output_type": "display_data"
        },
        {
          "data": {
            "text/html": [
              " View run at <a href='https://wandb.ai/nenecchicv/internal-competition/runs/n8c1lckv' target=\"_blank\">https://wandb.ai/nenecchicv/internal-competition/runs/n8c1lckv</a>"
            ],
            "text/plain": [
              "<IPython.core.display.HTML object>"
            ]
          },
          "metadata": {},
          "output_type": "display_data"
        },
        {
          "metadata": {
            "tags": null
          },
          "name": "stdout",
          "output_type": "stream",
          "text": [
            "Epoch 1/50"
          ]
        },
        {
          "metadata": {
            "tags": null
          },
          "name": "stderr",
          "output_type": "stream",
          "text": [
            "Train : 100%|██████████| 2000/2000 [00:24<00:00, 80.90it/s, gpu_mem=0.00 GB, lr=0.00050, train_loss=0.3200]\n",
            "Valid : 100%|██████████| 500/500 [00:03<00:00, 129.74it/s, gpu_memory=0.00 GB, lr=0.00050, valid_loss=0.5832]\n"
          ]
        },
        {
          "metadata": {
            "tags": null
          },
          "name": "stdout",
          "output_type": "stream",
          "text": [
            "\u001b[32mValid Score Improved (inf ---> 0.5832)\n",
            "Model Saved\u001b[0m\n",
            "\n",
            "\n",
            "Epoch 2/50"
          ]
        },
        {
          "metadata": {
            "tags": null
          },
          "name": "stderr",
          "output_type": "stream",
          "text": [
            "Train : 100%|██████████| 2000/2000 [00:24<00:00, 82.14it/s, gpu_mem=0.00 GB, lr=0.00050, train_loss=0.3162]\n",
            "Valid : 100%|██████████| 500/500 [00:03<00:00, 132.09it/s, gpu_memory=0.00 GB, lr=0.00050, valid_loss=0.5729]\n"
          ]
        },
        {
          "metadata": {
            "tags": null
          },
          "name": "stdout",
          "output_type": "stream",
          "text": [
            "\u001b[32mValid Score Improved (0.5832 ---> 0.5729)\n",
            "Model Saved\u001b[0m\n",
            "\n",
            "\n",
            "Epoch 3/50"
          ]
        },
        {
          "metadata": {
            "tags": null
          },
          "name": "stderr",
          "output_type": "stream",
          "text": [
            "Train : 100%|██████████| 2000/2000 [00:25<00:00, 79.83it/s, gpu_mem=0.00 GB, lr=0.00050, train_loss=0.3206]\n",
            "Valid : 100%|██████████| 500/500 [00:03<00:00, 145.03it/s, gpu_memory=0.00 GB, lr=0.00050, valid_loss=0.5904]\n"
          ]
        },
        {
          "metadata": {
            "tags": null
          },
          "name": "stdout",
          "output_type": "stream",
          "text": [
            "\n",
            "\n",
            "Epoch 4/50"
          ]
        },
        {
          "metadata": {
            "tags": null
          },
          "name": "stderr",
          "output_type": "stream",
          "text": [
            "Train : 100%|██████████| 2000/2000 [00:25<00:00, 78.43it/s, gpu_mem=0.00 GB, lr=0.00050, train_loss=0.3237]\n",
            "Valid : 100%|██████████| 500/500 [00:03<00:00, 150.82it/s, gpu_memory=0.00 GB, lr=0.00050, valid_loss=0.5975]\n"
          ]
        },
        {
          "metadata": {
            "tags": null
          },
          "name": "stdout",
          "output_type": "stream",
          "text": [
            "\n",
            "\n",
            "Epoch 5/50"
          ]
        },
        {
          "metadata": {
            "tags": null
          },
          "name": "stderr",
          "output_type": "stream",
          "text": [
            "Train : 100%|██████████| 2000/2000 [00:25<00:00, 77.89it/s, gpu_mem=0.00 GB, lr=0.00050, train_loss=0.3311]\n",
            "Valid : 100%|██████████| 500/500 [00:04<00:00, 123.82it/s, gpu_memory=0.00 GB, lr=0.00050, valid_loss=0.5934]\n"
          ]
        },
        {
          "metadata": {
            "tags": null
          },
          "name": "stdout",
          "output_type": "stream",
          "text": [
            "\n",
            "\n",
            "Epoch 6/50"
          ]
        },
        {
          "metadata": {
            "tags": null
          },
          "name": "stderr",
          "output_type": "stream",
          "text": [
            "Train : 100%|██████████| 2000/2000 [00:34<00:00, 58.75it/s, gpu_mem=0.00 GB, lr=0.00050, train_loss=0.3281]\n",
            "Valid : 100%|██████████| 500/500 [00:03<00:00, 138.43it/s, gpu_memory=0.00 GB, lr=0.00050, valid_loss=0.6070]\n"
          ]
        },
        {
          "metadata": {
            "tags": null
          },
          "name": "stdout",
          "output_type": "stream",
          "text": [
            "\n",
            "\n",
            "Epoch 7/50"
          ]
        },
        {
          "metadata": {
            "tags": null
          },
          "name": "stderr",
          "output_type": "stream",
          "text": [
            "Train : 100%|██████████| 2000/2000 [00:27<00:00, 74.07it/s, gpu_mem=0.00 GB, lr=0.00049, train_loss=0.3225]\n",
            "Valid : 100%|██████████| 500/500 [00:03<00:00, 152.15it/s, gpu_memory=0.00 GB, lr=0.00049, valid_loss=0.5905]\n"
          ]
        },
        {
          "metadata": {
            "tags": null
          },
          "name": "stdout",
          "output_type": "stream",
          "text": [
            "\n",
            "\n",
            "Epoch 8/50"
          ]
        },
        {
          "metadata": {
            "tags": null
          },
          "name": "stderr",
          "output_type": "stream",
          "text": [
            "Train : 100%|██████████| 2000/2000 [00:25<00:00, 78.66it/s, gpu_mem=0.00 GB, lr=0.00049, train_loss=0.3228]\n",
            "Valid : 100%|██████████| 500/500 [00:03<00:00, 156.12it/s, gpu_memory=0.00 GB, lr=0.00049, valid_loss=0.5827]\n"
          ]
        },
        {
          "metadata": {
            "tags": null
          },
          "name": "stdout",
          "output_type": "stream",
          "text": [
            "\n",
            "\n",
            "Epoch 9/50"
          ]
        },
        {
          "metadata": {
            "tags": null
          },
          "name": "stderr",
          "output_type": "stream",
          "text": [
            "Train : 100%|██████████| 2000/2000 [00:26<00:00, 74.26it/s, gpu_mem=0.00 GB, lr=0.00049, train_loss=0.3262]\n",
            "Valid : 100%|██████████| 500/500 [00:03<00:00, 140.97it/s, gpu_memory=0.00 GB, lr=0.00049, valid_loss=0.5938]\n"
          ]
        },
        {
          "metadata": {
            "tags": null
          },
          "name": "stdout",
          "output_type": "stream",
          "text": [
            "\n",
            "\n",
            "Epoch 10/50"
          ]
        },
        {
          "metadata": {
            "tags": null
          },
          "name": "stderr",
          "output_type": "stream",
          "text": [
            "Train : 100%|██████████| 2000/2000 [00:24<00:00, 81.50it/s, gpu_mem=0.00 GB, lr=0.00049, train_loss=0.3224]\n",
            "Valid : 100%|██████████| 500/500 [00:03<00:00, 129.23it/s, gpu_memory=0.00 GB, lr=0.00049, valid_loss=0.5992]\n"
          ]
        },
        {
          "metadata": {
            "tags": null
          },
          "name": "stdout",
          "output_type": "stream",
          "text": [
            "\n",
            "\n",
            "Epoch 11/50"
          ]
        },
        {
          "metadata": {
            "tags": null
          },
          "name": "stderr",
          "output_type": "stream",
          "text": [
            "Train : 100%|██████████| 2000/2000 [00:41<00:00, 47.71it/s, gpu_mem=0.00 GB, lr=0.00048, train_loss=0.3190]\n",
            "Valid : 100%|██████████| 500/500 [00:03<00:00, 133.62it/s, gpu_memory=0.00 GB, lr=0.00048, valid_loss=0.6095]\n"
          ]
        },
        {
          "metadata": {
            "tags": null
          },
          "name": "stdout",
          "output_type": "stream",
          "text": [
            "\n",
            "\n",
            "Epoch 12/50"
          ]
        },
        {
          "metadata": {
            "tags": null
          },
          "name": "stderr",
          "output_type": "stream",
          "text": [
            "Train : 100%|██████████| 2000/2000 [00:24<00:00, 80.05it/s, gpu_mem=0.00 GB, lr=0.00048, train_loss=0.3206]\n",
            "Valid : 100%|██████████| 500/500 [00:03<00:00, 151.06it/s, gpu_memory=0.00 GB, lr=0.00048, valid_loss=0.5862]\n"
          ]
        },
        {
          "metadata": {
            "tags": null
          },
          "name": "stdout",
          "output_type": "stream",
          "text": [
            "\n",
            "\n",
            "Epoch 13/50"
          ]
        },
        {
          "metadata": {
            "tags": null
          },
          "name": "stderr",
          "output_type": "stream",
          "text": [
            "Train : 100%|██████████| 2000/2000 [00:25<00:00, 78.13it/s, gpu_mem=0.00 GB, lr=0.00048, train_loss=0.3185]\n",
            "Valid : 100%|██████████| 500/500 [00:03<00:00, 154.16it/s, gpu_memory=0.00 GB, lr=0.00048, valid_loss=0.5886]\n"
          ]
        },
        {
          "metadata": {
            "tags": null
          },
          "name": "stdout",
          "output_type": "stream",
          "text": [
            "\n",
            "\n",
            "Epoch 14/50"
          ]
        },
        {
          "metadata": {
            "tags": null
          },
          "name": "stderr",
          "output_type": "stream",
          "text": [
            "Train : 100%|██████████| 2000/2000 [00:24<00:00, 80.98it/s, gpu_mem=0.00 GB, lr=0.00047, train_loss=0.3264]\n",
            "Valid : 100%|██████████| 500/500 [00:03<00:00, 140.40it/s, gpu_memory=0.00 GB, lr=0.00047, valid_loss=0.5975]\n"
          ]
        },
        {
          "metadata": {
            "tags": null
          },
          "name": "stdout",
          "output_type": "stream",
          "text": [
            "\n",
            "\n",
            "Epoch 15/50"
          ]
        },
        {
          "metadata": {
            "tags": null
          },
          "name": "stderr",
          "output_type": "stream",
          "text": [
            "Train : 100%|██████████| 2000/2000 [00:31<00:00, 62.59it/s, gpu_mem=0.00 GB, lr=0.00047, train_loss=0.3319]\n",
            "Valid : 100%|██████████| 500/500 [00:07<00:00, 63.88it/s, gpu_memory=0.00 GB, lr=0.00047, valid_loss=0.5922]\n"
          ]
        },
        {
          "metadata": {
            "tags": null
          },
          "name": "stdout",
          "output_type": "stream",
          "text": [
            "\n",
            "\n",
            "Epoch 16/50"
          ]
        },
        {
          "metadata": {
            "tags": null
          },
          "name": "stderr",
          "output_type": "stream",
          "text": [
            "Train : 100%|██████████| 2000/2000 [00:39<00:00, 50.91it/s, gpu_mem=0.00 GB, lr=0.00047, train_loss=0.3272]\n",
            "Valid : 100%|██████████| 500/500 [00:04<00:00, 104.46it/s, gpu_memory=0.00 GB, lr=0.00047, valid_loss=0.6094]\n"
          ]
        },
        {
          "metadata": {
            "tags": null
          },
          "name": "stdout",
          "output_type": "stream",
          "text": [
            "\n",
            "\n",
            "Epoch 17/50"
          ]
        },
        {
          "metadata": {
            "tags": null
          },
          "name": "stderr",
          "output_type": "stream",
          "text": [
            "Train : 100%|██████████| 2000/2000 [00:32<00:00, 60.86it/s, gpu_mem=0.00 GB, lr=0.00046, train_loss=0.3282]\n",
            "Valid : 100%|██████████| 500/500 [00:06<00:00, 80.51it/s, gpu_memory=0.00 GB, lr=0.00046, valid_loss=0.5922]\n"
          ]
        },
        {
          "metadata": {
            "tags": null
          },
          "name": "stdout",
          "output_type": "stream",
          "text": [
            "\n",
            "\n",
            "Epoch 18/50"
          ]
        },
        {
          "metadata": {
            "tags": null
          },
          "name": "stderr",
          "output_type": "stream",
          "text": [
            "Train : 100%|██████████| 2000/2000 [00:26<00:00, 76.59it/s, gpu_mem=0.00 GB, lr=0.00046, train_loss=0.3247]\n",
            "Valid : 100%|██████████| 500/500 [00:03<00:00, 139.52it/s, gpu_memory=0.00 GB, lr=0.00046, valid_loss=0.5950]\n"
          ]
        },
        {
          "metadata": {
            "tags": null
          },
          "name": "stdout",
          "output_type": "stream",
          "text": [
            "\n",
            "\n",
            "Epoch 19/50"
          ]
        },
        {
          "metadata": {
            "tags": null
          },
          "name": "stderr",
          "output_type": "stream",
          "text": [
            "Train : 100%|██████████| 2000/2000 [00:25<00:00, 77.66it/s, gpu_mem=0.00 GB, lr=0.00045, train_loss=0.3313]\n",
            "Valid : 100%|██████████| 500/500 [00:03<00:00, 141.65it/s, gpu_memory=0.00 GB, lr=0.00045, valid_loss=0.5792]\n"
          ]
        },
        {
          "metadata": {
            "tags": null
          },
          "name": "stdout",
          "output_type": "stream",
          "text": [
            "\n",
            "\n",
            "Epoch 20/50"
          ]
        },
        {
          "metadata": {
            "tags": null
          },
          "name": "stderr",
          "output_type": "stream",
          "text": [
            "Train : 100%|██████████| 2000/2000 [00:35<00:00, 55.60it/s, gpu_mem=0.00 GB, lr=0.00045, train_loss=0.3331]\n",
            "Valid : 100%|██████████| 500/500 [00:03<00:00, 132.14it/s, gpu_memory=0.00 GB, lr=0.00045, valid_loss=0.5780]\n"
          ]
        },
        {
          "metadata": {
            "tags": null
          },
          "name": "stdout",
          "output_type": "stream",
          "text": [
            "\n",
            "\n",
            "Epoch 21/50"
          ]
        },
        {
          "metadata": {
            "tags": null
          },
          "name": "stderr",
          "output_type": "stream",
          "text": [
            "Train : 100%|██████████| 2000/2000 [00:35<00:00, 55.87it/s, gpu_mem=0.00 GB, lr=0.00044, train_loss=0.3262]\n",
            "Valid : 100%|██████████| 500/500 [00:04<00:00, 113.18it/s, gpu_memory=0.00 GB, lr=0.00044, valid_loss=0.5810]\n"
          ]
        },
        {
          "metadata": {
            "tags": null
          },
          "name": "stdout",
          "output_type": "stream",
          "text": [
            "\n",
            "\n",
            "Epoch 22/50"
          ]
        },
        {
          "metadata": {
            "tags": null
          },
          "name": "stderr",
          "output_type": "stream",
          "text": [
            "Train : 100%|██████████| 2000/2000 [00:26<00:00, 75.81it/s, gpu_mem=0.00 GB, lr=0.00044, train_loss=0.3357]\n",
            "Valid : 100%|██████████| 500/500 [00:03<00:00, 145.66it/s, gpu_memory=0.00 GB, lr=0.00044, valid_loss=0.5841]\n"
          ]
        },
        {
          "metadata": {
            "tags": null
          },
          "name": "stdout",
          "output_type": "stream",
          "text": [
            "\n",
            "\n",
            "Epoch 23/50"
          ]
        },
        {
          "metadata": {
            "tags": null
          },
          "name": "stderr",
          "output_type": "stream",
          "text": [
            "Train : 100%|██████████| 2000/2000 [00:25<00:00, 78.55it/s, gpu_mem=0.00 GB, lr=0.00043, train_loss=0.3302]\n",
            "Valid : 100%|██████████| 500/500 [00:04<00:00, 106.35it/s, gpu_memory=0.00 GB, lr=0.00043, valid_loss=0.5865]\n"
          ]
        },
        {
          "metadata": {
            "tags": null
          },
          "name": "stdout",
          "output_type": "stream",
          "text": [
            "\n",
            "\n",
            "Epoch 24/50"
          ]
        },
        {
          "metadata": {
            "tags": null
          },
          "name": "stderr",
          "output_type": "stream",
          "text": [
            "Train : 100%|██████████| 2000/2000 [00:24<00:00, 80.50it/s, gpu_mem=0.00 GB, lr=0.00042, train_loss=0.3425]\n",
            "Valid : 100%|██████████| 500/500 [00:04<00:00, 103.42it/s, gpu_memory=0.00 GB, lr=0.00042, valid_loss=0.5844]\n"
          ]
        },
        {
          "metadata": {
            "tags": null
          },
          "name": "stdout",
          "output_type": "stream",
          "text": [
            "\n",
            "\n",
            "Epoch 25/50"
          ]
        },
        {
          "metadata": {
            "tags": null
          },
          "name": "stderr",
          "output_type": "stream",
          "text": [
            "Train : 100%|██████████| 2000/2000 [00:24<00:00, 80.62it/s, gpu_mem=0.00 GB, lr=0.00042, train_loss=0.3365]\n",
            "Valid : 100%|██████████| 500/500 [00:03<00:00, 147.24it/s, gpu_memory=0.00 GB, lr=0.00042, valid_loss=0.5705]\n"
          ]
        },
        {
          "metadata": {
            "tags": null
          },
          "name": "stdout",
          "output_type": "stream",
          "text": [
            "\u001b[32mValid Score Improved (0.5729 ---> 0.5705)\n",
            "Model Saved\u001b[0m\n",
            "\n",
            "\n",
            "Epoch 26/50"
          ]
        },
        {
          "metadata": {
            "tags": null
          },
          "name": "stderr",
          "output_type": "stream",
          "text": [
            "Train : 100%|██████████| 2000/2000 [00:25<00:00, 77.73it/s, gpu_mem=0.00 GB, lr=0.00041, train_loss=0.3290]\n",
            "Valid : 100%|██████████| 500/500 [00:03<00:00, 139.34it/s, gpu_memory=0.00 GB, lr=0.00041, valid_loss=0.5631]\n"
          ]
        },
        {
          "metadata": {
            "tags": null
          },
          "name": "stdout",
          "output_type": "stream",
          "text": [
            "\u001b[32mValid Score Improved (0.5705 ---> 0.5631)\n",
            "Model Saved\u001b[0m\n",
            "\n",
            "\n",
            "Epoch 27/50"
          ]
        },
        {
          "metadata": {
            "tags": null
          },
          "name": "stderr",
          "output_type": "stream",
          "text": [
            "Train : 100%|██████████| 2000/2000 [00:26<00:00, 75.21it/s, gpu_mem=0.00 GB, lr=0.00041, train_loss=0.3289]\n",
            "Valid : 100%|██████████| 500/500 [00:03<00:00, 147.22it/s, gpu_memory=0.00 GB, lr=0.00041, valid_loss=0.5806]\n"
          ]
        },
        {
          "metadata": {
            "tags": null
          },
          "name": "stdout",
          "output_type": "stream",
          "text": [
            "\n",
            "\n",
            "Epoch 28/50"
          ]
        },
        {
          "metadata": {
            "tags": null
          },
          "name": "stderr",
          "output_type": "stream",
          "text": [
            "Train : 100%|██████████| 2000/2000 [00:26<00:00, 76.82it/s, gpu_mem=0.00 GB, lr=0.00040, train_loss=0.3305]\n",
            "Valid : 100%|██████████| 500/500 [00:03<00:00, 126.19it/s, gpu_memory=0.00 GB, lr=0.00040, valid_loss=0.5791]\n"
          ]
        },
        {
          "metadata": {
            "tags": null
          },
          "name": "stdout",
          "output_type": "stream",
          "text": [
            "\n",
            "\n",
            "Epoch 29/50"
          ]
        },
        {
          "metadata": {
            "tags": null
          },
          "name": "stderr",
          "output_type": "stream",
          "text": [
            "Train : 100%|██████████| 2000/2000 [00:26<00:00, 75.52it/s, gpu_mem=0.00 GB, lr=0.00039, train_loss=0.3319]\n",
            "Valid : 100%|██████████| 500/500 [00:03<00:00, 137.74it/s, gpu_memory=0.00 GB, lr=0.00039, valid_loss=0.5814]\n"
          ]
        },
        {
          "metadata": {
            "tags": null
          },
          "name": "stdout",
          "output_type": "stream",
          "text": [
            "\n",
            "\n",
            "Epoch 30/50"
          ]
        },
        {
          "metadata": {
            "tags": null
          },
          "name": "stderr",
          "output_type": "stream",
          "text": [
            "Train : 100%|██████████| 2000/2000 [00:26<00:00, 75.93it/s, gpu_mem=0.00 GB, lr=0.00039, train_loss=0.3356]\n",
            "Valid : 100%|██████████| 500/500 [00:03<00:00, 143.74it/s, gpu_memory=0.00 GB, lr=0.00039, valid_loss=0.5834]\n"
          ]
        },
        {
          "metadata": {
            "tags": null
          },
          "name": "stdout",
          "output_type": "stream",
          "text": [
            "\n",
            "\n",
            "Epoch 31/50"
          ]
        },
        {
          "metadata": {
            "tags": null
          },
          "name": "stderr",
          "output_type": "stream",
          "text": [
            "Train : 100%|██████████| 2000/2000 [00:26<00:00, 75.41it/s, gpu_mem=0.00 GB, lr=0.00038, train_loss=0.3362]\n",
            "Valid : 100%|██████████| 500/500 [00:03<00:00, 140.39it/s, gpu_memory=0.00 GB, lr=0.00038, valid_loss=0.5874]\n"
          ]
        },
        {
          "metadata": {
            "tags": null
          },
          "name": "stdout",
          "output_type": "stream",
          "text": [
            "\n",
            "\n",
            "Epoch 32/50"
          ]
        },
        {
          "metadata": {
            "tags": null
          },
          "name": "stderr",
          "output_type": "stream",
          "text": [
            "Train : 100%|██████████| 2000/2000 [00:26<00:00, 76.01it/s, gpu_mem=0.00 GB, lr=0.00037, train_loss=0.3353]\n",
            "Valid : 100%|██████████| 500/500 [00:03<00:00, 131.67it/s, gpu_memory=0.00 GB, lr=0.00037, valid_loss=0.5887]\n"
          ]
        },
        {
          "metadata": {
            "tags": null
          },
          "name": "stdout",
          "output_type": "stream",
          "text": [
            "\n",
            "\n",
            "Epoch 33/50"
          ]
        },
        {
          "metadata": {
            "tags": null
          },
          "name": "stderr",
          "output_type": "stream",
          "text": [
            "Train : 100%|██████████| 2000/2000 [00:24<00:00, 80.14it/s, gpu_mem=0.00 GB, lr=0.00036, train_loss=0.3365]\n",
            "Valid : 100%|██████████| 500/500 [00:03<00:00, 137.17it/s, gpu_memory=0.00 GB, lr=0.00036, valid_loss=0.5791]\n"
          ]
        },
        {
          "metadata": {
            "tags": null
          },
          "name": "stdout",
          "output_type": "stream",
          "text": [
            "\n",
            "\n",
            "Epoch 34/50"
          ]
        },
        {
          "metadata": {
            "tags": null
          },
          "name": "stderr",
          "output_type": "stream",
          "text": [
            "Train : 100%|██████████| 2000/2000 [00:25<00:00, 79.28it/s, gpu_mem=0.00 GB, lr=0.00036, train_loss=0.3269]\n",
            "Valid : 100%|██████████| 500/500 [00:03<00:00, 135.81it/s, gpu_memory=0.00 GB, lr=0.00036, valid_loss=0.5747]\n"
          ]
        },
        {
          "metadata": {
            "tags": null
          },
          "name": "stdout",
          "output_type": "stream",
          "text": [
            "\n",
            "\n",
            "Epoch 35/50"
          ]
        },
        {
          "metadata": {
            "tags": null
          },
          "name": "stderr",
          "output_type": "stream",
          "text": [
            "Train : 100%|██████████| 2000/2000 [00:26<00:00, 76.81it/s, gpu_mem=0.00 GB, lr=0.00035, train_loss=0.3350]\n",
            "Valid : 100%|██████████| 500/500 [00:03<00:00, 136.72it/s, gpu_memory=0.00 GB, lr=0.00035, valid_loss=0.5746]\n"
          ]
        },
        {
          "metadata": {
            "tags": null
          },
          "name": "stdout",
          "output_type": "stream",
          "text": [
            "\n",
            "\n",
            "Epoch 36/50"
          ]
        },
        {
          "metadata": {
            "tags": null
          },
          "name": "stderr",
          "output_type": "stream",
          "text": [
            "Train : 100%|██████████| 2000/2000 [00:27<00:00, 72.59it/s, gpu_mem=0.00 GB, lr=0.00034, train_loss=0.3401]\n",
            "Valid : 100%|██████████| 500/500 [00:03<00:00, 130.87it/s, gpu_memory=0.00 GB, lr=0.00034, valid_loss=0.5808]\n"
          ]
        },
        {
          "metadata": {
            "tags": null
          },
          "name": "stdout",
          "output_type": "stream",
          "text": [
            "\n",
            "\n",
            "Epoch 37/50"
          ]
        },
        {
          "metadata": {
            "tags": null
          },
          "name": "stderr",
          "output_type": "stream",
          "text": [
            "Train : 100%|██████████| 2000/2000 [00:27<00:00, 71.63it/s, gpu_mem=0.00 GB, lr=0.00033, train_loss=0.3353]\n",
            "Valid : 100%|██████████| 500/500 [00:03<00:00, 144.72it/s, gpu_memory=0.00 GB, lr=0.00033, valid_loss=0.5799]\n"
          ]
        },
        {
          "metadata": {
            "tags": null
          },
          "name": "stdout",
          "output_type": "stream",
          "text": [
            "\n",
            "\n",
            "Epoch 38/50"
          ]
        },
        {
          "metadata": {
            "tags": null
          },
          "name": "stderr",
          "output_type": "stream",
          "text": [
            "Train : 100%|██████████| 2000/2000 [00:25<00:00, 76.98it/s, gpu_mem=0.00 GB, lr=0.00033, train_loss=0.3421]\n",
            "Valid : 100%|██████████| 500/500 [00:03<00:00, 131.66it/s, gpu_memory=0.00 GB, lr=0.00033, valid_loss=0.5847]\n"
          ]
        },
        {
          "metadata": {
            "tags": null
          },
          "name": "stdout",
          "output_type": "stream",
          "text": [
            "\n",
            "\n",
            "Epoch 39/50"
          ]
        },
        {
          "metadata": {
            "tags": null
          },
          "name": "stderr",
          "output_type": "stream",
          "text": [
            "Train : 100%|██████████| 2000/2000 [00:25<00:00, 78.69it/s, gpu_mem=0.00 GB, lr=0.00032, train_loss=0.3508]\n",
            "Valid : 100%|██████████| 500/500 [00:03<00:00, 139.43it/s, gpu_memory=0.00 GB, lr=0.00032, valid_loss=0.5878]\n"
          ]
        },
        {
          "metadata": {
            "tags": null
          },
          "name": "stdout",
          "output_type": "stream",
          "text": [
            "\n",
            "\n",
            "Epoch 40/50"
          ]
        },
        {
          "metadata": {
            "tags": null
          },
          "name": "stderr",
          "output_type": "stream",
          "text": [
            "Train : 100%|██████████| 2000/2000 [00:26<00:00, 76.18it/s, gpu_mem=0.00 GB, lr=0.00031, train_loss=0.3502]\n",
            "Valid : 100%|██████████| 500/500 [00:03<00:00, 148.23it/s, gpu_memory=0.00 GB, lr=0.00031, valid_loss=0.5848]\n"
          ]
        },
        {
          "metadata": {
            "tags": null
          },
          "name": "stdout",
          "output_type": "stream",
          "text": [
            "\n",
            "\n",
            "Epoch 41/50"
          ]
        },
        {
          "metadata": {
            "tags": null
          },
          "name": "stderr",
          "output_type": "stream",
          "text": [
            "Train : 100%|██████████| 2000/2000 [00:26<00:00, 75.06it/s, gpu_mem=0.00 GB, lr=0.00030, train_loss=0.3421]\n",
            "Valid : 100%|██████████| 500/500 [00:03<00:00, 139.66it/s, gpu_memory=0.00 GB, lr=0.00030, valid_loss=0.5946]\n"
          ]
        },
        {
          "metadata": {
            "tags": null
          },
          "name": "stdout",
          "output_type": "stream",
          "text": [
            "\n",
            "\n",
            "Epoch 42/50"
          ]
        },
        {
          "metadata": {
            "tags": null
          },
          "name": "stderr",
          "output_type": "stream",
          "text": [
            "Train : 100%|██████████| 2000/2000 [00:25<00:00, 77.76it/s, gpu_mem=0.00 GB, lr=0.00029, train_loss=0.3490]\n",
            "Valid : 100%|██████████| 500/500 [00:03<00:00, 132.58it/s, gpu_memory=0.00 GB, lr=0.00029, valid_loss=0.5851]\n"
          ]
        },
        {
          "metadata": {
            "tags": null
          },
          "name": "stdout",
          "output_type": "stream",
          "text": [
            "\n",
            "\n",
            "Epoch 43/50"
          ]
        },
        {
          "metadata": {
            "tags": null
          },
          "name": "stderr",
          "output_type": "stream",
          "text": [
            "Train : 100%|██████████| 2000/2000 [00:25<00:00, 79.90it/s, gpu_mem=0.00 GB, lr=0.00029, train_loss=0.3508]\n",
            "Valid : 100%|██████████| 500/500 [00:03<00:00, 139.94it/s, gpu_memory=0.00 GB, lr=0.00029, valid_loss=0.5780]\n"
          ]
        },
        {
          "metadata": {
            "tags": null
          },
          "name": "stdout",
          "output_type": "stream",
          "text": [
            "\n",
            "\n",
            "Epoch 44/50"
          ]
        },
        {
          "metadata": {
            "tags": null
          },
          "name": "stderr",
          "output_type": "stream",
          "text": [
            "Train : 100%|██████████| 2000/2000 [00:26<00:00, 75.74it/s, gpu_mem=0.00 GB, lr=0.00028, train_loss=0.3479]\n",
            "Valid : 100%|██████████| 500/500 [00:03<00:00, 146.12it/s, gpu_memory=0.00 GB, lr=0.00028, valid_loss=0.5843]\n"
          ]
        },
        {
          "metadata": {
            "tags": null
          },
          "name": "stdout",
          "output_type": "stream",
          "text": [
            "\n",
            "\n",
            "Epoch 45/50"
          ]
        },
        {
          "metadata": {
            "tags": null
          },
          "name": "stderr",
          "output_type": "stream",
          "text": [
            "Train : 100%|██████████| 2000/2000 [00:27<00:00, 71.84it/s, gpu_mem=0.00 GB, lr=0.00027, train_loss=0.3555]\n",
            "Valid : 100%|██████████| 500/500 [00:03<00:00, 135.01it/s, gpu_memory=0.00 GB, lr=0.00027, valid_loss=0.5799]\n"
          ]
        },
        {
          "metadata": {
            "tags": null
          },
          "name": "stdout",
          "output_type": "stream",
          "text": [
            "\n",
            "\n",
            "Epoch 46/50"
          ]
        },
        {
          "metadata": {
            "tags": null
          },
          "name": "stderr",
          "output_type": "stream",
          "text": [
            "Train : 100%|██████████| 2000/2000 [00:25<00:00, 79.06it/s, gpu_mem=0.00 GB, lr=0.00026, train_loss=0.3642]\n",
            "Valid : 100%|██████████| 500/500 [00:03<00:00, 134.50it/s, gpu_memory=0.00 GB, lr=0.00026, valid_loss=0.5873]\n"
          ]
        },
        {
          "metadata": {
            "tags": null
          },
          "name": "stdout",
          "output_type": "stream",
          "text": [
            "\n",
            "\n",
            "Epoch 47/50"
          ]
        },
        {
          "metadata": {
            "tags": null
          },
          "name": "stderr",
          "output_type": "stream",
          "text": [
            "Train : 100%|██████████| 2000/2000 [00:25<00:00, 78.61it/s, gpu_mem=0.00 GB, lr=0.00025, train_loss=0.3650]\n",
            "Valid : 100%|██████████| 500/500 [00:03<00:00, 144.75it/s, gpu_memory=0.00 GB, lr=0.00025, valid_loss=0.5869]\n"
          ]
        },
        {
          "metadata": {
            "tags": null
          },
          "name": "stdout",
          "output_type": "stream",
          "text": [
            "\n",
            "\n",
            "Epoch 48/50"
          ]
        },
        {
          "metadata": {
            "tags": null
          },
          "name": "stderr",
          "output_type": "stream",
          "text": [
            "Train : 100%|██████████| 2000/2000 [00:26<00:00, 75.56it/s, gpu_mem=0.00 GB, lr=0.00025, train_loss=0.3572]\n",
            "Valid : 100%|██████████| 500/500 [00:03<00:00, 138.54it/s, gpu_memory=0.00 GB, lr=0.00025, valid_loss=0.5730]\n"
          ]
        },
        {
          "metadata": {
            "tags": null
          },
          "name": "stdout",
          "output_type": "stream",
          "text": [
            "\n",
            "\n",
            "Epoch 49/50"
          ]
        },
        {
          "metadata": {
            "tags": null
          },
          "name": "stderr",
          "output_type": "stream",
          "text": [
            "Train : 100%|██████████| 2000/2000 [00:26<00:00, 75.21it/s, gpu_mem=0.00 GB, lr=0.00024, train_loss=0.3703]\n",
            "Valid : 100%|██████████| 500/500 [00:03<00:00, 140.69it/s, gpu_memory=0.00 GB, lr=0.00024, valid_loss=0.5825]\n"
          ]
        },
        {
          "metadata": {
            "tags": null
          },
          "name": "stdout",
          "output_type": "stream",
          "text": [
            "\n",
            "\n",
            "Epoch 50/50"
          ]
        },
        {
          "metadata": {
            "tags": null
          },
          "name": "stderr",
          "output_type": "stream",
          "text": [
            "Train : 100%|██████████| 2000/2000 [00:25<00:00, 77.62it/s, gpu_mem=0.00 GB, lr=0.00023, train_loss=0.3736]\n",
            "Valid : 100%|██████████| 500/500 [00:03<00:00, 125.42it/s, gpu_memory=0.00 GB, lr=0.00023, valid_loss=0.5788]\n"
          ]
        },
        {
          "metadata": {
            "tags": null
          },
          "name": "stdout",
          "output_type": "stream",
          "text": [
            "\n",
            "\n",
            "Training complete in 0h 26m 58s\n",
            "Best Loss: 0.5631\n"
          ]
        },
        {
          "data": {
            "application/vnd.jupyter.widget-view+json": {
              "model_id": "caeb5e356a1b4e47a898944a113feb9c",
              "version_major": 2,
              "version_minor": 0
            },
            "text/plain": [
              "VBox(children=(Label(value='0.083 MB of 0.083 MB uploaded\\r'), FloatProgress(value=1.0, max=1.0)))"
            ]
          },
          "metadata": {},
          "output_type": "display_data"
        },
        {
          "data": {
            "text/html": [
              "<style>\n",
              "    table.wandb td:nth-child(1) { padding: 0 10px; text-align: left ; width: auto;} td:nth-child(2) {text-align: left ; width: 100%}\n",
              "    .wandb-row { display: flex; flex-direction: row; flex-wrap: wrap; justify-content: flex-start; width: 100% }\n",
              "    .wandb-col { display: flex; flex-direction: column; flex-basis: 100%; flex: 1; padding: 10px; }\n",
              "    </style>\n",
              "<div class=\"wandb-row\"><div class=\"wandb-col\"><h3>Run history:</h3><br/><table class=\"wandb\"><tr><td>LR</td><td>█████████▇▇▇▇▇▇▇▆▆▆▆▆▆▅▅▅▅▅▄▄▄▄▃▃▃▂▂▂▂▁▁</td></tr><tr><td>Train Loss</td><td>▁▁▂▂▂▂▂▂▁▂▁▂▂▂▂▃▂▃▃▄▃▃▃▃▃▃▃▂▄▃▄▅▄▅▅▅▇▇▆█</td></tr><tr><td>Valid Loss</td><td>▄▂▅▆█▅▄▆█▄▅▆█▅▆▃▄▄▅▄▁▄▃▄▅▅▃▃▄▄▄▅▆▄▃▄▅▅▂▃</td></tr></table><br/></div><div class=\"wandb-col\"><h3>Run summary:</h3><br/><table class=\"wandb\"><tr><td>Best Epoch</td><td>26</td></tr><tr><td>Best Loss</td><td>0.56312</td></tr><tr><td>LR</td><td>0.00023</td></tr><tr><td>Train Loss</td><td>0.37363</td></tr><tr><td>Valid Loss</td><td>0.57885</td></tr></table><br/></div></div>"
            ],
            "text/plain": [
              "<IPython.core.display.HTML object>"
            ]
          },
          "metadata": {},
          "output_type": "display_data"
        },
        {
          "data": {
            "text/html": [
              " View run <strong style=\"color:#cdcd00\">fold-1|model-LSTM-FC</strong> at: <a href='https://wandb.ai/nenecchicv/internal-competition/runs/n8c1lckv' target=\"_blank\">https://wandb.ai/nenecchicv/internal-competition/runs/n8c1lckv</a><br/>Synced 5 W&B file(s), 0 media file(s), 0 artifact file(s) and 1 other file(s)"
            ],
            "text/plain": [
              "<IPython.core.display.HTML object>"
            ]
          },
          "metadata": {},
          "output_type": "display_data"
        },
        {
          "data": {
            "text/html": [
              "Find logs at: <code>./wandb/run-20240311_151045-n8c1lckv/logs</code>"
            ],
            "text/plain": [
              "<IPython.core.display.HTML object>"
            ]
          },
          "metadata": {},
          "output_type": "display_data"
        },
        {
          "metadata": {
            "tags": null
          },
          "name": "stdout",
          "output_type": "stream",
          "text": [
            "FOLD 2\n",
            "--------------------------------\n"
          ]
        },
        {
          "data": {
            "text/html": [
              "Tracking run with wandb version 0.16.4"
            ],
            "text/plain": [
              "<IPython.core.display.HTML object>"
            ]
          },
          "metadata": {},
          "output_type": "display_data"
        },
        {
          "data": {
            "text/html": [
              "Run data is saved locally in <code>/content/wandb/run-20240311_153750-7hol6qxk</code>"
            ],
            "text/plain": [
              "<IPython.core.display.HTML object>"
            ]
          },
          "metadata": {},
          "output_type": "display_data"
        },
        {
          "data": {
            "text/html": [
              "Syncing run <strong><a href='https://wandb.ai/nenecchicv/internal-competition/runs/7hol6qxk' target=\"_blank\">fold-2|model-LSTM-FC</a></strong> to <a href='https://wandb.ai/nenecchicv/internal-competition' target=\"_blank\">Weights & Biases</a> (<a href='https://wandb.me/run' target=\"_blank\">docs</a>)<br/>"
            ],
            "text/plain": [
              "<IPython.core.display.HTML object>"
            ]
          },
          "metadata": {},
          "output_type": "display_data"
        },
        {
          "data": {
            "text/html": [
              " View project at <a href='https://wandb.ai/nenecchicv/internal-competition' target=\"_blank\">https://wandb.ai/nenecchicv/internal-competition</a>"
            ],
            "text/plain": [
              "<IPython.core.display.HTML object>"
            ]
          },
          "metadata": {},
          "output_type": "display_data"
        },
        {
          "data": {
            "text/html": [
              " View run at <a href='https://wandb.ai/nenecchicv/internal-competition/runs/7hol6qxk' target=\"_blank\">https://wandb.ai/nenecchicv/internal-competition/runs/7hol6qxk</a>"
            ],
            "text/plain": [
              "<IPython.core.display.HTML object>"
            ]
          },
          "metadata": {},
          "output_type": "display_data"
        },
        {
          "metadata": {
            "tags": null
          },
          "name": "stdout",
          "output_type": "stream",
          "text": [
            "Epoch 1/50"
          ]
        },
        {
          "metadata": {
            "tags": null
          },
          "name": "stderr",
          "output_type": "stream",
          "text": [
            "Train : 100%|██████████| 2000/2000 [00:27<00:00, 73.36it/s, gpu_mem=0.00 GB, lr=0.00050, train_loss=0.3333]\n",
            "Valid : 100%|██████████| 500/500 [00:03<00:00, 140.21it/s, gpu_memory=0.00 GB, lr=0.00050, valid_loss=0.5773]\n"
          ]
        },
        {
          "metadata": {
            "tags": null
          },
          "name": "stdout",
          "output_type": "stream",
          "text": [
            "\u001b[32mValid Score Improved (inf ---> 0.5773)\n",
            "Model Saved\u001b[0m\n",
            "\n",
            "\n",
            "Epoch 2/50"
          ]
        },
        {
          "metadata": {
            "tags": null
          },
          "name": "stderr",
          "output_type": "stream",
          "text": [
            "Train : 100%|██████████| 2000/2000 [00:26<00:00, 76.33it/s, gpu_mem=0.00 GB, lr=0.00050, train_loss=0.3204]\n",
            "Valid : 100%|██████████| 500/500 [00:03<00:00, 129.02it/s, gpu_memory=0.00 GB, lr=0.00050, valid_loss=0.5745]\n"
          ]
        },
        {
          "metadata": {
            "tags": null
          },
          "name": "stdout",
          "output_type": "stream",
          "text": [
            "\u001b[32mValid Score Improved (0.5773 ---> 0.5745)\n",
            "Model Saved\u001b[0m\n",
            "\n",
            "\n",
            "Epoch 3/50"
          ]
        },
        {
          "metadata": {
            "tags": null
          },
          "name": "stderr",
          "output_type": "stream",
          "text": [
            "Train : 100%|██████████| 2000/2000 [00:27<00:00, 72.99it/s, gpu_mem=0.00 GB, lr=0.00050, train_loss=0.3239]\n",
            "Valid : 100%|██████████| 500/500 [00:03<00:00, 138.60it/s, gpu_memory=0.00 GB, lr=0.00050, valid_loss=0.5680]\n"
          ]
        },
        {
          "metadata": {
            "tags": null
          },
          "name": "stdout",
          "output_type": "stream",
          "text": [
            "\u001b[32mValid Score Improved (0.5745 ---> 0.5680)\n",
            "Model Saved\u001b[0m\n",
            "\n",
            "\n",
            "Epoch 4/50"
          ]
        },
        {
          "metadata": {
            "tags": null
          },
          "name": "stderr",
          "output_type": "stream",
          "text": [
            "Train : 100%|██████████| 2000/2000 [00:27<00:00, 73.92it/s, gpu_mem=0.00 GB, lr=0.00050, train_loss=0.3255]\n",
            "Valid : 100%|██████████| 500/500 [00:03<00:00, 145.40it/s, gpu_memory=0.00 GB, lr=0.00050, valid_loss=0.5656]\n"
          ]
        },
        {
          "metadata": {
            "tags": null
          },
          "name": "stdout",
          "output_type": "stream",
          "text": [
            "\u001b[32mValid Score Improved (0.5680 ---> 0.5656)\n",
            "Model Saved\u001b[0m\n",
            "\n",
            "\n",
            "Epoch 5/50"
          ]
        },
        {
          "metadata": {
            "tags": null
          },
          "name": "stderr",
          "output_type": "stream",
          "text": [
            "Train : 100%|██████████| 2000/2000 [00:27<00:00, 71.68it/s, gpu_mem=0.00 GB, lr=0.00050, train_loss=0.3174]\n",
            "Valid : 100%|██████████| 500/500 [00:03<00:00, 145.71it/s, gpu_memory=0.00 GB, lr=0.00050, valid_loss=0.5735]\n"
          ]
        },
        {
          "metadata": {
            "tags": null
          },
          "name": "stdout",
          "output_type": "stream",
          "text": [
            "\n",
            "\n",
            "Epoch 6/50"
          ]
        },
        {
          "metadata": {
            "tags": null
          },
          "name": "stderr",
          "output_type": "stream",
          "text": [
            "Train : 100%|██████████| 2000/2000 [00:26<00:00, 76.01it/s, gpu_mem=0.00 GB, lr=0.00050, train_loss=0.3246]\n",
            "Valid : 100%|██████████| 500/500 [00:04<00:00, 124.78it/s, gpu_memory=0.00 GB, lr=0.00050, valid_loss=0.5773]\n"
          ]
        },
        {
          "metadata": {
            "tags": null
          },
          "name": "stdout",
          "output_type": "stream",
          "text": [
            "\n",
            "\n",
            "Epoch 7/50"
          ]
        },
        {
          "metadata": {
            "tags": null
          },
          "name": "stderr",
          "output_type": "stream",
          "text": [
            "Train : 100%|██████████| 2000/2000 [00:26<00:00, 76.60it/s, gpu_mem=0.00 GB, lr=0.00049, train_loss=0.3251]\n",
            "Valid : 100%|██████████| 500/500 [00:03<00:00, 134.91it/s, gpu_memory=0.00 GB, lr=0.00049, valid_loss=0.5752]\n"
          ]
        },
        {
          "metadata": {
            "tags": null
          },
          "name": "stdout",
          "output_type": "stream",
          "text": [
            "\n",
            "\n",
            "Epoch 8/50"
          ]
        },
        {
          "metadata": {
            "tags": null
          },
          "name": "stderr",
          "output_type": "stream",
          "text": [
            "Train : 100%|██████████| 2000/2000 [00:26<00:00, 75.84it/s, gpu_mem=0.00 GB, lr=0.00049, train_loss=0.3322]\n",
            "Valid : 100%|██████████| 500/500 [00:03<00:00, 144.29it/s, gpu_memory=0.00 GB, lr=0.00049, valid_loss=0.5658]\n"
          ]
        },
        {
          "metadata": {
            "tags": null
          },
          "name": "stdout",
          "output_type": "stream",
          "text": [
            "\n",
            "\n",
            "Epoch 9/50"
          ]
        },
        {
          "metadata": {
            "tags": null
          },
          "name": "stderr",
          "output_type": "stream",
          "text": [
            "Train : 100%|██████████| 2000/2000 [00:27<00:00, 73.36it/s, gpu_mem=0.00 GB, lr=0.00049, train_loss=0.3177]\n",
            "Valid : 100%|██████████| 500/500 [00:03<00:00, 144.62it/s, gpu_memory=0.00 GB, lr=0.00049, valid_loss=0.5666]\n"
          ]
        },
        {
          "metadata": {
            "tags": null
          },
          "name": "stdout",
          "output_type": "stream",
          "text": [
            "\n",
            "\n",
            "Epoch 10/50"
          ]
        },
        {
          "metadata": {
            "tags": null
          },
          "name": "stderr",
          "output_type": "stream",
          "text": [
            "Train : 100%|██████████| 2000/2000 [00:26<00:00, 74.21it/s, gpu_mem=0.00 GB, lr=0.00049, train_loss=0.3198]\n",
            "Valid : 100%|██████████| 500/500 [00:03<00:00, 146.53it/s, gpu_memory=0.00 GB, lr=0.00049, valid_loss=0.5762]\n"
          ]
        },
        {
          "metadata": {
            "tags": null
          },
          "name": "stdout",
          "output_type": "stream",
          "text": [
            "\n",
            "\n",
            "Epoch 11/50"
          ]
        },
        {
          "metadata": {
            "tags": null
          },
          "name": "stderr",
          "output_type": "stream",
          "text": [
            "Train : 100%|██████████| 2000/2000 [00:27<00:00, 71.91it/s, gpu_mem=0.00 GB, lr=0.00048, train_loss=0.3256]\n",
            "Valid : 100%|██████████| 500/500 [00:03<00:00, 129.05it/s, gpu_memory=0.00 GB, lr=0.00048, valid_loss=0.5695]\n"
          ]
        },
        {
          "metadata": {
            "tags": null
          },
          "name": "stdout",
          "output_type": "stream",
          "text": [
            "\n",
            "\n",
            "Epoch 12/50"
          ]
        },
        {
          "metadata": {
            "tags": null
          },
          "name": "stderr",
          "output_type": "stream",
          "text": [
            "Train : 100%|██████████| 2000/2000 [00:26<00:00, 75.46it/s, gpu_mem=0.00 GB, lr=0.00048, train_loss=0.3294]\n",
            "Valid : 100%|██████████| 500/500 [00:03<00:00, 147.81it/s, gpu_memory=0.00 GB, lr=0.00048, valid_loss=0.5660]\n"
          ]
        },
        {
          "metadata": {
            "tags": null
          },
          "name": "stdout",
          "output_type": "stream",
          "text": [
            "\n",
            "\n",
            "Epoch 13/50"
          ]
        },
        {
          "metadata": {
            "tags": null
          },
          "name": "stderr",
          "output_type": "stream",
          "text": [
            "Train : 100%|██████████| 2000/2000 [00:27<00:00, 72.01it/s, gpu_mem=0.00 GB, lr=0.00048, train_loss=0.3205]\n",
            "Valid : 100%|██████████| 500/500 [00:03<00:00, 139.00it/s, gpu_memory=0.00 GB, lr=0.00048, valid_loss=0.5624]\n"
          ]
        },
        {
          "metadata": {
            "tags": null
          },
          "name": "stdout",
          "output_type": "stream",
          "text": [
            "\u001b[32mValid Score Improved (0.5656 ---> 0.5624)\n",
            "Model Saved\u001b[0m\n",
            "\n",
            "\n",
            "Epoch 14/50"
          ]
        },
        {
          "metadata": {
            "tags": null
          },
          "name": "stderr",
          "output_type": "stream",
          "text": [
            "Train : 100%|██████████| 2000/2000 [00:27<00:00, 72.19it/s, gpu_mem=0.00 GB, lr=0.00047, train_loss=0.3306]\n",
            "Valid : 100%|██████████| 500/500 [00:03<00:00, 138.81it/s, gpu_memory=0.00 GB, lr=0.00047, valid_loss=0.5819]\n"
          ]
        },
        {
          "metadata": {
            "tags": null
          },
          "name": "stdout",
          "output_type": "stream",
          "text": [
            "\n",
            "\n",
            "Epoch 15/50"
          ]
        },
        {
          "metadata": {
            "tags": null
          },
          "name": "stderr",
          "output_type": "stream",
          "text": [
            "Train : 100%|██████████| 2000/2000 [00:26<00:00, 74.95it/s, gpu_mem=0.00 GB, lr=0.00047, train_loss=0.3277]\n",
            "Valid : 100%|██████████| 500/500 [00:03<00:00, 133.41it/s, gpu_memory=0.00 GB, lr=0.00047, valid_loss=0.5652]\n"
          ]
        },
        {
          "metadata": {
            "tags": null
          },
          "name": "stdout",
          "output_type": "stream",
          "text": [
            "\n",
            "\n",
            "Epoch 16/50"
          ]
        },
        {
          "metadata": {
            "tags": null
          },
          "name": "stderr",
          "output_type": "stream",
          "text": [
            "Train : 100%|██████████| 2000/2000 [00:26<00:00, 75.01it/s, gpu_mem=0.00 GB, lr=0.00047, train_loss=0.3330]\n",
            "Valid : 100%|██████████| 500/500 [00:03<00:00, 138.03it/s, gpu_memory=0.00 GB, lr=0.00047, valid_loss=0.5614]\n"
          ]
        },
        {
          "metadata": {
            "tags": null
          },
          "name": "stdout",
          "output_type": "stream",
          "text": [
            "\u001b[32mValid Score Improved (0.5624 ---> 0.5614)\n",
            "Model Saved\u001b[0m\n",
            "\n",
            "\n",
            "Epoch 17/50"
          ]
        },
        {
          "metadata": {
            "tags": null
          },
          "name": "stderr",
          "output_type": "stream",
          "text": [
            "Train : 100%|██████████| 2000/2000 [00:27<00:00, 73.25it/s, gpu_mem=0.00 GB, lr=0.00046, train_loss=0.3272]\n",
            "Valid : 100%|██████████| 500/500 [00:03<00:00, 141.56it/s, gpu_memory=0.00 GB, lr=0.00046, valid_loss=0.5689]\n"
          ]
        },
        {
          "metadata": {
            "tags": null
          },
          "name": "stdout",
          "output_type": "stream",
          "text": [
            "\n",
            "\n",
            "Epoch 18/50"
          ]
        },
        {
          "metadata": {
            "tags": null
          },
          "name": "stderr",
          "output_type": "stream",
          "text": [
            "Train : 100%|██████████| 2000/2000 [00:27<00:00, 73.05it/s, gpu_mem=0.00 GB, lr=0.00046, train_loss=0.3363]\n",
            "Valid : 100%|██████████| 500/500 [00:03<00:00, 135.89it/s, gpu_memory=0.00 GB, lr=0.00046, valid_loss=0.5684]\n"
          ]
        },
        {
          "metadata": {
            "tags": null
          },
          "name": "stdout",
          "output_type": "stream",
          "text": [
            "\n",
            "\n",
            "Epoch 19/50"
          ]
        },
        {
          "metadata": {
            "tags": null
          },
          "name": "stderr",
          "output_type": "stream",
          "text": [
            "Train : 100%|██████████| 2000/2000 [00:28<00:00, 70.52it/s, gpu_mem=0.00 GB, lr=0.00045, train_loss=0.3297]\n",
            "Valid : 100%|██████████| 500/500 [00:03<00:00, 141.55it/s, gpu_memory=0.00 GB, lr=0.00045, valid_loss=0.5695]\n"
          ]
        },
        {
          "metadata": {
            "tags": null
          },
          "name": "stdout",
          "output_type": "stream",
          "text": [
            "\n",
            "\n",
            "Epoch 20/50"
          ]
        },
        {
          "metadata": {
            "tags": null
          },
          "name": "stderr",
          "output_type": "stream",
          "text": [
            "Train : 100%|██████████| 2000/2000 [00:26<00:00, 76.28it/s, gpu_mem=0.00 GB, lr=0.00045, train_loss=0.3311]\n",
            "Valid : 100%|██████████| 500/500 [00:03<00:00, 129.71it/s, gpu_memory=0.00 GB, lr=0.00045, valid_loss=0.5673]\n"
          ]
        },
        {
          "metadata": {
            "tags": null
          },
          "name": "stdout",
          "output_type": "stream",
          "text": [
            "\n",
            "\n",
            "Epoch 21/50"
          ]
        },
        {
          "metadata": {
            "tags": null
          },
          "name": "stderr",
          "output_type": "stream",
          "text": [
            "Train : 100%|██████████| 2000/2000 [00:26<00:00, 75.09it/s, gpu_mem=0.00 GB, lr=0.00044, train_loss=0.3322]\n",
            "Valid : 100%|██████████| 500/500 [00:03<00:00, 136.55it/s, gpu_memory=0.00 GB, lr=0.00044, valid_loss=0.5624]\n"
          ]
        },
        {
          "metadata": {
            "tags": null
          },
          "name": "stdout",
          "output_type": "stream",
          "text": [
            "\n",
            "\n",
            "Epoch 22/50"
          ]
        },
        {
          "metadata": {
            "tags": null
          },
          "name": "stderr",
          "output_type": "stream",
          "text": [
            "Train : 100%|██████████| 2000/2000 [00:27<00:00, 72.74it/s, gpu_mem=0.00 GB, lr=0.00044, train_loss=0.3201]\n",
            "Valid : 100%|██████████| 500/500 [00:03<00:00, 135.87it/s, gpu_memory=0.00 GB, lr=0.00044, valid_loss=0.5608]\n"
          ]
        },
        {
          "metadata": {
            "tags": null
          },
          "name": "stdout",
          "output_type": "stream",
          "text": [
            "\u001b[32mValid Score Improved (0.5614 ---> 0.5608)\n",
            "Model Saved\u001b[0m\n",
            "\n",
            "\n",
            "Epoch 23/50"
          ]
        },
        {
          "metadata": {
            "tags": null
          },
          "name": "stderr",
          "output_type": "stream",
          "text": [
            "Train : 100%|██████████| 2000/2000 [00:27<00:00, 72.71it/s, gpu_mem=0.00 GB, lr=0.00043, train_loss=0.3281]\n",
            "Valid : 100%|██████████| 500/500 [00:03<00:00, 143.25it/s, gpu_memory=0.00 GB, lr=0.00043, valid_loss=0.5651]\n"
          ]
        },
        {
          "metadata": {
            "tags": null
          },
          "name": "stdout",
          "output_type": "stream",
          "text": [
            "\n",
            "\n",
            "Epoch 24/50"
          ]
        },
        {
          "metadata": {
            "tags": null
          },
          "name": "stderr",
          "output_type": "stream",
          "text": [
            "Train : 100%|██████████| 2000/2000 [00:26<00:00, 74.40it/s, gpu_mem=0.00 GB, lr=0.00042, train_loss=0.3384]\n",
            "Valid : 100%|██████████| 500/500 [00:03<00:00, 130.52it/s, gpu_memory=0.00 GB, lr=0.00042, valid_loss=0.5608]\n"
          ]
        },
        {
          "metadata": {
            "tags": null
          },
          "name": "stdout",
          "output_type": "stream",
          "text": [
            "\u001b[32mValid Score Improved (0.5608 ---> 0.5608)\n",
            "Model Saved\u001b[0m\n",
            "\n",
            "\n",
            "Epoch 25/50"
          ]
        },
        {
          "metadata": {
            "tags": null
          },
          "name": "stderr",
          "output_type": "stream",
          "text": [
            "Train : 100%|██████████| 2000/2000 [00:26<00:00, 76.69it/s, gpu_mem=0.00 GB, lr=0.00042, train_loss=0.3382]\n",
            "Valid : 100%|██████████| 500/500 [00:03<00:00, 139.67it/s, gpu_memory=0.00 GB, lr=0.00042, valid_loss=0.5632]\n"
          ]
        },
        {
          "metadata": {
            "tags": null
          },
          "name": "stdout",
          "output_type": "stream",
          "text": [
            "\n",
            "\n",
            "Epoch 26/50"
          ]
        },
        {
          "metadata": {
            "tags": null
          },
          "name": "stderr",
          "output_type": "stream",
          "text": [
            "Train : 100%|██████████| 2000/2000 [00:28<00:00, 70.90it/s, gpu_mem=0.00 GB, lr=0.00041, train_loss=0.3378]\n",
            "Valid : 100%|██████████| 500/500 [00:03<00:00, 130.42it/s, gpu_memory=0.00 GB, lr=0.00041, valid_loss=0.5741]\n"
          ]
        },
        {
          "metadata": {
            "tags": null
          },
          "name": "stdout",
          "output_type": "stream",
          "text": [
            "\n",
            "\n",
            "Epoch 27/50"
          ]
        },
        {
          "metadata": {
            "tags": null
          },
          "name": "stderr",
          "output_type": "stream",
          "text": [
            "Train : 100%|██████████| 2000/2000 [00:27<00:00, 72.42it/s, gpu_mem=0.00 GB, lr=0.00041, train_loss=0.3385]\n",
            "Valid : 100%|██████████| 500/500 [00:03<00:00, 140.85it/s, gpu_memory=0.00 GB, lr=0.00041, valid_loss=0.5731]\n"
          ]
        },
        {
          "metadata": {
            "tags": null
          },
          "name": "stdout",
          "output_type": "stream",
          "text": [
            "\n",
            "\n",
            "Epoch 28/50"
          ]
        },
        {
          "metadata": {
            "tags": null
          },
          "name": "stderr",
          "output_type": "stream",
          "text": [
            "Train : 100%|██████████| 2000/2000 [00:27<00:00, 72.79it/s, gpu_mem=0.00 GB, lr=0.00040, train_loss=0.3474]\n",
            "Valid : 100%|██████████| 500/500 [00:03<00:00, 137.86it/s, gpu_memory=0.00 GB, lr=0.00040, valid_loss=0.5721]\n"
          ]
        },
        {
          "metadata": {
            "tags": null
          },
          "name": "stdout",
          "output_type": "stream",
          "text": [
            "\n",
            "\n",
            "Epoch 29/50"
          ]
        },
        {
          "metadata": {
            "tags": null
          },
          "name": "stderr",
          "output_type": "stream",
          "text": [
            "Train : 100%|██████████| 2000/2000 [00:26<00:00, 74.78it/s, gpu_mem=0.00 GB, lr=0.00039, train_loss=0.3372]\n",
            "Valid : 100%|██████████| 500/500 [00:03<00:00, 147.39it/s, gpu_memory=0.00 GB, lr=0.00039, valid_loss=0.5682]\n"
          ]
        },
        {
          "metadata": {
            "tags": null
          },
          "name": "stdout",
          "output_type": "stream",
          "text": [
            "\n",
            "\n",
            "Epoch 30/50"
          ]
        },
        {
          "metadata": {
            "tags": null
          },
          "name": "stderr",
          "output_type": "stream",
          "text": [
            "Train : 100%|██████████| 2000/2000 [00:27<00:00, 73.83it/s, gpu_mem=0.00 GB, lr=0.00039, train_loss=0.3403]\n",
            "Valid : 100%|██████████| 500/500 [00:03<00:00, 131.04it/s, gpu_memory=0.00 GB, lr=0.00039, valid_loss=0.5593]\n"
          ]
        },
        {
          "metadata": {
            "tags": null
          },
          "name": "stdout",
          "output_type": "stream",
          "text": [
            "\u001b[32mValid Score Improved (0.5608 ---> 0.5593)\n",
            "Model Saved\u001b[0m\n",
            "\n",
            "\n",
            "Epoch 31/50"
          ]
        },
        {
          "metadata": {
            "tags": null
          },
          "name": "stderr",
          "output_type": "stream",
          "text": [
            "Train : 100%|██████████| 2000/2000 [00:27<00:00, 72.59it/s, gpu_mem=0.00 GB, lr=0.00038, train_loss=0.3524]\n",
            "Valid : 100%|██████████| 500/500 [00:03<00:00, 156.99it/s, gpu_memory=0.00 GB, lr=0.00038, valid_loss=0.5643]\n"
          ]
        },
        {
          "metadata": {
            "tags": null
          },
          "name": "stdout",
          "output_type": "stream",
          "text": [
            "\n",
            "\n",
            "Epoch 32/50"
          ]
        },
        {
          "metadata": {
            "tags": null
          },
          "name": "stderr",
          "output_type": "stream",
          "text": [
            "Train : 100%|██████████| 2000/2000 [00:36<00:00, 54.33it/s, gpu_mem=0.00 GB, lr=0.00037, train_loss=0.3375]\n",
            "Valid : 100%|██████████| 500/500 [00:03<00:00, 136.20it/s, gpu_memory=0.00 GB, lr=0.00037, valid_loss=0.5617]\n"
          ]
        },
        {
          "metadata": {
            "tags": null
          },
          "name": "stdout",
          "output_type": "stream",
          "text": [
            "\n",
            "\n",
            "Epoch 33/50"
          ]
        },
        {
          "metadata": {
            "tags": null
          },
          "name": "stderr",
          "output_type": "stream",
          "text": [
            "Train : 100%|██████████| 2000/2000 [00:47<00:00, 42.47it/s, gpu_mem=0.00 GB, lr=0.00036, train_loss=0.3415]\n",
            "Valid : 100%|██████████| 500/500 [00:03<00:00, 128.33it/s, gpu_memory=0.00 GB, lr=0.00036, valid_loss=0.5640]\n"
          ]
        },
        {
          "metadata": {
            "tags": null
          },
          "name": "stdout",
          "output_type": "stream",
          "text": [
            "\n",
            "\n",
            "Epoch 34/50"
          ]
        },
        {
          "metadata": {
            "tags": null
          },
          "name": "stderr",
          "output_type": "stream",
          "text": [
            "Train : 100%|██████████| 2000/2000 [00:39<00:00, 50.33it/s, gpu_mem=0.00 GB, lr=0.00036, train_loss=0.3406]\n",
            "Valid : 100%|██████████| 500/500 [00:03<00:00, 129.21it/s, gpu_memory=0.00 GB, lr=0.00036, valid_loss=0.5561]\n"
          ]
        },
        {
          "metadata": {
            "tags": null
          },
          "name": "stdout",
          "output_type": "stream",
          "text": [
            "\u001b[32mValid Score Improved (0.5593 ---> 0.5561)\n",
            "Model Saved\u001b[0m\n",
            "\n",
            "\n",
            "Epoch 35/50"
          ]
        },
        {
          "metadata": {
            "tags": null
          },
          "name": "stderr",
          "output_type": "stream",
          "text": [
            "Train : 100%|██████████| 2000/2000 [00:35<00:00, 56.18it/s, gpu_mem=0.00 GB, lr=0.00035, train_loss=0.3448]\n",
            "Valid : 100%|██████████| 500/500 [00:07<00:00, 70.16it/s, gpu_memory=0.00 GB, lr=0.00035, valid_loss=0.5700]\n"
          ]
        },
        {
          "metadata": {
            "tags": null
          },
          "name": "stdout",
          "output_type": "stream",
          "text": [
            "\n",
            "\n",
            "Epoch 36/50"
          ]
        },
        {
          "metadata": {
            "tags": null
          },
          "name": "stderr",
          "output_type": "stream",
          "text": [
            "Train : 100%|██████████| 2000/2000 [00:28<00:00, 69.22it/s, gpu_mem=0.00 GB, lr=0.00034, train_loss=0.3441]\n",
            "Valid : 100%|██████████| 500/500 [00:05<00:00, 93.28it/s, gpu_memory=0.00 GB, lr=0.00034, valid_loss=0.5596]\n"
          ]
        },
        {
          "metadata": {
            "tags": null
          },
          "name": "stdout",
          "output_type": "stream",
          "text": [
            "\n",
            "\n",
            "Epoch 37/50"
          ]
        },
        {
          "metadata": {
            "tags": null
          },
          "name": "stderr",
          "output_type": "stream",
          "text": [
            "Train : 100%|██████████| 2000/2000 [00:48<00:00, 40.89it/s, gpu_mem=0.00 GB, lr=0.00033, train_loss=0.3505]\n",
            "Valid : 100%|██████████| 500/500 [00:10<00:00, 49.05it/s, gpu_memory=0.00 GB, lr=0.00033, valid_loss=0.5633]\n"
          ]
        },
        {
          "metadata": {
            "tags": null
          },
          "name": "stdout",
          "output_type": "stream",
          "text": [
            "\n",
            "\n",
            "Epoch 38/50"
          ]
        },
        {
          "metadata": {
            "tags": null
          },
          "name": "stderr",
          "output_type": "stream",
          "text": [
            "Train : 100%|██████████| 2000/2000 [00:37<00:00, 53.97it/s, gpu_mem=0.00 GB, lr=0.00033, train_loss=0.3477]\n",
            "Valid : 100%|██████████| 500/500 [00:04<00:00, 111.95it/s, gpu_memory=0.00 GB, lr=0.00033, valid_loss=0.5612]\n"
          ]
        },
        {
          "metadata": {
            "tags": null
          },
          "name": "stdout",
          "output_type": "stream",
          "text": [
            "\n",
            "\n",
            "Epoch 39/50"
          ]
        },
        {
          "metadata": {
            "tags": null
          },
          "name": "stderr",
          "output_type": "stream",
          "text": [
            "Train : 100%|██████████| 2000/2000 [00:41<00:00, 47.93it/s, gpu_mem=0.00 GB, lr=0.00032, train_loss=0.3476]\n",
            "Valid : 100%|██████████| 500/500 [00:03<00:00, 139.87it/s, gpu_memory=0.00 GB, lr=0.00032, valid_loss=0.5676]\n"
          ]
        },
        {
          "metadata": {
            "tags": null
          },
          "name": "stdout",
          "output_type": "stream",
          "text": [
            "\n",
            "\n",
            "Epoch 40/50"
          ]
        },
        {
          "metadata": {
            "tags": null
          },
          "name": "stderr",
          "output_type": "stream",
          "text": [
            "Train : 100%|██████████| 2000/2000 [00:34<00:00, 58.01it/s, gpu_mem=0.00 GB, lr=0.00031, train_loss=0.3409]\n",
            "Valid : 100%|██████████| 500/500 [00:04<00:00, 119.67it/s, gpu_memory=0.00 GB, lr=0.00031, valid_loss=0.5616]\n"
          ]
        },
        {
          "metadata": {
            "tags": null
          },
          "name": "stdout",
          "output_type": "stream",
          "text": [
            "\n",
            "\n",
            "Epoch 41/50"
          ]
        },
        {
          "metadata": {
            "tags": null
          },
          "name": "stderr",
          "output_type": "stream",
          "text": [
            "Train : 100%|██████████| 2000/2000 [00:27<00:00, 72.04it/s, gpu_mem=0.00 GB, lr=0.00030, train_loss=0.3432]\n",
            "Valid : 100%|██████████| 500/500 [00:03<00:00, 137.78it/s, gpu_memory=0.00 GB, lr=0.00030, valid_loss=0.5789]\n"
          ]
        },
        {
          "metadata": {
            "tags": null
          },
          "name": "stdout",
          "output_type": "stream",
          "text": [
            "\n",
            "\n",
            "Epoch 42/50"
          ]
        },
        {
          "metadata": {
            "tags": null
          },
          "name": "stderr",
          "output_type": "stream",
          "text": [
            "Train : 100%|██████████| 2000/2000 [00:29<00:00, 68.42it/s, gpu_mem=0.00 GB, lr=0.00029, train_loss=0.3635]\n",
            "Valid : 100%|██████████| 500/500 [00:03<00:00, 134.98it/s, gpu_memory=0.00 GB, lr=0.00029, valid_loss=0.5589]\n"
          ]
        },
        {
          "metadata": {
            "tags": null
          },
          "name": "stdout",
          "output_type": "stream",
          "text": [
            "\n",
            "\n",
            "Epoch 43/50"
          ]
        },
        {
          "metadata": {
            "tags": null
          },
          "name": "stderr",
          "output_type": "stream",
          "text": [
            "Train : 100%|██████████| 2000/2000 [00:55<00:00, 36.07it/s, gpu_mem=0.00 GB, lr=0.00029, train_loss=0.3540]\n",
            "Valid : 100%|██████████| 500/500 [00:04<00:00, 115.14it/s, gpu_memory=0.00 GB, lr=0.00029, valid_loss=0.5551]\n"
          ]
        },
        {
          "metadata": {
            "tags": null
          },
          "name": "stdout",
          "output_type": "stream",
          "text": [
            "\u001b[32mValid Score Improved (0.5561 ---> 0.5551)\n",
            "Model Saved\u001b[0m\n",
            "\n",
            "\n",
            "Epoch 44/50"
          ]
        },
        {
          "metadata": {
            "tags": null
          },
          "name": "stderr",
          "output_type": "stream",
          "text": [
            "Train : 100%|██████████| 2000/2000 [00:33<00:00, 59.62it/s, gpu_mem=0.00 GB, lr=0.00028, train_loss=0.3653]\n",
            "Valid : 100%|██████████| 500/500 [00:07<00:00, 62.92it/s, gpu_memory=0.00 GB, lr=0.00028, valid_loss=0.5552]\n"
          ]
        },
        {
          "metadata": {
            "tags": null
          },
          "name": "stdout",
          "output_type": "stream",
          "text": [
            "\n",
            "\n",
            "Epoch 45/50"
          ]
        },
        {
          "metadata": {
            "tags": null
          },
          "name": "stderr",
          "output_type": "stream",
          "text": [
            "Train : 100%|██████████| 2000/2000 [00:48<00:00, 41.33it/s, gpu_mem=0.00 GB, lr=0.00027, train_loss=0.3553]\n",
            "Valid : 100%|██████████| 500/500 [00:04<00:00, 110.38it/s, gpu_memory=0.00 GB, lr=0.00027, valid_loss=0.5591]\n"
          ]
        },
        {
          "metadata": {
            "tags": null
          },
          "name": "stdout",
          "output_type": "stream",
          "text": [
            "\n",
            "\n",
            "Epoch 46/50"
          ]
        },
        {
          "metadata": {
            "tags": null
          },
          "name": "stderr",
          "output_type": "stream",
          "text": [
            "Train : 100%|██████████| 2000/2000 [00:46<00:00, 42.66it/s, gpu_mem=0.00 GB, lr=0.00026, train_loss=0.3755]\n",
            "Valid : 100%|██████████| 500/500 [00:03<00:00, 143.43it/s, gpu_memory=0.00 GB, lr=0.00026, valid_loss=0.5579]\n"
          ]
        },
        {
          "metadata": {
            "tags": null
          },
          "name": "stdout",
          "output_type": "stream",
          "text": [
            "\n",
            "\n",
            "Epoch 47/50"
          ]
        },
        {
          "metadata": {
            "tags": null
          },
          "name": "stderr",
          "output_type": "stream",
          "text": [
            "Train : 100%|██████████| 2000/2000 [00:29<00:00, 68.53it/s, gpu_mem=0.00 GB, lr=0.00025, train_loss=0.3649]\n",
            "Valid : 100%|██████████| 500/500 [00:03<00:00, 137.01it/s, gpu_memory=0.00 GB, lr=0.00025, valid_loss=0.5647]\n"
          ]
        },
        {
          "metadata": {
            "tags": null
          },
          "name": "stdout",
          "output_type": "stream",
          "text": [
            "\n",
            "\n",
            "Epoch 48/50"
          ]
        },
        {
          "metadata": {
            "tags": null
          },
          "name": "stderr",
          "output_type": "stream",
          "text": [
            "Train : 100%|██████████| 2000/2000 [00:47<00:00, 42.36it/s, gpu_mem=0.00 GB, lr=0.00025, train_loss=0.3706]\n",
            "Valid : 100%|██████████| 500/500 [00:06<00:00, 75.11it/s, gpu_memory=0.00 GB, lr=0.00025, valid_loss=0.5481]\n"
          ]
        },
        {
          "metadata": {
            "tags": null
          },
          "name": "stdout",
          "output_type": "stream",
          "text": [
            "\u001b[32mValid Score Improved (0.5551 ---> 0.5481)\n",
            "Model Saved\u001b[0m\n",
            "\n",
            "\n",
            "Epoch 49/50"
          ]
        },
        {
          "metadata": {
            "tags": null
          },
          "name": "stderr",
          "output_type": "stream",
          "text": [
            "Train : 100%|██████████| 2000/2000 [00:50<00:00, 39.30it/s, gpu_mem=0.00 GB, lr=0.00024, train_loss=0.3778]\n",
            "Valid : 100%|██████████| 500/500 [00:06<00:00, 73.43it/s, gpu_memory=0.00 GB, lr=0.00024, valid_loss=0.5580]\n"
          ]
        },
        {
          "metadata": {
            "tags": null
          },
          "name": "stdout",
          "output_type": "stream",
          "text": [
            "\n",
            "\n",
            "Epoch 50/50"
          ]
        },
        {
          "metadata": {
            "tags": null
          },
          "name": "stderr",
          "output_type": "stream",
          "text": [
            "Train : 100%|██████████| 2000/2000 [00:57<00:00, 34.99it/s, gpu_mem=0.00 GB, lr=0.00023, train_loss=0.3823]\n",
            "Valid : 100%|██████████| 500/500 [00:06<00:00, 82.11it/s, gpu_memory=0.00 GB, lr=0.00023, valid_loss=0.5629]\n"
          ]
        },
        {
          "metadata": {
            "tags": null
          },
          "name": "stdout",
          "output_type": "stream",
          "text": [
            "\n",
            "\n",
            "Training complete in 0h 31m 37s\n",
            "Best Loss: 0.5481\n"
          ]
        },
        {
          "data": {
            "application/vnd.jupyter.widget-view+json": {
              "model_id": "8cb97f3e8f9f4a9b90a0977888c9de43",
              "version_major": 2,
              "version_minor": 0
            },
            "text/plain": [
              "VBox(children=(Label(value='0.083 MB of 0.083 MB uploaded\\r'), FloatProgress(value=1.0, max=1.0)))"
            ]
          },
          "metadata": {},
          "output_type": "display_data"
        },
        {
          "data": {
            "text/html": [
              "<style>\n",
              "    table.wandb td:nth-child(1) { padding: 0 10px; text-align: left ; width: auto;} td:nth-child(2) {text-align: left ; width: 100%}\n",
              "    .wandb-row { display: flex; flex-direction: row; flex-wrap: wrap; justify-content: flex-start; width: 100% }\n",
              "    .wandb-col { display: flex; flex-direction: column; flex-basis: 100%; flex: 1; padding: 10px; }\n",
              "    </style>\n",
              "<div class=\"wandb-row\"><div class=\"wandb-col\"><h3>Run history:</h3><br/><table class=\"wandb\"><tr><td>LR</td><td>█████████▇▇▇▇▇▇▇▆▆▆▆▆▆▅▅▅▅▅▄▄▄▄▃▃▃▂▂▂▂▁▁</td></tr><tr><td>Train Loss</td><td>▃▁▂▂▂▂▃▁▂▂▁▂▃▂▃▂▃▁▂▃▃▃▄▃▅▃▄▃▄▅▄▄▄▆▅▆▇▆▇█</td></tr><tr><td>Valid Loss</td><td>▇▆▅▅▇▇▅▅▅▅▄█▄▅▅▅▄▄▅▄▆▆▆▅▄▄▄▃▃▄▄▅▇▃▂▂▃▄▁▄</td></tr></table><br/></div><div class=\"wandb-col\"><h3>Run summary:</h3><br/><table class=\"wandb\"><tr><td>Best Epoch</td><td>48</td></tr><tr><td>Best Loss</td><td>0.54805</td></tr><tr><td>LR</td><td>0.00023</td></tr><tr><td>Train Loss</td><td>0.38233</td></tr><tr><td>Valid Loss</td><td>0.56292</td></tr></table><br/></div></div>"
            ],
            "text/plain": [
              "<IPython.core.display.HTML object>"
            ]
          },
          "metadata": {},
          "output_type": "display_data"
        },
        {
          "data": {
            "text/html": [
              " View run <strong style=\"color:#cdcd00\">fold-2|model-LSTM-FC</strong> at: <a href='https://wandb.ai/nenecchicv/internal-competition/runs/7hol6qxk' target=\"_blank\">https://wandb.ai/nenecchicv/internal-competition/runs/7hol6qxk</a><br/>Synced 5 W&B file(s), 0 media file(s), 0 artifact file(s) and 1 other file(s)"
            ],
            "text/plain": [
              "<IPython.core.display.HTML object>"
            ]
          },
          "metadata": {},
          "output_type": "display_data"
        },
        {
          "data": {
            "text/html": [
              "Find logs at: <code>./wandb/run-20240311_153750-7hol6qxk/logs</code>"
            ],
            "text/plain": [
              "<IPython.core.display.HTML object>"
            ]
          },
          "metadata": {},
          "output_type": "display_data"
        },
        {
          "metadata": {
            "tags": null
          },
          "name": "stdout",
          "output_type": "stream",
          "text": [
            "FOLD 3\n",
            "--------------------------------\n"
          ]
        },
        {
          "data": {
            "text/html": [
              "Tracking run with wandb version 0.16.4"
            ],
            "text/plain": [
              "<IPython.core.display.HTML object>"
            ]
          },
          "metadata": {},
          "output_type": "display_data"
        },
        {
          "data": {
            "text/html": [
              "Run data is saved locally in <code>/content/wandb/run-20240311_160940-72sc5ke0</code>"
            ],
            "text/plain": [
              "<IPython.core.display.HTML object>"
            ]
          },
          "metadata": {},
          "output_type": "display_data"
        },
        {
          "data": {
            "text/html": [
              "Syncing run <strong><a href='https://wandb.ai/nenecchicv/internal-competition/runs/72sc5ke0' target=\"_blank\">fold-3|model-LSTM-FC</a></strong> to <a href='https://wandb.ai/nenecchicv/internal-competition' target=\"_blank\">Weights & Biases</a> (<a href='https://wandb.me/run' target=\"_blank\">docs</a>)<br/>"
            ],
            "text/plain": [
              "<IPython.core.display.HTML object>"
            ]
          },
          "metadata": {},
          "output_type": "display_data"
        },
        {
          "data": {
            "text/html": [
              " View project at <a href='https://wandb.ai/nenecchicv/internal-competition' target=\"_blank\">https://wandb.ai/nenecchicv/internal-competition</a>"
            ],
            "text/plain": [
              "<IPython.core.display.HTML object>"
            ]
          },
          "metadata": {},
          "output_type": "display_data"
        },
        {
          "data": {
            "text/html": [
              " View run at <a href='https://wandb.ai/nenecchicv/internal-competition/runs/72sc5ke0' target=\"_blank\">https://wandb.ai/nenecchicv/internal-competition/runs/72sc5ke0</a>"
            ],
            "text/plain": [
              "<IPython.core.display.HTML object>"
            ]
          },
          "metadata": {},
          "output_type": "display_data"
        },
        {
          "metadata": {
            "tags": null
          },
          "name": "stdout",
          "output_type": "stream",
          "text": [
            "Epoch 1/50"
          ]
        },
        {
          "metadata": {
            "tags": null
          },
          "name": "stderr",
          "output_type": "stream",
          "text": [
            "Train : 100%|██████████| 2000/2000 [00:37<00:00, 53.65it/s, gpu_mem=0.00 GB, lr=0.00050, train_loss=0.3352]\n",
            "Valid : 100%|██████████| 500/500 [00:03<00:00, 125.05it/s, gpu_memory=0.00 GB, lr=0.00050, valid_loss=0.5793]\n"
          ]
        },
        {
          "metadata": {
            "tags": null
          },
          "name": "stdout",
          "output_type": "stream",
          "text": [
            "\u001b[32mValid Score Improved (inf ---> 0.5793)\n",
            "Model Saved\u001b[0m\n",
            "\n",
            "\n",
            "Epoch 2/50"
          ]
        },
        {
          "metadata": {
            "tags": null
          },
          "name": "stderr",
          "output_type": "stream",
          "text": [
            "Train : 100%|██████████| 2000/2000 [00:28<00:00, 68.97it/s, gpu_mem=0.00 GB, lr=0.00050, train_loss=0.3131]\n",
            "Valid : 100%|██████████| 500/500 [00:04<00:00, 105.09it/s, gpu_memory=0.00 GB, lr=0.00050, valid_loss=0.5647]\n"
          ]
        },
        {
          "metadata": {
            "tags": null
          },
          "name": "stdout",
          "output_type": "stream",
          "text": [
            "\u001b[32mValid Score Improved (0.5793 ---> 0.5647)\n",
            "Model Saved\u001b[0m\n",
            "\n",
            "\n",
            "Epoch 3/50"
          ]
        },
        {
          "metadata": {
            "tags": null
          },
          "name": "stderr",
          "output_type": "stream",
          "text": [
            "Train : 100%|██████████| 2000/2000 [00:29<00:00, 68.47it/s, gpu_mem=0.00 GB, lr=0.00050, train_loss=0.3175]\n",
            "Valid : 100%|██████████| 500/500 [00:03<00:00, 133.32it/s, gpu_memory=0.00 GB, lr=0.00050, valid_loss=0.5706]\n"
          ]
        },
        {
          "metadata": {
            "tags": null
          },
          "name": "stdout",
          "output_type": "stream",
          "text": [
            "\n",
            "\n",
            "Epoch 4/50"
          ]
        },
        {
          "metadata": {
            "tags": null
          },
          "name": "stderr",
          "output_type": "stream",
          "text": [
            "Train : 100%|██████████| 2000/2000 [00:29<00:00, 66.75it/s, gpu_mem=0.00 GB, lr=0.00050, train_loss=0.3282]\n",
            "Valid : 100%|██████████| 500/500 [00:04<00:00, 119.63it/s, gpu_memory=0.00 GB, lr=0.00050, valid_loss=0.5756]\n"
          ]
        },
        {
          "metadata": {
            "tags": null
          },
          "name": "stdout",
          "output_type": "stream",
          "text": [
            "\n",
            "\n",
            "Epoch 5/50"
          ]
        },
        {
          "metadata": {
            "tags": null
          },
          "name": "stderr",
          "output_type": "stream",
          "text": [
            "Train : 100%|██████████| 2000/2000 [00:49<00:00, 40.79it/s, gpu_mem=0.00 GB, lr=0.00050, train_loss=0.3126]\n",
            "Valid : 100%|██████████| 500/500 [00:05<00:00, 98.43it/s, gpu_memory=0.00 GB, lr=0.00050, valid_loss=0.5709]\n"
          ]
        },
        {
          "metadata": {
            "tags": null
          },
          "name": "stdout",
          "output_type": "stream",
          "text": [
            "\n",
            "\n",
            "Epoch 6/50"
          ]
        },
        {
          "metadata": {
            "tags": null
          },
          "name": "stderr",
          "output_type": "stream",
          "text": [
            "Train : 100%|██████████| 2000/2000 [00:30<00:00, 66.57it/s, gpu_mem=0.00 GB, lr=0.00050, train_loss=0.3194]\n",
            "Valid : 100%|██████████| 500/500 [00:03<00:00, 126.38it/s, gpu_memory=0.00 GB, lr=0.00050, valid_loss=0.5764]\n"
          ]
        },
        {
          "metadata": {
            "tags": null
          },
          "name": "stdout",
          "output_type": "stream",
          "text": [
            "\n",
            "\n",
            "Epoch 7/50"
          ]
        },
        {
          "metadata": {
            "tags": null
          },
          "name": "stderr",
          "output_type": "stream",
          "text": [
            "Train : 100%|██████████| 2000/2000 [00:32<00:00, 61.86it/s, gpu_mem=0.00 GB, lr=0.00049, train_loss=0.3107]\n",
            "Valid : 100%|██████████| 500/500 [00:03<00:00, 129.35it/s, gpu_memory=0.00 GB, lr=0.00049, valid_loss=0.5757]\n"
          ]
        },
        {
          "metadata": {
            "tags": null
          },
          "name": "stdout",
          "output_type": "stream",
          "text": [
            "\n",
            "\n",
            "Epoch 8/50"
          ]
        },
        {
          "metadata": {
            "tags": null
          },
          "name": "stderr",
          "output_type": "stream",
          "text": [
            "Train : 100%|██████████| 2000/2000 [00:48<00:00, 40.87it/s, gpu_mem=0.00 GB, lr=0.00049, train_loss=0.3238]\n",
            "Valid : 100%|██████████| 500/500 [00:06<00:00, 77.26it/s, gpu_memory=0.00 GB, lr=0.00049, valid_loss=0.5636]\n"
          ]
        },
        {
          "metadata": {
            "tags": null
          },
          "name": "stdout",
          "output_type": "stream",
          "text": [
            "\u001b[32mValid Score Improved (0.5647 ---> 0.5636)\n",
            "Model Saved\u001b[0m\n",
            "\n",
            "\n",
            "Epoch 9/50"
          ]
        },
        {
          "metadata": {
            "tags": null
          },
          "name": "stderr",
          "output_type": "stream",
          "text": [
            "Train : 100%|██████████| 2000/2000 [00:46<00:00, 42.56it/s, gpu_mem=0.00 GB, lr=0.00049, train_loss=0.3285]\n",
            "Valid : 100%|██████████| 500/500 [00:03<00:00, 131.31it/s, gpu_memory=0.00 GB, lr=0.00049, valid_loss=0.5760]\n"
          ]
        },
        {
          "metadata": {
            "tags": null
          },
          "name": "stdout",
          "output_type": "stream",
          "text": [
            "\n",
            "\n",
            "Epoch 10/50"
          ]
        },
        {
          "metadata": {
            "tags": null
          },
          "name": "stderr",
          "output_type": "stream",
          "text": [
            "Train : 100%|██████████| 2000/2000 [00:48<00:00, 41.12it/s, gpu_mem=0.00 GB, lr=0.00049, train_loss=0.3098]\n",
            "Valid : 100%|██████████| 500/500 [00:04<00:00, 108.48it/s, gpu_memory=0.00 GB, lr=0.00049, valid_loss=0.5816]\n"
          ]
        },
        {
          "metadata": {
            "tags": null
          },
          "name": "stdout",
          "output_type": "stream",
          "text": [
            "\n",
            "\n",
            "Epoch 11/50"
          ]
        },
        {
          "metadata": {
            "tags": null
          },
          "name": "stderr",
          "output_type": "stream",
          "text": [
            "Train : 100%|██████████| 2000/2000 [00:37<00:00, 53.73it/s, gpu_mem=0.00 GB, lr=0.00048, train_loss=0.3113]\n",
            "Valid : 100%|██████████| 500/500 [00:03<00:00, 130.90it/s, gpu_memory=0.00 GB, lr=0.00048, valid_loss=0.5750]\n"
          ]
        },
        {
          "metadata": {
            "tags": null
          },
          "name": "stdout",
          "output_type": "stream",
          "text": [
            "\n",
            "\n",
            "Epoch 12/50"
          ]
        },
        {
          "metadata": {
            "tags": null
          },
          "name": "stderr",
          "output_type": "stream",
          "text": [
            "Train : 100%|██████████| 2000/2000 [00:48<00:00, 40.99it/s, gpu_mem=0.00 GB, lr=0.00048, train_loss=0.3213]\n",
            "Valid : 100%|██████████| 500/500 [00:04<00:00, 106.16it/s, gpu_memory=0.00 GB, lr=0.00048, valid_loss=0.5689]\n"
          ]
        },
        {
          "metadata": {
            "tags": null
          },
          "name": "stdout",
          "output_type": "stream",
          "text": [
            "\n",
            "\n",
            "Epoch 13/50"
          ]
        },
        {
          "metadata": {
            "tags": null
          },
          "name": "stderr",
          "output_type": "stream",
          "text": [
            "Train : 100%|██████████| 2000/2000 [00:28<00:00, 68.99it/s, gpu_mem=0.00 GB, lr=0.00048, train_loss=0.3169]\n",
            "Valid : 100%|██████████| 500/500 [00:03<00:00, 126.02it/s, gpu_memory=0.00 GB, lr=0.00048, valid_loss=0.5738]\n"
          ]
        },
        {
          "metadata": {
            "tags": null
          },
          "name": "stdout",
          "output_type": "stream",
          "text": [
            "\n",
            "\n",
            "Epoch 14/50"
          ]
        },
        {
          "metadata": {
            "tags": null
          },
          "name": "stderr",
          "output_type": "stream",
          "text": [
            "Train : 100%|██████████| 2000/2000 [00:29<00:00, 68.35it/s, gpu_mem=0.00 GB, lr=0.00047, train_loss=0.3202]\n",
            "Valid : 100%|██████████| 500/500 [00:03<00:00, 129.49it/s, gpu_memory=0.00 GB, lr=0.00047, valid_loss=0.5738]\n"
          ]
        },
        {
          "metadata": {
            "tags": null
          },
          "name": "stdout",
          "output_type": "stream",
          "text": [
            "\n",
            "\n",
            "Epoch 15/50"
          ]
        },
        {
          "metadata": {
            "tags": null
          },
          "name": "stderr",
          "output_type": "stream",
          "text": [
            "Train : 100%|██████████| 2000/2000 [00:30<00:00, 65.61it/s, gpu_mem=0.00 GB, lr=0.00047, train_loss=0.3189]\n",
            "Valid : 100%|██████████| 500/500 [00:04<00:00, 121.89it/s, gpu_memory=0.00 GB, lr=0.00047, valid_loss=0.5802]\n"
          ]
        },
        {
          "metadata": {
            "tags": null
          },
          "name": "stdout",
          "output_type": "stream",
          "text": [
            "\n",
            "\n",
            "Epoch 16/50"
          ]
        },
        {
          "metadata": {
            "tags": null
          },
          "name": "stderr",
          "output_type": "stream",
          "text": [
            "Train : 100%|██████████| 2000/2000 [00:29<00:00, 67.28it/s, gpu_mem=0.00 GB, lr=0.00047, train_loss=0.3133]\n",
            "Valid : 100%|██████████| 500/500 [00:03<00:00, 129.89it/s, gpu_memory=0.00 GB, lr=0.00047, valid_loss=0.5781]\n"
          ]
        },
        {
          "metadata": {
            "tags": null
          },
          "name": "stdout",
          "output_type": "stream",
          "text": [
            "\n",
            "\n",
            "Epoch 17/50"
          ]
        },
        {
          "metadata": {
            "tags": null
          },
          "name": "stderr",
          "output_type": "stream",
          "text": [
            "Train : 100%|██████████| 2000/2000 [00:30<00:00, 65.63it/s, gpu_mem=0.00 GB, lr=0.00046, train_loss=0.3185]\n",
            "Valid : 100%|██████████| 500/500 [00:03<00:00, 129.25it/s, gpu_memory=0.00 GB, lr=0.00046, valid_loss=0.5736]\n"
          ]
        },
        {
          "metadata": {
            "tags": null
          },
          "name": "stdout",
          "output_type": "stream",
          "text": [
            "\n",
            "\n",
            "Epoch 18/50"
          ]
        },
        {
          "metadata": {
            "tags": null
          },
          "name": "stderr",
          "output_type": "stream",
          "text": [
            "Train : 100%|██████████| 2000/2000 [00:29<00:00, 68.87it/s, gpu_mem=0.00 GB, lr=0.00046, train_loss=0.3260]\n",
            "Valid : 100%|██████████| 500/500 [00:05<00:00, 96.03it/s, gpu_memory=0.00 GB, lr=0.00046, valid_loss=0.5626] \n"
          ]
        },
        {
          "metadata": {
            "tags": null
          },
          "name": "stdout",
          "output_type": "stream",
          "text": [
            "\u001b[32mValid Score Improved (0.5636 ---> 0.5626)\n",
            "Model Saved\u001b[0m\n",
            "\n",
            "\n",
            "Epoch 19/50"
          ]
        },
        {
          "metadata": {
            "tags": null
          },
          "name": "stderr",
          "output_type": "stream",
          "text": [
            "Train : 100%|██████████| 2000/2000 [00:29<00:00, 66.82it/s, gpu_mem=0.00 GB, lr=0.00045, train_loss=0.3152]\n",
            "Valid : 100%|██████████| 500/500 [00:03<00:00, 134.63it/s, gpu_memory=0.00 GB, lr=0.00045, valid_loss=0.5791]\n"
          ]
        },
        {
          "metadata": {
            "tags": null
          },
          "name": "stdout",
          "output_type": "stream",
          "text": [
            "\n",
            "\n",
            "Epoch 20/50"
          ]
        },
        {
          "metadata": {
            "tags": null
          },
          "name": "stderr",
          "output_type": "stream",
          "text": [
            "Train : 100%|██████████| 2000/2000 [00:30<00:00, 65.18it/s, gpu_mem=0.00 GB, lr=0.00045, train_loss=0.3211]\n",
            "Valid : 100%|██████████| 500/500 [00:04<00:00, 123.00it/s, gpu_memory=0.00 GB, lr=0.00045, valid_loss=0.5716]\n"
          ]
        },
        {
          "metadata": {
            "tags": null
          },
          "name": "stdout",
          "output_type": "stream",
          "text": [
            "\n",
            "\n",
            "Epoch 21/50"
          ]
        },
        {
          "metadata": {
            "tags": null
          },
          "name": "stderr",
          "output_type": "stream",
          "text": [
            "Train : 100%|██████████| 2000/2000 [00:30<00:00, 66.42it/s, gpu_mem=0.00 GB, lr=0.00044, train_loss=0.3142]\n",
            "Valid : 100%|██████████| 500/500 [00:03<00:00, 134.96it/s, gpu_memory=0.00 GB, lr=0.00044, valid_loss=0.5722]\n"
          ]
        },
        {
          "metadata": {
            "tags": null
          },
          "name": "stdout",
          "output_type": "stream",
          "text": [
            "\n",
            "\n",
            "Epoch 22/50"
          ]
        },
        {
          "metadata": {
            "tags": null
          },
          "name": "stderr",
          "output_type": "stream",
          "text": [
            "Train : 100%|██████████| 2000/2000 [00:29<00:00, 66.76it/s, gpu_mem=0.00 GB, lr=0.00044, train_loss=0.3198]\n",
            "Valid : 100%|██████████| 500/500 [00:03<00:00, 132.66it/s, gpu_memory=0.00 GB, lr=0.00044, valid_loss=0.5653]\n"
          ]
        },
        {
          "metadata": {
            "tags": null
          },
          "name": "stdout",
          "output_type": "stream",
          "text": [
            "\n",
            "\n",
            "Epoch 23/50"
          ]
        },
        {
          "metadata": {
            "tags": null
          },
          "name": "stderr",
          "output_type": "stream",
          "text": [
            "Train : 100%|██████████| 2000/2000 [00:29<00:00, 66.92it/s, gpu_mem=0.00 GB, lr=0.00043, train_loss=0.3191]\n",
            "Valid : 100%|██████████| 500/500 [00:03<00:00, 137.70it/s, gpu_memory=0.00 GB, lr=0.00043, valid_loss=0.5886]\n"
          ]
        },
        {
          "metadata": {
            "tags": null
          },
          "name": "stdout",
          "output_type": "stream",
          "text": [
            "\n",
            "\n",
            "Epoch 24/50"
          ]
        },
        {
          "metadata": {
            "tags": null
          },
          "name": "stderr",
          "output_type": "stream",
          "text": [
            "Train : 100%|██████████| 2000/2000 [00:30<00:00, 66.58it/s, gpu_mem=0.00 GB, lr=0.00042, train_loss=0.3149]\n",
            "Valid : 100%|██████████| 500/500 [00:03<00:00, 128.07it/s, gpu_memory=0.00 GB, lr=0.00042, valid_loss=0.5838]\n"
          ]
        },
        {
          "metadata": {
            "tags": null
          },
          "name": "stdout",
          "output_type": "stream",
          "text": [
            "\n",
            "\n",
            "Epoch 25/50"
          ]
        },
        {
          "metadata": {
            "tags": null
          },
          "name": "stderr",
          "output_type": "stream",
          "text": [
            "Train : 100%|██████████| 2000/2000 [00:30<00:00, 65.04it/s, gpu_mem=0.00 GB, lr=0.00042, train_loss=0.3153]\n",
            "Valid : 100%|██████████| 500/500 [00:03<00:00, 135.34it/s, gpu_memory=0.00 GB, lr=0.00042, valid_loss=0.5846]\n"
          ]
        },
        {
          "metadata": {
            "tags": null
          },
          "name": "stdout",
          "output_type": "stream",
          "text": [
            "\n",
            "\n",
            "Epoch 26/50"
          ]
        },
        {
          "metadata": {
            "tags": null
          },
          "name": "stderr",
          "output_type": "stream",
          "text": [
            "Train : 100%|██████████| 2000/2000 [00:30<00:00, 64.80it/s, gpu_mem=0.00 GB, lr=0.00041, train_loss=0.3226]\n",
            "Valid : 100%|██████████| 500/500 [00:03<00:00, 138.04it/s, gpu_memory=0.00 GB, lr=0.00041, valid_loss=0.5837]\n"
          ]
        },
        {
          "metadata": {
            "tags": null
          },
          "name": "stdout",
          "output_type": "stream",
          "text": [
            "\n",
            "\n",
            "Epoch 27/50"
          ]
        },
        {
          "metadata": {
            "tags": null
          },
          "name": "stderr",
          "output_type": "stream",
          "text": [
            "Train : 100%|██████████| 2000/2000 [00:30<00:00, 64.92it/s, gpu_mem=0.00 GB, lr=0.00041, train_loss=0.3289]\n",
            "Valid : 100%|██████████| 500/500 [00:03<00:00, 137.34it/s, gpu_memory=0.00 GB, lr=0.00041, valid_loss=0.5833]\n"
          ]
        },
        {
          "metadata": {
            "tags": null
          },
          "name": "stdout",
          "output_type": "stream",
          "text": [
            "\n",
            "\n",
            "Epoch 28/50"
          ]
        },
        {
          "metadata": {
            "tags": null
          },
          "name": "stderr",
          "output_type": "stream",
          "text": [
            "Train : 100%|██████████| 2000/2000 [00:29<00:00, 66.71it/s, gpu_mem=0.00 GB, lr=0.00040, train_loss=0.3298]\n",
            "Valid : 100%|██████████| 500/500 [00:03<00:00, 136.04it/s, gpu_memory=0.00 GB, lr=0.00040, valid_loss=0.5789]\n"
          ]
        },
        {
          "metadata": {
            "tags": null
          },
          "name": "stdout",
          "output_type": "stream",
          "text": [
            "\n",
            "\n",
            "Epoch 29/50"
          ]
        },
        {
          "metadata": {
            "tags": null
          },
          "name": "stderr",
          "output_type": "stream",
          "text": [
            "Train : 100%|██████████| 2000/2000 [00:33<00:00, 59.05it/s, gpu_mem=0.00 GB, lr=0.00039, train_loss=0.3234]\n",
            "Valid : 100%|██████████| 500/500 [00:03<00:00, 131.81it/s, gpu_memory=0.00 GB, lr=0.00039, valid_loss=0.5725]\n"
          ]
        },
        {
          "metadata": {
            "tags": null
          },
          "name": "stdout",
          "output_type": "stream",
          "text": [
            "\n",
            "\n",
            "Epoch 30/50"
          ]
        },
        {
          "metadata": {
            "tags": null
          },
          "name": "stderr",
          "output_type": "stream",
          "text": [
            "Train : 100%|██████████| 2000/2000 [00:31<00:00, 63.90it/s, gpu_mem=0.00 GB, lr=0.00039, train_loss=0.3189]\n",
            "Valid : 100%|██████████| 500/500 [00:03<00:00, 128.92it/s, gpu_memory=0.00 GB, lr=0.00039, valid_loss=0.5909]\n"
          ]
        },
        {
          "metadata": {
            "tags": null
          },
          "name": "stdout",
          "output_type": "stream",
          "text": [
            "\n",
            "\n",
            "Epoch 31/50"
          ]
        },
        {
          "metadata": {
            "tags": null
          },
          "name": "stderr",
          "output_type": "stream",
          "text": [
            "Train : 100%|██████████| 2000/2000 [00:30<00:00, 65.03it/s, gpu_mem=0.00 GB, lr=0.00038, train_loss=0.3361]\n",
            "Valid : 100%|██████████| 500/500 [00:03<00:00, 125.60it/s, gpu_memory=0.00 GB, lr=0.00038, valid_loss=0.5685]\n"
          ]
        },
        {
          "metadata": {
            "tags": null
          },
          "name": "stdout",
          "output_type": "stream",
          "text": [
            "\n",
            "\n",
            "Epoch 32/50"
          ]
        },
        {
          "metadata": {
            "tags": null
          },
          "name": "stderr",
          "output_type": "stream",
          "text": [
            "Train : 100%|██████████| 2000/2000 [00:32<00:00, 61.55it/s, gpu_mem=0.00 GB, lr=0.00037, train_loss=0.3316]\n",
            "Valid : 100%|██████████| 500/500 [00:03<00:00, 132.09it/s, gpu_memory=0.00 GB, lr=0.00037, valid_loss=0.5614]\n"
          ]
        },
        {
          "metadata": {
            "tags": null
          },
          "name": "stdout",
          "output_type": "stream",
          "text": [
            "\u001b[32mValid Score Improved (0.5626 ---> 0.5614)\n",
            "Model Saved\u001b[0m\n",
            "\n",
            "\n",
            "Epoch 33/50"
          ]
        },
        {
          "metadata": {
            "tags": null
          },
          "name": "stderr",
          "output_type": "stream",
          "text": [
            "Train : 100%|██████████| 2000/2000 [00:29<00:00, 67.73it/s, gpu_mem=0.00 GB, lr=0.00036, train_loss=0.3239]\n",
            "Valid : 100%|██████████| 500/500 [00:03<00:00, 146.97it/s, gpu_memory=0.00 GB, lr=0.00036, valid_loss=0.5648]\n"
          ]
        },
        {
          "metadata": {
            "tags": null
          },
          "name": "stdout",
          "output_type": "stream",
          "text": [
            "\n",
            "\n",
            "Epoch 34/50"
          ]
        },
        {
          "metadata": {
            "tags": null
          },
          "name": "stderr",
          "output_type": "stream",
          "text": [
            "Train : 100%|██████████| 2000/2000 [00:31<00:00, 63.23it/s, gpu_mem=0.00 GB, lr=0.00036, train_loss=0.3435]\n",
            "Valid : 100%|██████████| 500/500 [00:03<00:00, 134.35it/s, gpu_memory=0.00 GB, lr=0.00036, valid_loss=0.5678]\n"
          ]
        },
        {
          "metadata": {
            "tags": null
          },
          "name": "stdout",
          "output_type": "stream",
          "text": [
            "\n",
            "\n",
            "Epoch 35/50"
          ]
        },
        {
          "metadata": {
            "tags": null
          },
          "name": "stderr",
          "output_type": "stream",
          "text": [
            "Train : 100%|██████████| 2000/2000 [00:30<00:00, 65.08it/s, gpu_mem=0.00 GB, lr=0.00035, train_loss=0.3380]\n",
            "Valid : 100%|██████████| 500/500 [00:03<00:00, 128.91it/s, gpu_memory=0.00 GB, lr=0.00035, valid_loss=0.5691]\n"
          ]
        },
        {
          "metadata": {
            "tags": null
          },
          "name": "stdout",
          "output_type": "stream",
          "text": [
            "\n",
            "\n",
            "Epoch 36/50"
          ]
        },
        {
          "metadata": {
            "tags": null
          },
          "name": "stderr",
          "output_type": "stream",
          "text": [
            "Train : 100%|██████████| 2000/2000 [00:30<00:00, 65.82it/s, gpu_mem=0.00 GB, lr=0.00034, train_loss=0.3408]\n",
            "Valid : 100%|██████████| 500/500 [00:03<00:00, 137.18it/s, gpu_memory=0.00 GB, lr=0.00034, valid_loss=0.5775]\n"
          ]
        },
        {
          "metadata": {
            "tags": null
          },
          "name": "stdout",
          "output_type": "stream",
          "text": [
            "\n",
            "\n",
            "Epoch 37/50"
          ]
        },
        {
          "metadata": {
            "tags": null
          },
          "name": "stderr",
          "output_type": "stream",
          "text": [
            "Train : 100%|██████████| 2000/2000 [00:31<00:00, 63.12it/s, gpu_mem=0.00 GB, lr=0.00033, train_loss=0.3345]\n",
            "Valid : 100%|██████████| 500/500 [00:03<00:00, 135.92it/s, gpu_memory=0.00 GB, lr=0.00033, valid_loss=0.5745]\n"
          ]
        },
        {
          "metadata": {
            "tags": null
          },
          "name": "stdout",
          "output_type": "stream",
          "text": [
            "\n",
            "\n",
            "Epoch 38/50"
          ]
        },
        {
          "metadata": {
            "tags": null
          },
          "name": "stderr",
          "output_type": "stream",
          "text": [
            "Train : 100%|██████████| 2000/2000 [00:31<00:00, 63.34it/s, gpu_mem=0.00 GB, lr=0.00033, train_loss=0.3304]\n",
            "Valid : 100%|██████████| 500/500 [00:03<00:00, 129.60it/s, gpu_memory=0.00 GB, lr=0.00033, valid_loss=0.5689]\n"
          ]
        },
        {
          "metadata": {
            "tags": null
          },
          "name": "stdout",
          "output_type": "stream",
          "text": [
            "\n",
            "\n",
            "Epoch 39/50"
          ]
        },
        {
          "metadata": {
            "tags": null
          },
          "name": "stderr",
          "output_type": "stream",
          "text": [
            "Train : 100%|██████████| 2000/2000 [00:30<00:00, 64.91it/s, gpu_mem=0.00 GB, lr=0.00032, train_loss=0.3499]\n",
            "Valid : 100%|██████████| 500/500 [00:03<00:00, 136.10it/s, gpu_memory=0.00 GB, lr=0.00032, valid_loss=0.5758]\n"
          ]
        },
        {
          "metadata": {
            "tags": null
          },
          "name": "stdout",
          "output_type": "stream",
          "text": [
            "\n",
            "\n",
            "Epoch 40/50"
          ]
        },
        {
          "metadata": {
            "tags": null
          },
          "name": "stderr",
          "output_type": "stream",
          "text": [
            "Train : 100%|██████████| 2000/2000 [00:31<00:00, 64.40it/s, gpu_mem=0.00 GB, lr=0.00031, train_loss=0.3466]\n",
            "Valid : 100%|██████████| 500/500 [00:03<00:00, 127.18it/s, gpu_memory=0.00 GB, lr=0.00031, valid_loss=0.5739]\n"
          ]
        },
        {
          "metadata": {
            "tags": null
          },
          "name": "stdout",
          "output_type": "stream",
          "text": [
            "\n",
            "\n",
            "Epoch 41/50"
          ]
        },
        {
          "metadata": {
            "tags": null
          },
          "name": "stderr",
          "output_type": "stream",
          "text": [
            "Train : 100%|██████████| 2000/2000 [00:32<00:00, 62.41it/s, gpu_mem=0.00 GB, lr=0.00030, train_loss=0.3481]\n",
            "Valid : 100%|██████████| 500/500 [00:03<00:00, 125.44it/s, gpu_memory=0.00 GB, lr=0.00030, valid_loss=0.5561]\n"
          ]
        },
        {
          "metadata": {
            "tags": null
          },
          "name": "stdout",
          "output_type": "stream",
          "text": [
            "\u001b[32mValid Score Improved (0.5614 ---> 0.5561)\n",
            "Model Saved\u001b[0m\n",
            "\n",
            "\n",
            "Epoch 42/50"
          ]
        },
        {
          "metadata": {
            "tags": null
          },
          "name": "stderr",
          "output_type": "stream",
          "text": [
            "Train : 100%|██████████| 2000/2000 [00:30<00:00, 66.17it/s, gpu_mem=0.00 GB, lr=0.00029, train_loss=0.3417]\n",
            "Valid : 100%|██████████| 500/500 [00:03<00:00, 126.01it/s, gpu_memory=0.00 GB, lr=0.00029, valid_loss=0.5678]\n"
          ]
        },
        {
          "metadata": {
            "tags": null
          },
          "name": "stdout",
          "output_type": "stream",
          "text": [
            "\n",
            "\n",
            "Epoch 43/50"
          ]
        },
        {
          "metadata": {
            "tags": null
          },
          "name": "stderr",
          "output_type": "stream",
          "text": [
            "Train : 100%|██████████| 2000/2000 [00:30<00:00, 65.26it/s, gpu_mem=0.00 GB, lr=0.00029, train_loss=0.3416]\n",
            "Valid : 100%|██████████| 500/500 [00:03<00:00, 136.68it/s, gpu_memory=0.00 GB, lr=0.00029, valid_loss=0.5622]\n"
          ]
        },
        {
          "metadata": {
            "tags": null
          },
          "name": "stdout",
          "output_type": "stream",
          "text": [
            "\n",
            "\n",
            "Epoch 44/50"
          ]
        },
        {
          "output_type": "stream",
          "name": "stderr",
          "text": [
            "Train : 100%|██████████| 2000/2000 [00:31<00:00, 62.75it/s, gpu_mem=0.00 GB, lr=0.00028, train_loss=0.3488]\n",
            "Valid : 100%|██████████| 500/500 [00:03<00:00, 125.33it/s, gpu_memory=0.00 GB, lr=0.00028, valid_loss=0.5711]\n"
          ]
        },
        {
          "output_type": "stream",
          "name": "stdout",
          "text": [
            "\n",
            "\n",
            "Epoch 45/50"
          ]
        },
        {
          "output_type": "stream",
          "name": "stderr",
          "text": [
            "Train : 100%|██████████| 2000/2000 [00:30<00:00, 65.77it/s, gpu_mem=0.00 GB, lr=0.00027, train_loss=0.3491]\n",
            "Valid : 100%|██████████| 500/500 [00:03<00:00, 131.87it/s, gpu_memory=0.00 GB, lr=0.00027, valid_loss=0.5652]\n"
          ]
        },
        {
          "output_type": "stream",
          "name": "stdout",
          "text": [
            "\n",
            "\n",
            "Epoch 46/50"
          ]
        },
        {
          "output_type": "stream",
          "name": "stderr",
          "text": [
            "Train : 100%|██████████| 2000/2000 [00:31<00:00, 63.86it/s, gpu_mem=0.00 GB, lr=0.00026, train_loss=0.3459]\n",
            "Valid : 100%|██████████| 500/500 [00:03<00:00, 126.18it/s, gpu_memory=0.00 GB, lr=0.00026, valid_loss=0.5688]\n"
          ]
        },
        {
          "output_type": "stream",
          "name": "stdout",
          "text": [
            "\n",
            "\n",
            "Epoch 47/50"
          ]
        },
        {
          "output_type": "stream",
          "name": "stderr",
          "text": [
            "Train : 100%|██████████| 2000/2000 [00:31<00:00, 63.27it/s, gpu_mem=0.00 GB, lr=0.00025, train_loss=0.3427]\n",
            "Valid : 100%|██████████| 500/500 [00:04<00:00, 117.21it/s, gpu_memory=0.00 GB, lr=0.00025, valid_loss=0.5652]\n"
          ]
        },
        {
          "output_type": "stream",
          "name": "stdout",
          "text": [
            "\n",
            "\n",
            "Epoch 48/50"
          ]
        },
        {
          "output_type": "stream",
          "name": "stderr",
          "text": [
            "Train : 100%|██████████| 2000/2000 [00:29<00:00, 66.72it/s, gpu_mem=0.00 GB, lr=0.00025, train_loss=0.3580]\n",
            "Valid : 100%|██████████| 500/500 [00:03<00:00, 126.73it/s, gpu_memory=0.00 GB, lr=0.00025, valid_loss=0.5604]\n"
          ]
        },
        {
          "output_type": "stream",
          "name": "stdout",
          "text": [
            "\n",
            "\n",
            "Epoch 49/50"
          ]
        },
        {
          "output_type": "stream",
          "name": "stderr",
          "text": [
            "Train : 100%|██████████| 2000/2000 [00:31<00:00, 64.28it/s, gpu_mem=0.00 GB, lr=0.00024, train_loss=0.3605]\n",
            "Valid : 100%|██████████| 500/500 [00:03<00:00, 127.90it/s, gpu_memory=0.00 GB, lr=0.00024, valid_loss=0.5690]\n"
          ]
        },
        {
          "output_type": "stream",
          "name": "stdout",
          "text": [
            "\n",
            "\n",
            "Epoch 50/50"
          ]
        },
        {
          "output_type": "stream",
          "name": "stderr",
          "text": [
            "Train : 100%|██████████| 2000/2000 [00:30<00:00, 65.24it/s, gpu_mem=0.00 GB, lr=0.00023, train_loss=0.3593]\n",
            "Valid : 100%|██████████| 500/500 [00:03<00:00, 132.92it/s, gpu_memory=0.00 GB, lr=0.00023, valid_loss=0.5747]\n"
          ]
        },
        {
          "output_type": "stream",
          "name": "stdout",
          "text": [
            "\n",
            "\n",
            "Training complete in 0h 31m 51s\n",
            "Best Loss: 0.5561\n"
          ]
        },
        {
          "output_type": "display_data",
          "data": {
            "text/plain": [
              "VBox(children=(Label(value='0.083 MB of 0.083 MB uploaded\\r'), FloatProgress(value=1.0, max=1.0)))"
            ],
            "application/vnd.jupyter.widget-view+json": {
              "version_major": 2,
              "version_minor": 0,
              "model_id": "09c9e380857741b495780e88fab2b75a"
            }
          },
          "metadata": {}
        },
        {
          "output_type": "display_data",
          "data": {
            "text/plain": [
              "<IPython.core.display.HTML object>"
            ],
            "text/html": [
              "<style>\n",
              "    table.wandb td:nth-child(1) { padding: 0 10px; text-align: left ; width: auto;} td:nth-child(2) {text-align: left ; width: 100%}\n",
              "    .wandb-row { display: flex; flex-direction: row; flex-wrap: wrap; justify-content: flex-start; width: 100% }\n",
              "    .wandb-col { display: flex; flex-direction: column; flex-basis: 100%; flex: 1; padding: 10px; }\n",
              "    </style>\n",
              "<div class=\"wandb-row\"><div class=\"wandb-col\"><h3>Run history:</h3><br/><table class=\"wandb\"><tr><td>LR</td><td>█████████▇▇▇▇▇▇▇▆▆▆▆▆▆▅▅▅▅▅▄▄▄▄▃▃▃▂▂▂▂▁▁</td></tr><tr><td>Train Loss</td><td>▅▁▂▄▂▁▃▄▁▃▂▂▁▂▃▂▂▂▂▂▃▄▄▃▅▄▃▆▅▄▄▇▆▅▅▆▆▆██</td></tr><tr><td>Valid Loss</td><td>▆▃▄▅▅▅▃▅▅▄▅▅▆▅▂▆▄▃█▇▇▇▆▅▄▂▃▄▆▅▄▅▁▄▂▄▄▃▂▅</td></tr></table><br/></div><div class=\"wandb-col\"><h3>Run summary:</h3><br/><table class=\"wandb\"><tr><td>Best Epoch</td><td>41</td></tr><tr><td>Best Loss</td><td>0.5561</td></tr><tr><td>LR</td><td>0.00023</td></tr><tr><td>Train Loss</td><td>0.35928</td></tr><tr><td>Valid Loss</td><td>0.57473</td></tr></table><br/></div></div>"
            ]
          },
          "metadata": {}
        },
        {
          "output_type": "display_data",
          "data": {
            "text/plain": [
              "<IPython.core.display.HTML object>"
            ],
            "text/html": [
              " View run <strong style=\"color:#cdcd00\">fold-3|model-LSTM-FC</strong> at: <a href='https://wandb.ai/nenecchicv/internal-competition/runs/72sc5ke0' target=\"_blank\">https://wandb.ai/nenecchicv/internal-competition/runs/72sc5ke0</a><br/>Synced 5 W&B file(s), 0 media file(s), 0 artifact file(s) and 1 other file(s)"
            ]
          },
          "metadata": {}
        },
        {
          "output_type": "display_data",
          "data": {
            "text/plain": [
              "<IPython.core.display.HTML object>"
            ],
            "text/html": [
              "Find logs at: <code>./wandb/run-20240311_160940-72sc5ke0/logs</code>"
            ]
          },
          "metadata": {}
        },
        {
          "output_type": "stream",
          "name": "stdout",
          "text": [
            "FOLD 4\n",
            "--------------------------------\n"
          ]
        },
        {
          "output_type": "display_data",
          "data": {
            "text/plain": [
              "<IPython.core.display.HTML object>"
            ],
            "text/html": [
              "Tracking run with wandb version 0.16.4"
            ]
          },
          "metadata": {}
        },
        {
          "output_type": "display_data",
          "data": {
            "text/plain": [
              "<IPython.core.display.HTML object>"
            ],
            "text/html": [
              "Run data is saved locally in <code>/content/wandb/run-20240311_164145-5ziuwfav</code>"
            ]
          },
          "metadata": {}
        },
        {
          "output_type": "display_data",
          "data": {
            "text/plain": [
              "<IPython.core.display.HTML object>"
            ],
            "text/html": [
              "Syncing run <strong><a href='https://wandb.ai/nenecchicv/internal-competition/runs/5ziuwfav' target=\"_blank\">fold-4|model-LSTM-FC</a></strong> to <a href='https://wandb.ai/nenecchicv/internal-competition' target=\"_blank\">Weights & Biases</a> (<a href='https://wandb.me/run' target=\"_blank\">docs</a>)<br/>"
            ]
          },
          "metadata": {}
        },
        {
          "output_type": "display_data",
          "data": {
            "text/plain": [
              "<IPython.core.display.HTML object>"
            ],
            "text/html": [
              " View project at <a href='https://wandb.ai/nenecchicv/internal-competition' target=\"_blank\">https://wandb.ai/nenecchicv/internal-competition</a>"
            ]
          },
          "metadata": {}
        },
        {
          "output_type": "display_data",
          "data": {
            "text/plain": [
              "<IPython.core.display.HTML object>"
            ],
            "text/html": [
              " View run at <a href='https://wandb.ai/nenecchicv/internal-competition/runs/5ziuwfav' target=\"_blank\">https://wandb.ai/nenecchicv/internal-competition/runs/5ziuwfav</a>"
            ]
          },
          "metadata": {}
        },
        {
          "output_type": "stream",
          "name": "stdout",
          "text": [
            "Epoch 1/50"
          ]
        },
        {
          "output_type": "stream",
          "name": "stderr",
          "text": [
            "Train : 100%|██████████| 2000/2000 [00:31<00:00, 63.59it/s, gpu_mem=0.00 GB, lr=0.00050, train_loss=0.3212]\n",
            "Valid : 100%|██████████| 500/500 [00:03<00:00, 126.78it/s, gpu_memory=0.00 GB, lr=0.00050, valid_loss=0.5851]\n"
          ]
        },
        {
          "output_type": "stream",
          "name": "stdout",
          "text": [
            "\u001b[32mValid Score Improved (inf ---> 0.5851)\n",
            "Model Saved\u001b[0m\n",
            "\n",
            "\n",
            "Epoch 2/50"
          ]
        },
        {
          "output_type": "stream",
          "name": "stderr",
          "text": [
            "Train : 100%|██████████| 2000/2000 [00:30<00:00, 65.88it/s, gpu_mem=0.00 GB, lr=0.00050, train_loss=0.3183]\n",
            "Valid : 100%|██████████| 500/500 [00:03<00:00, 137.42it/s, gpu_memory=0.00 GB, lr=0.00050, valid_loss=0.5912]\n"
          ]
        },
        {
          "output_type": "stream",
          "name": "stdout",
          "text": [
            "\n",
            "\n",
            "Epoch 3/50"
          ]
        },
        {
          "output_type": "stream",
          "name": "stderr",
          "text": [
            "Train :  55%|█████▌    | 1106/2000 [00:17<00:15, 56.07it/s, gpu_mem=0.00 GB, lr=0.00050, train_loss=0.2049]"
          ]
        }
      ]
    },
    {
      "cell_type": "code",
      "source": [
        "class TestDataset(data.Dataset):\n",
        "    def __init__(self, X1_scaled_tensor, x2_scaled_tensor):\n",
        "        self.X1 = X1_scaled_tensor\n",
        "        self.x2 = x2_scaled_tensor\n",
        "\n",
        "    def __getitem__(self, index):\n",
        "        return self.X1[index], self.x2[index]\n",
        "\n",
        "    def __len__(self):\n",
        "        return len(self.X1)"
      ],
      "metadata": {
        "id": "x20X6LlDRKSx"
      },
      "execution_count": null,
      "outputs": []
    },
    {
      "cell_type": "code",
      "source": [
        "X_test = X1_scaled_test_tensor\n",
        "chpt_path = \"/content/drive/MyDrive/daicc2024/output/best_epoch-00.bin\"\n",
        "model.load_state_dict(torch.load(chpt_path, map_location='cuda'))\n",
        "model.eval()\n",
        "target_spec_scaled = x2_scaler.transform(100)\n",
        "x2_test  = torch.full((X_test.size(0), 1), target_spec_scaled).to(CFG.device, dtype=torch.float)\n",
        "y_preds = np.zeros(X_test.size(0))\n",
        "\n",
        "# Define data loaders for training and testing data in this fold\n",
        "test_loader = torch.utils.data.DataLoader(\n",
        "                  TestDataset(X_test, x2_test),\n",
        "                  batch_size=1)\n",
        "for idx, (X1, x2) in enumerate(tqdm(test_loader, total=len(test_loader), desc='Infer ')):\n",
        "    y_pred = model(X1, x2)\n",
        "    y_preds[idx] = y_pred\n",
        "\n",
        "pred_df = pd.DataFrame({\n",
        "    \"id\":test_ids,\n",
        "    \"parameter\":y_preds\n",
        "})\n",
        "pred_df.to_csv(f'/content/drive/MyDrive/daicc2024/output/submission_{CFG.exp_name}.csv',index=False)"
      ],
      "metadata": {
        "id": "-dizmPUEwBbw"
      },
      "execution_count": null,
      "outputs": []
    },
    {
      "cell_type": "markdown",
      "source": [
        "https://www.kaggle.com/code/fnands/uwmgi-levit-unet-baseline"
      ],
      "metadata": {
        "id": "R8hSyV-ZdE40"
      }
    }
  ]
}