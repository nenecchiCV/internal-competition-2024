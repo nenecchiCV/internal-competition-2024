{
  "nbformat": 4,
  "nbformat_minor": 0,
  "metadata": {
    "colab": {
      "provenance": [],
      "gpuType": "T4",
      "mount_file_id": "https://github.com/nenecchiCV/internal-competition-2024/blob/main/method1.ipynb",
      "authorship_tag": "ABX9TyPokgCGZqiQwr2krpep8LVp",
      "include_colab_link": true
    },
    "kernelspec": {
      "name": "python3",
      "display_name": "Python 3"
    },
    "language_info": {
      "name": "python"
    },
    "widgets": {
      "application/vnd.jupyter.widget-state+json": {
        "b572af900999454ea572279409c1fc70": {
          "model_module": "@jupyter-widgets/controls",
          "model_name": "VBoxModel",
          "model_module_version": "1.5.0",
          "state": {
            "_dom_classes": [],
            "_model_module": "@jupyter-widgets/controls",
            "_model_module_version": "1.5.0",
            "_model_name": "VBoxModel",
            "_view_count": null,
            "_view_module": "@jupyter-widgets/controls",
            "_view_module_version": "1.5.0",
            "_view_name": "VBoxView",
            "box_style": "",
            "children": [
              "IPY_MODEL_0b4d47c386d74676a3c14a3b5b88ba62",
              "IPY_MODEL_6e698e48615f4b20a9d90f72e2396253"
            ],
            "layout": "IPY_MODEL_3512ded2ab1049349d5e2cb663988e47"
          }
        },
        "0b4d47c386d74676a3c14a3b5b88ba62": {
          "model_module": "@jupyter-widgets/controls",
          "model_name": "LabelModel",
          "model_module_version": "1.5.0",
          "state": {
            "_dom_classes": [],
            "_model_module": "@jupyter-widgets/controls",
            "_model_module_version": "1.5.0",
            "_model_name": "LabelModel",
            "_view_count": null,
            "_view_module": "@jupyter-widgets/controls",
            "_view_module_version": "1.5.0",
            "_view_name": "LabelView",
            "description": "",
            "description_tooltip": null,
            "layout": "IPY_MODEL_d2cf4825c507404898be93195869813c",
            "placeholder": "​",
            "style": "IPY_MODEL_bd14bb9f660d4dec8445288a9fb03a65",
            "value": "0.185 MB of 0.185 MB uploaded\r"
          }
        },
        "6e698e48615f4b20a9d90f72e2396253": {
          "model_module": "@jupyter-widgets/controls",
          "model_name": "FloatProgressModel",
          "model_module_version": "1.5.0",
          "state": {
            "_dom_classes": [],
            "_model_module": "@jupyter-widgets/controls",
            "_model_module_version": "1.5.0",
            "_model_name": "FloatProgressModel",
            "_view_count": null,
            "_view_module": "@jupyter-widgets/controls",
            "_view_module_version": "1.5.0",
            "_view_name": "ProgressView",
            "bar_style": "",
            "description": "",
            "description_tooltip": null,
            "layout": "IPY_MODEL_de79763b017f4507b3dbc12568ad8743",
            "max": 1,
            "min": 0,
            "orientation": "horizontal",
            "style": "IPY_MODEL_8e7ecc4fcb124b62abcbd0e88cdcbd11",
            "value": 1
          }
        },
        "3512ded2ab1049349d5e2cb663988e47": {
          "model_module": "@jupyter-widgets/base",
          "model_name": "LayoutModel",
          "model_module_version": "1.2.0",
          "state": {
            "_model_module": "@jupyter-widgets/base",
            "_model_module_version": "1.2.0",
            "_model_name": "LayoutModel",
            "_view_count": null,
            "_view_module": "@jupyter-widgets/base",
            "_view_module_version": "1.2.0",
            "_view_name": "LayoutView",
            "align_content": null,
            "align_items": null,
            "align_self": null,
            "border": null,
            "bottom": null,
            "display": null,
            "flex": null,
            "flex_flow": null,
            "grid_area": null,
            "grid_auto_columns": null,
            "grid_auto_flow": null,
            "grid_auto_rows": null,
            "grid_column": null,
            "grid_gap": null,
            "grid_row": null,
            "grid_template_areas": null,
            "grid_template_columns": null,
            "grid_template_rows": null,
            "height": null,
            "justify_content": null,
            "justify_items": null,
            "left": null,
            "margin": null,
            "max_height": null,
            "max_width": null,
            "min_height": null,
            "min_width": null,
            "object_fit": null,
            "object_position": null,
            "order": null,
            "overflow": null,
            "overflow_x": null,
            "overflow_y": null,
            "padding": null,
            "right": null,
            "top": null,
            "visibility": null,
            "width": null
          }
        },
        "d2cf4825c507404898be93195869813c": {
          "model_module": "@jupyter-widgets/base",
          "model_name": "LayoutModel",
          "model_module_version": "1.2.0",
          "state": {
            "_model_module": "@jupyter-widgets/base",
            "_model_module_version": "1.2.0",
            "_model_name": "LayoutModel",
            "_view_count": null,
            "_view_module": "@jupyter-widgets/base",
            "_view_module_version": "1.2.0",
            "_view_name": "LayoutView",
            "align_content": null,
            "align_items": null,
            "align_self": null,
            "border": null,
            "bottom": null,
            "display": null,
            "flex": null,
            "flex_flow": null,
            "grid_area": null,
            "grid_auto_columns": null,
            "grid_auto_flow": null,
            "grid_auto_rows": null,
            "grid_column": null,
            "grid_gap": null,
            "grid_row": null,
            "grid_template_areas": null,
            "grid_template_columns": null,
            "grid_template_rows": null,
            "height": null,
            "justify_content": null,
            "justify_items": null,
            "left": null,
            "margin": null,
            "max_height": null,
            "max_width": null,
            "min_height": null,
            "min_width": null,
            "object_fit": null,
            "object_position": null,
            "order": null,
            "overflow": null,
            "overflow_x": null,
            "overflow_y": null,
            "padding": null,
            "right": null,
            "top": null,
            "visibility": null,
            "width": null
          }
        },
        "bd14bb9f660d4dec8445288a9fb03a65": {
          "model_module": "@jupyter-widgets/controls",
          "model_name": "DescriptionStyleModel",
          "model_module_version": "1.5.0",
          "state": {
            "_model_module": "@jupyter-widgets/controls",
            "_model_module_version": "1.5.0",
            "_model_name": "DescriptionStyleModel",
            "_view_count": null,
            "_view_module": "@jupyter-widgets/base",
            "_view_module_version": "1.2.0",
            "_view_name": "StyleView",
            "description_width": ""
          }
        },
        "de79763b017f4507b3dbc12568ad8743": {
          "model_module": "@jupyter-widgets/base",
          "model_name": "LayoutModel",
          "model_module_version": "1.2.0",
          "state": {
            "_model_module": "@jupyter-widgets/base",
            "_model_module_version": "1.2.0",
            "_model_name": "LayoutModel",
            "_view_count": null,
            "_view_module": "@jupyter-widgets/base",
            "_view_module_version": "1.2.0",
            "_view_name": "LayoutView",
            "align_content": null,
            "align_items": null,
            "align_self": null,
            "border": null,
            "bottom": null,
            "display": null,
            "flex": null,
            "flex_flow": null,
            "grid_area": null,
            "grid_auto_columns": null,
            "grid_auto_flow": null,
            "grid_auto_rows": null,
            "grid_column": null,
            "grid_gap": null,
            "grid_row": null,
            "grid_template_areas": null,
            "grid_template_columns": null,
            "grid_template_rows": null,
            "height": null,
            "justify_content": null,
            "justify_items": null,
            "left": null,
            "margin": null,
            "max_height": null,
            "max_width": null,
            "min_height": null,
            "min_width": null,
            "object_fit": null,
            "object_position": null,
            "order": null,
            "overflow": null,
            "overflow_x": null,
            "overflow_y": null,
            "padding": null,
            "right": null,
            "top": null,
            "visibility": null,
            "width": null
          }
        },
        "8e7ecc4fcb124b62abcbd0e88cdcbd11": {
          "model_module": "@jupyter-widgets/controls",
          "model_name": "ProgressStyleModel",
          "model_module_version": "1.5.0",
          "state": {
            "_model_module": "@jupyter-widgets/controls",
            "_model_module_version": "1.5.0",
            "_model_name": "ProgressStyleModel",
            "_view_count": null,
            "_view_module": "@jupyter-widgets/base",
            "_view_module_version": "1.2.0",
            "_view_name": "StyleView",
            "bar_color": null,
            "description_width": ""
          }
        }
      }
    },
    "accelerator": "GPU"
  },
  "cells": [
    {
      "cell_type": "markdown",
      "metadata": {
        "id": "view-in-github",
        "colab_type": "text"
      },
      "source": [
        "<a href=\"https://colab.research.google.com/github/nenecchiCV/internal-competition-2024/blob/main/method2.ipynb\" target=\"_parent\"><img src=\"https://colab.research.google.com/assets/colab-badge.svg\" alt=\"Open In Colab\"/></a>"
      ]
    },
    {
      "cell_type": "code",
      "source": [
        "from google.colab import drive\n",
        "drive.mount('/content/drive')"
      ],
      "metadata": {
        "colab": {
          "base_uri": "https://localhost:8080/"
        },
        "id": "3-vYPlGg3kAB",
        "outputId": "82e792fe-6947-4bb7-8076-5bd5f5e7b4f9"
      },
      "execution_count": 27,
      "outputs": [
        {
          "output_type": "stream",
          "name": "stdout",
          "text": [
            "Drive already mounted at /content/drive; to attempt to forcibly remount, call drive.mount(\"/content/drive\", force_remount=True).\n"
          ]
        }
      ]
    },
    {
      "cell_type": "code",
      "source": [
        "api_key = \"b846546e2316d4194c74a497599a7b83c9127f07\""
      ],
      "metadata": {
        "id": "zurfTCmEgwqf"
      },
      "execution_count": 2,
      "outputs": []
    },
    {
      "cell_type": "code",
      "execution_count": 3,
      "metadata": {
        "id": "Hy9sI7w5Mg3k",
        "colab": {
          "base_uri": "https://localhost:8080/"
        },
        "outputId": "3b69393f-f301-470e-e59a-1f4a581fcca3"
      },
      "outputs": [
        {
          "output_type": "stream",
          "name": "stdout",
          "text": [
            "Collecting colorama\n",
            "  Downloading colorama-0.4.6-py2.py3-none-any.whl (25 kB)\n",
            "Installing collected packages: colorama\n",
            "Successfully installed colorama-0.4.6\n",
            "\u001b[2K     \u001b[90m━━━━━━━━━━━━━━━━━━━━━━━━━━━━━━━━━━━━━━━━\u001b[0m \u001b[32m2.2/2.2 MB\u001b[0m \u001b[31m9.6 MB/s\u001b[0m eta \u001b[36m0:00:00\u001b[0m\n",
            "\u001b[2K     \u001b[90m━━━━━━━━━━━━━━━━━━━━━━━━━━━━━━━━━━━━━━━━\u001b[0m \u001b[32m195.4/195.4 kB\u001b[0m \u001b[31m26.9 MB/s\u001b[0m eta \u001b[36m0:00:00\u001b[0m\n",
            "\u001b[2K     \u001b[90m━━━━━━━━━━━━━━━━━━━━━━━━━━━━━━━━━━━━━━━━\u001b[0m \u001b[32m258.8/258.8 kB\u001b[0m \u001b[31m31.6 MB/s\u001b[0m eta \u001b[36m0:00:00\u001b[0m\n",
            "\u001b[2K     \u001b[90m━━━━━━━━━━━━━━━━━━━━━━━━━━━━━━━━━━━━━━━━\u001b[0m \u001b[32m62.7/62.7 kB\u001b[0m \u001b[31m9.9 MB/s\u001b[0m eta \u001b[36m0:00:00\u001b[0m\n",
            "\u001b[?25h"
          ]
        },
        {
          "output_type": "stream",
          "name": "stderr",
          "text": [
            "\u001b[34m\u001b[1mwandb\u001b[0m: W&B API key is configured. Use \u001b[1m`wandb login --relogin`\u001b[0m to force relogin\n",
            "\u001b[34m\u001b[1mwandb\u001b[0m: \u001b[33mWARNING\u001b[0m If you're specifying your api key in code, ensure this code is not shared publicly.\n",
            "\u001b[34m\u001b[1mwandb\u001b[0m: \u001b[33mWARNING\u001b[0m Consider setting the WANDB_API_KEY environment variable, or running `wandb login` from the command line.\n",
            "\u001b[34m\u001b[1mwandb\u001b[0m: Appending key for api.wandb.ai to your netrc file: /root/.netrc\n"
          ]
        }
      ],
      "source": [
        "!pip install colorama\n",
        "!pip install wandb -qqq\n",
        "import wandb\n",
        "\n",
        "try:\n",
        "    wandb.login(key=api_key)\n",
        "    anonymous = None\n",
        "except:\n",
        "    anonymous = \"must\"\n",
        "    print('To use your W&B account,\\nGo to Add-ons -> Secrets and provide your W&B access token. Use the Label name as WANDB. \\nGet your W&B access token from here: https://wandb.ai/authorize')"
      ]
    },
    {
      "cell_type": "code",
      "source": [
        "import pandas as pd\n",
        "import numpy as np\n",
        "# data1_df = pd.read_csv('/content/drive/MyDrive/daicc2024/data_1.csv')\n",
        "# data2_df = pd.read_csv('/content/drive/MyDrive/daicc2024/data_2.csv')\n",
        "# data_df = pd.concat([data1_df, data2_df], axis=0)\n",
        "data_df = pd.read_csv('/content/drive/MyDrive/daicc2024/data_aug.csv')\n",
        "data_df.head()\n",
        "\n",
        "test_df = pd.read_csv('/content/drive/MyDrive/daicc2024/test.csv')\n",
        "all_df = pd.concat([data_df, test_df], axis=0).drop(columns=['parameter',\"spec\"])"
      ],
      "metadata": {
        "id": "CeK-NL8tdmWi"
      },
      "execution_count": 30,
      "outputs": []
    },
    {
      "cell_type": "code",
      "source": [
        "X1.head()"
      ],
      "metadata": {
        "colab": {
          "base_uri": "https://localhost:8080/",
          "height": 206
        },
        "id": "5vCT2jItWJIo",
        "outputId": "ed97965a-dc73-48eb-e1b1-333575b2fd21"
      },
      "execution_count": 39,
      "outputs": [
        {
          "output_type": "execute_result",
          "data": {
            "text/plain": [
              "   id    obs_11    obs_12    obs_13    obs_14    obs_15    obs_21    obs_22  \\\n",
              "0   0  60.43148  90.63278  48.53938  73.18520  76.49471  61.39438  95.98077   \n",
              "1   1  60.31591  90.90063  48.66639  73.15425  77.01681  60.55353  93.84108   \n",
              "2   2  61.02214  91.24220  48.51041  73.56322  76.59174  59.80968  98.37462   \n",
              "3   3  60.90238  91.15751  48.56410  73.16388  76.46721  61.00587  96.78004   \n",
              "4   4  60.86377  90.74101  48.01103  73.24340  76.27785  60.82857  95.33253   \n",
              "\n",
              "     obs_23    obs_24    obs_25    obs_31    obs_32    obs_33    obs_34  \\\n",
              "0  87.06911  85.60648  40.09341  55.72012  28.05010  98.95202  40.23684   \n",
              "1  91.04068  84.40526  40.18789  69.49276  23.47459  80.75647  51.36077   \n",
              "2  90.40294  84.03765  42.40781  54.34815  30.70454  94.20623  35.04755   \n",
              "3  87.03093  87.05510  40.25214  75.99990   9.51741   7.96226  62.01692   \n",
              "4  86.94419  89.83778  39.48265  45.41740  37.94137  92.13457  40.45273   \n",
              "\n",
              "      obs_35  \n",
              "0  102.85038  \n",
              "1  103.15300  \n",
              "2   97.53742  \n",
              "3  116.34815  \n",
              "4   96.01861  "
            ],
            "text/html": [
              "\n",
              "  <div id=\"df-150e5547-30de-4406-bf26-16eb14a2b51a\" class=\"colab-df-container\">\n",
              "    <div>\n",
              "<style scoped>\n",
              "    .dataframe tbody tr th:only-of-type {\n",
              "        vertical-align: middle;\n",
              "    }\n",
              "\n",
              "    .dataframe tbody tr th {\n",
              "        vertical-align: top;\n",
              "    }\n",
              "\n",
              "    .dataframe thead th {\n",
              "        text-align: right;\n",
              "    }\n",
              "</style>\n",
              "<table border=\"1\" class=\"dataframe\">\n",
              "  <thead>\n",
              "    <tr style=\"text-align: right;\">\n",
              "      <th></th>\n",
              "      <th>id</th>\n",
              "      <th>obs_11</th>\n",
              "      <th>obs_12</th>\n",
              "      <th>obs_13</th>\n",
              "      <th>obs_14</th>\n",
              "      <th>obs_15</th>\n",
              "      <th>obs_21</th>\n",
              "      <th>obs_22</th>\n",
              "      <th>obs_23</th>\n",
              "      <th>obs_24</th>\n",
              "      <th>obs_25</th>\n",
              "      <th>obs_31</th>\n",
              "      <th>obs_32</th>\n",
              "      <th>obs_33</th>\n",
              "      <th>obs_34</th>\n",
              "      <th>obs_35</th>\n",
              "    </tr>\n",
              "  </thead>\n",
              "  <tbody>\n",
              "    <tr>\n",
              "      <th>0</th>\n",
              "      <td>0</td>\n",
              "      <td>60.43148</td>\n",
              "      <td>90.63278</td>\n",
              "      <td>48.53938</td>\n",
              "      <td>73.18520</td>\n",
              "      <td>76.49471</td>\n",
              "      <td>61.39438</td>\n",
              "      <td>95.98077</td>\n",
              "      <td>87.06911</td>\n",
              "      <td>85.60648</td>\n",
              "      <td>40.09341</td>\n",
              "      <td>55.72012</td>\n",
              "      <td>28.05010</td>\n",
              "      <td>98.95202</td>\n",
              "      <td>40.23684</td>\n",
              "      <td>102.85038</td>\n",
              "    </tr>\n",
              "    <tr>\n",
              "      <th>1</th>\n",
              "      <td>1</td>\n",
              "      <td>60.31591</td>\n",
              "      <td>90.90063</td>\n",
              "      <td>48.66639</td>\n",
              "      <td>73.15425</td>\n",
              "      <td>77.01681</td>\n",
              "      <td>60.55353</td>\n",
              "      <td>93.84108</td>\n",
              "      <td>91.04068</td>\n",
              "      <td>84.40526</td>\n",
              "      <td>40.18789</td>\n",
              "      <td>69.49276</td>\n",
              "      <td>23.47459</td>\n",
              "      <td>80.75647</td>\n",
              "      <td>51.36077</td>\n",
              "      <td>103.15300</td>\n",
              "    </tr>\n",
              "    <tr>\n",
              "      <th>2</th>\n",
              "      <td>2</td>\n",
              "      <td>61.02214</td>\n",
              "      <td>91.24220</td>\n",
              "      <td>48.51041</td>\n",
              "      <td>73.56322</td>\n",
              "      <td>76.59174</td>\n",
              "      <td>59.80968</td>\n",
              "      <td>98.37462</td>\n",
              "      <td>90.40294</td>\n",
              "      <td>84.03765</td>\n",
              "      <td>42.40781</td>\n",
              "      <td>54.34815</td>\n",
              "      <td>30.70454</td>\n",
              "      <td>94.20623</td>\n",
              "      <td>35.04755</td>\n",
              "      <td>97.53742</td>\n",
              "    </tr>\n",
              "    <tr>\n",
              "      <th>3</th>\n",
              "      <td>3</td>\n",
              "      <td>60.90238</td>\n",
              "      <td>91.15751</td>\n",
              "      <td>48.56410</td>\n",
              "      <td>73.16388</td>\n",
              "      <td>76.46721</td>\n",
              "      <td>61.00587</td>\n",
              "      <td>96.78004</td>\n",
              "      <td>87.03093</td>\n",
              "      <td>87.05510</td>\n",
              "      <td>40.25214</td>\n",
              "      <td>75.99990</td>\n",
              "      <td>9.51741</td>\n",
              "      <td>7.96226</td>\n",
              "      <td>62.01692</td>\n",
              "      <td>116.34815</td>\n",
              "    </tr>\n",
              "    <tr>\n",
              "      <th>4</th>\n",
              "      <td>4</td>\n",
              "      <td>60.86377</td>\n",
              "      <td>90.74101</td>\n",
              "      <td>48.01103</td>\n",
              "      <td>73.24340</td>\n",
              "      <td>76.27785</td>\n",
              "      <td>60.82857</td>\n",
              "      <td>95.33253</td>\n",
              "      <td>86.94419</td>\n",
              "      <td>89.83778</td>\n",
              "      <td>39.48265</td>\n",
              "      <td>45.41740</td>\n",
              "      <td>37.94137</td>\n",
              "      <td>92.13457</td>\n",
              "      <td>40.45273</td>\n",
              "      <td>96.01861</td>\n",
              "    </tr>\n",
              "  </tbody>\n",
              "</table>\n",
              "</div>\n",
              "    <div class=\"colab-df-buttons\">\n",
              "\n",
              "  <div class=\"colab-df-container\">\n",
              "    <button class=\"colab-df-convert\" onclick=\"convertToInteractive('df-150e5547-30de-4406-bf26-16eb14a2b51a')\"\n",
              "            title=\"Convert this dataframe to an interactive table.\"\n",
              "            style=\"display:none;\">\n",
              "\n",
              "  <svg xmlns=\"http://www.w3.org/2000/svg\" height=\"24px\" viewBox=\"0 -960 960 960\">\n",
              "    <path d=\"M120-120v-720h720v720H120Zm60-500h600v-160H180v160Zm220 220h160v-160H400v160Zm0 220h160v-160H400v160ZM180-400h160v-160H180v160Zm440 0h160v-160H620v160ZM180-180h160v-160H180v160Zm440 0h160v-160H620v160Z\"/>\n",
              "  </svg>\n",
              "    </button>\n",
              "\n",
              "  <style>\n",
              "    .colab-df-container {\n",
              "      display:flex;\n",
              "      gap: 12px;\n",
              "    }\n",
              "\n",
              "    .colab-df-convert {\n",
              "      background-color: #E8F0FE;\n",
              "      border: none;\n",
              "      border-radius: 50%;\n",
              "      cursor: pointer;\n",
              "      display: none;\n",
              "      fill: #1967D2;\n",
              "      height: 32px;\n",
              "      padding: 0 0 0 0;\n",
              "      width: 32px;\n",
              "    }\n",
              "\n",
              "    .colab-df-convert:hover {\n",
              "      background-color: #E2EBFA;\n",
              "      box-shadow: 0px 1px 2px rgba(60, 64, 67, 0.3), 0px 1px 3px 1px rgba(60, 64, 67, 0.15);\n",
              "      fill: #174EA6;\n",
              "    }\n",
              "\n",
              "    .colab-df-buttons div {\n",
              "      margin-bottom: 4px;\n",
              "    }\n",
              "\n",
              "    [theme=dark] .colab-df-convert {\n",
              "      background-color: #3B4455;\n",
              "      fill: #D2E3FC;\n",
              "    }\n",
              "\n",
              "    [theme=dark] .colab-df-convert:hover {\n",
              "      background-color: #434B5C;\n",
              "      box-shadow: 0px 1px 3px 1px rgba(0, 0, 0, 0.15);\n",
              "      filter: drop-shadow(0px 1px 2px rgba(0, 0, 0, 0.3));\n",
              "      fill: #FFFFFF;\n",
              "    }\n",
              "  </style>\n",
              "\n",
              "    <script>\n",
              "      const buttonEl =\n",
              "        document.querySelector('#df-150e5547-30de-4406-bf26-16eb14a2b51a button.colab-df-convert');\n",
              "      buttonEl.style.display =\n",
              "        google.colab.kernel.accessAllowed ? 'block' : 'none';\n",
              "\n",
              "      async function convertToInteractive(key) {\n",
              "        const element = document.querySelector('#df-150e5547-30de-4406-bf26-16eb14a2b51a');\n",
              "        const dataTable =\n",
              "          await google.colab.kernel.invokeFunction('convertToInteractive',\n",
              "                                                    [key], {});\n",
              "        if (!dataTable) return;\n",
              "\n",
              "        const docLinkHtml = 'Like what you see? Visit the ' +\n",
              "          '<a target=\"_blank\" href=https://colab.research.google.com/notebooks/data_table.ipynb>data table notebook</a>'\n",
              "          + ' to learn more about interactive tables.';\n",
              "        element.innerHTML = '';\n",
              "        dataTable['output_type'] = 'display_data';\n",
              "        await google.colab.output.renderOutput(dataTable, element);\n",
              "        const docLink = document.createElement('div');\n",
              "        docLink.innerHTML = docLinkHtml;\n",
              "        element.appendChild(docLink);\n",
              "      }\n",
              "    </script>\n",
              "  </div>\n",
              "\n",
              "\n",
              "<div id=\"df-95bf4e05-44f4-4f57-9b57-c887554e1d06\">\n",
              "  <button class=\"colab-df-quickchart\" onclick=\"quickchart('df-95bf4e05-44f4-4f57-9b57-c887554e1d06')\"\n",
              "            title=\"Suggest charts\"\n",
              "            style=\"display:none;\">\n",
              "\n",
              "<svg xmlns=\"http://www.w3.org/2000/svg\" height=\"24px\"viewBox=\"0 0 24 24\"\n",
              "     width=\"24px\">\n",
              "    <g>\n",
              "        <path d=\"M19 3H5c-1.1 0-2 .9-2 2v14c0 1.1.9 2 2 2h14c1.1 0 2-.9 2-2V5c0-1.1-.9-2-2-2zM9 17H7v-7h2v7zm4 0h-2V7h2v10zm4 0h-2v-4h2v4z\"/>\n",
              "    </g>\n",
              "</svg>\n",
              "  </button>\n",
              "\n",
              "<style>\n",
              "  .colab-df-quickchart {\n",
              "      --bg-color: #E8F0FE;\n",
              "      --fill-color: #1967D2;\n",
              "      --hover-bg-color: #E2EBFA;\n",
              "      --hover-fill-color: #174EA6;\n",
              "      --disabled-fill-color: #AAA;\n",
              "      --disabled-bg-color: #DDD;\n",
              "  }\n",
              "\n",
              "  [theme=dark] .colab-df-quickchart {\n",
              "      --bg-color: #3B4455;\n",
              "      --fill-color: #D2E3FC;\n",
              "      --hover-bg-color: #434B5C;\n",
              "      --hover-fill-color: #FFFFFF;\n",
              "      --disabled-bg-color: #3B4455;\n",
              "      --disabled-fill-color: #666;\n",
              "  }\n",
              "\n",
              "  .colab-df-quickchart {\n",
              "    background-color: var(--bg-color);\n",
              "    border: none;\n",
              "    border-radius: 50%;\n",
              "    cursor: pointer;\n",
              "    display: none;\n",
              "    fill: var(--fill-color);\n",
              "    height: 32px;\n",
              "    padding: 0;\n",
              "    width: 32px;\n",
              "  }\n",
              "\n",
              "  .colab-df-quickchart:hover {\n",
              "    background-color: var(--hover-bg-color);\n",
              "    box-shadow: 0 1px 2px rgba(60, 64, 67, 0.3), 0 1px 3px 1px rgba(60, 64, 67, 0.15);\n",
              "    fill: var(--button-hover-fill-color);\n",
              "  }\n",
              "\n",
              "  .colab-df-quickchart-complete:disabled,\n",
              "  .colab-df-quickchart-complete:disabled:hover {\n",
              "    background-color: var(--disabled-bg-color);\n",
              "    fill: var(--disabled-fill-color);\n",
              "    box-shadow: none;\n",
              "  }\n",
              "\n",
              "  .colab-df-spinner {\n",
              "    border: 2px solid var(--fill-color);\n",
              "    border-color: transparent;\n",
              "    border-bottom-color: var(--fill-color);\n",
              "    animation:\n",
              "      spin 1s steps(1) infinite;\n",
              "  }\n",
              "\n",
              "  @keyframes spin {\n",
              "    0% {\n",
              "      border-color: transparent;\n",
              "      border-bottom-color: var(--fill-color);\n",
              "      border-left-color: var(--fill-color);\n",
              "    }\n",
              "    20% {\n",
              "      border-color: transparent;\n",
              "      border-left-color: var(--fill-color);\n",
              "      border-top-color: var(--fill-color);\n",
              "    }\n",
              "    30% {\n",
              "      border-color: transparent;\n",
              "      border-left-color: var(--fill-color);\n",
              "      border-top-color: var(--fill-color);\n",
              "      border-right-color: var(--fill-color);\n",
              "    }\n",
              "    40% {\n",
              "      border-color: transparent;\n",
              "      border-right-color: var(--fill-color);\n",
              "      border-top-color: var(--fill-color);\n",
              "    }\n",
              "    60% {\n",
              "      border-color: transparent;\n",
              "      border-right-color: var(--fill-color);\n",
              "    }\n",
              "    80% {\n",
              "      border-color: transparent;\n",
              "      border-right-color: var(--fill-color);\n",
              "      border-bottom-color: var(--fill-color);\n",
              "    }\n",
              "    90% {\n",
              "      border-color: transparent;\n",
              "      border-bottom-color: var(--fill-color);\n",
              "    }\n",
              "  }\n",
              "</style>\n",
              "\n",
              "  <script>\n",
              "    async function quickchart(key) {\n",
              "      const quickchartButtonEl =\n",
              "        document.querySelector('#' + key + ' button');\n",
              "      quickchartButtonEl.disabled = true;  // To prevent multiple clicks.\n",
              "      quickchartButtonEl.classList.add('colab-df-spinner');\n",
              "      try {\n",
              "        const charts = await google.colab.kernel.invokeFunction(\n",
              "            'suggestCharts', [key], {});\n",
              "      } catch (error) {\n",
              "        console.error('Error during call to suggestCharts:', error);\n",
              "      }\n",
              "      quickchartButtonEl.classList.remove('colab-df-spinner');\n",
              "      quickchartButtonEl.classList.add('colab-df-quickchart-complete');\n",
              "    }\n",
              "    (() => {\n",
              "      let quickchartButtonEl =\n",
              "        document.querySelector('#df-95bf4e05-44f4-4f57-9b57-c887554e1d06 button');\n",
              "      quickchartButtonEl.style.display =\n",
              "        google.colab.kernel.accessAllowed ? 'block' : 'none';\n",
              "    })();\n",
              "  </script>\n",
              "</div>\n",
              "\n",
              "    </div>\n",
              "  </div>\n"
            ],
            "application/vnd.google.colaboratory.intrinsic+json": {
              "type": "dataframe",
              "variable_name": "X1",
              "summary": "{\n  \"name\": \"X1\",\n  \"rows\": 30000,\n  \"fields\": [\n    {\n      \"column\": \"id\",\n      \"properties\": {\n        \"dtype\": \"number\",\n        \"std\": 8660,\n        \"min\": 0,\n        \"max\": 29999,\n        \"num_unique_values\": 30000,\n        \"samples\": [\n          2308,\n          22404,\n          23397\n        ],\n        \"semantic_type\": \"\",\n        \"description\": \"\"\n      }\n    },\n    {\n      \"column\": \"obs_11\",\n      \"properties\": {\n        \"dtype\": \"number\",\n        \"std\": 0.28437908612823626,\n        \"min\": 59.52048,\n        \"max\": 61.71626,\n        \"num_unique_values\": 24559,\n        \"samples\": [\n          60.72265,\n          59.95715,\n          60.12763\n        ],\n        \"semantic_type\": \"\",\n        \"description\": \"\"\n      }\n    },\n    {\n      \"column\": \"obs_12\",\n      \"properties\": {\n        \"dtype\": \"number\",\n        \"std\": 0.2544413925200268,\n        \"min\": 90.02512,\n        \"max\": 91.86584,\n        \"num_unique_values\": 25179,\n        \"samples\": [\n          91.55163,\n          91.52212,\n          90.33933\n        ],\n        \"semantic_type\": \"\",\n        \"description\": \"\"\n      }\n    },\n    {\n      \"column\": \"obs_13\",\n      \"properties\": {\n        \"dtype\": \"number\",\n        \"std\": 0.2614633334857861,\n        \"min\": 47.6037,\n        \"max\": 49.61528,\n        \"num_unique_values\": 24866,\n        \"samples\": [\n          48.75797,\n          48.52694,\n          48.42469\n        ],\n        \"semantic_type\": \"\",\n        \"description\": \"\"\n      }\n    },\n    {\n      \"column\": \"obs_14\",\n      \"properties\": {\n        \"dtype\": \"number\",\n        \"std\": 0.11290064024735971,\n        \"min\": 72.69062,\n        \"max\": 73.68644,\n        \"num_unique_values\": 17619,\n        \"samples\": [\n          73.0907,\n          73.16179,\n          73.32642\n        ],\n        \"semantic_type\": \"\",\n        \"description\": \"\"\n      }\n    },\n    {\n      \"column\": \"obs_15\",\n      \"properties\": {\n        \"dtype\": \"number\",\n        \"std\": 0.20861332674657695,\n        \"min\": 75.96206,\n        \"max\": 77.17628,\n        \"num_unique_values\": 24623,\n        \"samples\": [\n          76.12193,\n          76.36084,\n          76.56875\n        ],\n        \"semantic_type\": \"\",\n        \"description\": \"\"\n      }\n    },\n    {\n      \"column\": \"obs_21\",\n      \"properties\": {\n        \"dtype\": \"number\",\n        \"std\": 1.000610793192243,\n        \"min\": 57.82196,\n        \"max\": 63.77042,\n        \"num_unique_values\": 28643,\n        \"samples\": [\n          62.26959,\n          62.11025,\n          60.71125\n        ],\n        \"semantic_type\": \"\",\n        \"description\": \"\"\n      }\n    },\n    {\n      \"column\": \"obs_22\",\n      \"properties\": {\n        \"dtype\": \"number\",\n        \"std\": 1.2639622602965597,\n        \"min\": 89.95025,\n        \"max\": 100.67238,\n        \"num_unique_values\": 28836,\n        \"samples\": [\n          98.0936,\n          96.37042,\n          97.68613\n        ],\n        \"semantic_type\": \"\",\n        \"description\": \"\"\n      }\n    },\n    {\n      \"column\": \"obs_23\",\n      \"properties\": {\n        \"dtype\": \"number\",\n        \"std\": 1.416486216321079,\n        \"min\": 83.06437,\n        \"max\": 94.38338,\n        \"num_unique_values\": 28859,\n        \"samples\": [\n          88.53291,\n          88.05105,\n          87.7063\n        ],\n        \"semantic_type\": \"\",\n        \"description\": \"\"\n      }\n    },\n    {\n      \"column\": \"obs_24\",\n      \"properties\": {\n        \"dtype\": \"number\",\n        \"std\": 1.2039928281639332,\n        \"min\": 82.6111,\n        \"max\": 93.57001,\n        \"num_unique_values\": 27521,\n        \"samples\": [\n          84.30736,\n          84.05325,\n          84.36341\n        ],\n        \"semantic_type\": \"\",\n        \"description\": \"\"\n      }\n    },\n    {\n      \"column\": \"obs_25\",\n      \"properties\": {\n        \"dtype\": \"number\",\n        \"std\": 1.0204330802093475,\n        \"min\": 35.46456,\n        \"max\": 46.06068,\n        \"num_unique_values\": 27298,\n        \"samples\": [\n          42.15218,\n          40.26496,\n          40.77274\n        ],\n        \"semantic_type\": \"\",\n        \"description\": \"\"\n      }\n    },\n    {\n      \"column\": \"obs_31\",\n      \"properties\": {\n        \"dtype\": \"number\",\n        \"std\": 8.196727271813232,\n        \"min\": 36.75538,\n        \"max\": 85.40186,\n        \"num_unique_values\": 29836,\n        \"samples\": [\n          53.39792,\n          69.60784,\n          56.41579\n        ],\n        \"semantic_type\": \"\",\n        \"description\": \"\"\n      }\n    },\n    {\n      \"column\": \"obs_32\",\n      \"properties\": {\n        \"dtype\": \"number\",\n        \"std\": 6.768400289915742,\n        \"min\": 1.68355,\n        \"max\": 45.35735,\n        \"num_unique_values\": 29804,\n        \"samples\": [\n          21.91585,\n          13.02336,\n          24.32912\n        ],\n        \"semantic_type\": \"\",\n        \"description\": \"\"\n      }\n    },\n    {\n      \"column\": \"obs_33\",\n      \"properties\": {\n        \"dtype\": \"number\",\n        \"std\": 24.102249618054284,\n        \"min\": 0.0,\n        \"max\": 147.35416,\n        \"num_unique_values\": 29841,\n        \"samples\": [\n          82.72522,\n          59.35426,\n          93.16915\n        ],\n        \"semantic_type\": \"\",\n        \"description\": \"\"\n      }\n    },\n    {\n      \"column\": \"obs_34\",\n      \"properties\": {\n        \"dtype\": \"number\",\n        \"std\": 7.285678983237833,\n        \"min\": 19.5597,\n        \"max\": 66.34039,\n        \"num_unique_values\": 29805,\n        \"samples\": [\n          48.60708,\n          37.08719,\n          44.18366\n        ],\n        \"semantic_type\": \"\",\n        \"description\": \"\"\n      }\n    },\n    {\n      \"column\": \"obs_35\",\n      \"properties\": {\n        \"dtype\": \"number\",\n        \"std\": 6.20999961597655,\n        \"min\": 88.56132,\n        \"max\": 127.34526,\n        \"num_unique_values\": 29795,\n        \"samples\": [\n          105.75298,\n          106.32363,\n          111.38086\n        ],\n        \"semantic_type\": \"\",\n        \"description\": \"\"\n      }\n    }\n  ]\n}"
            }
          },
          "metadata": {},
          "execution_count": 39
        }
      ]
    },
    {
      "cell_type": "code",
      "source": [
        "X1 = data_df.drop(columns=[\"id\", 'parameter',\"spec\"])\n",
        "x2 = data_df[['spec']]\n",
        "y = data_df[['parameter']]\n",
        "\n",
        "X1_all = all_df.drop(columns=['id'])\n",
        "x2_min_max = np.array([[90], [110]]).astype('float')\n",
        "x2_min_max_df = pd.DataFrame(data=x2_min_max, columns=[\"spec\"], dtype=float)\n",
        "\n",
        "from sklearn.preprocessing import StandardScaler, MinMaxScaler\n",
        "import torch\n",
        "\n",
        "# trainというDataFrameにfit\n",
        "X1_scaler = StandardScaler().fit(X1_all)\n",
        "x2_scaler = MinMaxScaler(feature_range=(-1, 1)).fit(x2_min_max_df)\n",
        "X1_scaled = X1_scaler.transform(X1)\n",
        "x2_scaled = x2_scaler.transform(x2)\n",
        "\n",
        "X1_scaled_tensor = torch.tensor(X1_scaled.reshape(-1, 3, 5), dtype=torch.float64)\n",
        "x2_scaled_tensor = torch.tensor(x2_scaled, dtype=torch.float64)\n",
        "y_tensor = torch.tensor(y.values, dtype=torch.float64)\n",
        "\n",
        "X1_test = test_df.drop(columns=[\"id\"])\n",
        "test_ids = test_df[\"id\"]\n",
        "X1_scaled_test = X1_scaler.transform(X1_test)\n",
        "X1_scaled_test_tensor = torch.tensor(X1_scaled_test.reshape(-1, 3, 5), dtype=torch.float64)"
      ],
      "metadata": {
        "id": "9bxQcjEDgzz8"
      },
      "execution_count": 41,
      "outputs": []
    },
    {
      "cell_type": "markdown",
      "source": [
        "https://qiita.com/gg_hatano/items/cf87fe5e1166a2ba80b2"
      ],
      "metadata": {
        "id": "2PI5v9kKGwq9"
      }
    },
    {
      "cell_type": "code",
      "source": [
        "from torch.utils import data as data\n",
        "\n",
        "class MyDataset(data.Dataset):\n",
        "    def __init__(self, X1_scaled_tensor, x2_scaled_tensor, y_tensor):\n",
        "        self.X1 = X1_scaled_tensor\n",
        "        self.x2 = x2_scaled_tensor\n",
        "        self.y = y_tensor\n",
        "\n",
        "    def __getitem__(self, index):\n",
        "        return self.X1[index], self.x2[index], self.y[index]\n",
        "\n",
        "    def __len__(self):\n",
        "        return len(self.y)"
      ],
      "metadata": {
        "id": "xFxsPwmM3oCz"
      },
      "execution_count": 42,
      "outputs": []
    },
    {
      "cell_type": "code",
      "source": [
        "# import torch_xla\n",
        "# import torch_xla.core.xla_model as xm\n",
        "\n",
        "class CFG:\n",
        "    seed = 99\n",
        "    exp_name = 'exp_2-1'\n",
        "    comment = exp_name\n",
        "    model_name = 'LSTM-FC'\n",
        "    train_bs = 32\n",
        "    valid_bs = train_bs\n",
        "    data_size = [[3, 5], [1]]\n",
        "    epochs = 50\n",
        "    lr = 5e-2\n",
        "    scheduler = 'CosineAnnealingLR'\n",
        "    min_lr = 1e-4\n",
        "    T_max = int(30000 / train_bs * epochs) + 50\n",
        "    T_0 = 25\n",
        "    warmup_epochs = 0\n",
        "    wd = 1e-5\n",
        "    n_fold = 5\n",
        "    folds = []\n",
        "    device = \"cuda\"\n",
        "    # device = xm.xla_device()\n",
        "    lstm_input_size=5\n",
        "    lstm_hidden_size=10\n",
        "    fc_hidden_size=128\n",
        "    num_lstm_layers=3\n",
        "    dropout_rate = 0.2\n",
        "#     target_dataset='uwmgi-stride2-dataset/images'"
      ],
      "metadata": {
        "id": "91xKiQmx88ad"
      },
      "execution_count": 109,
      "outputs": []
    },
    {
      "cell_type": "code",
      "source": [
        "from torch import nn\n",
        "from torch.nn import functional as F\n",
        "class LSTMScalarPredictor(nn.Module):\n",
        "    def __init__(self, lstm_input_size=CFG.lstm_input_size, lstm_hidden_size=CFG.lstm_hidden_size, num_lstm_layers=CFG.num_lstm_layers, fc_hidden_size=CFG.fc_hidden_size):\n",
        "        super(LSTMScalarPredictor, self).__init__()\n",
        "        self.lstm_hidden_size = lstm_hidden_size\n",
        "        self.num_lstm_layers = num_lstm_layers\n",
        "        self.lstm = nn.LSTM(lstm_input_size, lstm_hidden_size, num_lstm_layers, batch_first=True)\n",
        "        self.fc1 = nn.Linear(lstm_hidden_size + 1, fc_hidden_size)  # +1 for scalar input\n",
        "        self.fc2 = nn.Linear(fc_hidden_size, fc_hidden_size)\n",
        "        self.fc3 = nn.Linear(fc_hidden_size, 1)\n",
        "        self.dropout1 = nn.Dropout2d(CFG.dropout_rate)\n",
        "        self.dropout2 = nn.Dropout2d(CFG.dropout_rate)\n",
        "        self.dropout3 = nn.Dropout2d(CFG.dropout_rate)\n",
        "        self.bn1 = nn.BatchNorm1d(fc_hidden_size)\n",
        "        self.bn2 = nn.BatchNorm1d(fc_hidden_size)\n",
        "\n",
        "    def forward(self, X1, x2):\n",
        "        # Initialize hidden state with zeros\n",
        "        h0 = torch.zeros(self.num_lstm_layers, X1.size(0), self.lstm_hidden_size).to(X1.device)\n",
        "        c0 = torch.zeros(self.num_lstm_layers, X1.size(0), self.lstm_hidden_size).to(X1.device)\n",
        "\n",
        "        # Forward pass through LSTM layer\n",
        "        lstm_H, _ = self.lstm(X1, (h0, c0))\n",
        "\n",
        "        # Only take the output from the last time step\n",
        "        x = torch.cat([lstm_H[:, -1, :], x2], dim=1)\n",
        "        x = self.dropout1(x)\n",
        "        x = self.fc1(x)\n",
        "        x = self.bn1(x)\n",
        "        x = self.dropout2(x)\n",
        "        x = F.relu(x)\n",
        "        x = self.fc2(x)\n",
        "        x = self.bn2(x)\n",
        "        x = F.relu(x)\n",
        "        x = self.dropout3(x)\n",
        "        out = self.fc3(x)\n",
        "\n",
        "        return out\n",
        "\n",
        "    def init_wandb(self):\n",
        "      for name, param in self.named_parameters():\n",
        "        if 'lstm.weight' in name:\n",
        "            nn.init.xavier_uniform_(param)  # LSTM層の重みをXavier初期化\n",
        "        elif 'fc3.weight' in name:\n",
        "            nn.init.xavier_uniform_(param)  # FC-softmax層の重みをXavier初期化\n",
        "        elif 'fc.weight' in name:\n",
        "            nn.init.kaiming_normal_(param, nonlinearity='relu')  # FC層-reluの重みをHe初期化\n"
      ],
      "metadata": {
        "id": "IEHjxyGTLrpq"
      },
      "execution_count": 110,
      "outputs": []
    },
    {
      "cell_type": "code",
      "source": [
        "MSELoss = nn.MSELoss()\n",
        "def criterion(y_pred, y_true):\n",
        "    return MSELoss(y_pred, y_true)"
      ],
      "metadata": {
        "id": "aA-i_sAAMklM"
      },
      "execution_count": 111,
      "outputs": []
    },
    {
      "cell_type": "code",
      "source": [
        "import random\n",
        "import os\n",
        "def set_seed(seed = 42):\n",
        "    '''Sets the seed of the entire notebook so results are the same every time we run.\n",
        "    This is for REPRODUCIBILITY.'''\n",
        "    np.random.seed(seed)\n",
        "    random.seed(seed)\n",
        "    torch.manual_seed(seed)\n",
        "    torch.cuda.manual_seed(seed)\n",
        "    # When running on the CuDNN backend, two further options must be set\n",
        "    torch.backends.cudnn.deterministic = True\n",
        "    torch.backends.cudnn.benchmark = False\n",
        "    # Set a fixed value for the hash seed\n",
        "    os.environ['PYTHONHASHSEED'] = str(seed)\n",
        "    print('> SEEDING DONE')\n",
        "\n",
        "set_seed(CFG.seed)"
      ],
      "metadata": {
        "id": "7yMWT0eH8Z-E",
        "colab": {
          "base_uri": "https://localhost:8080/"
        },
        "outputId": "1af84383-5b55-4a35-bdc1-9f300ac64edc"
      },
      "execution_count": 112,
      "outputs": [
        {
          "output_type": "stream",
          "name": "stdout",
          "text": [
            "> SEEDING DONE\n"
          ]
        }
      ]
    },
    {
      "cell_type": "code",
      "source": [
        "from tqdm import tqdm\n",
        "import gc\n",
        "\n",
        "def train_one_epoch(model, optimizer, scheduler, dataloader, device, epoch):\n",
        "    model.train()\n",
        "\n",
        "    dataset_size = 0\n",
        "    running_loss = 0.0\n",
        "\n",
        "    pbar = tqdm(enumerate(dataloader), total=len(dataloader), desc='Train ')\n",
        "    for step, (X1, x2, y_true) in pbar:\n",
        "        X1 = X1.to(device, dtype=torch.float)\n",
        "        x2  = x2.to(device, dtype=torch.float)\n",
        "        y_true  = y_true.to(device, dtype=torch.float)\n",
        "\n",
        "        batch_size = X1.size(0)\n",
        "\n",
        "        optimizer.zero_grad()\n",
        "\n",
        "        y_pred = model(X1, x2)\n",
        "        loss = criterion(y_pred, y_true)\n",
        "        loss.backward()\n",
        "\n",
        "        optimizer.step()\n",
        "\n",
        "        if scheduler is not None:\n",
        "            scheduler.step()\n",
        "\n",
        "        running_loss += (loss.item() * batch_size)\n",
        "        dataset_size += batch_size\n",
        "\n",
        "        epoch_loss = running_loss / dataset_size\n",
        "\n",
        "        mem = torch.cuda.memory_reserved() / 1E9 if torch.cuda.is_available() else 0\n",
        "        current_lr = optimizer.param_groups[0]['lr']\n",
        "        pbar.set_postfix(train_loss=f'{epoch_loss:0.4f}',\n",
        "                        lr=f'{current_lr:0.5f}',\n",
        "                        gpu_mem=f'{mem:0.2f} GB')\n",
        "\n",
        "    torch.cuda.empty_cache()\n",
        "    gc.collect()\n",
        "\n",
        "    return epoch_loss\n",
        "\n",
        "@torch.no_grad()\n",
        "def valid_one_epoch(model, dataloader, device, epoch):\n",
        "    model.eval()\n",
        "\n",
        "    dataset_size = 0\n",
        "    running_loss = 0.0\n",
        "\n",
        "    val_scores = []\n",
        "\n",
        "    pbar = tqdm(enumerate(dataloader), total=len(dataloader), desc='Valid ')\n",
        "    for step, (X1, x2, y_true) in pbar:\n",
        "        X1 = X1.to(device, dtype=torch.float)\n",
        "        x2 = x2.to(device, dtype=torch.float)\n",
        "        y_true  = y_true.to(device, dtype=torch.float)\n",
        "\n",
        "        batch_size = X1.size(0)\n",
        "\n",
        "        y_pred = model(X1, x2)\n",
        "        loss = criterion(y_pred, y_true)\n",
        "\n",
        "        running_loss += (loss.item() * batch_size)\n",
        "        dataset_size += batch_size\n",
        "\n",
        "        epoch_loss = running_loss / dataset_size\n",
        "\n",
        "        mem = torch.cuda.memory_reserved() / 1E9 if torch.cuda.is_available() else 0\n",
        "        current_lr = optimizer.param_groups[0]['lr']\n",
        "        pbar.set_postfix(valid_loss=f'{epoch_loss:0.4f}',\n",
        "                        lr=f'{current_lr:0.5f}',\n",
        "                        gpu_memory=f'{mem:0.2f} GB')\n",
        "\n",
        "    torch.cuda.empty_cache()\n",
        "    gc.collect()\n",
        "\n",
        "    return epoch_loss"
      ],
      "metadata": {
        "id": "w70KIUNFKALD"
      },
      "execution_count": 113,
      "outputs": []
    },
    {
      "cell_type": "code",
      "source": [
        "import copy\n",
        "from collections import defaultdict\n",
        "import time\n",
        "from colorama import Fore, Back, Style\n",
        "c_  = Fore.GREEN\n",
        "sr_ = Style.RESET_ALL\n",
        "\n",
        "def run_training(model, optimizer, scheduler, device, num_epochs):\n",
        "    # To automatically log gradients\n",
        "    run.watch(model, log_freq=100)\n",
        "\n",
        "    start = time.time()\n",
        "\n",
        "    if torch.cuda.is_available():\n",
        "        print(\"cuda: {}\\n\".format(torch.cuda.get_device_name()))\n",
        "\n",
        "    best_model_wts = copy.deepcopy(model.state_dict())\n",
        "    best_loss      = np.inf\n",
        "    best_epoch     = -1\n",
        "    history = defaultdict(list)\n",
        "\n",
        "    for epoch in range(1, num_epochs + 1):\n",
        "        gc.collect()\n",
        "        print(f'Epoch {epoch}/{num_epochs}', end='')\n",
        "        train_loss = train_one_epoch(model, optimizer, scheduler,\n",
        "                                           dataloader=train_loader,\n",
        "                                           device=CFG.device, epoch=epoch)\n",
        "\n",
        "        val_loss = valid_one_epoch(model, valid_loader,\n",
        "                                                 device=CFG.device,\n",
        "                                                 epoch=epoch)\n",
        "\n",
        "        history['Train Loss'].append(train_loss)\n",
        "        history['Valid Loss'].append(val_loss)\n",
        "\n",
        "        # Log the metrics\n",
        "        run.log({\"Train Loss\": train_loss,\n",
        "                   \"Valid Loss\": val_loss,\n",
        "                   \"LR\":scheduler.get_last_lr()[0]})\n",
        "\n",
        "        if val_loss < best_loss:\n",
        "            print(f\"{c_}Valid Score Improved ({best_loss:0.4f} ---> {val_loss:0.4f})\")\n",
        "            best_loss = val_loss\n",
        "            best_epoch   = epoch\n",
        "            run.summary[\"Best Loss\"]    = best_loss\n",
        "            run.summary[\"Best Epoch\"]   = best_epoch\n",
        "            best_model_wts = copy.deepcopy(model.state_dict())\n",
        "            PATH = f\"/content/drive/MyDrive/daicc2024/output/best_epoch-{fold:02d}.bin\"\n",
        "            torch.save(model.state_dict(), PATH)\n",
        "            # Save a model file from the current directory\n",
        "            run.save(PATH)\n",
        "            print(f\"Model Saved{sr_}\")\n",
        "\n",
        "\n",
        "        print(); print()\n",
        "\n",
        "    end = time.time()\n",
        "    time_elapsed = end - start\n",
        "    print('Training complete in {:.0f}h {:.0f}m {:.0f}s'.format(\n",
        "        time_elapsed // 3600, (time_elapsed % 3600) // 60, (time_elapsed % 3600) % 60))\n",
        "    print(\"Best Loss: {:.4f}\".format(best_loss))\n",
        "\n",
        "    return model, history"
      ],
      "metadata": {
        "id": "xUe04P51LcW3"
      },
      "execution_count": 114,
      "outputs": []
    },
    {
      "cell_type": "code",
      "source": [
        "def fetch_scheduler(optimizer):\n",
        "    if CFG.scheduler == 'CosineAnnealingLR':\n",
        "        scheduler = lr_scheduler.CosineAnnealingLR(optimizer,T_max=CFG.T_max,\n",
        "                                                   eta_min=CFG.min_lr)\n",
        "    elif CFG.scheduler == 'CosineAnnealingWarmRestarts':\n",
        "        scheduler = lr_scheduler.CosineAnnealingWarmRestarts(optimizer,T_0=CFG.T_0,\n",
        "                                                             eta_min=CFG.min_lr)\n",
        "    elif CFG.scheduler == 'ReduceLROnPlateau':\n",
        "        scheduler = lr_scheduler.ReduceLROnPlateau(optimizer,\n",
        "                                                   mode='min',\n",
        "                                                   factor=0.1,\n",
        "                                                   patience=7,\n",
        "                                                   threshold=0.0001,\n",
        "                                                   min_lr=CFG.min_lr,)\n",
        "    elif CFG.scheduer == 'ExponentialLR':\n",
        "        scheduler = lr_scheduler.ExponentialLR(optimizer, gamma=0.85)\n",
        "    elif CFG.scheduler == None:\n",
        "        return None\n",
        "\n",
        "    return scheduler"
      ],
      "metadata": {
        "id": "fz-5zRe-LDx-"
      },
      "execution_count": 115,
      "outputs": []
    },
    {
      "cell_type": "code",
      "source": [
        "from sklearn.model_selection import KFold\n",
        "import torch.optim as optim\n",
        "from torch.optim import lr_scheduler\n",
        "\n",
        "batch_size = CFG.train_bs\n",
        "\n",
        "my_dataset = MyDataset(X1_scaled_tensor, x2_scaled_tensor, y_tensor)\n",
        "kfold = KFold(n_splits=CFG.n_fold, random_state=99, shuffle=True)\n",
        "model = LSTMScalarPredictor(CFG.lstm_input_size, CFG.lstm_hidden_size, CFG.num_lstm_layers, CFG.fc_hidden_size).to(CFG.device)\n",
        "# 重みとバイアスの初期化\n",
        "model.init_wandb()\n",
        "\n",
        "for fold, (train_ids, valid_ids) in enumerate(kfold.split(my_dataset)):\n",
        "    # Print\n",
        "    print(f'FOLD {fold}')\n",
        "    print('--------------------------------')\n",
        "\n",
        "    # Sample elements randomly from a given list of ids, no replacement.\n",
        "    train_dataset = torch.utils.data.dataset.Subset(my_dataset, train_ids)\n",
        "    valid_dataset = torch.utils.data.dataset.Subset(my_dataset, valid_ids)\n",
        "\n",
        "    # Define data loaders for training and testing data in this fold\n",
        "    train_loader = torch.utils.data.DataLoader(\n",
        "                      train_dataset,\n",
        "                      batch_size=batch_size)\n",
        "    valid_loader = torch.utils.data.DataLoader(\n",
        "                      valid_dataset,\n",
        "                      batch_size=batch_size)\n",
        "\n",
        "    run = wandb.init(project='internal-competition',\n",
        "                      config={k:v for k, v in dict(vars(CFG)).items() if '__' not in k},\n",
        "                      anonymous=anonymous,\n",
        "                      name=f\"fold-{fold}|model-{CFG.model_name}\",\n",
        "                      group=CFG.exp_name,\n",
        "                    )\n",
        "\n",
        "\n",
        "    optimizer = optim.Adam(model.parameters(), lr=CFG.lr, weight_decay=CFG.wd)\n",
        "    scheduler = fetch_scheduler(optimizer)\n",
        "    model, history = run_training(model, optimizer, scheduler,\n",
        "                                  device=CFG.device,\n",
        "                                  num_epochs=CFG.epochs)\n",
        "    run.finish()"
      ],
      "metadata": {
        "id": "uQ4PQ92FuCu8",
        "colab": {
          "base_uri": "https://localhost:8080/",
          "height": 1000,
          "referenced_widgets": [
            "b572af900999454ea572279409c1fc70",
            "0b4d47c386d74676a3c14a3b5b88ba62",
            "6e698e48615f4b20a9d90f72e2396253",
            "3512ded2ab1049349d5e2cb663988e47",
            "d2cf4825c507404898be93195869813c",
            "bd14bb9f660d4dec8445288a9fb03a65",
            "de79763b017f4507b3dbc12568ad8743",
            "8e7ecc4fcb124b62abcbd0e88cdcbd11"
          ]
        },
        "outputId": "8329a214-8300-4ec5-f4cb-de63d39ac6ef"
      },
      "execution_count": null,
      "outputs": [
        {
          "output_type": "stream",
          "name": "stdout",
          "text": [
            "FOLD 0\n",
            "--------------------------------\n"
          ]
        },
        {
          "output_type": "display_data",
          "data": {
            "text/plain": [
              "<IPython.core.display.HTML object>"
            ],
            "text/html": [
              "Finishing last run (ID:qi0ehbd2) before initializing another..."
            ]
          },
          "metadata": {}
        },
        {
          "output_type": "display_data",
          "data": {
            "text/plain": [
              "VBox(children=(Label(value='0.090 MB of 0.176 MB uploaded\\r'), FloatProgress(value=0.5112198970136108, max=1.0…"
            ],
            "application/vnd.jupyter.widget-view+json": {
              "version_major": 2,
              "version_minor": 0,
              "model_id": "b572af900999454ea572279409c1fc70"
            }
          },
          "metadata": {}
        },
        {
          "output_type": "display_data",
          "data": {
            "text/plain": [
              "<IPython.core.display.HTML object>"
            ],
            "text/html": [
              "<style>\n",
              "    table.wandb td:nth-child(1) { padding: 0 10px; text-align: left ; width: auto;} td:nth-child(2) {text-align: left ; width: 100%}\n",
              "    .wandb-row { display: flex; flex-direction: row; flex-wrap: wrap; justify-content: flex-start; width: 100% }\n",
              "    .wandb-col { display: flex; flex-direction: column; flex-basis: 100%; flex: 1; padding: 10px; }\n",
              "    </style>\n",
              "<div class=\"wandb-row\"><div class=\"wandb-col\"><h3>Run history:</h3><br/><table class=\"wandb\"><tr><td>LR</td><td>███████▇▇▇▇▇▇▆▆▆▆▅▅▅▄▄▄▃▃▃▂▂▂▁▁</td></tr><tr><td>Train Loss</td><td>█▇█▇▇▇▆▇▇▆▆▆▅▆▅▄▄▄▄▄▄▃▃▃▃▃▁▂▁▁▁</td></tr><tr><td>Valid Loss</td><td>▁▁▅▆▄█▄█▅▅▃▅▅▆▆▄▆▄▇▆▇▅▆▆▅▅▇▆▅▅▅</td></tr></table><br/></div><div class=\"wandb-col\"><h3>Run summary:</h3><br/><table class=\"wandb\"><tr><td>Best Epoch</td><td>1</td></tr><tr><td>Best Loss</td><td>0.7187</td></tr><tr><td>LR</td><td>0.00258</td></tr><tr><td>Train Loss</td><td>0.68113</td></tr><tr><td>Valid Loss</td><td>0.74475</td></tr></table><br/></div></div>"
            ]
          },
          "metadata": {}
        },
        {
          "output_type": "display_data",
          "data": {
            "text/plain": [
              "<IPython.core.display.HTML object>"
            ],
            "text/html": [
              " View run <strong style=\"color:#cdcd00\">fold-1|model-LSTM-FC</strong> at: <a href='https://wandb.ai/nenecchicv/internal-competition/runs/qi0ehbd2' target=\"_blank\">https://wandb.ai/nenecchicv/internal-competition/runs/qi0ehbd2</a><br/>Synced 5 W&B file(s), 0 media file(s), 0 artifact file(s) and 1 other file(s)"
            ]
          },
          "metadata": {}
        },
        {
          "output_type": "display_data",
          "data": {
            "text/plain": [
              "<IPython.core.display.HTML object>"
            ],
            "text/html": [
              "Find logs at: <code>./wandb/run-20240312_165623-qi0ehbd2/logs</code>"
            ]
          },
          "metadata": {}
        },
        {
          "output_type": "display_data",
          "data": {
            "text/plain": [
              "<IPython.core.display.HTML object>"
            ],
            "text/html": [
              "Successfully finished last run (ID:qi0ehbd2). Initializing new run:<br/>"
            ]
          },
          "metadata": {}
        },
        {
          "output_type": "display_data",
          "data": {
            "text/plain": [
              "<IPython.core.display.HTML object>"
            ],
            "text/html": [
              "Tracking run with wandb version 0.16.4"
            ]
          },
          "metadata": {}
        },
        {
          "output_type": "display_data",
          "data": {
            "text/plain": [
              "<IPython.core.display.HTML object>"
            ],
            "text/html": [
              "Run data is saved locally in <code>/content/wandb/run-20240312_170125-ujgej6zc</code>"
            ]
          },
          "metadata": {}
        },
        {
          "output_type": "display_data",
          "data": {
            "text/plain": [
              "<IPython.core.display.HTML object>"
            ],
            "text/html": [
              "Syncing run <strong><a href='https://wandb.ai/nenecchicv/internal-competition/runs/ujgej6zc' target=\"_blank\">fold-0|model-LSTM-FC</a></strong> to <a href='https://wandb.ai/nenecchicv/internal-competition' target=\"_blank\">Weights & Biases</a> (<a href='https://wandb.me/run' target=\"_blank\">docs</a>)<br/>"
            ]
          },
          "metadata": {}
        },
        {
          "output_type": "display_data",
          "data": {
            "text/plain": [
              "<IPython.core.display.HTML object>"
            ],
            "text/html": [
              " View project at <a href='https://wandb.ai/nenecchicv/internal-competition' target=\"_blank\">https://wandb.ai/nenecchicv/internal-competition</a>"
            ]
          },
          "metadata": {}
        },
        {
          "output_type": "display_data",
          "data": {
            "text/plain": [
              "<IPython.core.display.HTML object>"
            ],
            "text/html": [
              " View run at <a href='https://wandb.ai/nenecchicv/internal-competition/runs/ujgej6zc' target=\"_blank\">https://wandb.ai/nenecchicv/internal-competition/runs/ujgej6zc</a>"
            ]
          },
          "metadata": {}
        },
        {
          "output_type": "stream",
          "name": "stdout",
          "text": [
            "cuda: Tesla T4\n",
            "\n",
            "Epoch 1/50"
          ]
        },
        {
          "output_type": "stream",
          "name": "stderr",
          "text": [
            "Train : 100%|██████████| 750/750 [00:07<00:00, 103.45it/s, gpu_mem=0.05 GB, lr=0.04997, train_loss=0.9994]\n",
            "Valid : 100%|██████████| 188/188 [00:01<00:00, 130.90it/s, gpu_memory=0.05 GB, lr=0.04997, valid_loss=0.9433]\n"
          ]
        },
        {
          "output_type": "stream",
          "name": "stdout",
          "text": [
            "\u001b[32mValid Score Improved (inf ---> 0.9433)\n",
            "Model Saved\u001b[0m\n",
            "\n",
            "\n",
            "Epoch 2/50"
          ]
        },
        {
          "output_type": "stream",
          "name": "stderr",
          "text": [
            "Train : 100%|██████████| 750/750 [00:06<00:00, 108.37it/s, gpu_mem=0.05 GB, lr=0.04987, train_loss=0.8893]\n",
            "Valid : 100%|██████████| 188/188 [00:01<00:00, 187.67it/s, gpu_memory=0.05 GB, lr=0.04987, valid_loss=0.8161]\n"
          ]
        },
        {
          "output_type": "stream",
          "name": "stdout",
          "text": [
            "\u001b[32mValid Score Improved (0.9433 ---> 0.8161)\n",
            "Model Saved\u001b[0m\n",
            "\n",
            "\n",
            "Epoch 3/50"
          ]
        },
        {
          "output_type": "stream",
          "name": "stderr",
          "text": [
            "Train : 100%|██████████| 750/750 [00:06<00:00, 112.34it/s, gpu_mem=0.05 GB, lr=0.04972, train_loss=0.8877]\n",
            "Valid : 100%|██████████| 188/188 [00:01<00:00, 187.46it/s, gpu_memory=0.05 GB, lr=0.04972, valid_loss=0.7780]\n"
          ]
        },
        {
          "output_type": "stream",
          "name": "stdout",
          "text": [
            "\u001b[32mValid Score Improved (0.8161 ---> 0.7780)\n",
            "Model Saved\u001b[0m\n",
            "\n",
            "\n",
            "Epoch 4/50"
          ]
        },
        {
          "output_type": "stream",
          "name": "stderr",
          "text": [
            "Train : 100%|██████████| 750/750 [00:06<00:00, 123.56it/s, gpu_mem=0.05 GB, lr=0.04950, train_loss=0.8839]\n",
            "Valid : 100%|██████████| 188/188 [00:00<00:00, 201.51it/s, gpu_memory=0.05 GB, lr=0.04950, valid_loss=0.8591]\n"
          ]
        },
        {
          "output_type": "stream",
          "name": "stdout",
          "text": [
            "\n",
            "\n",
            "Epoch 5/50"
          ]
        },
        {
          "output_type": "stream",
          "name": "stderr",
          "text": [
            "Train : 100%|██████████| 750/750 [00:06<00:00, 112.15it/s, gpu_mem=0.05 GB, lr=0.04922, train_loss=0.8799]\n",
            "Valid : 100%|██████████| 188/188 [00:00<00:00, 200.19it/s, gpu_memory=0.05 GB, lr=0.04922, valid_loss=0.7818]\n"
          ]
        },
        {
          "output_type": "stream",
          "name": "stdout",
          "text": [
            "\n",
            "\n",
            "Epoch 6/50"
          ]
        },
        {
          "output_type": "stream",
          "name": "stderr",
          "text": [
            "Train : 100%|██████████| 750/750 [00:05<00:00, 126.92it/s, gpu_mem=0.05 GB, lr=0.04888, train_loss=0.8789]\n",
            "Valid : 100%|██████████| 188/188 [00:00<00:00, 206.82it/s, gpu_memory=0.05 GB, lr=0.04888, valid_loss=0.8632]\n"
          ]
        },
        {
          "output_type": "stream",
          "name": "stdout",
          "text": [
            "\n",
            "\n",
            "Epoch 7/50"
          ]
        },
        {
          "output_type": "stream",
          "name": "stderr",
          "text": [
            "Train : 100%|██████████| 750/750 [00:06<00:00, 109.42it/s, gpu_mem=0.05 GB, lr=0.04847, train_loss=0.8760]\n",
            "Valid : 100%|██████████| 188/188 [00:00<00:00, 203.30it/s, gpu_memory=0.05 GB, lr=0.04847, valid_loss=0.7379]\n"
          ]
        },
        {
          "output_type": "stream",
          "name": "stdout",
          "text": [
            "\u001b[32mValid Score Improved (0.7780 ---> 0.7379)\n",
            "Model Saved\u001b[0m\n",
            "\n",
            "\n",
            "Epoch 8/50"
          ]
        },
        {
          "output_type": "stream",
          "name": "stderr",
          "text": [
            "Train : 100%|██████████| 750/750 [00:05<00:00, 126.17it/s, gpu_mem=0.05 GB, lr=0.04801, train_loss=0.8761]\n",
            "Valid : 100%|██████████| 188/188 [00:00<00:00, 208.24it/s, gpu_memory=0.05 GB, lr=0.04801, valid_loss=0.7772]\n"
          ]
        },
        {
          "output_type": "stream",
          "name": "stdout",
          "text": [
            "\n",
            "\n",
            "Epoch 9/50"
          ]
        },
        {
          "output_type": "stream",
          "name": "stderr",
          "text": [
            "Train :   7%|▋         | 51/750 [00:00<00:06, 111.84it/s, gpu_mem=0.05 GB, lr=0.04797, train_loss=0.9178]"
          ]
        }
      ]
    },
    {
      "cell_type": "code",
      "source": [
        "class TestDataset(data.Dataset):\n",
        "    def __init__(self, X1_scaled_tensor, x2_scaled_tensor):\n",
        "        self.X1 = X1_scaled_tensor\n",
        "        self.x2 = x2_scaled_tensor\n",
        "\n",
        "    def __getitem__(self, index):\n",
        "        return self.X1[index], self.x2[index]\n",
        "\n",
        "    def __len__(self):\n",
        "        return len(self.X1)"
      ],
      "metadata": {
        "id": "x20X6LlDRKSx"
      },
      "execution_count": null,
      "outputs": []
    },
    {
      "cell_type": "code",
      "source": [
        "X_test = X1_scaled_test_tensor\n",
        "chpt_path = \"/content/drive/MyDrive/daicc2024/output/best_epoch-00.bin\"\n",
        "model.load_state_dict(torch.load(chpt_path, map_location='cuda'))\n",
        "model.eval()\n",
        "target_spec_scaled = x2_scaler.transform(100)\n",
        "x2_test  = torch.full((X_test.size(0), 1), target_spec_scaled).to(CFG.device, dtype=torch.float)\n",
        "y_preds = np.zeros(X_test.size(0))\n",
        "\n",
        "# Define data loaders for training and testing data in this fold\n",
        "test_loader = torch.utils.data.DataLoader(\n",
        "                  TestDataset(X_test, x2_test),\n",
        "                  batch_size=1)\n",
        "for idx, (X1, x2) in enumerate(tqdm(test_loader, total=len(test_loader), desc='Infer ')):\n",
        "    y_pred = model(X1, x2)\n",
        "    y_preds[idx] = y_pred\n",
        "\n",
        "pred_df = pd.DataFrame({\n",
        "    \"id\":test_ids,\n",
        "    \"parameter\":y_preds\n",
        "})\n",
        "pred_df.to_csv(f'/content/drive/MyDrive/daicc2024/output/submission_{CFG.exp_name}.csv',index=False)"
      ],
      "metadata": {
        "id": "-dizmPUEwBbw"
      },
      "execution_count": null,
      "outputs": []
    },
    {
      "cell_type": "markdown",
      "source": [
        "https://www.kaggle.com/code/fnands/uwmgi-levit-unet-baseline"
      ],
      "metadata": {
        "id": "R8hSyV-ZdE40"
      }
    }
  ]
}